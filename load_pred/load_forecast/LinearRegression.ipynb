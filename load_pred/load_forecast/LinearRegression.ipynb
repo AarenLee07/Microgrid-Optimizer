{
 "cells": [
  {
   "cell_type": "code",
   "execution_count": 1,
   "metadata": {},
   "outputs": [],
   "source": [
    "import numpy as np\n",
    "import pandas as pd\n",
    "import os\n",
    "\n",
    "import matplotlib.pyplot as plt\n",
    "\n",
    "from darts.dataprocessing.transformers import Scaler\n",
    "from darts.models import RNNModel\n",
    "from darts.datasets import WeatherDataset\n",
    "from darts.models import LinearRegressionModel\n",
    "import darts.metrics as metrics\n",
    "from darts.datasets import AirPassengersDataset\n",
    "import datetime\n",
    "\n",
    "from darts import TimeSeries"
   ]
  },
  {
   "cell_type": "code",
   "execution_count": 2,
   "metadata": {},
   "outputs": [],
   "source": [
    "# data preperation\n",
    "bld_pd=pd.read_csv(r'/root/autodl-tmp/data/load_prediction_base/BLD_Sum.csv')\n",
    "bld_pd.sort_values(by='DateTime')\n",
    "bld_pd=bld_pd.drop(columns=['RealPower_before_scaling'])\n",
    "bld=TimeSeries.from_dataframe(bld_pd,time_col=\"DateTime\",freq=\"15min\",fill_missing_dates=True)\n",
    "\n",
    "# data split\n",
    "train_start=pd.Timestamp(2017,1,1,0,0)\n",
    "train_end=pd.Timestamp(2018,12,31,23,45)\n",
    "\n",
    "pred_start=pd.Timestamp(2019,1,1,0,0)\n",
    "pred_end=pd.Timestamp(2019,12,31,23,45)\n",
    "\n"
   ]
  },
  {
   "cell_type": "code",
   "execution_count": 3,
   "metadata": {},
   "outputs": [],
   "source": [
    "target_key='RealPower'\n",
    "lags=672\n",
    "enable_past_covariates=False\n",
    "enable_retrain=False\n",
    "prediction_horizon=96\n",
    "output_chunk_length=96\n",
    "stride=prediction_horizon # suggest not to change\n",
    "\n",
    "serial=1 # set for every running"
   ]
  },
  {
   "cell_type": "code",
   "execution_count": 4,
   "metadata": {},
   "outputs": [],
   "source": [
    "class Simple_LinearRegression():\n",
    "    \n",
    "\n",
    "    def __init__(self,series,serial,target_key,train_start,train_end,\n",
    "                 pred_start,pred_end,verbose,\n",
    "                 lags,prediction_horizon,output_chunk_length,stride,save_path=None,\n",
    "                 save_model=True,save_metrics=True,past_covariates=None,\n",
    "                 enable_past_covariates=False,enable_retrain=False) -> None:\n",
    "        self.default_describe='_'.join([str(serial),enable_past_covariates*'PCo',\\\n",
    "            'Lag'+str(lags),enable_retrain*'ReT'])\n",
    "\n",
    "        self.save_path=os.path.join(save_path,serial)\n",
    "        if not os.path.exists(self.save_path):\n",
    "            os.makedirs(self.save_path)\n",
    "        self.pred_start=pred_start\n",
    "        self.prediction_horizon=prediction_horizon\n",
    "        self.stride=stride\n",
    "        self.enable_past_covariates=enable_past_covariates\n",
    "        self.enable_retrain=enable_retrain\n",
    "        self.verbose=verbose\n",
    "        #self.save_path=save_path\n",
    "        self.save_model=save_model\n",
    "        self.save_metrics=save_metrics\n",
    "        self.lags=lags\n",
    "        \n",
    "        self.trained=False\n",
    "        self.prediction=None\n",
    "        \n",
    "        if past_covariates!=None:\n",
    "            past_covariates=past_covariates\n",
    "        else:\n",
    "            past_covariates=['is_holiday','temp', 'feels_like', 'temp_min', 'temp_max']\n",
    "            '''\n",
    "            'hour_cos', 'hour_sin', 'dayofweek_cos',\n",
    "                'dayofweek_sin', 'quarter_cos', 'quarter_sin', 'month_cos', 'month_sin',\n",
    "                'dayofmonth_cos', 'dayofmonth_sin',\n",
    "            '''\n",
    "\n",
    "        all_columns=set(series.columns)\n",
    "        \n",
    "        self.series_past_covariates=None\n",
    "        if enable_past_covariates==True:\n",
    "            to_drop=list(all_columns-set(past_covariates))\n",
    "            print(to_drop)\n",
    "            self.series_past_covariates=series.drop_columns(to_drop)\n",
    "        \n",
    "        self.series_train=series[train_start:train_end][target_key]\n",
    "        self.series_pred=series[:pred_end][target_key]        \n",
    "        \n",
    "        if enable_past_covariates==True:\n",
    "            self.model=LinearRegressionModel(\n",
    "                                lags=lags, \n",
    "                                lags_past_covariates=lags, \n",
    "                                output_chunk_length=output_chunk_length, \n",
    "                                ) \n",
    "        else:\n",
    "            self.model=LinearRegressionModel(\n",
    "                                lags=lags, \n",
    "                                output_chunk_length=output_chunk_length, \n",
    "                                ) \n",
    "\n",
    "\n",
    "\n",
    "    def train(self):\n",
    "        if self.enable_past_covariates==True:\n",
    "            self.model.fit(\n",
    "                series=self.series_train,\n",
    "                past_covariates=self.series_past_covariates,\n",
    "            )\n",
    "        else:\n",
    "            self.model.fit(\n",
    "                series=self.series_train,\n",
    "            )\n",
    "        self.trained=True\n",
    "        if self.save_model:\n",
    "            self.model.save(os.path.join(self.save_path,self.default_describe+'model.pkl'))\n",
    "    \n",
    "    def predict(self):\n",
    "        if not self.trained:\n",
    "            Warning(\"Please train model first\")\n",
    "        else:\n",
    "            pred_start=self.pred_start-datetime.timedelta(hours=(self.prediction_horizon-1)/4)\n",
    "            self.prediction=self.model.historical_forecasts(\n",
    "                self.series_pred,\n",
    "                start=pred_start,\n",
    "                forecast_horizon=self.prediction_horizon,\n",
    "                stride=self.stride,\n",
    "                retrain=self.enable_retrain*self.prediction_horizon*7,\n",
    "                verbose=self.verbose,\n",
    "                last_points_only=True,\n",
    "                past_covariates=self.series_past_covariates,\n",
    "                train_length=365*96 # wrong configuration here, should be set as none to utilize all available historical data\n",
    "            )\n",
    "        self.prediction.to_csv(os.path.join(self.save_path,self.default_describe+'prediction.csv'))\n",
    "            \n",
    "    def cal_metrics(self):\n",
    "        assert self.prediction!=None\n",
    "        metrics_method_dic={\n",
    "            'CV':metrics.coefficient_of_variation,\n",
    "            'MAE':metrics.mae,\n",
    "            'MAPE':metrics.mape,\n",
    "            'OPE':metrics.ope,\n",
    "            'RMSE':metrics.rmse,\n",
    "            'MSE':metrics.mse,\n",
    "            'MARRE':metrics.marre,\n",
    "            'MASE':metrics.mase,\n",
    "            'R2':metrics.r2_score,\n",
    "            'SMAPE':metrics.smape,\n",
    "        }\n",
    "        metrics_dic={\n",
    "            'start_time':self.prediction.time_index[0],\n",
    "            'end_time':self.prediction.time_index[-1],\n",
    "            'n':len(self.prediction.time_index),\n",
    "        }\n",
    "        \n",
    "        for metric in metrics_method_dic.keys():\n",
    "            try:\n",
    "                if metric=='MASE':\n",
    "                    value=metrics_method_dic[metric](self.series_pred,self.prediction,intersect=True,\n",
    "                                                              insample=self.series_train, m=96*7)\n",
    "                    print({metric: value})\n",
    "                    metrics_dic.update({metric: value})\n",
    "                else:\n",
    "                    value=metrics_method_dic[metric](self.series_pred,self.prediction,intersect=True)\n",
    "                    print({metric: value})\n",
    "                    metrics_dic.update({metric: value})\n",
    "            except:\n",
    "                print(\"Fail to calculate metric: {} of model {}\".format(metric,self.default_describe))\n",
    "                \n",
    "        metrics_df=pd.DataFrame([metrics_dic]).T\n",
    "        metrics_df.to_csv(os.path.join(self.save_path,self.default_describe+'metrics.csv'))\n",
    "   \n",
    "        \n",
    "        "
   ]
  },
  {
   "cell_type": "code",
   "execution_count": 84,
   "metadata": {},
   "outputs": [
    {
     "name": "stdout",
     "output_type": "stream",
     "text": [
      "{'CV': 9.337861080396237}\n",
      "{'MAE': 4.228513156563435}\n",
      "{'MAPE': 6.014341908840429}\n",
      "{'OPE': 0.1895191707674868}\n",
      "{'RMSE': 6.866485254773603}\n",
      "{'MSE': 47.14861975402331}\n",
      "{'MARRE': 5.889860107118139}\n",
      "{'MASE': 0.9079816181426624}\n",
      "{'R2': 0.8162193272783183}\n",
      "{'SMAPE': 5.890138261300678}\n"
     ]
    }
   ],
   "source": [
    "test=Simple_LinearRegression(\n",
    "    series=bld,\n",
    "    serial='0_no_PCo',\n",
    "    target_key='RealPower',\n",
    "    train_start=train_start,\n",
    "    train_end=train_end,\n",
    "    pred_start=pred_start,\n",
    "    pred_end=pred_end,\n",
    "    verbose=True,\n",
    "    lags=96*7,\n",
    "    prediction_horizon=96,\n",
    "    output_chunk_length=96,\n",
    "    stride=1,\n",
    "    save_path=r'/root/autodl-tmp/load_forecast/Linear_Regression',\n",
    "    save_model=True,\n",
    "    save_metrics=True,\n",
    "    enable_past_covariates=False,\n",
    "    enable_retrain=False\n",
    "    \n",
    ")\n",
    "test.train()\n",
    "test.predict()\n",
    "test.cal_metrics()"
   ]
  },
  {
   "cell_type": "code",
   "execution_count": 85,
   "metadata": {},
   "outputs": [
    {
     "name": "stdout",
     "output_type": "stream",
     "text": [
      "['quarter_cos', 'weather_main', 'clouds_all', 'pressure', 'hour_sin', 'dayofmonth_cos', 'rain_3h', 'month_cos', 'quarter_sin', 'humidity', 'wind_deg', 'hour_cos', 'snow_3h', 'RealPower', 'snow_1h', 'wind_speed', 'rain_1h', 'dayofweek_sin', 'dayofmonth_sin', 'month_sin', 'dayofweek_cos', 'RealPower_-0d_0h']\n"
     ]
    },
    {
     "name": "stdout",
     "output_type": "stream",
     "text": [
      "{'CV': 8.802542967840509}\n",
      "{'MAE': 4.301270947890085}\n",
      "{'MAPE': 6.004532911727786}\n",
      "{'OPE': 2.486365695754783}\n",
      "{'RMSE': 6.472845437814452}\n",
      "{'MSE': 41.89772806183536}\n",
      "{'MARRE': 5.99120381748397}\n",
      "{'MASE': 0.9236047780230373}\n",
      "{'R2': 0.8366867855541599}\n",
      "{'SMAPE': 6.012791648127056}\n"
     ]
    }
   ],
   "source": [
    "test=Simple_LinearRegression(\n",
    "    series=bld,\n",
    "    serial='1_PCo_only_weather',\n",
    "    target_key='RealPower',\n",
    "    train_start=train_start,\n",
    "    train_end=train_end,\n",
    "    pred_start=pred_start,\n",
    "    pred_end=pred_end,\n",
    "    verbose=True,\n",
    "    lags=96*7,\n",
    "    prediction_horizon=96,\n",
    "    output_chunk_length=96,\n",
    "    stride=1,\n",
    "    save_path=r'/root/autodl-tmp/load_forecast/Linear_Regression',\n",
    "    save_model=True,\n",
    "    save_metrics=True,\n",
    "    enable_past_covariates=True,\n",
    "    enable_retrain=False\n",
    "    \n",
    ")\n",
    "test.train()\n",
    "test.predict()\n",
    "test.cal_metrics()"
   ]
  },
  {
   "cell_type": "code",
   "execution_count": 86,
   "metadata": {},
   "outputs": [
    {
     "name": "stdout",
     "output_type": "stream",
     "text": [
      "['snow_1h', 'wind_speed', 'pressure', 'weather_main', 'rain_1h', 'clouds_all', 'dayofmonth_cos', 'rain_3h', 'dayofmonth_sin', 'humidity', 'wind_deg', 'RealPower_-0d_0h', 'snow_3h', 'RealPower']\n"
     ]
    },
    {
     "name": "stdout",
     "output_type": "stream",
     "text": [
      "{'CV': 7.6258449721215875}\n",
      "{'MAE': 3.638397314338106}\n",
      "{'MAPE': 5.177709032937001}\n",
      "{'OPE': 1.8680688694235452}\n",
      "{'RMSE': 5.607574540404317}\n",
      "{'MSE': 31.44489222619069}\n",
      "{'MARRE': 5.067892756181451}\n",
      "{'MASE': 0.7812670219059947}\n",
      "{'R2': 0.8774309093852748}\n",
      "{'SMAPE': 5.160332133127481}\n"
     ]
    }
   ],
   "source": [
    "test=Simple_LinearRegression(\n",
    "    series=bld,\n",
    "    serial='1_PCo_weather_n_time',\n",
    "    target_key='RealPower',\n",
    "    train_start=train_start,\n",
    "    train_end=train_end,\n",
    "    pred_start=pred_start,\n",
    "    pred_end=pred_end,\n",
    "    verbose=True,\n",
    "    lags=96*7,\n",
    "    prediction_horizon=96,\n",
    "    output_chunk_length=96,\n",
    "    stride=1,\n",
    "    save_path=r'/root/autodl-tmp/load_forecast/Linear_Regression',\n",
    "    save_model=True,\n",
    "    save_metrics=True,\n",
    "    enable_past_covariates=True,\n",
    "    enable_retrain=False,\n",
    "    past_covariates=['is_holiday','temp', 'feels_like', 'temp_min', 'temp_max',\n",
    "                     'hour_cos', 'hour_sin', 'dayofweek_cos',\n",
    "                    'dayofweek_sin', 'quarter_cos', 'quarter_sin', 'month_cos', 'month_sin',]  \n",
    ")\n",
    "test.train()\n",
    "test.predict()\n",
    "test.cal_metrics()"
   ]
  },
  {
   "cell_type": "code",
   "execution_count": 5,
   "metadata": {},
   "outputs": [
    {
     "name": "stdout",
     "output_type": "stream",
     "text": [
      "['snow_3h', 'quarter_cos', 'humidity', 'rain_1h', 'rain_3h', 'RealPower', 'wind_deg', 'weather_main', 'dayofweek_sin', 'clouds_all', 'wind_speed', 'snow_1h', 'RealPower_-0d_0h', 'hour_cos', 'quarter_sin', 'dayofweek_cos', 'month_cos', 'dayofmonth_cos', 'dayofmonth_sin', 'pressure', 'month_sin', 'hour_sin']\n"
     ]
    },
    {
     "name": "stderr",
     "output_type": "stream",
     "text": [
      "`enable_optimization=True` is ignored because `retrain` is not `False`To hide this warning, set `show_warnings=False` or `enable_optimization=False`.\n"
     ]
    },
    {
     "data": {
      "application/vnd.jupyter.widget-view+json": {
       "model_id": "ed7ce9c37f8f4717822e94ee3a033c3a",
       "version_major": 2,
       "version_minor": 0
      },
      "text/plain": [
       "  0%|          | 0/35040 [00:00<?, ?it/s]"
      ]
     },
     "metadata": {},
     "output_type": "display_data"
    },
    {
     "name": "stdout",
     "output_type": "stream",
     "text": [
      "{'CV': 9.333786602859988}\n",
      "{'MAE': 4.508815561959165}\n",
      "{'MAPE': 6.521754187560691}\n",
      "{'OPE': 0.027098355589890388}\n",
      "{'RMSE': 6.863489136103311}\n",
      "{'MSE': 47.10748312140817}\n",
      "{'MARRE': 6.280290949909063}\n",
      "{'MASE': 0.9681704888395528}\n",
      "{'R2': 0.8163796738177282}\n",
      "{'SMAPE': 6.360479595071582}\n"
     ]
    }
   ],
   "source": [
    "test=Simple_LinearRegression(\n",
    "    series=bld,\n",
    "    serial='2_ReT_PCo_only_weather',\n",
    "    target_key='RealPower',\n",
    "    train_start=train_start,\n",
    "    train_end=train_end,\n",
    "    pred_start=pred_start,\n",
    "    pred_end=pred_end,\n",
    "    verbose=True,\n",
    "    lags=96*7,\n",
    "    prediction_horizon=96,\n",
    "    output_chunk_length=96,\n",
    "    stride=1,\n",
    "    save_path=r'/root/autodl-tmp/load_forecast/Linear_Regression',\n",
    "    save_model=True,\n",
    "    save_metrics=True,\n",
    "    enable_past_covariates=True,\n",
    "    enable_retrain=True\n",
    ")\n",
    "test.train()\n",
    "test.predict()\n",
    "test.cal_metrics()"
   ]
  },
  {
   "cell_type": "code",
   "execution_count": 5,
   "metadata": {},
   "outputs": [
    {
     "name": "stdout",
     "output_type": "stream",
     "text": [
      "['rain_3h', 'rain_1h', 'wind_deg', 'snow_1h', 'dayofmonth_sin', 'pressure', 'clouds_all', 'weather_main', 'RealPower_-0d_0h', 'wind_speed', 'dayofmonth_cos', 'RealPower', 'snow_3h', 'humidity']\n"
     ]
    },
    {
     "name": "stderr",
     "output_type": "stream",
     "text": [
      "`enable_optimization=True` is ignored because `retrain` is not `False`To hide this warning, set `show_warnings=False` or `enable_optimization=False`.\n"
     ]
    },
    {
     "data": {
      "application/vnd.jupyter.widget-view+json": {
       "model_id": "5987cf396172474293bf12414f3db94d",
       "version_major": 2,
       "version_minor": 0
      },
      "text/plain": [
       "  0%|          | 0/35040 [00:00<?, ?it/s]"
      ]
     },
     "metadata": {},
     "output_type": "display_data"
    },
    {
     "name": "stdout",
     "output_type": "stream",
     "text": [
      "{'CV': 8.680522886226987}\n",
      "{'MAE': 4.158810901782991}\n",
      "{'MAPE': 6.107924870908582}\n",
      "{'OPE': 0.5719462101121752}\n",
      "{'RMSE': 6.383119419835401}\n",
      "{'MSE': 40.74421352787982}\n",
      "{'MARRE': 5.79277242768872}\n",
      "{'MASE': 0.8930145685579868}\n",
      "{'R2': 0.8411830715143972}\n",
      "{'SMAPE': 5.999870041955341}\n"
     ]
    }
   ],
   "source": [
    "test=Simple_LinearRegression(\n",
    "    series=bld,\n",
    "    serial='2_ReT_PCo_weather_n_time',\n",
    "    target_key='RealPower',\n",
    "    train_start=train_start,\n",
    "    train_end=train_end,\n",
    "    pred_start=pred_start,\n",
    "    pred_end=pred_end,\n",
    "    verbose=True,\n",
    "    lags=96*7,\n",
    "    prediction_horizon=96,\n",
    "    output_chunk_length=96,\n",
    "    stride=1,\n",
    "    save_path=r'/root/autodl-tmp/load_forecast/Linear_Regression',\n",
    "    save_model=True,\n",
    "    save_metrics=True,\n",
    "    enable_past_covariates=True,\n",
    "    enable_retrain=True,\n",
    "    past_covariates=['is_holiday','temp', 'feels_like', 'temp_min', 'temp_max',\n",
    "                     'hour_cos', 'hour_sin', 'dayofweek_cos',\n",
    "                    'dayofweek_sin', 'quarter_cos', 'quarter_sin', 'month_cos', 'month_sin',]  \n",
    ")\n",
    "test.train()\n",
    "test.predict()\n",
    "test.cal_metrics()"
   ]
  },
  {
   "cell_type": "code",
   "execution_count": 6,
   "metadata": {},
   "outputs": [
    {
     "name": "stdout",
     "output_type": "stream",
     "text": [
      "['rain_3h', 'temp_max', 'temp', 'rain_1h', 'wind_deg', 'snow_1h', 'feels_like', 'pressure', 'clouds_all', 'weather_main', 'RealPower_-0d_0h', 'wind_speed', 'temp_min', 'RealPower', 'snow_3h', 'humidity']\n"
     ]
    },
    {
     "name": "stderr",
     "output_type": "stream",
     "text": [
      "`enable_optimization=True` is ignored because `retrain` is not `False`To hide this warning, set `show_warnings=False` or `enable_optimization=False`.\n"
     ]
    },
    {
     "data": {
      "application/vnd.jupyter.widget-view+json": {
       "model_id": "a25ad75119974ffbb54c158ff1e6398b",
       "version_major": 2,
       "version_minor": 0
      },
      "text/plain": [
       "  0%|          | 0/35040 [00:00<?, ?it/s]"
      ]
     },
     "metadata": {},
     "output_type": "display_data"
    }
   ],
   "source": [
    "test=Simple_LinearRegression(\n",
    "    series=bld,\n",
    "    serial='2_ReT_PCo_time',\n",
    "    target_key='RealPower',\n",
    "    train_start=train_start,\n",
    "    train_end=train_end,\n",
    "    pred_start=pred_start,\n",
    "    pred_end=pred_end,\n",
    "    verbose=True,\n",
    "    lags=96*7,\n",
    "    prediction_horizon=96,\n",
    "    output_chunk_length=96,\n",
    "    stride=1,\n",
    "    save_path=r'/root/autodl-tmp/load_forecast/Linear_Regression',\n",
    "    save_model=True,\n",
    "    save_metrics=True,\n",
    "    enable_past_covariates=True,\n",
    "    enable_retrain=True,\n",
    "    past_covariates=['is_holiday','hour_cos', 'hour_sin', 'dayofweek_cos',\n",
    "                'dayofweek_sin', 'quarter_cos', 'quarter_sin', 'month_cos', 'month_sin',\n",
    "                'dayofmonth_cos', 'dayofmonth_sin']  \n",
    ")\n",
    "test.train()\n",
    "test.predict()\n",
    "test.cal_metrics()"
   ]
  }
 ],
 "metadata": {
  "kernelspec": {
   "display_name": "base",
   "language": "python",
   "name": "python3"
  },
  "language_info": {
   "codemirror_mode": {
    "name": "ipython",
    "version": 3
   },
   "file_extension": ".py",
   "mimetype": "text/x-python",
   "name": "python",
   "nbconvert_exporter": "python",
   "pygments_lexer": "ipython3",
   "version": "3.8.10"
  }
 },
 "nbformat": 4,
 "nbformat_minor": 2
}
