{
 "cells": [
  {
   "cell_type": "code",
   "execution_count": 3,
   "metadata": {},
   "outputs": [],
   "source": [
    "import os\n",
    "import sys\n",
    "import exp\n",
    "from multiprocessing import Process\n",
    "from threading import Thread\n",
    "src_path = sys.path[0].replace(\"exp_notebook\", \"src\")\n",
    "#replace notebook as scripts\n",
    "data_path = sys.path[0].replace(\"exp_notebook\", \"data\")\n",
    "if src_path not in sys.path:\n",
    "    sys.path.append(src_path)\n",
    "out_path = sys.path[0].replace(\"exp_notebook\", \"output\")\n",
    "log_folder=r'L:\\Coding_project\\Energy_grid_new_exp_local'\n",
    "#log_folder=r'D:\\Codes\\Energy_grid_new_exp_local'"
   ]
  },
  {
   "cell_type": "code",
   "execution_count": 4,
   "metadata": {},
   "outputs": [],
   "source": [
    "exp_suffix = \"thesis_sensitivity\"\n",
    "exp_folder = os.path.join(out_path, \"experiments\", exp_suffix)\n",
    "debug_folder = os.path.join(out_path, \"debug_test\")\n",
    "assert os.path.exists(exp_folder)\n",
    "log_fn = os.path.join(exp_folder, \"fork_debug.xlsx\")#_oneday_12months\n",
    "\n",
    "save_path = os.path.join(log_folder,exp_suffix, \"fork_debug\")\n",
    "if not os.path.exists(save_path):\n",
    "    os.makedirs(save_path)\n",
    "assert os.path.exists(save_path)"
   ]
  },
  {
   "cell_type": "code",
   "execution_count": 10,
   "metadata": {},
   "outputs": [
    {
     "data": {
      "text/plain": [
       "'L:\\\\Coding_project\\\\Energy_grid_new_exp_local\\\\thesis_sensitivity\\\\fork_debug'"
      ]
     },
     "execution_count": 10,
     "metadata": {},
     "output_type": "execute_result"
    }
   ],
   "source": [
    "save_path"
   ]
  },
  {
   "cell_type": "code",
   "execution_count": 11,
   "metadata": {},
   "outputs": [
    {
     "data": {
      "text/plain": [
       "'class MPC_parallel(exp.MPC_ExperimentManager):\\n        None\\n\\nem = MPC_parallel(log_fn=log_fn, save_path=save_path, save=True, exp_prefix=\"MPC\")\\nvar_keys = [\\n            \"method\", \"strategy\",\\n            \"pred_model\", \"deg_model_opt\", \"p_grid_max\", \\n            \"price_dc\", \"price_sell\", \\n            \"ev_charge_rule\", \\n            \"B_kWh\",  \"deg_model\", \\n            \"start\", \"end\", \\n            \"bld\", \"ev\", \"pv\",\\n            #\"disturbance_rule\", \"disturbance_scale\",\"shift\",\"shift_ratio\"\\n            \"p_grid_max_method\",]\\nem.run(keys=var_keys, num_trials=1, fork_id=1)'"
      ]
     },
     "execution_count": 11,
     "metadata": {},
     "output_type": "execute_result"
    }
   ],
   "source": [
    "'''class MPC_parallel(exp.MPC_ExperimentManager):\n",
    "        None\n",
    "\n",
    "em = MPC_parallel(log_fn=log_fn, save_path=save_path, save=True, exp_prefix=\"MPC\")\n",
    "var_keys = [\n",
    "            \"method\", \"strategy\",\n",
    "            \"pred_model\", \"deg_model_opt\", \"p_grid_max\", \n",
    "            \"price_dc\", \"price_sell\", \n",
    "            \"ev_charge_rule\", \n",
    "            \"B_kWh\",  \"deg_model\", \n",
    "            \"start\", \"end\", \n",
    "            \"bld\", \"ev\", \"pv\",\n",
    "            #\"disturbance_rule\", \"disturbance_scale\",\"shift\",\"shift_ratio\"\n",
    "            \"p_grid_max_method\",]\n",
    "em.run(keys=var_keys, num_trials=1, fork_id=1)'''\n"
   ]
  },
  {
   "cell_type": "code",
   "execution_count": 5,
   "metadata": {},
   "outputs": [],
   "source": [
    "def parallel():\n",
    "    class MPC_parallel(exp.MPC_ExperimentManager):\n",
    "        None\n",
    "    for i in range(15):\n",
    "        try:\n",
    "            em = MPC_parallel(log_fn=log_fn, save_path=save_path, save=True, exp_prefix=\"MPC\")\n",
    "            var_keys = [\n",
    "                        \"method\", \"strategy\",\n",
    "                        \"pred_model\", \"deg_model_opt\", \"p_grid_max\", \n",
    "                        \"price_dc\", \"price_sell\", \n",
    "                        \"ev_charge_rule\", \n",
    "                        \"B_kWh\",  \"deg_model\", \n",
    "                        \"start\", \"end\", \n",
    "                        \"bld\", \"ev\", \"pv\",\n",
    "                        #\"disturbance_rule\", \"disturbance_scale\",\"shift\",\"shift_ratio\"\n",
    "                        \"p_grid_max_method\",]\n",
    "            em.run(keys=var_keys, num_trials=10, fork_id=None)\n",
    "        except Exception as e:\n",
    "            print('Reason_out:', e)  \n",
    "            print('Failed in '+str(i)+'nd trial')\n",
    "            continue"
   ]
  },
  {
   "cell_type": "code",
   "execution_count": 6,
   "metadata": {},
   "outputs": [],
   "source": [
    "thread_list= list()\n",
    "for i in range(10):\n",
    "    t=Process(target=parallel) #创建线程\n",
    "    thread_list.append(t)\n",
    "    t.start()  #启动线程\n",
    "    \n",
    "\n",
    "for t in thread_list:\n",
    "    t.join()"
   ]
  }
 ],
 "metadata": {
  "kernelspec": {
   "display_name": "Python 3",
   "language": "python",
   "name": "python3"
  },
  "language_info": {
   "codemirror_mode": {
    "name": "ipython",
    "version": 3
   },
   "file_extension": ".py",
   "mimetype": "text/x-python",
   "name": "python",
   "nbconvert_exporter": "python",
   "pygments_lexer": "ipython3",
   "version": "3.8.16"
  },
  "orig_nbformat": 4
 },
 "nbformat": 4,
 "nbformat_minor": 2
}
