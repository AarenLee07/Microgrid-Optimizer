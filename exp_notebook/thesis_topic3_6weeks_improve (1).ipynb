{
 "cells": [
  {
   "cell_type": "code",
   "execution_count": 1,
   "metadata": {},
   "outputs": [],
   "source": [
    "import os\n",
    "import sys\n",
    "import exp\n",
    "from threading import Thread\n",
    "src_path = sys.path[0].replace(\"exp_notebook\", \"src\")\n",
    "#replace notebook as scripts\n",
    "data_path = sys.path[0].replace(\"exp_notebook\", \"data\")\n",
    "if src_path not in sys.path:\n",
    "    sys.path.append(src_path)\n",
    "out_path = sys.path[0].replace(\"exp_notebook\", \"output\")\n",
    "log_folder=r'L:\\Coding_project\\Energy_grid_new_exp_local'\n",
    "#log_folder=r'D:\\Codes\\Energy_grid_new_exp_local'"
   ]
  },
  {
   "cell_type": "code",
   "execution_count": 2,
   "metadata": {},
   "outputs": [],
   "source": [
    "exp_suffix = \"thesis_topic3\"\n",
    "exp_folder = os.path.join(out_path, \"experiments\", exp_suffix)\n",
    "debug_folder = os.path.join(out_path, \"debug_test\")\n",
    "assert os.path.exists(exp_folder)\n",
    "log_fn = os.path.join(exp_folder, \"6h-bat-6weeks-disturbance-type.xlsx\")#_oneday_12months\n",
    "\n",
    "save_path = os.path.join(log_folder,exp_suffix, \"6h-bat-6weeks-disturbance-type\")\n",
    "if not os.path.exists(save_path):\n",
    "    os.makedirs(save_path)\n",
    "assert os.path.exists(save_path)"
   ]
  },
  {
   "cell_type": "code",
   "execution_count": 3,
   "metadata": {},
   "outputs": [
    {
     "data": {
      "text/plain": [
       "'L:\\\\Coding_project\\\\Energy_grid_new_exp_local\\\\thesis_topic3\\\\6h-bat-6weeks-disturbance-type'"
      ]
     },
     "execution_count": 3,
     "metadata": {},
     "output_type": "execute_result"
    }
   ],
   "source": [
    "save_path"
   ]
  },
  {
   "cell_type": "code",
   "execution_count": 4,
   "metadata": {},
   "outputs": [],
   "source": [
    "\n",
    "\n",
    "def parallel():\n",
    "    class MPC_parallel(exp.MPC_ExperimentManager):\n",
    "        None\n",
    "    for i in range(15):\n",
    "        try:\n",
    "            em = MPC_parallel(log_fn=log_fn, save_path=save_path, save=True, exp_prefix=\"MPC\")\n",
    "            var_keys = [\n",
    "                        \"method\", \"strategy\",\n",
    "                        \"pred_model\", \"deg_model_opt\", \"p_grid_max\", \n",
    "                        \"price_dc\", \"price_sell\", \n",
    "                        \"ev_charge_rule\", \n",
    "                        \"B_kWh\",  \"deg_model\", \n",
    "                        \"start\", \"end\", \n",
    "                        \"bld\", \"ev\", \"pv\",\n",
    "                        \"disturbance_rule\", \"disturbance_scale\",\n",
    "                        \"p_grid_max_method\"]\n",
    "            em.run(keys=var_keys, num_trials=10)\n",
    "        except Exception as e:\n",
    "            print('Reason_out:', e)  \n",
    "            print('Failed in '+str(i)+'nd trial')\n",
    "            continue"
   ]
  },
  {
   "cell_type": "code",
   "execution_count": 5,
   "metadata": {},
   "outputs": [
    {
     "name": "stderr",
     "output_type": "stream",
     "text": [
      "l:\\Coding_project\\Energy_grid_new\\src\\data_loader.py:101: UserWarning: No ev data loaded, EIO if pred_model is Prediction\n",
      "  warnings.warn(\"No ev data loaded, EIO if pred_model is Prediction\")\n"
     ]
    },
    {
     "name": "stdout",
     "output_type": "stream",
     "text": [
      "None\n",
      "None\n",
      "!!!!!!!!!! EV SHORT DURATION !!!!!!!!!! || drop 0 sessions\n",
      "!!!!!!!!!! EV SHORT DURATION !!!!!!!!!! || drop 0 sessions\n",
      "Reason_out: Excel file format cannot be determined, you must specify an engine manually.\n",
      "Failed in 0nd trial\n",
      "Access denied, suspending.\n",
      "Access denied, suspending.\n",
      "========================= 2019-03-04 00:00:00 =========================\n",
      "summary saved at: 2019-03-04 00:00:00\n",
      "========================= 2019-03-04 00:00:00 =========================\n"
     ]
    },
    {
     "name": "stderr",
     "output_type": "stream",
     "text": [
      "l:\\Coding_project\\Energy_grid_new\\src\\data_loader.py:101: UserWarning: No ev data loaded, EIO if pred_model is Prediction\n",
      "  warnings.warn(\"No ev data loaded, EIO if pred_model is Prediction\")\n"
     ]
    },
    {
     "name": "stdout",
     "output_type": "stream",
     "text": [
      "None\n",
      "!!!!!!!!!! EV SHORT DURATION !!!!!!!!!! || drop 0 sessions\n",
      "========================= 2019-03-04 01:00:00 =========================\n"
     ]
    },
    {
     "name": "stderr",
     "output_type": "stream",
     "text": [
      "l:\\Coding_project\\Energy_grid_new\\src\\grid_manager.py:793: UserWarning: The argument 'infer_datetime_format' is deprecated and will be removed in a future version. A strict version of it is now the default, see https://pandas.pydata.org/pdeps/0004-consistent-to-datetime-parsing.html. You can safely remove this argument.\n",
      "  op_log.index = pd.to_datetime(op_log.index, infer_datetime_format=True)\n"
     ]
    },
    {
     "name": "stdout",
     "output_type": "stream",
     "text": [
      "Reason_out: 'summary'\n",
      "Failed in 1nd trial\n",
      "Access denied, suspending.\n",
      "========================= 2019-03-04 02:00:00 =========================\n",
      "========================= 2019-03-04 03:00:00 =========================\n",
      "========================= 2019-03-04 04:00:00 =========================\n",
      "========================= 2019-03-04 05:00:00 =========================\n",
      "Reason_out: Excel file format cannot be determined, you must specify an engine manually.\n",
      "Failed in 2nd trial\n",
      "Access denied, suspending.\n",
      "========================= 2019-03-04 06:00:00 =========================\n",
      "========================= 2019-03-04 07:00:00 =========================\n",
      "========================= 2019-03-04 08:00:00 =========================\n"
     ]
    }
   ],
   "source": [
    "t1=Thread(target=parallel)\n",
    "t2=Thread(target=parallel)\n",
    "#t3=Thread(target=parallel)\n",
    "\n",
    "t1.start()\n",
    "t2.start()\n",
    "#t3.start()\n",
    "\n",
    "t1.join()\n",
    "t2.join()\n",
    "#t3.join()"
   ]
  }
 ],
 "metadata": {
  "kernelspec": {
   "display_name": "Python 3",
   "language": "python",
   "name": "python3"
  },
  "language_info": {
   "codemirror_mode": {
    "name": "ipython",
    "version": 3
   },
   "file_extension": ".py",
   "mimetype": "text/x-python",
   "name": "python",
   "nbconvert_exporter": "python",
   "pygments_lexer": "ipython3",
   "version": "3.8.16"
  },
  "orig_nbformat": 4
 },
 "nbformat": 4,
 "nbformat_minor": 2
}
