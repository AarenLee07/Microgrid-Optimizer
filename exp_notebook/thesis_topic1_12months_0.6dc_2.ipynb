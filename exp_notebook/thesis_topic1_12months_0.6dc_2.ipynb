{
 "cells": [
  {
   "cell_type": "code",
   "execution_count": 1,
   "metadata": {},
   "outputs": [],
   "source": [
    "import os\n",
    "import sys\n",
    "import exp\n",
    "from threading import Thread\n",
    "src_path = sys.path[0].replace(\"exp_notebook\", \"src\")\n",
    "#replace notebook as scripts\n",
    "data_path = sys.path[0].replace(\"exp_notebook\", \"data\")\n",
    "if src_path not in sys.path:\n",
    "    sys.path.append(src_path)\n",
    "out_path = sys.path[0].replace(\"exp_notebook\", \"output\")\n",
    "log_folder=r'L:\\Coding_project\\Energy_grid_new_exp_local'\n",
    "#log_folder=r'D:\\Codes\\Energy_grid_new_exp_local'"
   ]
  },
  {
   "cell_type": "code",
   "execution_count": 2,
   "metadata": {},
   "outputs": [],
   "source": [
    "exp_suffix = \"thesis_topic1\"\n",
    "exp_folder = os.path.join(out_path, \"experiments\", exp_suffix)\n",
    "debug_folder = os.path.join(out_path, \"debug_test\")\n",
    "assert os.path.exists(exp_folder)\n",
    "log_fn = os.path.join(exp_folder, \"6h-bat-12months-0.6dc.xlsx\")#_oneday_12months\n",
    "\n",
    "save_path = os.path.join(log_folder,exp_suffix, \"6h-bat-12months-0.6dc\")\n",
    "if not os.path.exists(save_path):\n",
    "    os.makedirs(save_path)\n",
    "assert os.path.exists(save_path)"
   ]
  },
  {
   "cell_type": "code",
   "execution_count": 3,
   "metadata": {},
   "outputs": [
    {
     "data": {
      "text/plain": [
       "'L:\\\\Coding_project\\\\Energy_grid_new_exp_local\\\\thesis_topic1\\\\6h-bat-12months-0.6dc'"
      ]
     },
     "execution_count": 3,
     "metadata": {},
     "output_type": "execute_result"
    }
   ],
   "source": [
    "save_path"
   ]
  },
  {
   "cell_type": "code",
   "execution_count": 4,
   "metadata": {},
   "outputs": [],
   "source": [
    "\n",
    "\n",
    "def parallel():\n",
    "    class MPC_parallel(exp.MPC_ExperimentManager):\n",
    "        None\n",
    "    for i in range(15):\n",
    "        try:\n",
    "            em = MPC_parallel(log_fn=log_fn, save_path=save_path, save=True, exp_prefix=\"MPC\")\n",
    "            var_keys = [\n",
    "                        \"method\", \"strategy\",\n",
    "                        \"pred_model\", \"deg_model_opt\", \"p_grid_max\", \n",
    "                        \"price_dc\", \"price_sell\", \n",
    "                        \"ev_charge_rule\", \n",
    "                        \"B_kWh\",  \"deg_model\", \n",
    "                        \"start\", \"end\", \n",
    "                        \"bld\", \"ev\", \"pv\",\n",
    "                        \"disturbance_rule\", \"disturbance_scale\"]\n",
    "            em.run(keys=var_keys, num_trials=6)\n",
    "        except Exception as e:\n",
    "            print('Reason_out:', e)  \n",
    "            print('Failed in '+str(i)+'nd trial')\n",
    "            continue"
   ]
  },
  {
   "cell_type": "code",
   "execution_count": 5,
   "metadata": {},
   "outputs": [
    {
     "name": "stdout",
     "output_type": "stream",
     "text": [
      "Reason_out: \n",
      "Failed in 0nd trial\n",
      "Reason_out: \n",
      "Failed in 1nd trial\n",
      "Reason_out: \n",
      "Failed in 2nd trial\n",
      "Reason_out: \n",
      "Failed in 0nd trial\n",
      "Reason_out: \n",
      "Failed in 3nd trial\n",
      "Reason_out: \n",
      "Failed in 1nd trial\n",
      "Reason_out: \n",
      "Failed in 4nd trial\n",
      "Reason_out: \n",
      "Failed in 0nd trial\n",
      "Reason_out: \n",
      "Failed in 2nd trial\n",
      "Reason_out: \n",
      "Failed in 5nd trial\n",
      "Reason_out: \n",
      "Failed in 1nd trial\n",
      "Reason_out: \n",
      "Failed in 3nd trial\n",
      "Reason_out: \n",
      "Failed in 6nd trial\n",
      "Reason_out: \n",
      "Failed in 2nd trial\n",
      "Reason_out: \n",
      "Failed in 4nd trial\n",
      "Reason_out: \n",
      "Failed in 7nd trial\n",
      "Reason_out: \n",
      "Failed in 3nd trial\n",
      "Reason_out: \n",
      "Failed in 5nd trial\n",
      "Reason_out: \n",
      "Failed in 8nd trial\n",
      "Reason_out: \n",
      "Failed in 9nd trial\n",
      "Reason_out: \n",
      "Failed in 6nd trial\n",
      "Reason_out: \n",
      "Failed in 4nd trial\n",
      "Reason_out: \n",
      "Failed in 10nd trial\n",
      "Reason_out: \n",
      "Failed in 7nd trial\n",
      "Reason_out: \n",
      "Failed in 5nd trial\n",
      "Reason_out: \n",
      "Failed in 11nd trial\n",
      "Reason_out: \n",
      "Failed in 8nd trial\n",
      "Reason_out: \n",
      "Failed in 6nd trial\n",
      "Reason_out: \n",
      "Failed in 12nd trial\n",
      "Reason_out: \n",
      "Failed in 9nd trial\n",
      "Reason_out: \n",
      "Failed in 7nd trial\n",
      "Reason_out: \n",
      "Failed in 13nd trial\n",
      "Reason_out: \n",
      "Failed in 10nd trial\n",
      "Reason_out: \n",
      "Failed in 8nd trial\n",
      "Reason_out: \n",
      "Failed in 14nd trial\n",
      "Reason_out: \n",
      "Failed in 9nd trial\n",
      "Reason_out: \n",
      "Failed in 11nd trial\n",
      "Reason_out: \n",
      "Failed in 10nd trial\n",
      "Reason_out: \n",
      "Failed in 12nd trial\n",
      "Reason_out: \n",
      "Failed in 11nd trial\n",
      "Reason_out: \n",
      "Failed in 13nd trial\n",
      "Reason_out: \n",
      "Failed in 12nd trial\n",
      "Reason_out: \n",
      "Failed in 14nd trial\n",
      "Reason_out: \n",
      "Failed in 13nd trial\n",
      "Reason_out: \n",
      "Failed in 14nd trial\n"
     ]
    }
   ],
   "source": [
    "t1=Thread(target=parallel)\n",
    "t2=Thread(target=parallel)\n",
    "t3=Thread(target=parallel)\n",
    "\n",
    "t1.start()\n",
    "t2.start()\n",
    "t3.start()\n",
    "\n",
    "t1.join()\n",
    "t2.join()\n",
    "t3.join()"
   ]
  }
 ],
 "metadata": {
  "kernelspec": {
   "display_name": "Python 3",
   "language": "python",
   "name": "python3"
  },
  "language_info": {
   "codemirror_mode": {
    "name": "ipython",
    "version": 3
   },
   "file_extension": ".py",
   "mimetype": "text/x-python",
   "name": "python",
   "nbconvert_exporter": "python",
   "pygments_lexer": "ipython3",
   "version": "3.8.16"
  },
  "orig_nbformat": 4
 },
 "nbformat": 4,
 "nbformat_minor": 2
}
