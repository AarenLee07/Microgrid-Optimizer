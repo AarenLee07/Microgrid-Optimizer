{
 "cells": [
  {
   "attachments": {},
   "cell_type": "markdown",
   "metadata": {},
   "source": [
    "# MPC test code\n",
    "\n",
    "**source codes are under /src**\n",
    "\n",
    "owner: Yi Ju. last updated: 2023/02/11\n",
    "\n",
    "**contact the owner before you edit this notebook (incl. run)**\n",
    "\n",
    "**AND very clearly mark where you edit (and why)**\n",
    "\n",
    "### Debug tips\n",
    "you can check `mpc.cache` to find the last state before bug occurs"
   ]
  },
  {
   "cell_type": "code",
   "execution_count": 1,
   "metadata": {},
   "outputs": [
    {
     "name": "stdout",
     "output_type": "stream",
     "text": [
      "l:\\Coding_project\\Github_repo\\Energy_grid\\data\n",
      "l:\\Coding_project\\Github_repo\\Energy_grid\\notebooks\n",
      "path get in the utils.py: \n"
     ]
    },
    {
     "ename": "UnboundLocalError",
     "evalue": "local variable 'data_path' referenced before assignment",
     "output_type": "error",
     "traceback": [
      "\u001b[1;31m---------------------------------------------------------------------------\u001b[0m",
      "\u001b[1;31mUnboundLocalError\u001b[0m                         Traceback (most recent call last)",
      "File \u001b[1;32ml:\\Coding_project\\Github_repo\\Energy_grid\\src\\utils\\utils.py:11\u001b[0m, in \u001b[0;36mget_data_path\u001b[1;34m()\u001b[0m\n\u001b[0;32m     10\u001b[0m \u001b[39mtry\u001b[39;00m:\n\u001b[1;32m---> 11\u001b[0m     os\u001b[39m.\u001b[39mpath\u001b[39m.\u001b[39mexists(data_path)\n\u001b[0;32m     12\u001b[0m \u001b[39mexcept\u001b[39;00m:\n",
      "\u001b[1;31mUnboundLocalError\u001b[0m: local variable 'data_path' referenced before assignment",
      "\nDuring handling of the above exception, another exception occurred:\n",
      "\u001b[1;31mUnboundLocalError\u001b[0m                         Traceback (most recent call last)",
      "File \u001b[1;32ml:\\Coding_project\\Github_repo\\Energy_grid\\src\\utils\\utils.py:13\u001b[0m, in \u001b[0;36mget_data_path\u001b[1;34m()\u001b[0m\n\u001b[0;32m     12\u001b[0m \u001b[39mexcept\u001b[39;00m:\n\u001b[1;32m---> 13\u001b[0m     \u001b[39mprint\u001b[39m(\u001b[39m\"\u001b[39m\u001b[39merror: data_path not exist:\u001b[39m\u001b[39m{}\u001b[39;00m\u001b[39m\"\u001b[39m\u001b[39m.\u001b[39mformat(data_path))\n\u001b[0;32m     14\u001b[0m     curr_path \u001b[39m=\u001b[39m sys\u001b[39m.\u001b[39mpath[\u001b[39m0\u001b[39m]\n",
      "\u001b[1;31mUnboundLocalError\u001b[0m: local variable 'data_path' referenced before assignment",
      "\nDuring handling of the above exception, another exception occurred:\n",
      "\u001b[1;31mUnboundLocalError\u001b[0m                         Traceback (most recent call last)",
      "\u001b[1;32ml:\\Coding_project\\Github_repo\\Energy_grid\\notebooks\\mpc_temp_Yi.ipynb Cell 2\u001b[0m in \u001b[0;36m<cell line: 19>\u001b[1;34m()\u001b[0m\n\u001b[0;32m     <a href='vscode-notebook-cell:/l%3A/Coding_project/Github_repo/Energy_grid/notebooks/mpc_temp_Yi.ipynb#W1sZmlsZQ%3D%3D?line=15'>16</a>\u001b[0m \u001b[39mfrom\u001b[39;00m \u001b[39mdatetime\u001b[39;00m \u001b[39mimport\u001b[39;00m datetime, timedelta\n\u001b[0;32m     <a href='vscode-notebook-cell:/l%3A/Coding_project/Github_repo/Energy_grid/notebooks/mpc_temp_Yi.ipynb#W1sZmlsZQ%3D%3D?line=16'>17</a>\u001b[0m \u001b[39mimport\u001b[39;00m \u001b[39mtime\u001b[39;00m\n\u001b[1;32m---> <a href='vscode-notebook-cell:/l%3A/Coding_project/Github_repo/Energy_grid/notebooks/mpc_temp_Yi.ipynb#W1sZmlsZQ%3D%3D?line=18'>19</a>\u001b[0m \u001b[39mfrom\u001b[39;00m \u001b[39mgrid_manager\u001b[39;00m \u001b[39mimport\u001b[39;00m MPC_op\n\u001b[0;32m     <a href='vscode-notebook-cell:/l%3A/Coding_project/Github_repo/Energy_grid/notebooks/mpc_temp_Yi.ipynb#W1sZmlsZQ%3D%3D?line=19'>20</a>\u001b[0m \u001b[39mfrom\u001b[39;00m \u001b[39mdata_loader\u001b[39;00m \u001b[39mimport\u001b[39;00m UCSD_dataloader\n\u001b[0;32m     <a href='vscode-notebook-cell:/l%3A/Coding_project/Github_repo/Energy_grid/notebooks/mpc_temp_Yi.ipynb#W1sZmlsZQ%3D%3D?line=20'>21</a>\u001b[0m \u001b[39mfrom\u001b[39;00m \u001b[39mbattery_model\u001b[39;00m \u001b[39mimport\u001b[39;00m Battery_base\n",
      "File \u001b[1;32ml:\\Coding_project\\Github_repo\\Energy_grid\\src\\grid_manager.py:12\u001b[0m, in \u001b[0;36m<module>\u001b[1;34m\u001b[0m\n\u001b[0;32m     10\u001b[0m \u001b[39mfrom\u001b[39;00m \u001b[39mbattery_model\u001b[39;00m \u001b[39mimport\u001b[39;00m Battery_base\n\u001b[0;32m     11\u001b[0m \u001b[39mfrom\u001b[39;00m \u001b[39moptimizer\u001b[39;00m \u001b[39mimport\u001b[39;00m Battery_optimizer\n\u001b[1;32m---> 12\u001b[0m \u001b[39mfrom\u001b[39;00m \u001b[39mdata_loader\u001b[39;00m \u001b[39mimport\u001b[39;00m UCSD_dataloader\n\u001b[0;32m     13\u001b[0m \u001b[39mfrom\u001b[39;00m \u001b[39mev_manager\u001b[39;00m \u001b[39mimport\u001b[39;00m EVmanager\n\u001b[0;32m     14\u001b[0m \u001b[39mfrom\u001b[39;00m \u001b[39mpredictor\u001b[39;00m \u001b[39mimport\u001b[39;00m \u001b[39m*\u001b[39m\n",
      "File \u001b[1;32ml:\\Coding_project\\Github_repo\\Energy_grid\\src\\data_loader.py:9\u001b[0m, in \u001b[0;36m<module>\u001b[1;34m\u001b[0m\n\u001b[0;32m      6\u001b[0m \u001b[39mimport\u001b[39;00m \u001b[39mwarnings\u001b[39;00m\n\u001b[0;32m      8\u001b[0m \u001b[39mfrom\u001b[39;00m \u001b[39mutils\u001b[39;00m\u001b[39m.\u001b[39;00m\u001b[39mutils\u001b[39;00m \u001b[39mimport\u001b[39;00m get_data_path\n\u001b[1;32m----> 9\u001b[0m data_path \u001b[39m=\u001b[39m get_data_path()\n\u001b[0;32m     11\u001b[0m \u001b[39m\"\"\"\u001b[39;00m\n\u001b[0;32m     12\u001b[0m \u001b[39m============================= UPDATES =============================\u001b[39;00m\n\u001b[0;32m     13\u001b[0m \u001b[39m(write down updates on the code - the last updated one at the first)\u001b[39;00m\n\u001b[1;32m   (...)\u001b[0m\n\u001b[0;32m     19\u001b[0m \u001b[39m    (or, for exact reproduction, ev_to_bld = None)\u001b[39;00m\n\u001b[0;32m     20\u001b[0m \u001b[39m\"\"\"\u001b[39;00m\n\u001b[0;32m     23\u001b[0m \u001b[39mclass\u001b[39;00m \u001b[39mDataLoader\u001b[39;00m():\n",
      "File \u001b[1;32ml:\\Coding_project\\Github_repo\\Energy_grid\\src\\utils\\utils.py:22\u001b[0m, in \u001b[0;36mget_data_path\u001b[1;34m()\u001b[0m\n\u001b[0;32m     20\u001b[0m \u001b[39mfinally\u001b[39;00m:\n\u001b[0;32m     21\u001b[0m     \u001b[39mprint\u001b[39m(\u001b[39m\"\u001b[39m\u001b[39mpath get in the utils.py: \u001b[39m\u001b[39m\"\u001b[39m)\n\u001b[1;32m---> 22\u001b[0m     \u001b[39mprint\u001b[39m(data_path)\n\u001b[0;32m     23\u001b[0m     \u001b[39mreturn\u001b[39;00m data_path\n",
      "\u001b[1;31mUnboundLocalError\u001b[0m: local variable 'data_path' referenced before assignment"
     ]
    }
   ],
   "source": [
    "import os\n",
    "import sys\n",
    "src_path = sys.path[0].replace(\"notebooks\", \"src\")\n",
    "\n",
    "data_path = sys.path[0].replace(\"notebooks\", \"data\")\n",
    "print(data_path)\n",
    "\n",
    "if src_path not in sys.path:\n",
    "    sys.path.append(src_path)\n",
    "print(sys.path[0])\n",
    "\n",
    "out_path = sys.path[0].replace(\"notebooks\", \"output\")\n",
    "\n",
    "import pandas as pd\n",
    "import numpy as np\n",
    "from datetime import datetime, timedelta\n",
    "import time\n",
    "\n",
    "from grid_manager import MPC_op\n",
    "from data_loader import UCSD_dataloader\n",
    "from battery_model import Battery_base\n",
    "from optimizer import Battery_optimizer\n",
    "from predictor import *\n",
    "\n",
    "\n",
    "# from ev_manager import EVmanager\n",
    "# import copy"
   ]
  },
  {
   "cell_type": "code",
   "execution_count": 2,
   "metadata": {},
   "outputs": [],
   "source": [
    "\n",
    "bat_params_sample ={\n",
    "    \"bat_capacity\": 356,\n",
    "    \"bat_p_max\": 3, # i.e., capacity (kWh) / p_bat_max (kW) = 3 (h)\n",
    "    \"bat_p_min\": 3, # can omit, then p_bat_min = p_bat_max\n",
    "    \"bat_price\": 150, # $/kWh (old: 1000, ref: Tesla Powerwall)\n",
    "    \"bat_efficacy\": 0.98, \n",
    "    \"bat_life_0\": 3650, # days.\n",
    "    \"bat_cycle_0\": 3000, # cycles in lifetime\n",
    "    # battery degradation params\n",
    "    \"deg_model\": \"throughput\",  \n",
    "        # valid values: \"throughput\", \"Crate\", \"rainflow\", \"DOD\"\n",
    "    #   [1. degradation ~ high C-rate]\n",
    "    \"deg_Crate_thres\": (0.25, 0.25, 0.25, 0.25),\n",
    "    \"deg_Crate_lambda\": (0.8, 1, 1.5, 2),\n",
    "    #   [2. degradation ~ large cycle depth]\n",
    "    \"deg_rainflow_thres\": (0.2, 0.2, 0.2, 0.4),\n",
    "    \"deg_rainflow_lambda\": (0.6, 1, 1.5, 1.8),\n",
    "    #   [3. degradation ~ low SoE range]\n",
    "    \"deg_DOD_thres\": (0.5, 0.2, 0.2, 0.1),\n",
    "    \"deg_DOD_lambda\": (1.3, 1.15, 0.85, 0.6),\n",
    "}"
   ]
  },
  {
   "cell_type": "code",
   "execution_count": 3,
   "metadata": {},
   "outputs": [
    {
     "name": "stderr",
     "output_type": "stream",
     "text": [
      "l:\\Coding_project\\Github_repo\\Energy_grid\\src\\data_loader.py:342: UserWarning: The argument 'infer_datetime_format' is deprecated and will be removed in a future version. A strict version of it is now the default, see https://pandas.pydata.org/pdeps/0004-consistent-to-datetime-parsing.html. You can safely remove this argument.\n",
      "  load_bld.index = pd.to_datetime(load_bld.index, infer_datetime_format=True)\n",
      "l:\\Coding_project\\Github_repo\\Energy_grid\\src\\data_loader.py:343: UserWarning: The argument 'infer_datetime_format' is deprecated and will be removed in a future version. A strict version of it is now the default, see https://pandas.pydata.org/pdeps/0004-consistent-to-datetime-parsing.html. You can safely remove this argument.\n",
      "  load_pv.index = pd.to_datetime(load_pv.index, infer_datetime_format=True)\n",
      "l:\\Coding_project\\Github_repo\\Energy_grid\\src\\data_loader.py:249: UserWarning: The argument 'infer_datetime_format' is deprecated and will be removed in a future version. A strict version of it is now the default, see https://pandas.pydata.org/pdeps/0004-consistent-to-datetime-parsing.html. You can safely remove this argument.\n",
      "  df[\"ta\"] = pd.to_datetime(df[\"ta\"], infer_datetime_format=True)\n",
      "l:\\Coding_project\\Github_repo\\Energy_grid\\src\\data_loader.py:250: UserWarning: The argument 'infer_datetime_format' is deprecated and will be removed in a future version. A strict version of it is now the default, see https://pandas.pydata.org/pdeps/0004-consistent-to-datetime-parsing.html. You can safely remove this argument.\n",
      "  df[\"td\"] = pd.to_datetime(df[\"td\"], infer_datetime_format=True)\n"
     ]
    },
    {
     "name": "stdout",
     "output_type": "stream",
     "text": [
      "!!!!!!!!!! MISSING VALUES !!!!!!!!!! || [bld] has [4] missing values\n",
      "========== NA filled ==========\n",
      "!!!!!!!!!! MISSING VALUES !!!!!!!!!! || [pv] has [4] missing values\n",
      "========== NA filled ==========\n",
      "!!!!!!!!!! EV SHORT DURATION !!!!!!!!!! || drop 65 sessions\n"
     ]
    },
    {
     "name": "stderr",
     "output_type": "stream",
     "text": [
      "l:\\Coding_project\\Github_repo\\Energy_grid\\src\\data_loader.py:342: UserWarning: The argument 'infer_datetime_format' is deprecated and will be removed in a future version. A strict version of it is now the default, see https://pandas.pydata.org/pdeps/0004-consistent-to-datetime-parsing.html. You can safely remove this argument.\n",
      "  load_bld.index = pd.to_datetime(load_bld.index, infer_datetime_format=True)\n",
      "l:\\Coding_project\\Github_repo\\Energy_grid\\src\\data_loader.py:343: UserWarning: The argument 'infer_datetime_format' is deprecated and will be removed in a future version. A strict version of it is now the default, see https://pandas.pydata.org/pdeps/0004-consistent-to-datetime-parsing.html. You can safely remove this argument.\n",
      "  load_pv.index = pd.to_datetime(load_pv.index, infer_datetime_format=True)\n",
      "l:\\Coding_project\\Github_repo\\Energy_grid\\src\\data_loader.py:249: UserWarning: The argument 'infer_datetime_format' is deprecated and will be removed in a future version. A strict version of it is now the default, see https://pandas.pydata.org/pdeps/0004-consistent-to-datetime-parsing.html. You can safely remove this argument.\n",
      "  df[\"ta\"] = pd.to_datetime(df[\"ta\"], infer_datetime_format=True)\n",
      "l:\\Coding_project\\Github_repo\\Energy_grid\\src\\data_loader.py:250: UserWarning: The argument 'infer_datetime_format' is deprecated and will be removed in a future version. A strict version of it is now the default, see https://pandas.pydata.org/pdeps/0004-consistent-to-datetime-parsing.html. You can safely remove this argument.\n",
      "  df[\"td\"] = pd.to_datetime(df[\"td\"], infer_datetime_format=True)\n"
     ]
    },
    {
     "name": "stdout",
     "output_type": "stream",
     "text": [
      "!!!!!!!!!! MISSING VALUES !!!!!!!!!! || [bld] has [4] missing values\n",
      "========== NA filled ==========\n",
      "!!!!!!!!!! MISSING VALUES !!!!!!!!!! || [pv] has [4] missing values\n",
      "========== NA filled ==========\n",
      "!!!!!!!!!! EV SHORT DURATION !!!!!!!!!! || drop 65 sessions\n"
     ]
    }
   ],
   "source": [
    "mpc = MPC_op()\n",
    "\n",
    "# Step 1: load data\n",
    "mpc.load_data(loader=UCSD_dataloader, \n",
    "    tstart=datetime(2019,1,1,0,0), tend=datetime(2020,1,1,0,0), delta=0.25,\n",
    "    bld=\"Hopkins\", pv=\"Hopkins\", ev=\"OSLER\", pv_to_bld=0.5, ev_to_bld=0.2, Pmax=10)\n",
    "\n",
    "# Step 2: Load historical data\n",
    "mpc.init_historical_data(loader=UCSD_dataloader,\n",
    "    tstart=datetime(2019,1,1,0,0), tend=datetime(2019,12,31,23,59), delta=0.25,\n",
    "    bld=\"Hopkins\", pv=\"Hopkins\", ev=\"OSLER\", pv_to_bld=0.5, ev_to_bld=0.2, Pmax=10)\n",
    "\n",
    "# Step 3: specify other operational params\n",
    "optimizer_params = {\"strategy\": \"optimal\", \"language\":\"gurobi\"}\n",
    "op_params = {\"K\": 96,\n",
    "            \"dc_price\": 0.6,\n",
    "            \"ev_efficacy\": 0.98,\n",
    "            \"energy_price_sell\": 0.6, \n",
    "            \"deg_model_opt\": \"rainflow\",\n",
    "            \"ev_charge_rule\": \"flex\",\n",
    "            \"ev_charge_rule_default\": \"unif\",\n",
    "            \"p_grid_max\": \"1.5\",}\n",
    "mpc.init_op_params(optimizer=Battery_optimizer, optimizer_params=optimizer_params, delta_0=0.25, **op_params)\n",
    "\n",
    "# Step 4: specify battery\n",
    "mpc.init_battery(model=Battery_base, params=bat_params_sample, delta_0=0.25)\n",
    "\n",
    "# Step 5: initialize predictor\n",
    "# [Yi, 2023/03/08] modify predictor def\n",
    "mpc.init_predictor(shortcut=\"GT\")\n",
    "\n"
   ]
  },
  {
   "cell_type": "code",
   "execution_count": 14,
   "metadata": {},
   "outputs": [
    {
     "name": "stdout",
     "output_type": "stream",
     "text": [
      "l:\\Coding_project\\Github_repo\\Energy_grid\\output\\debug_test\n",
      "========================= 2019-01-01 00:00:00 =========================\n",
      "========================= 2019-01-02 00:00:00 =========================\n",
      "========================= 2019-01-03 00:00:00 =========================\n",
      "========================= 2019-01-04 00:00:00 =========================\n",
      "========================= 2019-01-05 00:00:00 =========================\n",
      "========================= 2019-01-06 00:00:00 =========================\n",
      "========================= 2019-01-07 00:00:00 =========================\n",
      "========================= 2019-01-08 00:00:00 =========================\n",
      "========================= 2019-01-09 00:00:00 =========================\n",
      "========================= 2019-01-10 00:00:00 =========================\n",
      "========================= 2019-01-11 00:00:00 =========================\n",
      "========================= 2019-01-12 00:00:00 =========================\n",
      "========================= 2019-01-13 00:00:00 =========================\n",
      "========================= 2019-01-14 00:00:00 =========================\n",
      "========================= 2019-01-15 00:00:00 =========================\n",
      "========================= 2019-01-16 00:00:00 =========================\n",
      "========================= 2019-01-17 00:00:00 =========================\n",
      "========================= 2019-01-18 00:00:00 =========================\n",
      "========================= 2019-01-19 00:00:00 =========================\n",
      "========================= 2019-01-20 00:00:00 =========================\n",
      "========================= 2019-01-21 00:00:00 =========================\n",
      "========================= 2019-01-22 00:00:00 =========================\n",
      "========================= 2019-01-23 00:00:00 =========================\n",
      "========================= 2019-01-24 00:00:00 =========================\n",
      "========================= 2019-01-25 00:00:00 =========================\n",
      "========================= 2019-01-26 00:00:00 =========================\n",
      "========================= 2019-01-27 00:00:00 =========================\n",
      "========================= 2019-01-28 00:00:00 =========================\n",
      "========================= 2019-01-29 00:00:00 =========================\n",
      "========================= 2019-01-30 00:00:00 =========================\n",
      "========================= 2019-01-31 00:00:00 =========================\n",
      "========================= 2019-02-01 00:00:00 =========================\n",
      "========================= 2019-02-02 00:00:00 =========================\n",
      "========================= 2019-02-03 00:00:00 =========================\n",
      "========================= 2019-02-04 00:00:00 =========================\n",
      "========================= 2019-02-05 00:00:00 =========================\n",
      "========================= 2019-02-06 00:00:00 =========================\n",
      "========================= 2019-02-07 00:00:00 =========================\n",
      "========================= 2019-02-08 00:00:00 =========================\n",
      "========================= 2019-02-09 00:00:00 =========================\n",
      "========================= 2019-02-10 00:00:00 =========================\n",
      "========================= 2019-02-11 00:00:00 =========================\n",
      "========================= 2019-02-12 00:00:00 =========================\n",
      "========================= 2019-02-13 00:00:00 =========================\n",
      "========================= 2019-02-14 00:00:00 =========================\n",
      "========================= 2019-02-15 00:00:00 =========================\n",
      "========================= 2019-02-16 00:00:00 =========================\n",
      "========================= 2019-02-17 00:00:00 =========================\n",
      "========================= 2019-02-18 00:00:00 =========================\n",
      "========================= 2019-02-19 00:00:00 =========================\n",
      "========================= 2019-02-20 00:00:00 =========================\n",
      "========================= 2019-02-21 00:00:00 =========================\n",
      "========================= 2019-02-22 00:00:00 =========================\n",
      "========================= 2019-02-23 00:00:00 =========================\n",
      "========================= 2019-02-24 00:00:00 =========================\n",
      "========================= 2019-02-25 00:00:00 =========================\n"
     ]
    }
   ],
   "source": [
    "# Step 6: initialize save_config\n",
    "folder_path=os.path.join(out_path, \"debug_test\")\n",
    "print(folder_path)\n",
    "mpc.init_save_config(save_fn=\"rainflow_365_opt2\",\n",
    "    folder_path=os.path.join(out_path, \"debug_test\"),\n",
    "    checkpoints=\"2D\", recovery=False, recovery_from=None,\n",
    "    )\n",
    "\n",
    "mpc.run(tstart=datetime(2019,1,1,0,0), tend=datetime(2020,1,1,0,0), exe_K=96, save=True)"
   ]
  },
  {
   "cell_type": "code",
   "execution_count": 12,
   "metadata": {},
   "outputs": [
    {
     "data": {
      "text/plain": [
       "{'bat_capacity': None,\n",
       " 'bat_p_max': 3,\n",
       " 'bat_p_min': 3,\n",
       " 'bat_price': 150,\n",
       " 'bat_efficacy': 0.98,\n",
       " 'bat_life_0': 3650,\n",
       " 'bat_cycle_0': 3000,\n",
       " 'deg_model': 'rainflow',\n",
       " 'deg_Crate_thres': (0.25, 0.25, 0.25, 0.25),\n",
       " 'deg_Crate_lambda': (0.8, 1, 1.5, 2),\n",
       " 'deg_rainflow_thres': (0.2, 0.2, 0.2, 0.4),\n",
       " 'deg_rainflow_lambda': (0.6, 1, 1.5, 1.8),\n",
       " 'deg_DOD_thres': (0.5, 0.2, 0.2, 0.1),\n",
       " 'deg_DOD_lambda': (1.3, 1.15, 0.85, 0.6)}"
      ]
     },
     "execution_count": 12,
     "metadata": {},
     "output_type": "execute_result"
    }
   ],
   "source": [
    "mpc.battery_est.params"
   ]
  }
 ],
 "metadata": {
  "kernelspec": {
   "display_name": "Python 3.8.13 ('base38')",
   "language": "python",
   "name": "python3"
  },
  "language_info": {
   "codemirror_mode": {
    "name": "ipython",
    "version": 3
   },
   "file_extension": ".py",
   "mimetype": "text/x-python",
   "name": "python",
   "nbconvert_exporter": "python",
   "pygments_lexer": "ipython3",
   "version": "3.8.16"
  },
  "orig_nbformat": 4,
  "vscode": {
   "interpreter": {
    "hash": "36b8ef5e90b4565f39e4ee30985d245a4b431dcf823e4c8bf20a830c7f93b6dd"
   }
  }
 },
 "nbformat": 4,
 "nbformat_minor": 2
}
