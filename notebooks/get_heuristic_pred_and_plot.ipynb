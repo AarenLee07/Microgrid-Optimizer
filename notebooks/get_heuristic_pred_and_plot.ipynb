{
 "cells": [
  {
   "cell_type": "code",
   "execution_count": 1,
   "metadata": {},
   "outputs": [
    {
     "name": "stderr",
     "output_type": "stream",
     "text": [
      "l:\\Softwares\\Anaconda\\envs\\gurobi\\lib\\site-packages\\tqdm\\auto.py:21: TqdmWarning: IProgress not found. Please update jupyter and ipywidgets. See https://ipywidgets.readthedocs.io/en/stable/user_install.html\n",
      "  from .autonotebook import tqdm as notebook_tqdm\n"
     ]
    }
   ],
   "source": [
    "import os\n",
    "import sys\n",
    "import re\n",
    "import pandas as pd\n",
    "import numpy as np\n",
    "import pandas as pd\n",
    "import numpy as np\n",
    "from datetime import datetime, timedelta\n",
    "import statistics\n",
    "\n",
    "from XGBoost_helper import Data_encoder,Optuna_core,XGBoost_Optuna,Simple_forecast,intersection_sum"
   ]
  },
  {
   "cell_type": "code",
   "execution_count": 2,
   "metadata": {},
   "outputs": [
    {
     "name": "stderr",
     "output_type": "stream",
     "text": [
      "l:\\Coding_project\\Energy_grid_new\\notebooks\\XGBoost_helper.py:667: UserWarning: Parsing dates in DD/MM/YYYY format when dayfirst=False (the default) was specified. This may lead to inconsistently parsed dates! Specify a format to ensure consistent parsing.\n",
      "  pred_ref=df[pd.to_datetime(ref_start_t):pd.to_datetime(end_t)+timedelta(minutes=15*(K+5))].copy()\n"
     ]
    },
    {
     "name": "stdout",
     "output_type": "stream",
     "text": [
      "# calculate historical average of all index in prediction duartion\n",
      "# calculate pred for each step\n",
      "1  done\n",
      "2  done\n",
      "3  done\n",
      "4  done\n",
      "5  done\n",
      "6  done\n",
      "7  done\n",
      "8  done\n",
      "9  done\n",
      "10  done\n",
      "11  done\n",
      "12  done\n",
      "13  done\n",
      "14  done\n",
      "15  done\n",
      "16  done\n",
      "17  done\n",
      "18  done\n",
      "19  done\n",
      "20  done\n",
      "21  done\n",
      "22  done\n",
      "23  done\n",
      "24  done\n",
      "25  done\n",
      "26  done\n",
      "27  done\n",
      "28  done\n",
      "29  done\n",
      "30  done\n",
      "31  done\n",
      "32  done\n",
      "33  done\n",
      "34  done\n",
      "35  done\n",
      "36  done\n",
      "37  done\n",
      "38  done\n",
      "39  done\n",
      "40  done\n",
      "41  done\n",
      "42  done\n",
      "43  done\n",
      "44  done\n",
      "45  done\n",
      "46  done\n",
      "47  done\n",
      "48  done\n",
      "49  done\n"
     ]
    },
    {
     "name": "stderr",
     "output_type": "stream",
     "text": [
      "l:\\Coding_project\\Energy_grid_new\\notebooks\\XGBoost_helper.py:832: PerformanceWarning: DataFrame is highly fragmented.  This is usually the result of calling `frame.insert` many times, which has poor performance.  Consider joining all columns at once using pd.concat(axis=1) instead. To get a de-fragmented frame, use `newframe = frame.copy()`\n",
      "  data_n['MAE_till'+str(k)]=None\n",
      "l:\\Coding_project\\Energy_grid_new\\notebooks\\XGBoost_helper.py:838: PerformanceWarning: DataFrame is highly fragmented.  This is usually the result of calling `frame.insert` many times, which has poor performance.  Consider joining all columns at once using pd.concat(axis=1) instead. To get a de-fragmented frame, use `newframe = frame.copy()`\n",
      "  data_n.loc[i,'E_'+str(k)]=data_n.at[i,'RealPower_pred'][k-1]-data_n.loc[i,'future_real'][k-1]\n"
     ]
    },
    {
     "name": "stdout",
     "output_type": "stream",
     "text": [
      "50  done\n"
     ]
    },
    {
     "name": "stderr",
     "output_type": "stream",
     "text": [
      "l:\\Coding_project\\Energy_grid_new\\notebooks\\XGBoost_helper.py:832: PerformanceWarning: DataFrame is highly fragmented.  This is usually the result of calling `frame.insert` many times, which has poor performance.  Consider joining all columns at once using pd.concat(axis=1) instead. To get a de-fragmented frame, use `newframe = frame.copy()`\n",
      "  data_n['MAE_till'+str(k)]=None\n",
      "l:\\Coding_project\\Energy_grid_new\\notebooks\\XGBoost_helper.py:838: PerformanceWarning: DataFrame is highly fragmented.  This is usually the result of calling `frame.insert` many times, which has poor performance.  Consider joining all columns at once using pd.concat(axis=1) instead. To get a de-fragmented frame, use `newframe = frame.copy()`\n",
      "  data_n.loc[i,'E_'+str(k)]=data_n.at[i,'RealPower_pred'][k-1]-data_n.loc[i,'future_real'][k-1]\n"
     ]
    },
    {
     "name": "stdout",
     "output_type": "stream",
     "text": [
      "51  done\n"
     ]
    },
    {
     "name": "stderr",
     "output_type": "stream",
     "text": [
      "l:\\Coding_project\\Energy_grid_new\\notebooks\\XGBoost_helper.py:832: PerformanceWarning: DataFrame is highly fragmented.  This is usually the result of calling `frame.insert` many times, which has poor performance.  Consider joining all columns at once using pd.concat(axis=1) instead. To get a de-fragmented frame, use `newframe = frame.copy()`\n",
      "  data_n['MAE_till'+str(k)]=None\n",
      "l:\\Coding_project\\Energy_grid_new\\notebooks\\XGBoost_helper.py:838: PerformanceWarning: DataFrame is highly fragmented.  This is usually the result of calling `frame.insert` many times, which has poor performance.  Consider joining all columns at once using pd.concat(axis=1) instead. To get a de-fragmented frame, use `newframe = frame.copy()`\n",
      "  data_n.loc[i,'E_'+str(k)]=data_n.at[i,'RealPower_pred'][k-1]-data_n.loc[i,'future_real'][k-1]\n"
     ]
    },
    {
     "name": "stdout",
     "output_type": "stream",
     "text": [
      "52  done\n"
     ]
    },
    {
     "name": "stderr",
     "output_type": "stream",
     "text": [
      "l:\\Coding_project\\Energy_grid_new\\notebooks\\XGBoost_helper.py:832: PerformanceWarning: DataFrame is highly fragmented.  This is usually the result of calling `frame.insert` many times, which has poor performance.  Consider joining all columns at once using pd.concat(axis=1) instead. To get a de-fragmented frame, use `newframe = frame.copy()`\n",
      "  data_n['MAE_till'+str(k)]=None\n",
      "l:\\Coding_project\\Energy_grid_new\\notebooks\\XGBoost_helper.py:838: PerformanceWarning: DataFrame is highly fragmented.  This is usually the result of calling `frame.insert` many times, which has poor performance.  Consider joining all columns at once using pd.concat(axis=1) instead. To get a de-fragmented frame, use `newframe = frame.copy()`\n",
      "  data_n.loc[i,'E_'+str(k)]=data_n.at[i,'RealPower_pred'][k-1]-data_n.loc[i,'future_real'][k-1]\n"
     ]
    },
    {
     "name": "stdout",
     "output_type": "stream",
     "text": [
      "53  done\n"
     ]
    },
    {
     "name": "stderr",
     "output_type": "stream",
     "text": [
      "l:\\Coding_project\\Energy_grid_new\\notebooks\\XGBoost_helper.py:832: PerformanceWarning: DataFrame is highly fragmented.  This is usually the result of calling `frame.insert` many times, which has poor performance.  Consider joining all columns at once using pd.concat(axis=1) instead. To get a de-fragmented frame, use `newframe = frame.copy()`\n",
      "  data_n['MAE_till'+str(k)]=None\n",
      "l:\\Coding_project\\Energy_grid_new\\notebooks\\XGBoost_helper.py:838: PerformanceWarning: DataFrame is highly fragmented.  This is usually the result of calling `frame.insert` many times, which has poor performance.  Consider joining all columns at once using pd.concat(axis=1) instead. To get a de-fragmented frame, use `newframe = frame.copy()`\n",
      "  data_n.loc[i,'E_'+str(k)]=data_n.at[i,'RealPower_pred'][k-1]-data_n.loc[i,'future_real'][k-1]\n"
     ]
    },
    {
     "name": "stdout",
     "output_type": "stream",
     "text": [
      "54  done\n"
     ]
    },
    {
     "name": "stderr",
     "output_type": "stream",
     "text": [
      "l:\\Coding_project\\Energy_grid_new\\notebooks\\XGBoost_helper.py:832: PerformanceWarning: DataFrame is highly fragmented.  This is usually the result of calling `frame.insert` many times, which has poor performance.  Consider joining all columns at once using pd.concat(axis=1) instead. To get a de-fragmented frame, use `newframe = frame.copy()`\n",
      "  data_n['MAE_till'+str(k)]=None\n",
      "l:\\Coding_project\\Energy_grid_new\\notebooks\\XGBoost_helper.py:838: PerformanceWarning: DataFrame is highly fragmented.  This is usually the result of calling `frame.insert` many times, which has poor performance.  Consider joining all columns at once using pd.concat(axis=1) instead. To get a de-fragmented frame, use `newframe = frame.copy()`\n",
      "  data_n.loc[i,'E_'+str(k)]=data_n.at[i,'RealPower_pred'][k-1]-data_n.loc[i,'future_real'][k-1]\n"
     ]
    },
    {
     "name": "stdout",
     "output_type": "stream",
     "text": [
      "55  done\n"
     ]
    },
    {
     "name": "stderr",
     "output_type": "stream",
     "text": [
      "l:\\Coding_project\\Energy_grid_new\\notebooks\\XGBoost_helper.py:832: PerformanceWarning: DataFrame is highly fragmented.  This is usually the result of calling `frame.insert` many times, which has poor performance.  Consider joining all columns at once using pd.concat(axis=1) instead. To get a de-fragmented frame, use `newframe = frame.copy()`\n",
      "  data_n['MAE_till'+str(k)]=None\n",
      "l:\\Coding_project\\Energy_grid_new\\notebooks\\XGBoost_helper.py:838: PerformanceWarning: DataFrame is highly fragmented.  This is usually the result of calling `frame.insert` many times, which has poor performance.  Consider joining all columns at once using pd.concat(axis=1) instead. To get a de-fragmented frame, use `newframe = frame.copy()`\n",
      "  data_n.loc[i,'E_'+str(k)]=data_n.at[i,'RealPower_pred'][k-1]-data_n.loc[i,'future_real'][k-1]\n"
     ]
    },
    {
     "name": "stdout",
     "output_type": "stream",
     "text": [
      "56  done\n"
     ]
    },
    {
     "name": "stderr",
     "output_type": "stream",
     "text": [
      "l:\\Coding_project\\Energy_grid_new\\notebooks\\XGBoost_helper.py:832: PerformanceWarning: DataFrame is highly fragmented.  This is usually the result of calling `frame.insert` many times, which has poor performance.  Consider joining all columns at once using pd.concat(axis=1) instead. To get a de-fragmented frame, use `newframe = frame.copy()`\n",
      "  data_n['MAE_till'+str(k)]=None\n",
      "l:\\Coding_project\\Energy_grid_new\\notebooks\\XGBoost_helper.py:838: PerformanceWarning: DataFrame is highly fragmented.  This is usually the result of calling `frame.insert` many times, which has poor performance.  Consider joining all columns at once using pd.concat(axis=1) instead. To get a de-fragmented frame, use `newframe = frame.copy()`\n",
      "  data_n.loc[i,'E_'+str(k)]=data_n.at[i,'RealPower_pred'][k-1]-data_n.loc[i,'future_real'][k-1]\n"
     ]
    },
    {
     "name": "stdout",
     "output_type": "stream",
     "text": [
      "57  done\n"
     ]
    },
    {
     "name": "stderr",
     "output_type": "stream",
     "text": [
      "l:\\Coding_project\\Energy_grid_new\\notebooks\\XGBoost_helper.py:832: PerformanceWarning: DataFrame is highly fragmented.  This is usually the result of calling `frame.insert` many times, which has poor performance.  Consider joining all columns at once using pd.concat(axis=1) instead. To get a de-fragmented frame, use `newframe = frame.copy()`\n",
      "  data_n['MAE_till'+str(k)]=None\n",
      "l:\\Coding_project\\Energy_grid_new\\notebooks\\XGBoost_helper.py:838: PerformanceWarning: DataFrame is highly fragmented.  This is usually the result of calling `frame.insert` many times, which has poor performance.  Consider joining all columns at once using pd.concat(axis=1) instead. To get a de-fragmented frame, use `newframe = frame.copy()`\n",
      "  data_n.loc[i,'E_'+str(k)]=data_n.at[i,'RealPower_pred'][k-1]-data_n.loc[i,'future_real'][k-1]\n"
     ]
    },
    {
     "name": "stdout",
     "output_type": "stream",
     "text": [
      "58  done\n"
     ]
    },
    {
     "name": "stderr",
     "output_type": "stream",
     "text": [
      "l:\\Coding_project\\Energy_grid_new\\notebooks\\XGBoost_helper.py:832: PerformanceWarning: DataFrame is highly fragmented.  This is usually the result of calling `frame.insert` many times, which has poor performance.  Consider joining all columns at once using pd.concat(axis=1) instead. To get a de-fragmented frame, use `newframe = frame.copy()`\n",
      "  data_n['MAE_till'+str(k)]=None\n",
      "l:\\Coding_project\\Energy_grid_new\\notebooks\\XGBoost_helper.py:838: PerformanceWarning: DataFrame is highly fragmented.  This is usually the result of calling `frame.insert` many times, which has poor performance.  Consider joining all columns at once using pd.concat(axis=1) instead. To get a de-fragmented frame, use `newframe = frame.copy()`\n",
      "  data_n.loc[i,'E_'+str(k)]=data_n.at[i,'RealPower_pred'][k-1]-data_n.loc[i,'future_real'][k-1]\n"
     ]
    },
    {
     "name": "stdout",
     "output_type": "stream",
     "text": [
      "59  done\n"
     ]
    },
    {
     "name": "stderr",
     "output_type": "stream",
     "text": [
      "l:\\Coding_project\\Energy_grid_new\\notebooks\\XGBoost_helper.py:832: PerformanceWarning: DataFrame is highly fragmented.  This is usually the result of calling `frame.insert` many times, which has poor performance.  Consider joining all columns at once using pd.concat(axis=1) instead. To get a de-fragmented frame, use `newframe = frame.copy()`\n",
      "  data_n['MAE_till'+str(k)]=None\n",
      "l:\\Coding_project\\Energy_grid_new\\notebooks\\XGBoost_helper.py:838: PerformanceWarning: DataFrame is highly fragmented.  This is usually the result of calling `frame.insert` many times, which has poor performance.  Consider joining all columns at once using pd.concat(axis=1) instead. To get a de-fragmented frame, use `newframe = frame.copy()`\n",
      "  data_n.loc[i,'E_'+str(k)]=data_n.at[i,'RealPower_pred'][k-1]-data_n.loc[i,'future_real'][k-1]\n"
     ]
    },
    {
     "name": "stdout",
     "output_type": "stream",
     "text": [
      "60  done\n"
     ]
    },
    {
     "name": "stderr",
     "output_type": "stream",
     "text": [
      "l:\\Coding_project\\Energy_grid_new\\notebooks\\XGBoost_helper.py:832: PerformanceWarning: DataFrame is highly fragmented.  This is usually the result of calling `frame.insert` many times, which has poor performance.  Consider joining all columns at once using pd.concat(axis=1) instead. To get a de-fragmented frame, use `newframe = frame.copy()`\n",
      "  data_n['MAE_till'+str(k)]=None\n",
      "l:\\Coding_project\\Energy_grid_new\\notebooks\\XGBoost_helper.py:838: PerformanceWarning: DataFrame is highly fragmented.  This is usually the result of calling `frame.insert` many times, which has poor performance.  Consider joining all columns at once using pd.concat(axis=1) instead. To get a de-fragmented frame, use `newframe = frame.copy()`\n",
      "  data_n.loc[i,'E_'+str(k)]=data_n.at[i,'RealPower_pred'][k-1]-data_n.loc[i,'future_real'][k-1]\n"
     ]
    },
    {
     "name": "stdout",
     "output_type": "stream",
     "text": [
      "61  done\n"
     ]
    },
    {
     "name": "stderr",
     "output_type": "stream",
     "text": [
      "l:\\Coding_project\\Energy_grid_new\\notebooks\\XGBoost_helper.py:832: PerformanceWarning: DataFrame is highly fragmented.  This is usually the result of calling `frame.insert` many times, which has poor performance.  Consider joining all columns at once using pd.concat(axis=1) instead. To get a de-fragmented frame, use `newframe = frame.copy()`\n",
      "  data_n['MAE_till'+str(k)]=None\n",
      "l:\\Coding_project\\Energy_grid_new\\notebooks\\XGBoost_helper.py:838: PerformanceWarning: DataFrame is highly fragmented.  This is usually the result of calling `frame.insert` many times, which has poor performance.  Consider joining all columns at once using pd.concat(axis=1) instead. To get a de-fragmented frame, use `newframe = frame.copy()`\n",
      "  data_n.loc[i,'E_'+str(k)]=data_n.at[i,'RealPower_pred'][k-1]-data_n.loc[i,'future_real'][k-1]\n"
     ]
    },
    {
     "name": "stdout",
     "output_type": "stream",
     "text": [
      "62  done\n"
     ]
    },
    {
     "name": "stderr",
     "output_type": "stream",
     "text": [
      "l:\\Coding_project\\Energy_grid_new\\notebooks\\XGBoost_helper.py:832: PerformanceWarning: DataFrame is highly fragmented.  This is usually the result of calling `frame.insert` many times, which has poor performance.  Consider joining all columns at once using pd.concat(axis=1) instead. To get a de-fragmented frame, use `newframe = frame.copy()`\n",
      "  data_n['MAE_till'+str(k)]=None\n",
      "l:\\Coding_project\\Energy_grid_new\\notebooks\\XGBoost_helper.py:838: PerformanceWarning: DataFrame is highly fragmented.  This is usually the result of calling `frame.insert` many times, which has poor performance.  Consider joining all columns at once using pd.concat(axis=1) instead. To get a de-fragmented frame, use `newframe = frame.copy()`\n",
      "  data_n.loc[i,'E_'+str(k)]=data_n.at[i,'RealPower_pred'][k-1]-data_n.loc[i,'future_real'][k-1]\n"
     ]
    },
    {
     "name": "stdout",
     "output_type": "stream",
     "text": [
      "63  done\n"
     ]
    },
    {
     "name": "stderr",
     "output_type": "stream",
     "text": [
      "l:\\Coding_project\\Energy_grid_new\\notebooks\\XGBoost_helper.py:832: PerformanceWarning: DataFrame is highly fragmented.  This is usually the result of calling `frame.insert` many times, which has poor performance.  Consider joining all columns at once using pd.concat(axis=1) instead. To get a de-fragmented frame, use `newframe = frame.copy()`\n",
      "  data_n['MAE_till'+str(k)]=None\n",
      "l:\\Coding_project\\Energy_grid_new\\notebooks\\XGBoost_helper.py:838: PerformanceWarning: DataFrame is highly fragmented.  This is usually the result of calling `frame.insert` many times, which has poor performance.  Consider joining all columns at once using pd.concat(axis=1) instead. To get a de-fragmented frame, use `newframe = frame.copy()`\n",
      "  data_n.loc[i,'E_'+str(k)]=data_n.at[i,'RealPower_pred'][k-1]-data_n.loc[i,'future_real'][k-1]\n"
     ]
    },
    {
     "name": "stdout",
     "output_type": "stream",
     "text": [
      "64  done\n"
     ]
    },
    {
     "name": "stderr",
     "output_type": "stream",
     "text": [
      "l:\\Coding_project\\Energy_grid_new\\notebooks\\XGBoost_helper.py:832: PerformanceWarning: DataFrame is highly fragmented.  This is usually the result of calling `frame.insert` many times, which has poor performance.  Consider joining all columns at once using pd.concat(axis=1) instead. To get a de-fragmented frame, use `newframe = frame.copy()`\n",
      "  data_n['MAE_till'+str(k)]=None\n",
      "l:\\Coding_project\\Energy_grid_new\\notebooks\\XGBoost_helper.py:838: PerformanceWarning: DataFrame is highly fragmented.  This is usually the result of calling `frame.insert` many times, which has poor performance.  Consider joining all columns at once using pd.concat(axis=1) instead. To get a de-fragmented frame, use `newframe = frame.copy()`\n",
      "  data_n.loc[i,'E_'+str(k)]=data_n.at[i,'RealPower_pred'][k-1]-data_n.loc[i,'future_real'][k-1]\n"
     ]
    },
    {
     "name": "stdout",
     "output_type": "stream",
     "text": [
      "65  done\n"
     ]
    },
    {
     "name": "stderr",
     "output_type": "stream",
     "text": [
      "l:\\Coding_project\\Energy_grid_new\\notebooks\\XGBoost_helper.py:832: PerformanceWarning: DataFrame is highly fragmented.  This is usually the result of calling `frame.insert` many times, which has poor performance.  Consider joining all columns at once using pd.concat(axis=1) instead. To get a de-fragmented frame, use `newframe = frame.copy()`\n",
      "  data_n['MAE_till'+str(k)]=None\n",
      "l:\\Coding_project\\Energy_grid_new\\notebooks\\XGBoost_helper.py:838: PerformanceWarning: DataFrame is highly fragmented.  This is usually the result of calling `frame.insert` many times, which has poor performance.  Consider joining all columns at once using pd.concat(axis=1) instead. To get a de-fragmented frame, use `newframe = frame.copy()`\n",
      "  data_n.loc[i,'E_'+str(k)]=data_n.at[i,'RealPower_pred'][k-1]-data_n.loc[i,'future_real'][k-1]\n"
     ]
    },
    {
     "name": "stdout",
     "output_type": "stream",
     "text": [
      "66  done\n"
     ]
    },
    {
     "name": "stderr",
     "output_type": "stream",
     "text": [
      "l:\\Coding_project\\Energy_grid_new\\notebooks\\XGBoost_helper.py:832: PerformanceWarning: DataFrame is highly fragmented.  This is usually the result of calling `frame.insert` many times, which has poor performance.  Consider joining all columns at once using pd.concat(axis=1) instead. To get a de-fragmented frame, use `newframe = frame.copy()`\n",
      "  data_n['MAE_till'+str(k)]=None\n",
      "l:\\Coding_project\\Energy_grid_new\\notebooks\\XGBoost_helper.py:838: PerformanceWarning: DataFrame is highly fragmented.  This is usually the result of calling `frame.insert` many times, which has poor performance.  Consider joining all columns at once using pd.concat(axis=1) instead. To get a de-fragmented frame, use `newframe = frame.copy()`\n",
      "  data_n.loc[i,'E_'+str(k)]=data_n.at[i,'RealPower_pred'][k-1]-data_n.loc[i,'future_real'][k-1]\n"
     ]
    },
    {
     "name": "stdout",
     "output_type": "stream",
     "text": [
      "67  done\n"
     ]
    },
    {
     "name": "stderr",
     "output_type": "stream",
     "text": [
      "l:\\Coding_project\\Energy_grid_new\\notebooks\\XGBoost_helper.py:832: PerformanceWarning: DataFrame is highly fragmented.  This is usually the result of calling `frame.insert` many times, which has poor performance.  Consider joining all columns at once using pd.concat(axis=1) instead. To get a de-fragmented frame, use `newframe = frame.copy()`\n",
      "  data_n['MAE_till'+str(k)]=None\n",
      "l:\\Coding_project\\Energy_grid_new\\notebooks\\XGBoost_helper.py:838: PerformanceWarning: DataFrame is highly fragmented.  This is usually the result of calling `frame.insert` many times, which has poor performance.  Consider joining all columns at once using pd.concat(axis=1) instead. To get a de-fragmented frame, use `newframe = frame.copy()`\n",
      "  data_n.loc[i,'E_'+str(k)]=data_n.at[i,'RealPower_pred'][k-1]-data_n.loc[i,'future_real'][k-1]\n"
     ]
    },
    {
     "name": "stdout",
     "output_type": "stream",
     "text": [
      "68  done\n"
     ]
    },
    {
     "name": "stderr",
     "output_type": "stream",
     "text": [
      "l:\\Coding_project\\Energy_grid_new\\notebooks\\XGBoost_helper.py:832: PerformanceWarning: DataFrame is highly fragmented.  This is usually the result of calling `frame.insert` many times, which has poor performance.  Consider joining all columns at once using pd.concat(axis=1) instead. To get a de-fragmented frame, use `newframe = frame.copy()`\n",
      "  data_n['MAE_till'+str(k)]=None\n",
      "l:\\Coding_project\\Energy_grid_new\\notebooks\\XGBoost_helper.py:838: PerformanceWarning: DataFrame is highly fragmented.  This is usually the result of calling `frame.insert` many times, which has poor performance.  Consider joining all columns at once using pd.concat(axis=1) instead. To get a de-fragmented frame, use `newframe = frame.copy()`\n",
      "  data_n.loc[i,'E_'+str(k)]=data_n.at[i,'RealPower_pred'][k-1]-data_n.loc[i,'future_real'][k-1]\n"
     ]
    },
    {
     "name": "stdout",
     "output_type": "stream",
     "text": [
      "69  done\n"
     ]
    },
    {
     "name": "stderr",
     "output_type": "stream",
     "text": [
      "l:\\Coding_project\\Energy_grid_new\\notebooks\\XGBoost_helper.py:832: PerformanceWarning: DataFrame is highly fragmented.  This is usually the result of calling `frame.insert` many times, which has poor performance.  Consider joining all columns at once using pd.concat(axis=1) instead. To get a de-fragmented frame, use `newframe = frame.copy()`\n",
      "  data_n['MAE_till'+str(k)]=None\n",
      "l:\\Coding_project\\Energy_grid_new\\notebooks\\XGBoost_helper.py:838: PerformanceWarning: DataFrame is highly fragmented.  This is usually the result of calling `frame.insert` many times, which has poor performance.  Consider joining all columns at once using pd.concat(axis=1) instead. To get a de-fragmented frame, use `newframe = frame.copy()`\n",
      "  data_n.loc[i,'E_'+str(k)]=data_n.at[i,'RealPower_pred'][k-1]-data_n.loc[i,'future_real'][k-1]\n"
     ]
    },
    {
     "name": "stdout",
     "output_type": "stream",
     "text": [
      "70  done\n"
     ]
    },
    {
     "name": "stderr",
     "output_type": "stream",
     "text": [
      "l:\\Coding_project\\Energy_grid_new\\notebooks\\XGBoost_helper.py:832: PerformanceWarning: DataFrame is highly fragmented.  This is usually the result of calling `frame.insert` many times, which has poor performance.  Consider joining all columns at once using pd.concat(axis=1) instead. To get a de-fragmented frame, use `newframe = frame.copy()`\n",
      "  data_n['MAE_till'+str(k)]=None\n",
      "l:\\Coding_project\\Energy_grid_new\\notebooks\\XGBoost_helper.py:838: PerformanceWarning: DataFrame is highly fragmented.  This is usually the result of calling `frame.insert` many times, which has poor performance.  Consider joining all columns at once using pd.concat(axis=1) instead. To get a de-fragmented frame, use `newframe = frame.copy()`\n",
      "  data_n.loc[i,'E_'+str(k)]=data_n.at[i,'RealPower_pred'][k-1]-data_n.loc[i,'future_real'][k-1]\n"
     ]
    },
    {
     "name": "stdout",
     "output_type": "stream",
     "text": [
      "71  done\n"
     ]
    },
    {
     "name": "stderr",
     "output_type": "stream",
     "text": [
      "l:\\Coding_project\\Energy_grid_new\\notebooks\\XGBoost_helper.py:832: PerformanceWarning: DataFrame is highly fragmented.  This is usually the result of calling `frame.insert` many times, which has poor performance.  Consider joining all columns at once using pd.concat(axis=1) instead. To get a de-fragmented frame, use `newframe = frame.copy()`\n",
      "  data_n['MAE_till'+str(k)]=None\n",
      "l:\\Coding_project\\Energy_grid_new\\notebooks\\XGBoost_helper.py:838: PerformanceWarning: DataFrame is highly fragmented.  This is usually the result of calling `frame.insert` many times, which has poor performance.  Consider joining all columns at once using pd.concat(axis=1) instead. To get a de-fragmented frame, use `newframe = frame.copy()`\n",
      "  data_n.loc[i,'E_'+str(k)]=data_n.at[i,'RealPower_pred'][k-1]-data_n.loc[i,'future_real'][k-1]\n"
     ]
    },
    {
     "name": "stdout",
     "output_type": "stream",
     "text": [
      "72  done\n"
     ]
    },
    {
     "name": "stderr",
     "output_type": "stream",
     "text": [
      "l:\\Coding_project\\Energy_grid_new\\notebooks\\XGBoost_helper.py:832: PerformanceWarning: DataFrame is highly fragmented.  This is usually the result of calling `frame.insert` many times, which has poor performance.  Consider joining all columns at once using pd.concat(axis=1) instead. To get a de-fragmented frame, use `newframe = frame.copy()`\n",
      "  data_n['MAE_till'+str(k)]=None\n",
      "l:\\Coding_project\\Energy_grid_new\\notebooks\\XGBoost_helper.py:838: PerformanceWarning: DataFrame is highly fragmented.  This is usually the result of calling `frame.insert` many times, which has poor performance.  Consider joining all columns at once using pd.concat(axis=1) instead. To get a de-fragmented frame, use `newframe = frame.copy()`\n",
      "  data_n.loc[i,'E_'+str(k)]=data_n.at[i,'RealPower_pred'][k-1]-data_n.loc[i,'future_real'][k-1]\n"
     ]
    },
    {
     "name": "stdout",
     "output_type": "stream",
     "text": [
      "73  done\n"
     ]
    },
    {
     "name": "stderr",
     "output_type": "stream",
     "text": [
      "l:\\Coding_project\\Energy_grid_new\\notebooks\\XGBoost_helper.py:832: PerformanceWarning: DataFrame is highly fragmented.  This is usually the result of calling `frame.insert` many times, which has poor performance.  Consider joining all columns at once using pd.concat(axis=1) instead. To get a de-fragmented frame, use `newframe = frame.copy()`\n",
      "  data_n['MAE_till'+str(k)]=None\n",
      "l:\\Coding_project\\Energy_grid_new\\notebooks\\XGBoost_helper.py:838: PerformanceWarning: DataFrame is highly fragmented.  This is usually the result of calling `frame.insert` many times, which has poor performance.  Consider joining all columns at once using pd.concat(axis=1) instead. To get a de-fragmented frame, use `newframe = frame.copy()`\n",
      "  data_n.loc[i,'E_'+str(k)]=data_n.at[i,'RealPower_pred'][k-1]-data_n.loc[i,'future_real'][k-1]\n"
     ]
    },
    {
     "name": "stdout",
     "output_type": "stream",
     "text": [
      "74  done\n"
     ]
    },
    {
     "name": "stderr",
     "output_type": "stream",
     "text": [
      "l:\\Coding_project\\Energy_grid_new\\notebooks\\XGBoost_helper.py:832: PerformanceWarning: DataFrame is highly fragmented.  This is usually the result of calling `frame.insert` many times, which has poor performance.  Consider joining all columns at once using pd.concat(axis=1) instead. To get a de-fragmented frame, use `newframe = frame.copy()`\n",
      "  data_n['MAE_till'+str(k)]=None\n",
      "l:\\Coding_project\\Energy_grid_new\\notebooks\\XGBoost_helper.py:838: PerformanceWarning: DataFrame is highly fragmented.  This is usually the result of calling `frame.insert` many times, which has poor performance.  Consider joining all columns at once using pd.concat(axis=1) instead. To get a de-fragmented frame, use `newframe = frame.copy()`\n",
      "  data_n.loc[i,'E_'+str(k)]=data_n.at[i,'RealPower_pred'][k-1]-data_n.loc[i,'future_real'][k-1]\n"
     ]
    },
    {
     "name": "stdout",
     "output_type": "stream",
     "text": [
      "75  done\n"
     ]
    },
    {
     "name": "stderr",
     "output_type": "stream",
     "text": [
      "l:\\Coding_project\\Energy_grid_new\\notebooks\\XGBoost_helper.py:832: PerformanceWarning: DataFrame is highly fragmented.  This is usually the result of calling `frame.insert` many times, which has poor performance.  Consider joining all columns at once using pd.concat(axis=1) instead. To get a de-fragmented frame, use `newframe = frame.copy()`\n",
      "  data_n['MAE_till'+str(k)]=None\n",
      "l:\\Coding_project\\Energy_grid_new\\notebooks\\XGBoost_helper.py:838: PerformanceWarning: DataFrame is highly fragmented.  This is usually the result of calling `frame.insert` many times, which has poor performance.  Consider joining all columns at once using pd.concat(axis=1) instead. To get a de-fragmented frame, use `newframe = frame.copy()`\n",
      "  data_n.loc[i,'E_'+str(k)]=data_n.at[i,'RealPower_pred'][k-1]-data_n.loc[i,'future_real'][k-1]\n"
     ]
    },
    {
     "name": "stdout",
     "output_type": "stream",
     "text": [
      "76  done\n"
     ]
    },
    {
     "name": "stderr",
     "output_type": "stream",
     "text": [
      "l:\\Coding_project\\Energy_grid_new\\notebooks\\XGBoost_helper.py:832: PerformanceWarning: DataFrame is highly fragmented.  This is usually the result of calling `frame.insert` many times, which has poor performance.  Consider joining all columns at once using pd.concat(axis=1) instead. To get a de-fragmented frame, use `newframe = frame.copy()`\n",
      "  data_n['MAE_till'+str(k)]=None\n",
      "l:\\Coding_project\\Energy_grid_new\\notebooks\\XGBoost_helper.py:838: PerformanceWarning: DataFrame is highly fragmented.  This is usually the result of calling `frame.insert` many times, which has poor performance.  Consider joining all columns at once using pd.concat(axis=1) instead. To get a de-fragmented frame, use `newframe = frame.copy()`\n",
      "  data_n.loc[i,'E_'+str(k)]=data_n.at[i,'RealPower_pred'][k-1]-data_n.loc[i,'future_real'][k-1]\n"
     ]
    },
    {
     "name": "stdout",
     "output_type": "stream",
     "text": [
      "77  done\n"
     ]
    },
    {
     "name": "stderr",
     "output_type": "stream",
     "text": [
      "l:\\Coding_project\\Energy_grid_new\\notebooks\\XGBoost_helper.py:832: PerformanceWarning: DataFrame is highly fragmented.  This is usually the result of calling `frame.insert` many times, which has poor performance.  Consider joining all columns at once using pd.concat(axis=1) instead. To get a de-fragmented frame, use `newframe = frame.copy()`\n",
      "  data_n['MAE_till'+str(k)]=None\n",
      "l:\\Coding_project\\Energy_grid_new\\notebooks\\XGBoost_helper.py:838: PerformanceWarning: DataFrame is highly fragmented.  This is usually the result of calling `frame.insert` many times, which has poor performance.  Consider joining all columns at once using pd.concat(axis=1) instead. To get a de-fragmented frame, use `newframe = frame.copy()`\n",
      "  data_n.loc[i,'E_'+str(k)]=data_n.at[i,'RealPower_pred'][k-1]-data_n.loc[i,'future_real'][k-1]\n"
     ]
    },
    {
     "name": "stdout",
     "output_type": "stream",
     "text": [
      "78  done\n"
     ]
    },
    {
     "name": "stderr",
     "output_type": "stream",
     "text": [
      "l:\\Coding_project\\Energy_grid_new\\notebooks\\XGBoost_helper.py:832: PerformanceWarning: DataFrame is highly fragmented.  This is usually the result of calling `frame.insert` many times, which has poor performance.  Consider joining all columns at once using pd.concat(axis=1) instead. To get a de-fragmented frame, use `newframe = frame.copy()`\n",
      "  data_n['MAE_till'+str(k)]=None\n",
      "l:\\Coding_project\\Energy_grid_new\\notebooks\\XGBoost_helper.py:838: PerformanceWarning: DataFrame is highly fragmented.  This is usually the result of calling `frame.insert` many times, which has poor performance.  Consider joining all columns at once using pd.concat(axis=1) instead. To get a de-fragmented frame, use `newframe = frame.copy()`\n",
      "  data_n.loc[i,'E_'+str(k)]=data_n.at[i,'RealPower_pred'][k-1]-data_n.loc[i,'future_real'][k-1]\n"
     ]
    },
    {
     "name": "stdout",
     "output_type": "stream",
     "text": [
      "79  done\n"
     ]
    },
    {
     "name": "stderr",
     "output_type": "stream",
     "text": [
      "l:\\Coding_project\\Energy_grid_new\\notebooks\\XGBoost_helper.py:832: PerformanceWarning: DataFrame is highly fragmented.  This is usually the result of calling `frame.insert` many times, which has poor performance.  Consider joining all columns at once using pd.concat(axis=1) instead. To get a de-fragmented frame, use `newframe = frame.copy()`\n",
      "  data_n['MAE_till'+str(k)]=None\n",
      "l:\\Coding_project\\Energy_grid_new\\notebooks\\XGBoost_helper.py:838: PerformanceWarning: DataFrame is highly fragmented.  This is usually the result of calling `frame.insert` many times, which has poor performance.  Consider joining all columns at once using pd.concat(axis=1) instead. To get a de-fragmented frame, use `newframe = frame.copy()`\n",
      "  data_n.loc[i,'E_'+str(k)]=data_n.at[i,'RealPower_pred'][k-1]-data_n.loc[i,'future_real'][k-1]\n"
     ]
    },
    {
     "name": "stdout",
     "output_type": "stream",
     "text": [
      "80  done\n"
     ]
    },
    {
     "name": "stderr",
     "output_type": "stream",
     "text": [
      "l:\\Coding_project\\Energy_grid_new\\notebooks\\XGBoost_helper.py:832: PerformanceWarning: DataFrame is highly fragmented.  This is usually the result of calling `frame.insert` many times, which has poor performance.  Consider joining all columns at once using pd.concat(axis=1) instead. To get a de-fragmented frame, use `newframe = frame.copy()`\n",
      "  data_n['MAE_till'+str(k)]=None\n",
      "l:\\Coding_project\\Energy_grid_new\\notebooks\\XGBoost_helper.py:838: PerformanceWarning: DataFrame is highly fragmented.  This is usually the result of calling `frame.insert` many times, which has poor performance.  Consider joining all columns at once using pd.concat(axis=1) instead. To get a de-fragmented frame, use `newframe = frame.copy()`\n",
      "  data_n.loc[i,'E_'+str(k)]=data_n.at[i,'RealPower_pred'][k-1]-data_n.loc[i,'future_real'][k-1]\n"
     ]
    },
    {
     "name": "stdout",
     "output_type": "stream",
     "text": [
      "81  done\n"
     ]
    },
    {
     "name": "stderr",
     "output_type": "stream",
     "text": [
      "l:\\Coding_project\\Energy_grid_new\\notebooks\\XGBoost_helper.py:832: PerformanceWarning: DataFrame is highly fragmented.  This is usually the result of calling `frame.insert` many times, which has poor performance.  Consider joining all columns at once using pd.concat(axis=1) instead. To get a de-fragmented frame, use `newframe = frame.copy()`\n",
      "  data_n['MAE_till'+str(k)]=None\n",
      "l:\\Coding_project\\Energy_grid_new\\notebooks\\XGBoost_helper.py:838: PerformanceWarning: DataFrame is highly fragmented.  This is usually the result of calling `frame.insert` many times, which has poor performance.  Consider joining all columns at once using pd.concat(axis=1) instead. To get a de-fragmented frame, use `newframe = frame.copy()`\n",
      "  data_n.loc[i,'E_'+str(k)]=data_n.at[i,'RealPower_pred'][k-1]-data_n.loc[i,'future_real'][k-1]\n"
     ]
    },
    {
     "name": "stdout",
     "output_type": "stream",
     "text": [
      "82  done\n"
     ]
    },
    {
     "name": "stderr",
     "output_type": "stream",
     "text": [
      "l:\\Coding_project\\Energy_grid_new\\notebooks\\XGBoost_helper.py:832: PerformanceWarning: DataFrame is highly fragmented.  This is usually the result of calling `frame.insert` many times, which has poor performance.  Consider joining all columns at once using pd.concat(axis=1) instead. To get a de-fragmented frame, use `newframe = frame.copy()`\n",
      "  data_n['MAE_till'+str(k)]=None\n",
      "l:\\Coding_project\\Energy_grid_new\\notebooks\\XGBoost_helper.py:838: PerformanceWarning: DataFrame is highly fragmented.  This is usually the result of calling `frame.insert` many times, which has poor performance.  Consider joining all columns at once using pd.concat(axis=1) instead. To get a de-fragmented frame, use `newframe = frame.copy()`\n",
      "  data_n.loc[i,'E_'+str(k)]=data_n.at[i,'RealPower_pred'][k-1]-data_n.loc[i,'future_real'][k-1]\n"
     ]
    },
    {
     "name": "stdout",
     "output_type": "stream",
     "text": [
      "83  done\n"
     ]
    },
    {
     "name": "stderr",
     "output_type": "stream",
     "text": [
      "l:\\Coding_project\\Energy_grid_new\\notebooks\\XGBoost_helper.py:832: PerformanceWarning: DataFrame is highly fragmented.  This is usually the result of calling `frame.insert` many times, which has poor performance.  Consider joining all columns at once using pd.concat(axis=1) instead. To get a de-fragmented frame, use `newframe = frame.copy()`\n",
      "  data_n['MAE_till'+str(k)]=None\n",
      "l:\\Coding_project\\Energy_grid_new\\notebooks\\XGBoost_helper.py:838: PerformanceWarning: DataFrame is highly fragmented.  This is usually the result of calling `frame.insert` many times, which has poor performance.  Consider joining all columns at once using pd.concat(axis=1) instead. To get a de-fragmented frame, use `newframe = frame.copy()`\n",
      "  data_n.loc[i,'E_'+str(k)]=data_n.at[i,'RealPower_pred'][k-1]-data_n.loc[i,'future_real'][k-1]\n"
     ]
    },
    {
     "name": "stdout",
     "output_type": "stream",
     "text": [
      "84  done\n"
     ]
    },
    {
     "name": "stderr",
     "output_type": "stream",
     "text": [
      "l:\\Coding_project\\Energy_grid_new\\notebooks\\XGBoost_helper.py:832: PerformanceWarning: DataFrame is highly fragmented.  This is usually the result of calling `frame.insert` many times, which has poor performance.  Consider joining all columns at once using pd.concat(axis=1) instead. To get a de-fragmented frame, use `newframe = frame.copy()`\n",
      "  data_n['MAE_till'+str(k)]=None\n",
      "l:\\Coding_project\\Energy_grid_new\\notebooks\\XGBoost_helper.py:838: PerformanceWarning: DataFrame is highly fragmented.  This is usually the result of calling `frame.insert` many times, which has poor performance.  Consider joining all columns at once using pd.concat(axis=1) instead. To get a de-fragmented frame, use `newframe = frame.copy()`\n",
      "  data_n.loc[i,'E_'+str(k)]=data_n.at[i,'RealPower_pred'][k-1]-data_n.loc[i,'future_real'][k-1]\n"
     ]
    },
    {
     "name": "stdout",
     "output_type": "stream",
     "text": [
      "85  done\n"
     ]
    },
    {
     "name": "stderr",
     "output_type": "stream",
     "text": [
      "l:\\Coding_project\\Energy_grid_new\\notebooks\\XGBoost_helper.py:832: PerformanceWarning: DataFrame is highly fragmented.  This is usually the result of calling `frame.insert` many times, which has poor performance.  Consider joining all columns at once using pd.concat(axis=1) instead. To get a de-fragmented frame, use `newframe = frame.copy()`\n",
      "  data_n['MAE_till'+str(k)]=None\n",
      "l:\\Coding_project\\Energy_grid_new\\notebooks\\XGBoost_helper.py:838: PerformanceWarning: DataFrame is highly fragmented.  This is usually the result of calling `frame.insert` many times, which has poor performance.  Consider joining all columns at once using pd.concat(axis=1) instead. To get a de-fragmented frame, use `newframe = frame.copy()`\n",
      "  data_n.loc[i,'E_'+str(k)]=data_n.at[i,'RealPower_pred'][k-1]-data_n.loc[i,'future_real'][k-1]\n"
     ]
    },
    {
     "name": "stdout",
     "output_type": "stream",
     "text": [
      "86  done\n"
     ]
    },
    {
     "name": "stderr",
     "output_type": "stream",
     "text": [
      "l:\\Coding_project\\Energy_grid_new\\notebooks\\XGBoost_helper.py:832: PerformanceWarning: DataFrame is highly fragmented.  This is usually the result of calling `frame.insert` many times, which has poor performance.  Consider joining all columns at once using pd.concat(axis=1) instead. To get a de-fragmented frame, use `newframe = frame.copy()`\n",
      "  data_n['MAE_till'+str(k)]=None\n",
      "l:\\Coding_project\\Energy_grid_new\\notebooks\\XGBoost_helper.py:838: PerformanceWarning: DataFrame is highly fragmented.  This is usually the result of calling `frame.insert` many times, which has poor performance.  Consider joining all columns at once using pd.concat(axis=1) instead. To get a de-fragmented frame, use `newframe = frame.copy()`\n",
      "  data_n.loc[i,'E_'+str(k)]=data_n.at[i,'RealPower_pred'][k-1]-data_n.loc[i,'future_real'][k-1]\n"
     ]
    },
    {
     "name": "stdout",
     "output_type": "stream",
     "text": [
      "87  done\n"
     ]
    },
    {
     "name": "stderr",
     "output_type": "stream",
     "text": [
      "l:\\Coding_project\\Energy_grid_new\\notebooks\\XGBoost_helper.py:832: PerformanceWarning: DataFrame is highly fragmented.  This is usually the result of calling `frame.insert` many times, which has poor performance.  Consider joining all columns at once using pd.concat(axis=1) instead. To get a de-fragmented frame, use `newframe = frame.copy()`\n",
      "  data_n['MAE_till'+str(k)]=None\n",
      "l:\\Coding_project\\Energy_grid_new\\notebooks\\XGBoost_helper.py:838: PerformanceWarning: DataFrame is highly fragmented.  This is usually the result of calling `frame.insert` many times, which has poor performance.  Consider joining all columns at once using pd.concat(axis=1) instead. To get a de-fragmented frame, use `newframe = frame.copy()`\n",
      "  data_n.loc[i,'E_'+str(k)]=data_n.at[i,'RealPower_pred'][k-1]-data_n.loc[i,'future_real'][k-1]\n"
     ]
    },
    {
     "name": "stdout",
     "output_type": "stream",
     "text": [
      "88  done\n"
     ]
    },
    {
     "name": "stderr",
     "output_type": "stream",
     "text": [
      "l:\\Coding_project\\Energy_grid_new\\notebooks\\XGBoost_helper.py:832: PerformanceWarning: DataFrame is highly fragmented.  This is usually the result of calling `frame.insert` many times, which has poor performance.  Consider joining all columns at once using pd.concat(axis=1) instead. To get a de-fragmented frame, use `newframe = frame.copy()`\n",
      "  data_n['MAE_till'+str(k)]=None\n",
      "l:\\Coding_project\\Energy_grid_new\\notebooks\\XGBoost_helper.py:838: PerformanceWarning: DataFrame is highly fragmented.  This is usually the result of calling `frame.insert` many times, which has poor performance.  Consider joining all columns at once using pd.concat(axis=1) instead. To get a de-fragmented frame, use `newframe = frame.copy()`\n",
      "  data_n.loc[i,'E_'+str(k)]=data_n.at[i,'RealPower_pred'][k-1]-data_n.loc[i,'future_real'][k-1]\n"
     ]
    },
    {
     "name": "stdout",
     "output_type": "stream",
     "text": [
      "89  done\n"
     ]
    },
    {
     "name": "stderr",
     "output_type": "stream",
     "text": [
      "l:\\Coding_project\\Energy_grid_new\\notebooks\\XGBoost_helper.py:832: PerformanceWarning: DataFrame is highly fragmented.  This is usually the result of calling `frame.insert` many times, which has poor performance.  Consider joining all columns at once using pd.concat(axis=1) instead. To get a de-fragmented frame, use `newframe = frame.copy()`\n",
      "  data_n['MAE_till'+str(k)]=None\n",
      "l:\\Coding_project\\Energy_grid_new\\notebooks\\XGBoost_helper.py:838: PerformanceWarning: DataFrame is highly fragmented.  This is usually the result of calling `frame.insert` many times, which has poor performance.  Consider joining all columns at once using pd.concat(axis=1) instead. To get a de-fragmented frame, use `newframe = frame.copy()`\n",
      "  data_n.loc[i,'E_'+str(k)]=data_n.at[i,'RealPower_pred'][k-1]-data_n.loc[i,'future_real'][k-1]\n"
     ]
    },
    {
     "name": "stdout",
     "output_type": "stream",
     "text": [
      "90  done\n"
     ]
    },
    {
     "name": "stderr",
     "output_type": "stream",
     "text": [
      "l:\\Coding_project\\Energy_grid_new\\notebooks\\XGBoost_helper.py:832: PerformanceWarning: DataFrame is highly fragmented.  This is usually the result of calling `frame.insert` many times, which has poor performance.  Consider joining all columns at once using pd.concat(axis=1) instead. To get a de-fragmented frame, use `newframe = frame.copy()`\n",
      "  data_n['MAE_till'+str(k)]=None\n",
      "l:\\Coding_project\\Energy_grid_new\\notebooks\\XGBoost_helper.py:838: PerformanceWarning: DataFrame is highly fragmented.  This is usually the result of calling `frame.insert` many times, which has poor performance.  Consider joining all columns at once using pd.concat(axis=1) instead. To get a de-fragmented frame, use `newframe = frame.copy()`\n",
      "  data_n.loc[i,'E_'+str(k)]=data_n.at[i,'RealPower_pred'][k-1]-data_n.loc[i,'future_real'][k-1]\n"
     ]
    },
    {
     "name": "stdout",
     "output_type": "stream",
     "text": [
      "91  done\n"
     ]
    },
    {
     "name": "stderr",
     "output_type": "stream",
     "text": [
      "l:\\Coding_project\\Energy_grid_new\\notebooks\\XGBoost_helper.py:832: PerformanceWarning: DataFrame is highly fragmented.  This is usually the result of calling `frame.insert` many times, which has poor performance.  Consider joining all columns at once using pd.concat(axis=1) instead. To get a de-fragmented frame, use `newframe = frame.copy()`\n",
      "  data_n['MAE_till'+str(k)]=None\n",
      "l:\\Coding_project\\Energy_grid_new\\notebooks\\XGBoost_helper.py:838: PerformanceWarning: DataFrame is highly fragmented.  This is usually the result of calling `frame.insert` many times, which has poor performance.  Consider joining all columns at once using pd.concat(axis=1) instead. To get a de-fragmented frame, use `newframe = frame.copy()`\n",
      "  data_n.loc[i,'E_'+str(k)]=data_n.at[i,'RealPower_pred'][k-1]-data_n.loc[i,'future_real'][k-1]\n"
     ]
    },
    {
     "name": "stdout",
     "output_type": "stream",
     "text": [
      "92  done\n"
     ]
    },
    {
     "name": "stderr",
     "output_type": "stream",
     "text": [
      "l:\\Coding_project\\Energy_grid_new\\notebooks\\XGBoost_helper.py:832: PerformanceWarning: DataFrame is highly fragmented.  This is usually the result of calling `frame.insert` many times, which has poor performance.  Consider joining all columns at once using pd.concat(axis=1) instead. To get a de-fragmented frame, use `newframe = frame.copy()`\n",
      "  data_n['MAE_till'+str(k)]=None\n",
      "l:\\Coding_project\\Energy_grid_new\\notebooks\\XGBoost_helper.py:838: PerformanceWarning: DataFrame is highly fragmented.  This is usually the result of calling `frame.insert` many times, which has poor performance.  Consider joining all columns at once using pd.concat(axis=1) instead. To get a de-fragmented frame, use `newframe = frame.copy()`\n",
      "  data_n.loc[i,'E_'+str(k)]=data_n.at[i,'RealPower_pred'][k-1]-data_n.loc[i,'future_real'][k-1]\n"
     ]
    },
    {
     "name": "stdout",
     "output_type": "stream",
     "text": [
      "93  done\n"
     ]
    },
    {
     "name": "stderr",
     "output_type": "stream",
     "text": [
      "l:\\Coding_project\\Energy_grid_new\\notebooks\\XGBoost_helper.py:832: PerformanceWarning: DataFrame is highly fragmented.  This is usually the result of calling `frame.insert` many times, which has poor performance.  Consider joining all columns at once using pd.concat(axis=1) instead. To get a de-fragmented frame, use `newframe = frame.copy()`\n",
      "  data_n['MAE_till'+str(k)]=None\n",
      "l:\\Coding_project\\Energy_grid_new\\notebooks\\XGBoost_helper.py:838: PerformanceWarning: DataFrame is highly fragmented.  This is usually the result of calling `frame.insert` many times, which has poor performance.  Consider joining all columns at once using pd.concat(axis=1) instead. To get a de-fragmented frame, use `newframe = frame.copy()`\n",
      "  data_n.loc[i,'E_'+str(k)]=data_n.at[i,'RealPower_pred'][k-1]-data_n.loc[i,'future_real'][k-1]\n"
     ]
    },
    {
     "name": "stdout",
     "output_type": "stream",
     "text": [
      "94  done\n"
     ]
    },
    {
     "name": "stderr",
     "output_type": "stream",
     "text": [
      "l:\\Coding_project\\Energy_grid_new\\notebooks\\XGBoost_helper.py:832: PerformanceWarning: DataFrame is highly fragmented.  This is usually the result of calling `frame.insert` many times, which has poor performance.  Consider joining all columns at once using pd.concat(axis=1) instead. To get a de-fragmented frame, use `newframe = frame.copy()`\n",
      "  data_n['MAE_till'+str(k)]=None\n",
      "l:\\Coding_project\\Energy_grid_new\\notebooks\\XGBoost_helper.py:838: PerformanceWarning: DataFrame is highly fragmented.  This is usually the result of calling `frame.insert` many times, which has poor performance.  Consider joining all columns at once using pd.concat(axis=1) instead. To get a de-fragmented frame, use `newframe = frame.copy()`\n",
      "  data_n.loc[i,'E_'+str(k)]=data_n.at[i,'RealPower_pred'][k-1]-data_n.loc[i,'future_real'][k-1]\n"
     ]
    },
    {
     "name": "stdout",
     "output_type": "stream",
     "text": [
      "95  done\n"
     ]
    },
    {
     "name": "stderr",
     "output_type": "stream",
     "text": [
      "l:\\Coding_project\\Energy_grid_new\\notebooks\\XGBoost_helper.py:832: PerformanceWarning: DataFrame is highly fragmented.  This is usually the result of calling `frame.insert` many times, which has poor performance.  Consider joining all columns at once using pd.concat(axis=1) instead. To get a de-fragmented frame, use `newframe = frame.copy()`\n",
      "  data_n['MAE_till'+str(k)]=None\n",
      "l:\\Coding_project\\Energy_grid_new\\notebooks\\XGBoost_helper.py:838: PerformanceWarning: DataFrame is highly fragmented.  This is usually the result of calling `frame.insert` many times, which has poor performance.  Consider joining all columns at once using pd.concat(axis=1) instead. To get a de-fragmented frame, use `newframe = frame.copy()`\n",
      "  data_n.loc[i,'E_'+str(k)]=data_n.at[i,'RealPower_pred'][k-1]-data_n.loc[i,'future_real'][k-1]\n"
     ]
    },
    {
     "name": "stdout",
     "output_type": "stream",
     "text": [
      "96  done\n",
      "# calculate historical average of all index in prediction duartion\n",
      "# calculate pred for each step\n",
      "1  done\n",
      "2  done\n",
      "3  done\n",
      "4  done\n",
      "5  done\n",
      "6  done\n",
      "7  done\n",
      "8  done\n",
      "9  done\n",
      "10  done\n",
      "11  done\n",
      "12  done\n",
      "13  done\n",
      "14  done\n",
      "15  done\n",
      "16  done\n",
      "17  done\n",
      "18  done\n",
      "19  done\n",
      "20  done\n",
      "21  done\n",
      "22  done\n",
      "23  done\n",
      "24  done\n",
      "25  done\n",
      "26  done\n",
      "27  done\n",
      "28  done\n",
      "29  done\n",
      "30  done\n",
      "31  done\n",
      "32  done\n",
      "33  done\n",
      "34  done\n",
      "35  done\n",
      "36  done\n",
      "37  done\n",
      "38  done\n",
      "39  done\n",
      "40  done\n",
      "41  done\n",
      "42  done\n",
      "43  done\n",
      "44  done\n",
      "45  done\n",
      "46  done\n",
      "47  done\n",
      "48  done\n",
      "49  done\n"
     ]
    },
    {
     "name": "stderr",
     "output_type": "stream",
     "text": [
      "l:\\Coding_project\\Energy_grid_new\\notebooks\\XGBoost_helper.py:832: PerformanceWarning: DataFrame is highly fragmented.  This is usually the result of calling `frame.insert` many times, which has poor performance.  Consider joining all columns at once using pd.concat(axis=1) instead. To get a de-fragmented frame, use `newframe = frame.copy()`\n",
      "  data_n['MAE_till'+str(k)]=None\n",
      "l:\\Coding_project\\Energy_grid_new\\notebooks\\XGBoost_helper.py:838: PerformanceWarning: DataFrame is highly fragmented.  This is usually the result of calling `frame.insert` many times, which has poor performance.  Consider joining all columns at once using pd.concat(axis=1) instead. To get a de-fragmented frame, use `newframe = frame.copy()`\n",
      "  data_n.loc[i,'E_'+str(k)]=data_n.at[i,'RealPower_pred'][k-1]-data_n.loc[i,'future_real'][k-1]\n"
     ]
    },
    {
     "name": "stdout",
     "output_type": "stream",
     "text": [
      "50  done\n"
     ]
    },
    {
     "name": "stderr",
     "output_type": "stream",
     "text": [
      "l:\\Coding_project\\Energy_grid_new\\notebooks\\XGBoost_helper.py:832: PerformanceWarning: DataFrame is highly fragmented.  This is usually the result of calling `frame.insert` many times, which has poor performance.  Consider joining all columns at once using pd.concat(axis=1) instead. To get a de-fragmented frame, use `newframe = frame.copy()`\n",
      "  data_n['MAE_till'+str(k)]=None\n",
      "l:\\Coding_project\\Energy_grid_new\\notebooks\\XGBoost_helper.py:838: PerformanceWarning: DataFrame is highly fragmented.  This is usually the result of calling `frame.insert` many times, which has poor performance.  Consider joining all columns at once using pd.concat(axis=1) instead. To get a de-fragmented frame, use `newframe = frame.copy()`\n",
      "  data_n.loc[i,'E_'+str(k)]=data_n.at[i,'RealPower_pred'][k-1]-data_n.loc[i,'future_real'][k-1]\n"
     ]
    },
    {
     "name": "stdout",
     "output_type": "stream",
     "text": [
      "51  done\n"
     ]
    },
    {
     "name": "stderr",
     "output_type": "stream",
     "text": [
      "l:\\Coding_project\\Energy_grid_new\\notebooks\\XGBoost_helper.py:832: PerformanceWarning: DataFrame is highly fragmented.  This is usually the result of calling `frame.insert` many times, which has poor performance.  Consider joining all columns at once using pd.concat(axis=1) instead. To get a de-fragmented frame, use `newframe = frame.copy()`\n",
      "  data_n['MAE_till'+str(k)]=None\n",
      "l:\\Coding_project\\Energy_grid_new\\notebooks\\XGBoost_helper.py:838: PerformanceWarning: DataFrame is highly fragmented.  This is usually the result of calling `frame.insert` many times, which has poor performance.  Consider joining all columns at once using pd.concat(axis=1) instead. To get a de-fragmented frame, use `newframe = frame.copy()`\n",
      "  data_n.loc[i,'E_'+str(k)]=data_n.at[i,'RealPower_pred'][k-1]-data_n.loc[i,'future_real'][k-1]\n"
     ]
    },
    {
     "name": "stdout",
     "output_type": "stream",
     "text": [
      "52  done\n"
     ]
    },
    {
     "name": "stderr",
     "output_type": "stream",
     "text": [
      "l:\\Coding_project\\Energy_grid_new\\notebooks\\XGBoost_helper.py:832: PerformanceWarning: DataFrame is highly fragmented.  This is usually the result of calling `frame.insert` many times, which has poor performance.  Consider joining all columns at once using pd.concat(axis=1) instead. To get a de-fragmented frame, use `newframe = frame.copy()`\n",
      "  data_n['MAE_till'+str(k)]=None\n",
      "l:\\Coding_project\\Energy_grid_new\\notebooks\\XGBoost_helper.py:838: PerformanceWarning: DataFrame is highly fragmented.  This is usually the result of calling `frame.insert` many times, which has poor performance.  Consider joining all columns at once using pd.concat(axis=1) instead. To get a de-fragmented frame, use `newframe = frame.copy()`\n",
      "  data_n.loc[i,'E_'+str(k)]=data_n.at[i,'RealPower_pred'][k-1]-data_n.loc[i,'future_real'][k-1]\n"
     ]
    },
    {
     "name": "stdout",
     "output_type": "stream",
     "text": [
      "53  done\n"
     ]
    },
    {
     "name": "stderr",
     "output_type": "stream",
     "text": [
      "l:\\Coding_project\\Energy_grid_new\\notebooks\\XGBoost_helper.py:832: PerformanceWarning: DataFrame is highly fragmented.  This is usually the result of calling `frame.insert` many times, which has poor performance.  Consider joining all columns at once using pd.concat(axis=1) instead. To get a de-fragmented frame, use `newframe = frame.copy()`\n",
      "  data_n['MAE_till'+str(k)]=None\n",
      "l:\\Coding_project\\Energy_grid_new\\notebooks\\XGBoost_helper.py:838: PerformanceWarning: DataFrame is highly fragmented.  This is usually the result of calling `frame.insert` many times, which has poor performance.  Consider joining all columns at once using pd.concat(axis=1) instead. To get a de-fragmented frame, use `newframe = frame.copy()`\n",
      "  data_n.loc[i,'E_'+str(k)]=data_n.at[i,'RealPower_pred'][k-1]-data_n.loc[i,'future_real'][k-1]\n"
     ]
    },
    {
     "name": "stdout",
     "output_type": "stream",
     "text": [
      "54  done\n"
     ]
    },
    {
     "name": "stderr",
     "output_type": "stream",
     "text": [
      "l:\\Coding_project\\Energy_grid_new\\notebooks\\XGBoost_helper.py:832: PerformanceWarning: DataFrame is highly fragmented.  This is usually the result of calling `frame.insert` many times, which has poor performance.  Consider joining all columns at once using pd.concat(axis=1) instead. To get a de-fragmented frame, use `newframe = frame.copy()`\n",
      "  data_n['MAE_till'+str(k)]=None\n",
      "l:\\Coding_project\\Energy_grid_new\\notebooks\\XGBoost_helper.py:838: PerformanceWarning: DataFrame is highly fragmented.  This is usually the result of calling `frame.insert` many times, which has poor performance.  Consider joining all columns at once using pd.concat(axis=1) instead. To get a de-fragmented frame, use `newframe = frame.copy()`\n",
      "  data_n.loc[i,'E_'+str(k)]=data_n.at[i,'RealPower_pred'][k-1]-data_n.loc[i,'future_real'][k-1]\n"
     ]
    },
    {
     "name": "stdout",
     "output_type": "stream",
     "text": [
      "55  done\n"
     ]
    },
    {
     "name": "stderr",
     "output_type": "stream",
     "text": [
      "l:\\Coding_project\\Energy_grid_new\\notebooks\\XGBoost_helper.py:832: PerformanceWarning: DataFrame is highly fragmented.  This is usually the result of calling `frame.insert` many times, which has poor performance.  Consider joining all columns at once using pd.concat(axis=1) instead. To get a de-fragmented frame, use `newframe = frame.copy()`\n",
      "  data_n['MAE_till'+str(k)]=None\n",
      "l:\\Coding_project\\Energy_grid_new\\notebooks\\XGBoost_helper.py:838: PerformanceWarning: DataFrame is highly fragmented.  This is usually the result of calling `frame.insert` many times, which has poor performance.  Consider joining all columns at once using pd.concat(axis=1) instead. To get a de-fragmented frame, use `newframe = frame.copy()`\n",
      "  data_n.loc[i,'E_'+str(k)]=data_n.at[i,'RealPower_pred'][k-1]-data_n.loc[i,'future_real'][k-1]\n"
     ]
    },
    {
     "name": "stdout",
     "output_type": "stream",
     "text": [
      "56  done\n"
     ]
    },
    {
     "name": "stderr",
     "output_type": "stream",
     "text": [
      "l:\\Coding_project\\Energy_grid_new\\notebooks\\XGBoost_helper.py:832: PerformanceWarning: DataFrame is highly fragmented.  This is usually the result of calling `frame.insert` many times, which has poor performance.  Consider joining all columns at once using pd.concat(axis=1) instead. To get a de-fragmented frame, use `newframe = frame.copy()`\n",
      "  data_n['MAE_till'+str(k)]=None\n",
      "l:\\Coding_project\\Energy_grid_new\\notebooks\\XGBoost_helper.py:838: PerformanceWarning: DataFrame is highly fragmented.  This is usually the result of calling `frame.insert` many times, which has poor performance.  Consider joining all columns at once using pd.concat(axis=1) instead. To get a de-fragmented frame, use `newframe = frame.copy()`\n",
      "  data_n.loc[i,'E_'+str(k)]=data_n.at[i,'RealPower_pred'][k-1]-data_n.loc[i,'future_real'][k-1]\n"
     ]
    },
    {
     "name": "stdout",
     "output_type": "stream",
     "text": [
      "57  done\n"
     ]
    },
    {
     "name": "stderr",
     "output_type": "stream",
     "text": [
      "l:\\Coding_project\\Energy_grid_new\\notebooks\\XGBoost_helper.py:832: PerformanceWarning: DataFrame is highly fragmented.  This is usually the result of calling `frame.insert` many times, which has poor performance.  Consider joining all columns at once using pd.concat(axis=1) instead. To get a de-fragmented frame, use `newframe = frame.copy()`\n",
      "  data_n['MAE_till'+str(k)]=None\n",
      "l:\\Coding_project\\Energy_grid_new\\notebooks\\XGBoost_helper.py:838: PerformanceWarning: DataFrame is highly fragmented.  This is usually the result of calling `frame.insert` many times, which has poor performance.  Consider joining all columns at once using pd.concat(axis=1) instead. To get a de-fragmented frame, use `newframe = frame.copy()`\n",
      "  data_n.loc[i,'E_'+str(k)]=data_n.at[i,'RealPower_pred'][k-1]-data_n.loc[i,'future_real'][k-1]\n"
     ]
    },
    {
     "name": "stdout",
     "output_type": "stream",
     "text": [
      "58  done\n"
     ]
    },
    {
     "name": "stderr",
     "output_type": "stream",
     "text": [
      "l:\\Coding_project\\Energy_grid_new\\notebooks\\XGBoost_helper.py:832: PerformanceWarning: DataFrame is highly fragmented.  This is usually the result of calling `frame.insert` many times, which has poor performance.  Consider joining all columns at once using pd.concat(axis=1) instead. To get a de-fragmented frame, use `newframe = frame.copy()`\n",
      "  data_n['MAE_till'+str(k)]=None\n",
      "l:\\Coding_project\\Energy_grid_new\\notebooks\\XGBoost_helper.py:838: PerformanceWarning: DataFrame is highly fragmented.  This is usually the result of calling `frame.insert` many times, which has poor performance.  Consider joining all columns at once using pd.concat(axis=1) instead. To get a de-fragmented frame, use `newframe = frame.copy()`\n",
      "  data_n.loc[i,'E_'+str(k)]=data_n.at[i,'RealPower_pred'][k-1]-data_n.loc[i,'future_real'][k-1]\n"
     ]
    },
    {
     "name": "stdout",
     "output_type": "stream",
     "text": [
      "59  done\n"
     ]
    },
    {
     "name": "stderr",
     "output_type": "stream",
     "text": [
      "l:\\Coding_project\\Energy_grid_new\\notebooks\\XGBoost_helper.py:832: PerformanceWarning: DataFrame is highly fragmented.  This is usually the result of calling `frame.insert` many times, which has poor performance.  Consider joining all columns at once using pd.concat(axis=1) instead. To get a de-fragmented frame, use `newframe = frame.copy()`\n",
      "  data_n['MAE_till'+str(k)]=None\n",
      "l:\\Coding_project\\Energy_grid_new\\notebooks\\XGBoost_helper.py:838: PerformanceWarning: DataFrame is highly fragmented.  This is usually the result of calling `frame.insert` many times, which has poor performance.  Consider joining all columns at once using pd.concat(axis=1) instead. To get a de-fragmented frame, use `newframe = frame.copy()`\n",
      "  data_n.loc[i,'E_'+str(k)]=data_n.at[i,'RealPower_pred'][k-1]-data_n.loc[i,'future_real'][k-1]\n"
     ]
    },
    {
     "name": "stdout",
     "output_type": "stream",
     "text": [
      "60  done\n"
     ]
    },
    {
     "name": "stderr",
     "output_type": "stream",
     "text": [
      "l:\\Coding_project\\Energy_grid_new\\notebooks\\XGBoost_helper.py:832: PerformanceWarning: DataFrame is highly fragmented.  This is usually the result of calling `frame.insert` many times, which has poor performance.  Consider joining all columns at once using pd.concat(axis=1) instead. To get a de-fragmented frame, use `newframe = frame.copy()`\n",
      "  data_n['MAE_till'+str(k)]=None\n",
      "l:\\Coding_project\\Energy_grid_new\\notebooks\\XGBoost_helper.py:838: PerformanceWarning: DataFrame is highly fragmented.  This is usually the result of calling `frame.insert` many times, which has poor performance.  Consider joining all columns at once using pd.concat(axis=1) instead. To get a de-fragmented frame, use `newframe = frame.copy()`\n",
      "  data_n.loc[i,'E_'+str(k)]=data_n.at[i,'RealPower_pred'][k-1]-data_n.loc[i,'future_real'][k-1]\n"
     ]
    },
    {
     "name": "stdout",
     "output_type": "stream",
     "text": [
      "61  done\n"
     ]
    },
    {
     "name": "stderr",
     "output_type": "stream",
     "text": [
      "l:\\Coding_project\\Energy_grid_new\\notebooks\\XGBoost_helper.py:832: PerformanceWarning: DataFrame is highly fragmented.  This is usually the result of calling `frame.insert` many times, which has poor performance.  Consider joining all columns at once using pd.concat(axis=1) instead. To get a de-fragmented frame, use `newframe = frame.copy()`\n",
      "  data_n['MAE_till'+str(k)]=None\n",
      "l:\\Coding_project\\Energy_grid_new\\notebooks\\XGBoost_helper.py:838: PerformanceWarning: DataFrame is highly fragmented.  This is usually the result of calling `frame.insert` many times, which has poor performance.  Consider joining all columns at once using pd.concat(axis=1) instead. To get a de-fragmented frame, use `newframe = frame.copy()`\n",
      "  data_n.loc[i,'E_'+str(k)]=data_n.at[i,'RealPower_pred'][k-1]-data_n.loc[i,'future_real'][k-1]\n"
     ]
    },
    {
     "name": "stdout",
     "output_type": "stream",
     "text": [
      "62  done\n"
     ]
    },
    {
     "name": "stderr",
     "output_type": "stream",
     "text": [
      "l:\\Coding_project\\Energy_grid_new\\notebooks\\XGBoost_helper.py:832: PerformanceWarning: DataFrame is highly fragmented.  This is usually the result of calling `frame.insert` many times, which has poor performance.  Consider joining all columns at once using pd.concat(axis=1) instead. To get a de-fragmented frame, use `newframe = frame.copy()`\n",
      "  data_n['MAE_till'+str(k)]=None\n",
      "l:\\Coding_project\\Energy_grid_new\\notebooks\\XGBoost_helper.py:838: PerformanceWarning: DataFrame is highly fragmented.  This is usually the result of calling `frame.insert` many times, which has poor performance.  Consider joining all columns at once using pd.concat(axis=1) instead. To get a de-fragmented frame, use `newframe = frame.copy()`\n",
      "  data_n.loc[i,'E_'+str(k)]=data_n.at[i,'RealPower_pred'][k-1]-data_n.loc[i,'future_real'][k-1]\n"
     ]
    },
    {
     "name": "stdout",
     "output_type": "stream",
     "text": [
      "63  done\n"
     ]
    },
    {
     "name": "stderr",
     "output_type": "stream",
     "text": [
      "l:\\Coding_project\\Energy_grid_new\\notebooks\\XGBoost_helper.py:832: PerformanceWarning: DataFrame is highly fragmented.  This is usually the result of calling `frame.insert` many times, which has poor performance.  Consider joining all columns at once using pd.concat(axis=1) instead. To get a de-fragmented frame, use `newframe = frame.copy()`\n",
      "  data_n['MAE_till'+str(k)]=None\n",
      "l:\\Coding_project\\Energy_grid_new\\notebooks\\XGBoost_helper.py:838: PerformanceWarning: DataFrame is highly fragmented.  This is usually the result of calling `frame.insert` many times, which has poor performance.  Consider joining all columns at once using pd.concat(axis=1) instead. To get a de-fragmented frame, use `newframe = frame.copy()`\n",
      "  data_n.loc[i,'E_'+str(k)]=data_n.at[i,'RealPower_pred'][k-1]-data_n.loc[i,'future_real'][k-1]\n"
     ]
    },
    {
     "name": "stdout",
     "output_type": "stream",
     "text": [
      "64  done\n"
     ]
    },
    {
     "name": "stderr",
     "output_type": "stream",
     "text": [
      "l:\\Coding_project\\Energy_grid_new\\notebooks\\XGBoost_helper.py:832: PerformanceWarning: DataFrame is highly fragmented.  This is usually the result of calling `frame.insert` many times, which has poor performance.  Consider joining all columns at once using pd.concat(axis=1) instead. To get a de-fragmented frame, use `newframe = frame.copy()`\n",
      "  data_n['MAE_till'+str(k)]=None\n",
      "l:\\Coding_project\\Energy_grid_new\\notebooks\\XGBoost_helper.py:838: PerformanceWarning: DataFrame is highly fragmented.  This is usually the result of calling `frame.insert` many times, which has poor performance.  Consider joining all columns at once using pd.concat(axis=1) instead. To get a de-fragmented frame, use `newframe = frame.copy()`\n",
      "  data_n.loc[i,'E_'+str(k)]=data_n.at[i,'RealPower_pred'][k-1]-data_n.loc[i,'future_real'][k-1]\n"
     ]
    },
    {
     "name": "stdout",
     "output_type": "stream",
     "text": [
      "65  done\n"
     ]
    },
    {
     "name": "stderr",
     "output_type": "stream",
     "text": [
      "l:\\Coding_project\\Energy_grid_new\\notebooks\\XGBoost_helper.py:832: PerformanceWarning: DataFrame is highly fragmented.  This is usually the result of calling `frame.insert` many times, which has poor performance.  Consider joining all columns at once using pd.concat(axis=1) instead. To get a de-fragmented frame, use `newframe = frame.copy()`\n",
      "  data_n['MAE_till'+str(k)]=None\n",
      "l:\\Coding_project\\Energy_grid_new\\notebooks\\XGBoost_helper.py:838: PerformanceWarning: DataFrame is highly fragmented.  This is usually the result of calling `frame.insert` many times, which has poor performance.  Consider joining all columns at once using pd.concat(axis=1) instead. To get a de-fragmented frame, use `newframe = frame.copy()`\n",
      "  data_n.loc[i,'E_'+str(k)]=data_n.at[i,'RealPower_pred'][k-1]-data_n.loc[i,'future_real'][k-1]\n"
     ]
    },
    {
     "name": "stdout",
     "output_type": "stream",
     "text": [
      "66  done\n"
     ]
    },
    {
     "name": "stderr",
     "output_type": "stream",
     "text": [
      "l:\\Coding_project\\Energy_grid_new\\notebooks\\XGBoost_helper.py:832: PerformanceWarning: DataFrame is highly fragmented.  This is usually the result of calling `frame.insert` many times, which has poor performance.  Consider joining all columns at once using pd.concat(axis=1) instead. To get a de-fragmented frame, use `newframe = frame.copy()`\n",
      "  data_n['MAE_till'+str(k)]=None\n",
      "l:\\Coding_project\\Energy_grid_new\\notebooks\\XGBoost_helper.py:838: PerformanceWarning: DataFrame is highly fragmented.  This is usually the result of calling `frame.insert` many times, which has poor performance.  Consider joining all columns at once using pd.concat(axis=1) instead. To get a de-fragmented frame, use `newframe = frame.copy()`\n",
      "  data_n.loc[i,'E_'+str(k)]=data_n.at[i,'RealPower_pred'][k-1]-data_n.loc[i,'future_real'][k-1]\n"
     ]
    },
    {
     "name": "stdout",
     "output_type": "stream",
     "text": [
      "67  done\n"
     ]
    },
    {
     "name": "stderr",
     "output_type": "stream",
     "text": [
      "l:\\Coding_project\\Energy_grid_new\\notebooks\\XGBoost_helper.py:832: PerformanceWarning: DataFrame is highly fragmented.  This is usually the result of calling `frame.insert` many times, which has poor performance.  Consider joining all columns at once using pd.concat(axis=1) instead. To get a de-fragmented frame, use `newframe = frame.copy()`\n",
      "  data_n['MAE_till'+str(k)]=None\n",
      "l:\\Coding_project\\Energy_grid_new\\notebooks\\XGBoost_helper.py:838: PerformanceWarning: DataFrame is highly fragmented.  This is usually the result of calling `frame.insert` many times, which has poor performance.  Consider joining all columns at once using pd.concat(axis=1) instead. To get a de-fragmented frame, use `newframe = frame.copy()`\n",
      "  data_n.loc[i,'E_'+str(k)]=data_n.at[i,'RealPower_pred'][k-1]-data_n.loc[i,'future_real'][k-1]\n"
     ]
    },
    {
     "name": "stdout",
     "output_type": "stream",
     "text": [
      "68  done\n"
     ]
    },
    {
     "name": "stderr",
     "output_type": "stream",
     "text": [
      "l:\\Coding_project\\Energy_grid_new\\notebooks\\XGBoost_helper.py:832: PerformanceWarning: DataFrame is highly fragmented.  This is usually the result of calling `frame.insert` many times, which has poor performance.  Consider joining all columns at once using pd.concat(axis=1) instead. To get a de-fragmented frame, use `newframe = frame.copy()`\n",
      "  data_n['MAE_till'+str(k)]=None\n",
      "l:\\Coding_project\\Energy_grid_new\\notebooks\\XGBoost_helper.py:838: PerformanceWarning: DataFrame is highly fragmented.  This is usually the result of calling `frame.insert` many times, which has poor performance.  Consider joining all columns at once using pd.concat(axis=1) instead. To get a de-fragmented frame, use `newframe = frame.copy()`\n",
      "  data_n.loc[i,'E_'+str(k)]=data_n.at[i,'RealPower_pred'][k-1]-data_n.loc[i,'future_real'][k-1]\n"
     ]
    },
    {
     "name": "stdout",
     "output_type": "stream",
     "text": [
      "69  done\n"
     ]
    },
    {
     "name": "stderr",
     "output_type": "stream",
     "text": [
      "l:\\Coding_project\\Energy_grid_new\\notebooks\\XGBoost_helper.py:832: PerformanceWarning: DataFrame is highly fragmented.  This is usually the result of calling `frame.insert` many times, which has poor performance.  Consider joining all columns at once using pd.concat(axis=1) instead. To get a de-fragmented frame, use `newframe = frame.copy()`\n",
      "  data_n['MAE_till'+str(k)]=None\n",
      "l:\\Coding_project\\Energy_grid_new\\notebooks\\XGBoost_helper.py:838: PerformanceWarning: DataFrame is highly fragmented.  This is usually the result of calling `frame.insert` many times, which has poor performance.  Consider joining all columns at once using pd.concat(axis=1) instead. To get a de-fragmented frame, use `newframe = frame.copy()`\n",
      "  data_n.loc[i,'E_'+str(k)]=data_n.at[i,'RealPower_pred'][k-1]-data_n.loc[i,'future_real'][k-1]\n"
     ]
    },
    {
     "name": "stdout",
     "output_type": "stream",
     "text": [
      "70  done\n"
     ]
    },
    {
     "name": "stderr",
     "output_type": "stream",
     "text": [
      "l:\\Coding_project\\Energy_grid_new\\notebooks\\XGBoost_helper.py:832: PerformanceWarning: DataFrame is highly fragmented.  This is usually the result of calling `frame.insert` many times, which has poor performance.  Consider joining all columns at once using pd.concat(axis=1) instead. To get a de-fragmented frame, use `newframe = frame.copy()`\n",
      "  data_n['MAE_till'+str(k)]=None\n",
      "l:\\Coding_project\\Energy_grid_new\\notebooks\\XGBoost_helper.py:838: PerformanceWarning: DataFrame is highly fragmented.  This is usually the result of calling `frame.insert` many times, which has poor performance.  Consider joining all columns at once using pd.concat(axis=1) instead. To get a de-fragmented frame, use `newframe = frame.copy()`\n",
      "  data_n.loc[i,'E_'+str(k)]=data_n.at[i,'RealPower_pred'][k-1]-data_n.loc[i,'future_real'][k-1]\n"
     ]
    },
    {
     "name": "stdout",
     "output_type": "stream",
     "text": [
      "71  done\n"
     ]
    },
    {
     "name": "stderr",
     "output_type": "stream",
     "text": [
      "l:\\Coding_project\\Energy_grid_new\\notebooks\\XGBoost_helper.py:832: PerformanceWarning: DataFrame is highly fragmented.  This is usually the result of calling `frame.insert` many times, which has poor performance.  Consider joining all columns at once using pd.concat(axis=1) instead. To get a de-fragmented frame, use `newframe = frame.copy()`\n",
      "  data_n['MAE_till'+str(k)]=None\n",
      "l:\\Coding_project\\Energy_grid_new\\notebooks\\XGBoost_helper.py:838: PerformanceWarning: DataFrame is highly fragmented.  This is usually the result of calling `frame.insert` many times, which has poor performance.  Consider joining all columns at once using pd.concat(axis=1) instead. To get a de-fragmented frame, use `newframe = frame.copy()`\n",
      "  data_n.loc[i,'E_'+str(k)]=data_n.at[i,'RealPower_pred'][k-1]-data_n.loc[i,'future_real'][k-1]\n"
     ]
    },
    {
     "name": "stdout",
     "output_type": "stream",
     "text": [
      "72  done\n"
     ]
    },
    {
     "name": "stderr",
     "output_type": "stream",
     "text": [
      "l:\\Coding_project\\Energy_grid_new\\notebooks\\XGBoost_helper.py:832: PerformanceWarning: DataFrame is highly fragmented.  This is usually the result of calling `frame.insert` many times, which has poor performance.  Consider joining all columns at once using pd.concat(axis=1) instead. To get a de-fragmented frame, use `newframe = frame.copy()`\n",
      "  data_n['MAE_till'+str(k)]=None\n",
      "l:\\Coding_project\\Energy_grid_new\\notebooks\\XGBoost_helper.py:838: PerformanceWarning: DataFrame is highly fragmented.  This is usually the result of calling `frame.insert` many times, which has poor performance.  Consider joining all columns at once using pd.concat(axis=1) instead. To get a de-fragmented frame, use `newframe = frame.copy()`\n",
      "  data_n.loc[i,'E_'+str(k)]=data_n.at[i,'RealPower_pred'][k-1]-data_n.loc[i,'future_real'][k-1]\n"
     ]
    },
    {
     "name": "stdout",
     "output_type": "stream",
     "text": [
      "73  done\n"
     ]
    },
    {
     "name": "stderr",
     "output_type": "stream",
     "text": [
      "l:\\Coding_project\\Energy_grid_new\\notebooks\\XGBoost_helper.py:832: PerformanceWarning: DataFrame is highly fragmented.  This is usually the result of calling `frame.insert` many times, which has poor performance.  Consider joining all columns at once using pd.concat(axis=1) instead. To get a de-fragmented frame, use `newframe = frame.copy()`\n",
      "  data_n['MAE_till'+str(k)]=None\n",
      "l:\\Coding_project\\Energy_grid_new\\notebooks\\XGBoost_helper.py:838: PerformanceWarning: DataFrame is highly fragmented.  This is usually the result of calling `frame.insert` many times, which has poor performance.  Consider joining all columns at once using pd.concat(axis=1) instead. To get a de-fragmented frame, use `newframe = frame.copy()`\n",
      "  data_n.loc[i,'E_'+str(k)]=data_n.at[i,'RealPower_pred'][k-1]-data_n.loc[i,'future_real'][k-1]\n"
     ]
    },
    {
     "name": "stdout",
     "output_type": "stream",
     "text": [
      "74  done\n"
     ]
    },
    {
     "name": "stderr",
     "output_type": "stream",
     "text": [
      "l:\\Coding_project\\Energy_grid_new\\notebooks\\XGBoost_helper.py:832: PerformanceWarning: DataFrame is highly fragmented.  This is usually the result of calling `frame.insert` many times, which has poor performance.  Consider joining all columns at once using pd.concat(axis=1) instead. To get a de-fragmented frame, use `newframe = frame.copy()`\n",
      "  data_n['MAE_till'+str(k)]=None\n",
      "l:\\Coding_project\\Energy_grid_new\\notebooks\\XGBoost_helper.py:838: PerformanceWarning: DataFrame is highly fragmented.  This is usually the result of calling `frame.insert` many times, which has poor performance.  Consider joining all columns at once using pd.concat(axis=1) instead. To get a de-fragmented frame, use `newframe = frame.copy()`\n",
      "  data_n.loc[i,'E_'+str(k)]=data_n.at[i,'RealPower_pred'][k-1]-data_n.loc[i,'future_real'][k-1]\n"
     ]
    },
    {
     "name": "stdout",
     "output_type": "stream",
     "text": [
      "75  done\n"
     ]
    },
    {
     "name": "stderr",
     "output_type": "stream",
     "text": [
      "l:\\Coding_project\\Energy_grid_new\\notebooks\\XGBoost_helper.py:832: PerformanceWarning: DataFrame is highly fragmented.  This is usually the result of calling `frame.insert` many times, which has poor performance.  Consider joining all columns at once using pd.concat(axis=1) instead. To get a de-fragmented frame, use `newframe = frame.copy()`\n",
      "  data_n['MAE_till'+str(k)]=None\n",
      "l:\\Coding_project\\Energy_grid_new\\notebooks\\XGBoost_helper.py:838: PerformanceWarning: DataFrame is highly fragmented.  This is usually the result of calling `frame.insert` many times, which has poor performance.  Consider joining all columns at once using pd.concat(axis=1) instead. To get a de-fragmented frame, use `newframe = frame.copy()`\n",
      "  data_n.loc[i,'E_'+str(k)]=data_n.at[i,'RealPower_pred'][k-1]-data_n.loc[i,'future_real'][k-1]\n"
     ]
    },
    {
     "name": "stdout",
     "output_type": "stream",
     "text": [
      "76  done\n"
     ]
    },
    {
     "name": "stderr",
     "output_type": "stream",
     "text": [
      "l:\\Coding_project\\Energy_grid_new\\notebooks\\XGBoost_helper.py:832: PerformanceWarning: DataFrame is highly fragmented.  This is usually the result of calling `frame.insert` many times, which has poor performance.  Consider joining all columns at once using pd.concat(axis=1) instead. To get a de-fragmented frame, use `newframe = frame.copy()`\n",
      "  data_n['MAE_till'+str(k)]=None\n",
      "l:\\Coding_project\\Energy_grid_new\\notebooks\\XGBoost_helper.py:838: PerformanceWarning: DataFrame is highly fragmented.  This is usually the result of calling `frame.insert` many times, which has poor performance.  Consider joining all columns at once using pd.concat(axis=1) instead. To get a de-fragmented frame, use `newframe = frame.copy()`\n",
      "  data_n.loc[i,'E_'+str(k)]=data_n.at[i,'RealPower_pred'][k-1]-data_n.loc[i,'future_real'][k-1]\n"
     ]
    },
    {
     "name": "stdout",
     "output_type": "stream",
     "text": [
      "77  done\n"
     ]
    },
    {
     "name": "stderr",
     "output_type": "stream",
     "text": [
      "l:\\Coding_project\\Energy_grid_new\\notebooks\\XGBoost_helper.py:832: PerformanceWarning: DataFrame is highly fragmented.  This is usually the result of calling `frame.insert` many times, which has poor performance.  Consider joining all columns at once using pd.concat(axis=1) instead. To get a de-fragmented frame, use `newframe = frame.copy()`\n",
      "  data_n['MAE_till'+str(k)]=None\n",
      "l:\\Coding_project\\Energy_grid_new\\notebooks\\XGBoost_helper.py:838: PerformanceWarning: DataFrame is highly fragmented.  This is usually the result of calling `frame.insert` many times, which has poor performance.  Consider joining all columns at once using pd.concat(axis=1) instead. To get a de-fragmented frame, use `newframe = frame.copy()`\n",
      "  data_n.loc[i,'E_'+str(k)]=data_n.at[i,'RealPower_pred'][k-1]-data_n.loc[i,'future_real'][k-1]\n"
     ]
    },
    {
     "name": "stdout",
     "output_type": "stream",
     "text": [
      "78  done\n"
     ]
    },
    {
     "name": "stderr",
     "output_type": "stream",
     "text": [
      "l:\\Coding_project\\Energy_grid_new\\notebooks\\XGBoost_helper.py:832: PerformanceWarning: DataFrame is highly fragmented.  This is usually the result of calling `frame.insert` many times, which has poor performance.  Consider joining all columns at once using pd.concat(axis=1) instead. To get a de-fragmented frame, use `newframe = frame.copy()`\n",
      "  data_n['MAE_till'+str(k)]=None\n",
      "l:\\Coding_project\\Energy_grid_new\\notebooks\\XGBoost_helper.py:838: PerformanceWarning: DataFrame is highly fragmented.  This is usually the result of calling `frame.insert` many times, which has poor performance.  Consider joining all columns at once using pd.concat(axis=1) instead. To get a de-fragmented frame, use `newframe = frame.copy()`\n",
      "  data_n.loc[i,'E_'+str(k)]=data_n.at[i,'RealPower_pred'][k-1]-data_n.loc[i,'future_real'][k-1]\n"
     ]
    },
    {
     "name": "stdout",
     "output_type": "stream",
     "text": [
      "79  done\n"
     ]
    },
    {
     "name": "stderr",
     "output_type": "stream",
     "text": [
      "l:\\Coding_project\\Energy_grid_new\\notebooks\\XGBoost_helper.py:832: PerformanceWarning: DataFrame is highly fragmented.  This is usually the result of calling `frame.insert` many times, which has poor performance.  Consider joining all columns at once using pd.concat(axis=1) instead. To get a de-fragmented frame, use `newframe = frame.copy()`\n",
      "  data_n['MAE_till'+str(k)]=None\n",
      "l:\\Coding_project\\Energy_grid_new\\notebooks\\XGBoost_helper.py:838: PerformanceWarning: DataFrame is highly fragmented.  This is usually the result of calling `frame.insert` many times, which has poor performance.  Consider joining all columns at once using pd.concat(axis=1) instead. To get a de-fragmented frame, use `newframe = frame.copy()`\n",
      "  data_n.loc[i,'E_'+str(k)]=data_n.at[i,'RealPower_pred'][k-1]-data_n.loc[i,'future_real'][k-1]\n"
     ]
    },
    {
     "name": "stdout",
     "output_type": "stream",
     "text": [
      "80  done\n"
     ]
    },
    {
     "name": "stderr",
     "output_type": "stream",
     "text": [
      "l:\\Coding_project\\Energy_grid_new\\notebooks\\XGBoost_helper.py:832: PerformanceWarning: DataFrame is highly fragmented.  This is usually the result of calling `frame.insert` many times, which has poor performance.  Consider joining all columns at once using pd.concat(axis=1) instead. To get a de-fragmented frame, use `newframe = frame.copy()`\n",
      "  data_n['MAE_till'+str(k)]=None\n",
      "l:\\Coding_project\\Energy_grid_new\\notebooks\\XGBoost_helper.py:838: PerformanceWarning: DataFrame is highly fragmented.  This is usually the result of calling `frame.insert` many times, which has poor performance.  Consider joining all columns at once using pd.concat(axis=1) instead. To get a de-fragmented frame, use `newframe = frame.copy()`\n",
      "  data_n.loc[i,'E_'+str(k)]=data_n.at[i,'RealPower_pred'][k-1]-data_n.loc[i,'future_real'][k-1]\n"
     ]
    },
    {
     "name": "stdout",
     "output_type": "stream",
     "text": [
      "81  done\n"
     ]
    },
    {
     "name": "stderr",
     "output_type": "stream",
     "text": [
      "l:\\Coding_project\\Energy_grid_new\\notebooks\\XGBoost_helper.py:832: PerformanceWarning: DataFrame is highly fragmented.  This is usually the result of calling `frame.insert` many times, which has poor performance.  Consider joining all columns at once using pd.concat(axis=1) instead. To get a de-fragmented frame, use `newframe = frame.copy()`\n",
      "  data_n['MAE_till'+str(k)]=None\n",
      "l:\\Coding_project\\Energy_grid_new\\notebooks\\XGBoost_helper.py:838: PerformanceWarning: DataFrame is highly fragmented.  This is usually the result of calling `frame.insert` many times, which has poor performance.  Consider joining all columns at once using pd.concat(axis=1) instead. To get a de-fragmented frame, use `newframe = frame.copy()`\n",
      "  data_n.loc[i,'E_'+str(k)]=data_n.at[i,'RealPower_pred'][k-1]-data_n.loc[i,'future_real'][k-1]\n"
     ]
    },
    {
     "name": "stdout",
     "output_type": "stream",
     "text": [
      "82  done\n"
     ]
    },
    {
     "name": "stderr",
     "output_type": "stream",
     "text": [
      "l:\\Coding_project\\Energy_grid_new\\notebooks\\XGBoost_helper.py:832: PerformanceWarning: DataFrame is highly fragmented.  This is usually the result of calling `frame.insert` many times, which has poor performance.  Consider joining all columns at once using pd.concat(axis=1) instead. To get a de-fragmented frame, use `newframe = frame.copy()`\n",
      "  data_n['MAE_till'+str(k)]=None\n",
      "l:\\Coding_project\\Energy_grid_new\\notebooks\\XGBoost_helper.py:838: PerformanceWarning: DataFrame is highly fragmented.  This is usually the result of calling `frame.insert` many times, which has poor performance.  Consider joining all columns at once using pd.concat(axis=1) instead. To get a de-fragmented frame, use `newframe = frame.copy()`\n",
      "  data_n.loc[i,'E_'+str(k)]=data_n.at[i,'RealPower_pred'][k-1]-data_n.loc[i,'future_real'][k-1]\n"
     ]
    },
    {
     "name": "stdout",
     "output_type": "stream",
     "text": [
      "83  done\n"
     ]
    },
    {
     "name": "stderr",
     "output_type": "stream",
     "text": [
      "l:\\Coding_project\\Energy_grid_new\\notebooks\\XGBoost_helper.py:832: PerformanceWarning: DataFrame is highly fragmented.  This is usually the result of calling `frame.insert` many times, which has poor performance.  Consider joining all columns at once using pd.concat(axis=1) instead. To get a de-fragmented frame, use `newframe = frame.copy()`\n",
      "  data_n['MAE_till'+str(k)]=None\n",
      "l:\\Coding_project\\Energy_grid_new\\notebooks\\XGBoost_helper.py:838: PerformanceWarning: DataFrame is highly fragmented.  This is usually the result of calling `frame.insert` many times, which has poor performance.  Consider joining all columns at once using pd.concat(axis=1) instead. To get a de-fragmented frame, use `newframe = frame.copy()`\n",
      "  data_n.loc[i,'E_'+str(k)]=data_n.at[i,'RealPower_pred'][k-1]-data_n.loc[i,'future_real'][k-1]\n"
     ]
    },
    {
     "name": "stdout",
     "output_type": "stream",
     "text": [
      "84  done\n"
     ]
    },
    {
     "name": "stderr",
     "output_type": "stream",
     "text": [
      "l:\\Coding_project\\Energy_grid_new\\notebooks\\XGBoost_helper.py:832: PerformanceWarning: DataFrame is highly fragmented.  This is usually the result of calling `frame.insert` many times, which has poor performance.  Consider joining all columns at once using pd.concat(axis=1) instead. To get a de-fragmented frame, use `newframe = frame.copy()`\n",
      "  data_n['MAE_till'+str(k)]=None\n",
      "l:\\Coding_project\\Energy_grid_new\\notebooks\\XGBoost_helper.py:838: PerformanceWarning: DataFrame is highly fragmented.  This is usually the result of calling `frame.insert` many times, which has poor performance.  Consider joining all columns at once using pd.concat(axis=1) instead. To get a de-fragmented frame, use `newframe = frame.copy()`\n",
      "  data_n.loc[i,'E_'+str(k)]=data_n.at[i,'RealPower_pred'][k-1]-data_n.loc[i,'future_real'][k-1]\n"
     ]
    },
    {
     "name": "stdout",
     "output_type": "stream",
     "text": [
      "85  done\n"
     ]
    },
    {
     "name": "stderr",
     "output_type": "stream",
     "text": [
      "l:\\Coding_project\\Energy_grid_new\\notebooks\\XGBoost_helper.py:832: PerformanceWarning: DataFrame is highly fragmented.  This is usually the result of calling `frame.insert` many times, which has poor performance.  Consider joining all columns at once using pd.concat(axis=1) instead. To get a de-fragmented frame, use `newframe = frame.copy()`\n",
      "  data_n['MAE_till'+str(k)]=None\n",
      "l:\\Coding_project\\Energy_grid_new\\notebooks\\XGBoost_helper.py:838: PerformanceWarning: DataFrame is highly fragmented.  This is usually the result of calling `frame.insert` many times, which has poor performance.  Consider joining all columns at once using pd.concat(axis=1) instead. To get a de-fragmented frame, use `newframe = frame.copy()`\n",
      "  data_n.loc[i,'E_'+str(k)]=data_n.at[i,'RealPower_pred'][k-1]-data_n.loc[i,'future_real'][k-1]\n"
     ]
    },
    {
     "name": "stdout",
     "output_type": "stream",
     "text": [
      "86  done\n"
     ]
    },
    {
     "name": "stderr",
     "output_type": "stream",
     "text": [
      "l:\\Coding_project\\Energy_grid_new\\notebooks\\XGBoost_helper.py:832: PerformanceWarning: DataFrame is highly fragmented.  This is usually the result of calling `frame.insert` many times, which has poor performance.  Consider joining all columns at once using pd.concat(axis=1) instead. To get a de-fragmented frame, use `newframe = frame.copy()`\n",
      "  data_n['MAE_till'+str(k)]=None\n",
      "l:\\Coding_project\\Energy_grid_new\\notebooks\\XGBoost_helper.py:838: PerformanceWarning: DataFrame is highly fragmented.  This is usually the result of calling `frame.insert` many times, which has poor performance.  Consider joining all columns at once using pd.concat(axis=1) instead. To get a de-fragmented frame, use `newframe = frame.copy()`\n",
      "  data_n.loc[i,'E_'+str(k)]=data_n.at[i,'RealPower_pred'][k-1]-data_n.loc[i,'future_real'][k-1]\n"
     ]
    },
    {
     "name": "stdout",
     "output_type": "stream",
     "text": [
      "87  done\n"
     ]
    },
    {
     "name": "stderr",
     "output_type": "stream",
     "text": [
      "l:\\Coding_project\\Energy_grid_new\\notebooks\\XGBoost_helper.py:832: PerformanceWarning: DataFrame is highly fragmented.  This is usually the result of calling `frame.insert` many times, which has poor performance.  Consider joining all columns at once using pd.concat(axis=1) instead. To get a de-fragmented frame, use `newframe = frame.copy()`\n",
      "  data_n['MAE_till'+str(k)]=None\n",
      "l:\\Coding_project\\Energy_grid_new\\notebooks\\XGBoost_helper.py:838: PerformanceWarning: DataFrame is highly fragmented.  This is usually the result of calling `frame.insert` many times, which has poor performance.  Consider joining all columns at once using pd.concat(axis=1) instead. To get a de-fragmented frame, use `newframe = frame.copy()`\n",
      "  data_n.loc[i,'E_'+str(k)]=data_n.at[i,'RealPower_pred'][k-1]-data_n.loc[i,'future_real'][k-1]\n"
     ]
    },
    {
     "name": "stdout",
     "output_type": "stream",
     "text": [
      "88  done\n"
     ]
    },
    {
     "name": "stderr",
     "output_type": "stream",
     "text": [
      "l:\\Coding_project\\Energy_grid_new\\notebooks\\XGBoost_helper.py:832: PerformanceWarning: DataFrame is highly fragmented.  This is usually the result of calling `frame.insert` many times, which has poor performance.  Consider joining all columns at once using pd.concat(axis=1) instead. To get a de-fragmented frame, use `newframe = frame.copy()`\n",
      "  data_n['MAE_till'+str(k)]=None\n",
      "l:\\Coding_project\\Energy_grid_new\\notebooks\\XGBoost_helper.py:838: PerformanceWarning: DataFrame is highly fragmented.  This is usually the result of calling `frame.insert` many times, which has poor performance.  Consider joining all columns at once using pd.concat(axis=1) instead. To get a de-fragmented frame, use `newframe = frame.copy()`\n",
      "  data_n.loc[i,'E_'+str(k)]=data_n.at[i,'RealPower_pred'][k-1]-data_n.loc[i,'future_real'][k-1]\n"
     ]
    },
    {
     "name": "stdout",
     "output_type": "stream",
     "text": [
      "89  done\n"
     ]
    },
    {
     "name": "stderr",
     "output_type": "stream",
     "text": [
      "l:\\Coding_project\\Energy_grid_new\\notebooks\\XGBoost_helper.py:832: PerformanceWarning: DataFrame is highly fragmented.  This is usually the result of calling `frame.insert` many times, which has poor performance.  Consider joining all columns at once using pd.concat(axis=1) instead. To get a de-fragmented frame, use `newframe = frame.copy()`\n",
      "  data_n['MAE_till'+str(k)]=None\n",
      "l:\\Coding_project\\Energy_grid_new\\notebooks\\XGBoost_helper.py:838: PerformanceWarning: DataFrame is highly fragmented.  This is usually the result of calling `frame.insert` many times, which has poor performance.  Consider joining all columns at once using pd.concat(axis=1) instead. To get a de-fragmented frame, use `newframe = frame.copy()`\n",
      "  data_n.loc[i,'E_'+str(k)]=data_n.at[i,'RealPower_pred'][k-1]-data_n.loc[i,'future_real'][k-1]\n"
     ]
    },
    {
     "name": "stdout",
     "output_type": "stream",
     "text": [
      "90  done\n"
     ]
    },
    {
     "name": "stderr",
     "output_type": "stream",
     "text": [
      "l:\\Coding_project\\Energy_grid_new\\notebooks\\XGBoost_helper.py:832: PerformanceWarning: DataFrame is highly fragmented.  This is usually the result of calling `frame.insert` many times, which has poor performance.  Consider joining all columns at once using pd.concat(axis=1) instead. To get a de-fragmented frame, use `newframe = frame.copy()`\n",
      "  data_n['MAE_till'+str(k)]=None\n",
      "l:\\Coding_project\\Energy_grid_new\\notebooks\\XGBoost_helper.py:838: PerformanceWarning: DataFrame is highly fragmented.  This is usually the result of calling `frame.insert` many times, which has poor performance.  Consider joining all columns at once using pd.concat(axis=1) instead. To get a de-fragmented frame, use `newframe = frame.copy()`\n",
      "  data_n.loc[i,'E_'+str(k)]=data_n.at[i,'RealPower_pred'][k-1]-data_n.loc[i,'future_real'][k-1]\n"
     ]
    },
    {
     "name": "stdout",
     "output_type": "stream",
     "text": [
      "91  done\n"
     ]
    },
    {
     "name": "stderr",
     "output_type": "stream",
     "text": [
      "l:\\Coding_project\\Energy_grid_new\\notebooks\\XGBoost_helper.py:832: PerformanceWarning: DataFrame is highly fragmented.  This is usually the result of calling `frame.insert` many times, which has poor performance.  Consider joining all columns at once using pd.concat(axis=1) instead. To get a de-fragmented frame, use `newframe = frame.copy()`\n",
      "  data_n['MAE_till'+str(k)]=None\n",
      "l:\\Coding_project\\Energy_grid_new\\notebooks\\XGBoost_helper.py:838: PerformanceWarning: DataFrame is highly fragmented.  This is usually the result of calling `frame.insert` many times, which has poor performance.  Consider joining all columns at once using pd.concat(axis=1) instead. To get a de-fragmented frame, use `newframe = frame.copy()`\n",
      "  data_n.loc[i,'E_'+str(k)]=data_n.at[i,'RealPower_pred'][k-1]-data_n.loc[i,'future_real'][k-1]\n"
     ]
    },
    {
     "name": "stdout",
     "output_type": "stream",
     "text": [
      "92  done\n"
     ]
    },
    {
     "name": "stderr",
     "output_type": "stream",
     "text": [
      "l:\\Coding_project\\Energy_grid_new\\notebooks\\XGBoost_helper.py:832: PerformanceWarning: DataFrame is highly fragmented.  This is usually the result of calling `frame.insert` many times, which has poor performance.  Consider joining all columns at once using pd.concat(axis=1) instead. To get a de-fragmented frame, use `newframe = frame.copy()`\n",
      "  data_n['MAE_till'+str(k)]=None\n",
      "l:\\Coding_project\\Energy_grid_new\\notebooks\\XGBoost_helper.py:838: PerformanceWarning: DataFrame is highly fragmented.  This is usually the result of calling `frame.insert` many times, which has poor performance.  Consider joining all columns at once using pd.concat(axis=1) instead. To get a de-fragmented frame, use `newframe = frame.copy()`\n",
      "  data_n.loc[i,'E_'+str(k)]=data_n.at[i,'RealPower_pred'][k-1]-data_n.loc[i,'future_real'][k-1]\n"
     ]
    },
    {
     "name": "stdout",
     "output_type": "stream",
     "text": [
      "93  done\n"
     ]
    },
    {
     "name": "stderr",
     "output_type": "stream",
     "text": [
      "l:\\Coding_project\\Energy_grid_new\\notebooks\\XGBoost_helper.py:832: PerformanceWarning: DataFrame is highly fragmented.  This is usually the result of calling `frame.insert` many times, which has poor performance.  Consider joining all columns at once using pd.concat(axis=1) instead. To get a de-fragmented frame, use `newframe = frame.copy()`\n",
      "  data_n['MAE_till'+str(k)]=None\n",
      "l:\\Coding_project\\Energy_grid_new\\notebooks\\XGBoost_helper.py:838: PerformanceWarning: DataFrame is highly fragmented.  This is usually the result of calling `frame.insert` many times, which has poor performance.  Consider joining all columns at once using pd.concat(axis=1) instead. To get a de-fragmented frame, use `newframe = frame.copy()`\n",
      "  data_n.loc[i,'E_'+str(k)]=data_n.at[i,'RealPower_pred'][k-1]-data_n.loc[i,'future_real'][k-1]\n"
     ]
    },
    {
     "name": "stdout",
     "output_type": "stream",
     "text": [
      "94  done\n"
     ]
    },
    {
     "name": "stderr",
     "output_type": "stream",
     "text": [
      "l:\\Coding_project\\Energy_grid_new\\notebooks\\XGBoost_helper.py:832: PerformanceWarning: DataFrame is highly fragmented.  This is usually the result of calling `frame.insert` many times, which has poor performance.  Consider joining all columns at once using pd.concat(axis=1) instead. To get a de-fragmented frame, use `newframe = frame.copy()`\n",
      "  data_n['MAE_till'+str(k)]=None\n",
      "l:\\Coding_project\\Energy_grid_new\\notebooks\\XGBoost_helper.py:838: PerformanceWarning: DataFrame is highly fragmented.  This is usually the result of calling `frame.insert` many times, which has poor performance.  Consider joining all columns at once using pd.concat(axis=1) instead. To get a de-fragmented frame, use `newframe = frame.copy()`\n",
      "  data_n.loc[i,'E_'+str(k)]=data_n.at[i,'RealPower_pred'][k-1]-data_n.loc[i,'future_real'][k-1]\n"
     ]
    },
    {
     "name": "stdout",
     "output_type": "stream",
     "text": [
      "95  done\n"
     ]
    },
    {
     "name": "stderr",
     "output_type": "stream",
     "text": [
      "l:\\Coding_project\\Energy_grid_new\\notebooks\\XGBoost_helper.py:832: PerformanceWarning: DataFrame is highly fragmented.  This is usually the result of calling `frame.insert` many times, which has poor performance.  Consider joining all columns at once using pd.concat(axis=1) instead. To get a de-fragmented frame, use `newframe = frame.copy()`\n",
      "  data_n['MAE_till'+str(k)]=None\n",
      "l:\\Coding_project\\Energy_grid_new\\notebooks\\XGBoost_helper.py:838: PerformanceWarning: DataFrame is highly fragmented.  This is usually the result of calling `frame.insert` many times, which has poor performance.  Consider joining all columns at once using pd.concat(axis=1) instead. To get a de-fragmented frame, use `newframe = frame.copy()`\n",
      "  data_n.loc[i,'E_'+str(k)]=data_n.at[i,'RealPower_pred'][k-1]-data_n.loc[i,'future_real'][k-1]\n"
     ]
    },
    {
     "name": "stdout",
     "output_type": "stream",
     "text": [
      "96  done\n"
     ]
    }
   ],
   "source": [
    "Simple_pv=Simple_forecast(\n",
    "    src_path=r'L:\\Coding_project\\Energy_grid_new\\data\\UCSD_raw_data\\BLD_Sum.csv',\n",
    "    ref_start_t='30-10-2018',\n",
    "    pred_start_t='1-1-2019',\n",
    "    end_t='12-31-2019',\n",
    "    method='ave_by_prediction_time',\n",
    "    save_path=r'L:\\Coding_project\\Energy_grid_new_exp_local\\BLD_simple_grid_search\\BLD_sum_Simple_prediction_K96_'+str(4)+'weeks_'+str(0.1)+'.csv',\n",
    "    frequent='week',\n",
    "    n=4,\n",
    "    alpha=0.1,\n",
    "    K=96,\n",
    "    metrics_steps=list(range(1,97))\n",
    ")"
   ]
  },
  {
   "cell_type": "code",
   "execution_count": 3,
   "metadata": {},
   "outputs": [
    {
     "name": "stdout",
     "output_type": "stream",
     "text": [
      "File saved to:L:\\Coding_project\\Energy_grid_new_exp_local\\BLD_simple_grid_search\\BLD_sum_Simple_prediction_K96_4weeks_0.1.csv\n"
     ]
    }
   ],
   "source": [
    "Simple_pv.save_prediction()"
   ]
  },
  {
   "cell_type": "code",
   "execution_count": 4,
   "metadata": {},
   "outputs": [
    {
     "data": {
      "text/html": [
       "<div>\n",
       "<style scoped>\n",
       "    .dataframe tbody tr th:only-of-type {\n",
       "        vertical-align: middle;\n",
       "    }\n",
       "\n",
       "    .dataframe tbody tr th {\n",
       "        vertical-align: top;\n",
       "    }\n",
       "\n",
       "    .dataframe thead th {\n",
       "        text-align: right;\n",
       "    }\n",
       "</style>\n",
       "<table border=\"1\" class=\"dataframe\">\n",
       "  <thead>\n",
       "    <tr style=\"text-align: right;\">\n",
       "      <th></th>\n",
       "      <th>RealPower</th>\n",
       "      <th>RealPower_before_scaling</th>\n",
       "      <th>RealPower_pred</th>\n",
       "      <th>historical_ave</th>\n",
       "      <th>future_real</th>\n",
       "      <th>MAE_till1</th>\n",
       "      <th>E_1</th>\n",
       "      <th>MAE_till2</th>\n",
       "      <th>E_2</th>\n",
       "      <th>MAE_till3</th>\n",
       "      <th>...</th>\n",
       "      <th>MAE_till92</th>\n",
       "      <th>E_92</th>\n",
       "      <th>MAE_till93</th>\n",
       "      <th>E_93</th>\n",
       "      <th>MAE_till94</th>\n",
       "      <th>E_94</th>\n",
       "      <th>MAE_till95</th>\n",
       "      <th>E_95</th>\n",
       "      <th>MAE_till96</th>\n",
       "      <th>E_96</th>\n",
       "    </tr>\n",
       "    <tr>\n",
       "      <th>DateTime</th>\n",
       "      <th></th>\n",
       "      <th></th>\n",
       "      <th></th>\n",
       "      <th></th>\n",
       "      <th></th>\n",
       "      <th></th>\n",
       "      <th></th>\n",
       "      <th></th>\n",
       "      <th></th>\n",
       "      <th></th>\n",
       "      <th></th>\n",
       "      <th></th>\n",
       "      <th></th>\n",
       "      <th></th>\n",
       "      <th></th>\n",
       "      <th></th>\n",
       "      <th></th>\n",
       "      <th></th>\n",
       "      <th></th>\n",
       "      <th></th>\n",
       "      <th></th>\n",
       "    </tr>\n",
       "  </thead>\n",
       "  <tbody>\n",
       "    <tr>\n",
       "      <th>2019-01-01 00:00:00</th>\n",
       "      <td>52.3299</td>\n",
       "      <td>523.299</td>\n",
       "      <td>[53.010136410266256, 53.82066281841785, 54.204...</td>\n",
       "      <td>60.8438</td>\n",
       "      <td>[51.4773, 51.2424, 50.902, 51.7313, 52.0804, 5...</td>\n",
       "      <td>1.532836</td>\n",
       "      <td>1.532836</td>\n",
       "      <td>2.05555</td>\n",
       "      <td>2.578263</td>\n",
       "      <td>2.471084</td>\n",
       "      <td>...</td>\n",
       "      <td>21.352426</td>\n",
       "      <td>15.595949</td>\n",
       "      <td>21.218285</td>\n",
       "      <td>8.877288</td>\n",
       "      <td>21.081336</td>\n",
       "      <td>8.345096</td>\n",
       "      <td>20.946898</td>\n",
       "      <td>8.309652</td>\n",
       "      <td>20.805588</td>\n",
       "      <td>7.381212</td>\n",
       "    </tr>\n",
       "    <tr>\n",
       "      <th>2019-01-01 00:15:00</th>\n",
       "      <td>51.4773</td>\n",
       "      <td>514.773</td>\n",
       "      <td>[52.34105507051936, 52.94268512384876, 53.2725...</td>\n",
       "      <td>59.47805</td>\n",
       "      <td>[51.2424, 50.902, 51.7313, 52.0804, 52.3325, 5...</td>\n",
       "      <td>1.098655</td>\n",
       "      <td>1.098655</td>\n",
       "      <td>1.56967</td>\n",
       "      <td>2.040685</td>\n",
       "      <td>1.560181</td>\n",
       "      <td>...</td>\n",
       "      <td>21.274855</td>\n",
       "      <td>8.877095</td>\n",
       "      <td>21.135824</td>\n",
       "      <td>8.344931</td>\n",
       "      <td>20.999373</td>\n",
       "      <td>8.309506</td>\n",
       "      <td>20.856023</td>\n",
       "      <td>7.381086</td>\n",
       "      <td>20.688743</td>\n",
       "      <td>4.797174</td>\n",
       "    </tr>\n",
       "    <tr>\n",
       "      <th>2019-01-01 00:30:00</th>\n",
       "      <td>51.2424</td>\n",
       "      <td>512.424</td>\n",
       "      <td>[52.034050382165205, 52.54052798971382, 53.059...</td>\n",
       "      <td>60.553925</td>\n",
       "      <td>[50.902, 51.7313, 52.0804, 52.3325, 52.6379, 5...</td>\n",
       "      <td>1.13205</td>\n",
       "      <td>1.132050</td>\n",
       "      <td>0.970639</td>\n",
       "      <td>0.809228</td>\n",
       "      <td>0.973593</td>\n",
       "      <td>...</td>\n",
       "      <td>21.252884</td>\n",
       "      <td>8.344803</td>\n",
       "      <td>21.113706</td>\n",
       "      <td>8.309393</td>\n",
       "      <td>20.967614</td>\n",
       "      <td>7.380992</td>\n",
       "      <td>20.797398</td>\n",
       "      <td>4.797102</td>\n",
       "      <td>20.614884</td>\n",
       "      <td>3.276045</td>\n",
       "    </tr>\n",
       "    <tr>\n",
       "      <th>2019-01-01 00:45:00</th>\n",
       "      <td>50.9020</td>\n",
       "      <td>509.020</td>\n",
       "      <td>[51.61588352018419, 52.23484558223056, 52.6382...</td>\n",
       "      <td>59.561325</td>\n",
       "      <td>[51.7313, 52.0804, 52.3325, 52.6379, 50.8507, ...</td>\n",
       "      <td>0.115416</td>\n",
       "      <td>-0.115416</td>\n",
       "      <td>0.134931</td>\n",
       "      <td>0.154446</td>\n",
       "      <td>0.191874</td>\n",
       "      <td>...</td>\n",
       "      <td>21.219779</td>\n",
       "      <td>8.309255</td>\n",
       "      <td>21.070974</td>\n",
       "      <td>7.380876</td>\n",
       "      <td>20.897846</td>\n",
       "      <td>4.797011</td>\n",
       "      <td>20.712353</td>\n",
       "      <td>3.275961</td>\n",
       "      <td>20.51914</td>\n",
       "      <td>2.163935</td>\n",
       "    </tr>\n",
       "    <tr>\n",
       "      <th>2019-01-01 01:00:00</th>\n",
       "      <td>51.7313</td>\n",
       "      <td>517.313</td>\n",
       "      <td>[52.352097861571515, 52.79529609865817, 53.283...</td>\n",
       "      <td>58.403725</td>\n",
       "      <td>[52.0804, 52.3325, 52.6379, 50.8507, 51.0241, ...</td>\n",
       "      <td>0.271698</td>\n",
       "      <td>0.271698</td>\n",
       "      <td>0.367247</td>\n",
       "      <td>0.462796</td>\n",
       "      <td>0.460086</td>\n",
       "      <td>...</td>\n",
       "      <td>21.301809</td>\n",
       "      <td>7.380862</td>\n",
       "      <td>21.124338</td>\n",
       "      <td>4.797014</td>\n",
       "      <td>20.934462</td>\n",
       "      <td>3.275962</td>\n",
       "      <td>20.736878</td>\n",
       "      <td>2.163937</td>\n",
       "      <td>20.543415</td>\n",
       "      <td>2.164492</td>\n",
       "    </tr>\n",
       "    <tr>\n",
       "      <th>...</th>\n",
       "      <td>...</td>\n",
       "      <td>...</td>\n",
       "      <td>...</td>\n",
       "      <td>...</td>\n",
       "      <td>...</td>\n",
       "      <td>...</td>\n",
       "      <td>...</td>\n",
       "      <td>...</td>\n",
       "      <td>...</td>\n",
       "      <td>...</td>\n",
       "      <td>...</td>\n",
       "      <td>...</td>\n",
       "      <td>...</td>\n",
       "      <td>...</td>\n",
       "      <td>...</td>\n",
       "      <td>...</td>\n",
       "      <td>...</td>\n",
       "      <td>...</td>\n",
       "      <td>...</td>\n",
       "      <td>...</td>\n",
       "      <td>...</td>\n",
       "    </tr>\n",
       "    <tr>\n",
       "      <th>2020-01-01 00:15:00</th>\n",
       "      <td>NaN</td>\n",
       "      <td>NaN</td>\n",
       "      <td>[]</td>\n",
       "      <td>None</td>\n",
       "      <td>[]</td>\n",
       "      <td>None</td>\n",
       "      <td>NaN</td>\n",
       "      <td>None</td>\n",
       "      <td>NaN</td>\n",
       "      <td>None</td>\n",
       "      <td>...</td>\n",
       "      <td>None</td>\n",
       "      <td>NaN</td>\n",
       "      <td>None</td>\n",
       "      <td>NaN</td>\n",
       "      <td>None</td>\n",
       "      <td>NaN</td>\n",
       "      <td>None</td>\n",
       "      <td>NaN</td>\n",
       "      <td>None</td>\n",
       "      <td>NaN</td>\n",
       "    </tr>\n",
       "    <tr>\n",
       "      <th>2020-01-01 00:30:00</th>\n",
       "      <td>NaN</td>\n",
       "      <td>NaN</td>\n",
       "      <td>[]</td>\n",
       "      <td>None</td>\n",
       "      <td>[]</td>\n",
       "      <td>None</td>\n",
       "      <td>NaN</td>\n",
       "      <td>None</td>\n",
       "      <td>NaN</td>\n",
       "      <td>None</td>\n",
       "      <td>...</td>\n",
       "      <td>None</td>\n",
       "      <td>NaN</td>\n",
       "      <td>None</td>\n",
       "      <td>NaN</td>\n",
       "      <td>None</td>\n",
       "      <td>NaN</td>\n",
       "      <td>None</td>\n",
       "      <td>NaN</td>\n",
       "      <td>None</td>\n",
       "      <td>NaN</td>\n",
       "    </tr>\n",
       "    <tr>\n",
       "      <th>2020-01-01 00:45:00</th>\n",
       "      <td>NaN</td>\n",
       "      <td>NaN</td>\n",
       "      <td>[]</td>\n",
       "      <td>None</td>\n",
       "      <td>[]</td>\n",
       "      <td>None</td>\n",
       "      <td>NaN</td>\n",
       "      <td>None</td>\n",
       "      <td>NaN</td>\n",
       "      <td>None</td>\n",
       "      <td>...</td>\n",
       "      <td>None</td>\n",
       "      <td>NaN</td>\n",
       "      <td>None</td>\n",
       "      <td>NaN</td>\n",
       "      <td>None</td>\n",
       "      <td>NaN</td>\n",
       "      <td>None</td>\n",
       "      <td>NaN</td>\n",
       "      <td>None</td>\n",
       "      <td>NaN</td>\n",
       "    </tr>\n",
       "    <tr>\n",
       "      <th>2020-01-01 01:00:00</th>\n",
       "      <td>NaN</td>\n",
       "      <td>NaN</td>\n",
       "      <td>[]</td>\n",
       "      <td>None</td>\n",
       "      <td>[]</td>\n",
       "      <td>None</td>\n",
       "      <td>NaN</td>\n",
       "      <td>None</td>\n",
       "      <td>NaN</td>\n",
       "      <td>None</td>\n",
       "      <td>...</td>\n",
       "      <td>None</td>\n",
       "      <td>NaN</td>\n",
       "      <td>None</td>\n",
       "      <td>NaN</td>\n",
       "      <td>None</td>\n",
       "      <td>NaN</td>\n",
       "      <td>None</td>\n",
       "      <td>NaN</td>\n",
       "      <td>None</td>\n",
       "      <td>NaN</td>\n",
       "    </tr>\n",
       "    <tr>\n",
       "      <th>2020-01-01 01:15:00</th>\n",
       "      <td>NaN</td>\n",
       "      <td>NaN</td>\n",
       "      <td>[]</td>\n",
       "      <td>None</td>\n",
       "      <td>[]</td>\n",
       "      <td>None</td>\n",
       "      <td>NaN</td>\n",
       "      <td>None</td>\n",
       "      <td>NaN</td>\n",
       "      <td>None</td>\n",
       "      <td>...</td>\n",
       "      <td>None</td>\n",
       "      <td>NaN</td>\n",
       "      <td>None</td>\n",
       "      <td>NaN</td>\n",
       "      <td>None</td>\n",
       "      <td>NaN</td>\n",
       "      <td>None</td>\n",
       "      <td>NaN</td>\n",
       "      <td>None</td>\n",
       "      <td>NaN</td>\n",
       "    </tr>\n",
       "  </tbody>\n",
       "</table>\n",
       "<p>35046 rows × 197 columns</p>\n",
       "</div>"
      ],
      "text/plain": [
       "                     RealPower  RealPower_before_scaling  \\\n",
       "DateTime                                                   \n",
       "2019-01-01 00:00:00    52.3299                   523.299   \n",
       "2019-01-01 00:15:00    51.4773                   514.773   \n",
       "2019-01-01 00:30:00    51.2424                   512.424   \n",
       "2019-01-01 00:45:00    50.9020                   509.020   \n",
       "2019-01-01 01:00:00    51.7313                   517.313   \n",
       "...                        ...                       ...   \n",
       "2020-01-01 00:15:00        NaN                       NaN   \n",
       "2020-01-01 00:30:00        NaN                       NaN   \n",
       "2020-01-01 00:45:00        NaN                       NaN   \n",
       "2020-01-01 01:00:00        NaN                       NaN   \n",
       "2020-01-01 01:15:00        NaN                       NaN   \n",
       "\n",
       "                                                        RealPower_pred  \\\n",
       "DateTime                                                                 \n",
       "2019-01-01 00:00:00  [53.010136410266256, 53.82066281841785, 54.204...   \n",
       "2019-01-01 00:15:00  [52.34105507051936, 52.94268512384876, 53.2725...   \n",
       "2019-01-01 00:30:00  [52.034050382165205, 52.54052798971382, 53.059...   \n",
       "2019-01-01 00:45:00  [51.61588352018419, 52.23484558223056, 52.6382...   \n",
       "2019-01-01 01:00:00  [52.352097861571515, 52.79529609865817, 53.283...   \n",
       "...                                                                ...   \n",
       "2020-01-01 00:15:00                                                 []   \n",
       "2020-01-01 00:30:00                                                 []   \n",
       "2020-01-01 00:45:00                                                 []   \n",
       "2020-01-01 01:00:00                                                 []   \n",
       "2020-01-01 01:15:00                                                 []   \n",
       "\n",
       "                    historical_ave  \\\n",
       "DateTime                             \n",
       "2019-01-01 00:00:00        60.8438   \n",
       "2019-01-01 00:15:00       59.47805   \n",
       "2019-01-01 00:30:00      60.553925   \n",
       "2019-01-01 00:45:00      59.561325   \n",
       "2019-01-01 01:00:00      58.403725   \n",
       "...                            ...   \n",
       "2020-01-01 00:15:00           None   \n",
       "2020-01-01 00:30:00           None   \n",
       "2020-01-01 00:45:00           None   \n",
       "2020-01-01 01:00:00           None   \n",
       "2020-01-01 01:15:00           None   \n",
       "\n",
       "                                                           future_real  \\\n",
       "DateTime                                                                 \n",
       "2019-01-01 00:00:00  [51.4773, 51.2424, 50.902, 51.7313, 52.0804, 5...   \n",
       "2019-01-01 00:15:00  [51.2424, 50.902, 51.7313, 52.0804, 52.3325, 5...   \n",
       "2019-01-01 00:30:00  [50.902, 51.7313, 52.0804, 52.3325, 52.6379, 5...   \n",
       "2019-01-01 00:45:00  [51.7313, 52.0804, 52.3325, 52.6379, 50.8507, ...   \n",
       "2019-01-01 01:00:00  [52.0804, 52.3325, 52.6379, 50.8507, 51.0241, ...   \n",
       "...                                                                ...   \n",
       "2020-01-01 00:15:00                                                 []   \n",
       "2020-01-01 00:30:00                                                 []   \n",
       "2020-01-01 00:45:00                                                 []   \n",
       "2020-01-01 01:00:00                                                 []   \n",
       "2020-01-01 01:15:00                                                 []   \n",
       "\n",
       "                    MAE_till1       E_1 MAE_till2       E_2 MAE_till3  ...  \\\n",
       "DateTime                                                               ...   \n",
       "2019-01-01 00:00:00  1.532836  1.532836   2.05555  2.578263  2.471084  ...   \n",
       "2019-01-01 00:15:00  1.098655  1.098655   1.56967  2.040685  1.560181  ...   \n",
       "2019-01-01 00:30:00   1.13205  1.132050  0.970639  0.809228  0.973593  ...   \n",
       "2019-01-01 00:45:00  0.115416 -0.115416  0.134931  0.154446  0.191874  ...   \n",
       "2019-01-01 01:00:00  0.271698  0.271698  0.367247  0.462796  0.460086  ...   \n",
       "...                       ...       ...       ...       ...       ...  ...   \n",
       "2020-01-01 00:15:00      None       NaN      None       NaN      None  ...   \n",
       "2020-01-01 00:30:00      None       NaN      None       NaN      None  ...   \n",
       "2020-01-01 00:45:00      None       NaN      None       NaN      None  ...   \n",
       "2020-01-01 01:00:00      None       NaN      None       NaN      None  ...   \n",
       "2020-01-01 01:15:00      None       NaN      None       NaN      None  ...   \n",
       "\n",
       "                     MAE_till92       E_92  MAE_till93      E_93  MAE_till94  \\\n",
       "DateTime                                                                       \n",
       "2019-01-01 00:00:00   21.352426  15.595949   21.218285  8.877288   21.081336   \n",
       "2019-01-01 00:15:00   21.274855   8.877095   21.135824  8.344931   20.999373   \n",
       "2019-01-01 00:30:00   21.252884   8.344803   21.113706  8.309393   20.967614   \n",
       "2019-01-01 00:45:00   21.219779   8.309255   21.070974  7.380876   20.897846   \n",
       "2019-01-01 01:00:00   21.301809   7.380862   21.124338  4.797014   20.934462   \n",
       "...                         ...        ...         ...       ...         ...   \n",
       "2020-01-01 00:15:00        None        NaN        None       NaN        None   \n",
       "2020-01-01 00:30:00        None        NaN        None       NaN        None   \n",
       "2020-01-01 00:45:00        None        NaN        None       NaN        None   \n",
       "2020-01-01 01:00:00        None        NaN        None       NaN        None   \n",
       "2020-01-01 01:15:00        None        NaN        None       NaN        None   \n",
       "\n",
       "                         E_94  MAE_till95      E_95  MAE_till96      E_96  \n",
       "DateTime                                                                   \n",
       "2019-01-01 00:00:00  8.345096   20.946898  8.309652   20.805588  7.381212  \n",
       "2019-01-01 00:15:00  8.309506   20.856023  7.381086   20.688743  4.797174  \n",
       "2019-01-01 00:30:00  7.380992   20.797398  4.797102   20.614884  3.276045  \n",
       "2019-01-01 00:45:00  4.797011   20.712353  3.275961    20.51914  2.163935  \n",
       "2019-01-01 01:00:00  3.275962   20.736878  2.163937   20.543415  2.164492  \n",
       "...                       ...         ...       ...         ...       ...  \n",
       "2020-01-01 00:15:00       NaN        None       NaN        None       NaN  \n",
       "2020-01-01 00:30:00       NaN        None       NaN        None       NaN  \n",
       "2020-01-01 00:45:00       NaN        None       NaN        None       NaN  \n",
       "2020-01-01 01:00:00       NaN        None       NaN        None       NaN  \n",
       "2020-01-01 01:15:00       NaN        None       NaN        None       NaN  \n",
       "\n",
       "[35046 rows x 197 columns]"
      ]
     },
     "execution_count": 4,
     "metadata": {},
     "output_type": "execute_result"
    }
   ],
   "source": [
    "Simple_pv.pred"
   ]
  }
 ],
 "metadata": {
  "kernelspec": {
   "display_name": "gurobi",
   "language": "python",
   "name": "python3"
  },
  "language_info": {
   "codemirror_mode": {
    "name": "ipython",
    "version": 3
   },
   "file_extension": ".py",
   "mimetype": "text/x-python",
   "name": "python",
   "nbconvert_exporter": "python",
   "pygments_lexer": "ipython3",
   "version": "3.8.16"
  }
 },
 "nbformat": 4,
 "nbformat_minor": 2
}
