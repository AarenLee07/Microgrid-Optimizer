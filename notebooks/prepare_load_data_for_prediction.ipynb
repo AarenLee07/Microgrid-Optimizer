{
 "cells": [
  {
   "cell_type": "code",
   "execution_count": 1,
   "metadata": {},
   "outputs": [
    {
     "name": "stderr",
     "output_type": "stream",
     "text": [
      "l:\\Softwares\\Anaconda\\envs\\gurobi\\lib\\site-packages\\tqdm\\auto.py:21: TqdmWarning: IProgress not found. Please update jupyter and ipywidgets. See https://ipywidgets.readthedocs.io/en/stable/user_install.html\n",
      "  from .autonotebook import tqdm as notebook_tqdm\n"
     ]
    }
   ],
   "source": [
    "from XGBoost_helper import Data_encoder,Optuna_core,XGBoost_Optuna,Simple_forecast, intersection_sum\n",
    "\n"
   ]
  },
  {
   "cell_type": "code",
   "execution_count": 21,
   "metadata": {},
   "outputs": [],
   "source": [
    "\n",
    "data_setting_={\n",
    "    'weather_fn':r'L:/Coding_project/Energy_grid_new/data/UCSD_raw_data/Weather_SanDiego.csv',\n",
    "    'weather_keys':['temp','feels_like','temp_min','temp_max',\n",
    "            'pressure','humidity','wind_speed','wind_deg','rain_1h','rain_3h','snow_1h','snow_3h',\t\n",
    "            'clouds_all','weather_main'],\n",
    "    'weather_shift':[0,0,0,0,0,0,0,0,0,0,0,0,0,0],\n",
    "    'weather_shift_unit':'',\n",
    "    'weather_enable_target_coding':[0,0,0,0,0,0,0,0,0,0,0,0,0,0],\n",
    "    'load_from_existing_file':True,\n",
    "    'data_fn':'Sum',\n",
    "    'src_path':r'L:/Coding_project/Energy_grid_new/data/UCSD_raw_data/',\n",
    "    'save_prefix':'base_bld',\n",
    "    'save_folder':r'L:/Coding_project/Energy_grid_new/load_pred/data/',\n",
    "    'days_ahead':[0],\n",
    "    'hours_ahead':[0],\n",
    "    'time_encode_method':'circle_encoding',\n",
    "    'enable_target_encoding':False, \n",
    "    'target_encoding_start':'01-Jan-2017',\n",
    "    'load_type':'BLD',\n",
    "    'split_date':'01-Jan-2020'\n",
    "}\n",
    "\n",
    "\n"
   ]
  },
  {
   "cell_type": "code",
   "execution_count": 22,
   "metadata": {},
   "outputs": [
    {
     "name": "stdout",
     "output_type": "stream",
     "text": [
      "!!! time features are target encoded by default when target_encoding enbaled !!!\n"
     ]
    }
   ],
   "source": [
    "bld=Data_encoder(data_setting_=data_setting_)"
   ]
  }
 ],
 "metadata": {
  "kernelspec": {
   "display_name": "gurobi",
   "language": "python",
   "name": "python3"
  },
  "language_info": {
   "codemirror_mode": {
    "name": "ipython",
    "version": 3
   },
   "file_extension": ".py",
   "mimetype": "text/x-python",
   "name": "python",
   "nbconvert_exporter": "python",
   "pygments_lexer": "ipython3",
   "version": "3.8.16"
  }
 },
 "nbformat": 4,
 "nbformat_minor": 2
}
