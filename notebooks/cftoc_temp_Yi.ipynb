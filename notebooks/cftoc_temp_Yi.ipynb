{
 "cells": [
  {
   "cell_type": "markdown",
   "metadata": {},
   "source": [
    "# Prototype for planning / opertion model\n",
    "\n",
    "owner: Yi Ju. last updated: 2022/08/26\n",
    "\n",
    "**contact the owner before you edit this notebook (incl. run)**\n",
    "\n",
    "**AND very clearly mark where you edit (and why)**"
   ]
  },
  {
   "cell_type": "code",
   "execution_count": 1,
   "metadata": {},
   "outputs": [],
   "source": [
    "import os\n",
    "import sys\n",
    "src_path = sys.path[0].replace(\"notebooks\", \"src\")\n",
    "if src_path not in sys.path:\n",
    "    sys.path.append(src_path)\n",
    "out_path = sys.path[0].replace(\"notebooks\", \"output\")\n",
    "\n",
    "import numpy as np\n",
    "import pandas as pd\n",
    "from matplotlib import pyplot as plt\n",
    "from battery_model import *\n",
    "from optimizer import *\n",
    "\n",
    "from predictor import Predictor_tou_SDGE_DA"
   ]
  },
  {
   "cell_type": "code",
   "execution_count": 2,
   "metadata": {},
   "outputs": [],
   "source": [
    "tou_pred = Predictor_tou_SDGE_DA(None)\n",
    "tou = tou_pred.get_prediction(datetime(2019,1,1,0,0), 96, 0.25)\n",
    "\n",
    "opt_params_sample = {\n",
    "    \"K\": 96,\n",
    "    \"delta\": 0.25,\n",
    "    \"S\": 1, # number of scenarios (energy profiles). can omit, default 1\n",
    "    \"S_prob\": None, \n",
    "    # if S != 1, params in \"loads\", \"ev\" should be list of length S\n",
    "    ### loads\n",
    "    \"load_bld\": 5 * np.sin(np.linspace(0, 2*np.pi, 96)) + 10,\n",
    "    \"load_pv\": np.maximum(0, -np.linspace(-6,6,96)**2+20),\n",
    "    \"energy_price_buy\": tou, # $/kWh\n",
    "    \"energy_price_sell\": 0.6, # if None, sell is not allowed. can omit\n",
    "    ### demand charge\n",
    "    \"dc_price\": 0.6, # $/day. ref: 18 $/mon\n",
    "    \"dc_prev_max\": None, # track p_grid_max in the same billing cycle. can omit\n",
    "    \"p_grid_max\": \"1.5\",    # \"1.5\" means 1.5 x max(load_bld), a float, e.g., 1000, means 1000 kW, default: None\n",
    "    ### battery (here I only consider one battery)\n",
    "    \"\"\" Battery params will be provided by battery object \"\"\"\n",
    "    # \"bat_capacity\": None, # if none, capacity is optimized\n",
    "    # \"bat_p_max\": 3, # i.e., capacity (kWh) / p_bat_max (kW) = 3 (h)\n",
    "    # \"bat_p_min\": 3, # can omit, then p_bat_min = p_bat_max\n",
    "    # \"bat_price\": 100, # $/kWh, ref: Tesla Powerwall\n",
    "    # \"bat_efficacy\": 0.98, \n",
    "    # \"bat_life_0\": 3650, # days.\n",
    "    # \"bat_cycle_0\": 5000, # cycles in lifetime\n",
    "    \"deg_model_opt\": \"throughput\",  # valid values: \"throughput\", \"Crate\", \"rainflow\", \"DOD\"\n",
    "    \"deg_thres_opt\": None,\n",
    "    \"deg_lambda_opt\": None,\n",
    "    \"bat_soc_0\": 0.5, # B0, BT have to be fractions (SoC indeed). 0.5 if omit\n",
    "    \"bat_soc_K\": None, # if None, default is the same as bat_soc_0\n",
    "    ### EVs\n",
    "    \"ev_I\": 20,\n",
    "    \"ev_ta\": np.linspace(0, 48, 20), # ta, td can be floats\n",
    "    \"ev_td\": np.linspace(36, 96, 20),\n",
    "    \"ev_e_init\": np.array([0]*20),\n",
    "    \"ev_e_targ\": np.array([10]*20),\n",
    "    \"ev_capacity\": None, # can omit, default as e_targ (useful only when aloow discharge)\n",
    "    \"ev_p_max\": 6.6,\n",
    "    \"ev_p_min\": 0, # can omit, default as 0\n",
    "    \"ev_efficacy\": 0.98,\n",
    "    \"ev_charge_rule\": \"flex\",\n",
    "    \"ev_charge_rule_default\": \"unif\"\n",
    "}"
   ]
  },
  {
   "cell_type": "code",
   "execution_count": 3,
   "metadata": {},
   "outputs": [],
   "source": [
    "bat_params_sample ={\n",
    "    \"bat_capacity\": None,\n",
    "    \"bat_p_max\": 3, # i.e., capacity (kWh) / p_bat_max (kW) = 3 (h)\n",
    "    \"bat_p_min\": 3, # can omit, then p_bat_min = p_bat_max\n",
    "    \"bat_price\": 150, # $/kWh (old: 1000, ref: Tesla Powerwall)\n",
    "    \"bat_efficacy\": 0.98, \n",
    "    \"bat_life_0\": 3650, # days.\n",
    "    \"bat_cycle_0\": 3000, # cycles in lifetime\n",
    "    # battery degradation params\n",
    "    \"deg_model\": \"throughput\",  \n",
    "        # valid values: \"throughput\", \"Crate\", \"rainflow\", \"DOD\"\n",
    "    #   [1. degradation ~ high C-rate]\n",
    "    \"deg_Crate_thres\": (0.25, 0.25, 0.25, 0.25),\n",
    "    \"deg_Crate_lambda\": (0.8, 1, 1.5, 2),\n",
    "    #   [2. degradation ~ large cycle depth]\n",
    "    \"deg_rainflow_thres\": (0.2, 0.2, 0.2, 0.4),\n",
    "    \"deg_rainflow_lambda\": (0.6, 1, 1.5, 1.8),\n",
    "    #   [3. degradation ~ low SoE range]\n",
    "    \"deg_DOD_thres\": (0.5, 0.2, 0.2, 0.1),\n",
    "    \"deg_DOD_lambda\": (1.3, 1.15, 0.85, 0.6),\n",
    "}"
   ]
  },
  {
   "cell_type": "code",
   "execution_count": 4,
   "metadata": {},
   "outputs": [],
   "source": [
    "fn = \"Mar19-Yi-base_rep_profiles.npy\"\n",
    "folder = os.path.join(out_path, \"debug_test\")\n",
    "rep_profiles_params = np.load(os.path.join(folder,fn), allow_pickle=True).tolist()"
   ]
  },
  {
   "cell_type": "code",
   "execution_count": 5,
   "metadata": {},
   "outputs": [],
   "source": [
    "opt_params_sample[\"deg_model_opt\"] = \"rainflow\"\n",
    "opt_params_sample[\"p_grid_max\"] = None\n",
    "bat_params_sample[\"deg_model\"] = \"DOD\"\n",
    "b_sample = Battery_base(bat_params_sample)\n",
    "params = dict(opt_params_sample)\n",
    "params.update(rep_profiles_params)\n",
    "\n",
    "opt = Battery_optimizer(battery=b_sample)\n",
    "sol = opt.optimize_battery_size(params, strategy=\"optimal\", mute=True)\n",
    "# sol"
   ]
  },
  {
   "cell_type": "code",
   "execution_count": 6,
   "metadata": {},
   "outputs": [
    {
     "data": {
      "text/plain": [
       "TCO                 199.979428\n",
       "TCO_est             199.680434\n",
       "OPEX                180.140126\n",
       "CAPEX                19.839302\n",
       "CAPEX_est            19.540308\n",
       "bat_capacity        417.930952\n",
       "eq_bat_capacity        7.37247\n",
       "eq_cycles             0.949406\n",
       "eq_cycles_est         0.935097\n",
       "eq_rate               0.121503\n",
       "eq_rate_est           0.121321\n",
       "eq_rate_opex           0.10594\n",
       "eq_rate_null               NaN\n",
       "demand_charge        35.180992\n",
       "tou_cost            144.959134\n",
       "prob                       NaN\n",
       "ev_I                 36.801622\n",
       "load_bld           1360.513273\n",
       "load_ev             285.368257\n",
       "load_tot            1645.88153\n",
       "load_pv             673.933099\n",
       "grid_import         988.269543\n",
       "grid_export           1.031141\n",
       "grid_max            111.594026\n",
       "import_cost         145.096705\n",
       "export_revenue         0.13757\n",
       "Name: All, dtype: object"
      ]
     },
     "execution_count": 6,
     "metadata": {},
     "output_type": "execute_result"
    }
   ],
   "source": [
    "df = sol.sol_summary()\n",
    "df.T[\"All\"]"
   ]
  },
  {
   "cell_type": "code",
   "execution_count": 17,
   "metadata": {},
   "outputs": [],
   "source": [
    "sol.save(save_fn=\"size_test1.xlsx\", save_path=folder)"
   ]
  },
  {
   "cell_type": "code",
   "execution_count": 9,
   "metadata": {},
   "outputs": [],
   "source": [
    "params[\"bat_capacity\"] = 353\n",
    "params[\"ev_charge_rule\"] = \"unif\""
   ]
  },
  {
   "cell_type": "code",
   "execution_count": 15,
   "metadata": {},
   "outputs": [
    {
     "data": {
      "text/plain": [
       "array([2.32823644, 4.47632653, 6.1677551 , 0.93333333, 0.21306122,\n",
       "       0.46666667, 1.54244898, 6.12857143, 2.2       , 2.38122449,\n",
       "       1.5955102 , 3.49795918])"
      ]
     },
     "execution_count": 15,
     "metadata": {},
     "output_type": "execute_result"
    }
   ],
   "source": [
    "opt.cache[\"params\"][\"ev_pmax_frac\"][0].sum(axis=1)"
   ]
  },
  {
   "cell_type": "code",
   "execution_count": 16,
   "metadata": {},
   "outputs": [
    {
     "data": {
      "text/plain": [
       "array([2.32823644, 4.47632653, 6.1677551 , 0.93333333, 0.21306122,\n",
       "       0.46666667, 1.54244898, 6.12857143, 2.2       , 2.38122449,\n",
       "       1.5955102 , 3.49795918])"
      ]
     },
     "execution_count": 16,
     "metadata": {},
     "output_type": "execute_result"
    }
   ],
   "source": [
    "opt.cache[\"params\"][\"ev_e_targ\"][0] / 2.5 / 0.98"
   ]
  },
  {
   "cell_type": "code",
   "execution_count": 14,
   "metadata": {},
   "outputs": [],
   "source": [
    "sol = opt.get_control_sequence(params, strategy=\"MSC\")"
   ]
  },
  {
   "cell_type": "code",
   "execution_count": 19,
   "metadata": {},
   "outputs": [
    {
     "data": {
      "text/plain": [
       "141.1125"
      ]
     },
     "execution_count": 19,
     "metadata": {},
     "output_type": "execute_result"
    }
   ],
   "source": [
    "sol.params[\"p_grid_max\"]"
   ]
  },
  {
   "cell_type": "code",
   "execution_count": 11,
   "metadata": {},
   "outputs": [
    {
     "data": {
      "text/html": [
       "<div>\n",
       "<style scoped>\n",
       "    .dataframe tbody tr th:only-of-type {\n",
       "        vertical-align: middle;\n",
       "    }\n",
       "\n",
       "    .dataframe tbody tr th {\n",
       "        vertical-align: top;\n",
       "    }\n",
       "\n",
       "    .dataframe thead th {\n",
       "        text-align: right;\n",
       "    }\n",
       "</style>\n",
       "<table border=\"1\" class=\"dataframe\">\n",
       "  <thead>\n",
       "    <tr style=\"text-align: right;\">\n",
       "      <th></th>\n",
       "      <th>unit</th>\n",
       "      <th>All</th>\n",
       "      <th>0</th>\n",
       "      <th>1</th>\n",
       "      <th>2</th>\n",
       "      <th>3</th>\n",
       "      <th>4</th>\n",
       "      <th>5</th>\n",
       "      <th>6</th>\n",
       "      <th>7</th>\n",
       "      <th>...</th>\n",
       "      <th>10</th>\n",
       "      <th>11</th>\n",
       "      <th>12</th>\n",
       "      <th>13</th>\n",
       "      <th>14</th>\n",
       "      <th>15</th>\n",
       "      <th>16</th>\n",
       "      <th>17</th>\n",
       "      <th>18</th>\n",
       "      <th>19</th>\n",
       "    </tr>\n",
       "  </thead>\n",
       "  <tbody>\n",
       "    <tr>\n",
       "      <th>TCO</th>\n",
       "      <td>$/day</td>\n",
       "      <td>203.854167</td>\n",
       "      <td>NaN</td>\n",
       "      <td>NaN</td>\n",
       "      <td>NaN</td>\n",
       "      <td>NaN</td>\n",
       "      <td>NaN</td>\n",
       "      <td>NaN</td>\n",
       "      <td>NaN</td>\n",
       "      <td>NaN</td>\n",
       "      <td>...</td>\n",
       "      <td>NaN</td>\n",
       "      <td>NaN</td>\n",
       "      <td>NaN</td>\n",
       "      <td>NaN</td>\n",
       "      <td>NaN</td>\n",
       "      <td>NaN</td>\n",
       "      <td>NaN</td>\n",
       "      <td>NaN</td>\n",
       "      <td>NaN</td>\n",
       "      <td>NaN</td>\n",
       "    </tr>\n",
       "    <tr>\n",
       "      <th>TCO_est</th>\n",
       "      <td>$/day</td>\n",
       "      <td>203.460416</td>\n",
       "      <td>NaN</td>\n",
       "      <td>NaN</td>\n",
       "      <td>NaN</td>\n",
       "      <td>NaN</td>\n",
       "      <td>NaN</td>\n",
       "      <td>NaN</td>\n",
       "      <td>NaN</td>\n",
       "      <td>NaN</td>\n",
       "      <td>...</td>\n",
       "      <td>NaN</td>\n",
       "      <td>NaN</td>\n",
       "      <td>NaN</td>\n",
       "      <td>NaN</td>\n",
       "      <td>NaN</td>\n",
       "      <td>NaN</td>\n",
       "      <td>NaN</td>\n",
       "      <td>NaN</td>\n",
       "      <td>NaN</td>\n",
       "      <td>NaN</td>\n",
       "    </tr>\n",
       "    <tr>\n",
       "      <th>OPEX</th>\n",
       "      <td>$/day</td>\n",
       "      <td>186.854687</td>\n",
       "      <td>104.800324</td>\n",
       "      <td>144.617609</td>\n",
       "      <td>76.385833</td>\n",
       "      <td>330.903975</td>\n",
       "      <td>168.519246</td>\n",
       "      <td>108.508811</td>\n",
       "      <td>246.510942</td>\n",
       "      <td>179.403482</td>\n",
       "      <td>...</td>\n",
       "      <td>226.303522</td>\n",
       "      <td>209.409236</td>\n",
       "      <td>297.404968</td>\n",
       "      <td>291.828196</td>\n",
       "      <td>101.309816</td>\n",
       "      <td>142.190714</td>\n",
       "      <td>148.688464</td>\n",
       "      <td>284.59949</td>\n",
       "      <td>216.532446</td>\n",
       "      <td>333.524957</td>\n",
       "    </tr>\n",
       "    <tr>\n",
       "      <th>CAPEX</th>\n",
       "      <td>$/day</td>\n",
       "      <td>16.99948</td>\n",
       "      <td>NaN</td>\n",
       "      <td>NaN</td>\n",
       "      <td>NaN</td>\n",
       "      <td>NaN</td>\n",
       "      <td>NaN</td>\n",
       "      <td>NaN</td>\n",
       "      <td>NaN</td>\n",
       "      <td>NaN</td>\n",
       "      <td>...</td>\n",
       "      <td>NaN</td>\n",
       "      <td>NaN</td>\n",
       "      <td>NaN</td>\n",
       "      <td>NaN</td>\n",
       "      <td>NaN</td>\n",
       "      <td>NaN</td>\n",
       "      <td>NaN</td>\n",
       "      <td>NaN</td>\n",
       "      <td>NaN</td>\n",
       "      <td>NaN</td>\n",
       "    </tr>\n",
       "    <tr>\n",
       "      <th>CAPEX_est</th>\n",
       "      <td>$/day</td>\n",
       "      <td>16.605729</td>\n",
       "      <td>NaN</td>\n",
       "      <td>NaN</td>\n",
       "      <td>NaN</td>\n",
       "      <td>NaN</td>\n",
       "      <td>NaN</td>\n",
       "      <td>NaN</td>\n",
       "      <td>NaN</td>\n",
       "      <td>NaN</td>\n",
       "      <td>...</td>\n",
       "      <td>NaN</td>\n",
       "      <td>NaN</td>\n",
       "      <td>NaN</td>\n",
       "      <td>NaN</td>\n",
       "      <td>NaN</td>\n",
       "      <td>NaN</td>\n",
       "      <td>NaN</td>\n",
       "      <td>NaN</td>\n",
       "      <td>NaN</td>\n",
       "      <td>NaN</td>\n",
       "    </tr>\n",
       "    <tr>\n",
       "      <th>bat_capacity</th>\n",
       "      <td>kWh</td>\n",
       "      <td>353</td>\n",
       "      <td>NaN</td>\n",
       "      <td>NaN</td>\n",
       "      <td>NaN</td>\n",
       "      <td>NaN</td>\n",
       "      <td>NaN</td>\n",
       "      <td>NaN</td>\n",
       "      <td>NaN</td>\n",
       "      <td>NaN</td>\n",
       "      <td>...</td>\n",
       "      <td>NaN</td>\n",
       "      <td>NaN</td>\n",
       "      <td>NaN</td>\n",
       "      <td>NaN</td>\n",
       "      <td>NaN</td>\n",
       "      <td>NaN</td>\n",
       "      <td>NaN</td>\n",
       "      <td>NaN</td>\n",
       "      <td>NaN</td>\n",
       "      <td>NaN</td>\n",
       "    </tr>\n",
       "    <tr>\n",
       "      <th>eq_bat_capacity</th>\n",
       "      <td>hr</td>\n",
       "      <td>6.227062</td>\n",
       "      <td>NaN</td>\n",
       "      <td>NaN</td>\n",
       "      <td>NaN</td>\n",
       "      <td>NaN</td>\n",
       "      <td>NaN</td>\n",
       "      <td>NaN</td>\n",
       "      <td>NaN</td>\n",
       "      <td>NaN</td>\n",
       "      <td>...</td>\n",
       "      <td>NaN</td>\n",
       "      <td>NaN</td>\n",
       "      <td>NaN</td>\n",
       "      <td>NaN</td>\n",
       "      <td>NaN</td>\n",
       "      <td>NaN</td>\n",
       "      <td>NaN</td>\n",
       "      <td>NaN</td>\n",
       "      <td>NaN</td>\n",
       "      <td>NaN</td>\n",
       "    </tr>\n",
       "    <tr>\n",
       "      <th>eq_cycles</th>\n",
       "      <td>1/day</td>\n",
       "      <td>0.963143</td>\n",
       "      <td>1.115763</td>\n",
       "      <td>0.814894</td>\n",
       "      <td>1.110227</td>\n",
       "      <td>0.90935</td>\n",
       "      <td>0.898743</td>\n",
       "      <td>1.110227</td>\n",
       "      <td>0.788181</td>\n",
       "      <td>0.950036</td>\n",
       "      <td>...</td>\n",
       "      <td>0.881218</td>\n",
       "      <td>0.754397</td>\n",
       "      <td>0.718958</td>\n",
       "      <td>1.096693</td>\n",
       "      <td>1.110227</td>\n",
       "      <td>1.110227</td>\n",
       "      <td>1.088416</td>\n",
       "      <td>0.951104</td>\n",
       "      <td>1.029403</td>\n",
       "      <td>1.005463</td>\n",
       "    </tr>\n",
       "    <tr>\n",
       "      <th>eq_cycles_est</th>\n",
       "      <td>1/day</td>\n",
       "      <td>0.940834</td>\n",
       "      <td>1.089597</td>\n",
       "      <td>0.705734</td>\n",
       "      <td>1.107883</td>\n",
       "      <td>0.938425</td>\n",
       "      <td>0.836684</td>\n",
       "      <td>1.092142</td>\n",
       "      <td>0.734538</td>\n",
       "      <td>0.948258</td>\n",
       "      <td>...</td>\n",
       "      <td>0.822429</td>\n",
       "      <td>0.696358</td>\n",
       "      <td>0.808408</td>\n",
       "      <td>1.052446</td>\n",
       "      <td>1.101824</td>\n",
       "      <td>1.061086</td>\n",
       "      <td>1.061801</td>\n",
       "      <td>0.987383</td>\n",
       "      <td>1.005269</td>\n",
       "      <td>1.047402</td>\n",
       "    </tr>\n",
       "    <tr>\n",
       "      <th>eq_rate</th>\n",
       "      <td>$/kWh</td>\n",
       "      <td>0.123857</td>\n",
       "      <td>NaN</td>\n",
       "      <td>NaN</td>\n",
       "      <td>NaN</td>\n",
       "      <td>NaN</td>\n",
       "      <td>NaN</td>\n",
       "      <td>NaN</td>\n",
       "      <td>NaN</td>\n",
       "      <td>NaN</td>\n",
       "      <td>...</td>\n",
       "      <td>NaN</td>\n",
       "      <td>NaN</td>\n",
       "      <td>NaN</td>\n",
       "      <td>NaN</td>\n",
       "      <td>NaN</td>\n",
       "      <td>NaN</td>\n",
       "      <td>NaN</td>\n",
       "      <td>NaN</td>\n",
       "      <td>NaN</td>\n",
       "      <td>NaN</td>\n",
       "    </tr>\n",
       "    <tr>\n",
       "      <th>eq_rate_est</th>\n",
       "      <td>$/kWh</td>\n",
       "      <td>0.123618</td>\n",
       "      <td>NaN</td>\n",
       "      <td>NaN</td>\n",
       "      <td>NaN</td>\n",
       "      <td>NaN</td>\n",
       "      <td>NaN</td>\n",
       "      <td>NaN</td>\n",
       "      <td>NaN</td>\n",
       "      <td>NaN</td>\n",
       "      <td>...</td>\n",
       "      <td>NaN</td>\n",
       "      <td>NaN</td>\n",
       "      <td>NaN</td>\n",
       "      <td>NaN</td>\n",
       "      <td>NaN</td>\n",
       "      <td>NaN</td>\n",
       "      <td>NaN</td>\n",
       "      <td>NaN</td>\n",
       "      <td>NaN</td>\n",
       "      <td>NaN</td>\n",
       "    </tr>\n",
       "    <tr>\n",
       "      <th>eq_rate_opex</th>\n",
       "      <td>$/kWh</td>\n",
       "      <td>0.110265</td>\n",
       "      <td>0.075532</td>\n",
       "      <td>0.11349</td>\n",
       "      <td>0.057131</td>\n",
       "      <td>0.164927</td>\n",
       "      <td>0.113333</td>\n",
       "      <td>0.073615</td>\n",
       "      <td>0.134624</td>\n",
       "      <td>0.105817</td>\n",
       "      <td>...</td>\n",
       "      <td>0.124055</td>\n",
       "      <td>0.126098</td>\n",
       "      <td>0.156779</td>\n",
       "      <td>0.146441</td>\n",
       "      <td>0.070873</td>\n",
       "      <td>0.098824</td>\n",
       "      <td>0.106845</td>\n",
       "      <td>0.144253</td>\n",
       "      <td>0.106492</td>\n",
       "      <td>0.17522</td>\n",
       "    </tr>\n",
       "    <tr>\n",
       "      <th>eq_rate_null</th>\n",
       "      <td>$/kWh</td>\n",
       "      <td>NaN</td>\n",
       "      <td>NaN</td>\n",
       "      <td>NaN</td>\n",
       "      <td>NaN</td>\n",
       "      <td>NaN</td>\n",
       "      <td>NaN</td>\n",
       "      <td>NaN</td>\n",
       "      <td>NaN</td>\n",
       "      <td>NaN</td>\n",
       "      <td>...</td>\n",
       "      <td>NaN</td>\n",
       "      <td>NaN</td>\n",
       "      <td>NaN</td>\n",
       "      <td>NaN</td>\n",
       "      <td>NaN</td>\n",
       "      <td>NaN</td>\n",
       "      <td>NaN</td>\n",
       "      <td>NaN</td>\n",
       "      <td>NaN</td>\n",
       "      <td>NaN</td>\n",
       "    </tr>\n",
       "    <tr>\n",
       "      <th>demand_charge</th>\n",
       "      <td>$/day</td>\n",
       "      <td>34.054908</td>\n",
       "      <td>23.468276</td>\n",
       "      <td>23.940063</td>\n",
       "      <td>17.204257</td>\n",
       "      <td>61.381205</td>\n",
       "      <td>29.885988</td>\n",
       "      <td>22.911134</td>\n",
       "      <td>41.323567</td>\n",
       "      <td>33.931998</td>\n",
       "      <td>...</td>\n",
       "      <td>37.174404</td>\n",
       "      <td>37.758004</td>\n",
       "      <td>53.382224</td>\n",
       "      <td>56.011154</td>\n",
       "      <td>20.326121</td>\n",
       "      <td>29.037768</td>\n",
       "      <td>24.995127</td>\n",
       "      <td>51.094389</td>\n",
       "      <td>35.153472</td>\n",
       "      <td>67.546294</td>\n",
       "    </tr>\n",
       "    <tr>\n",
       "      <th>tou_cost</th>\n",
       "      <td>$/day</td>\n",
       "      <td>152.799779</td>\n",
       "      <td>81.332048</td>\n",
       "      <td>120.677546</td>\n",
       "      <td>59.181576</td>\n",
       "      <td>269.52277</td>\n",
       "      <td>138.633259</td>\n",
       "      <td>85.597677</td>\n",
       "      <td>205.187375</td>\n",
       "      <td>145.471484</td>\n",
       "      <td>...</td>\n",
       "      <td>189.129119</td>\n",
       "      <td>171.651232</td>\n",
       "      <td>244.022744</td>\n",
       "      <td>235.817042</td>\n",
       "      <td>80.983695</td>\n",
       "      <td>113.152946</td>\n",
       "      <td>123.693337</td>\n",
       "      <td>233.505102</td>\n",
       "      <td>181.378974</td>\n",
       "      <td>265.978663</td>\n",
       "    </tr>\n",
       "    <tr>\n",
       "      <th>prob</th>\n",
       "      <td>1</td>\n",
       "      <td>NaN</td>\n",
       "      <td>0.040744</td>\n",
       "      <td>0.058014</td>\n",
       "      <td>0.043774</td>\n",
       "      <td>0.027575</td>\n",
       "      <td>0.058368</td>\n",
       "      <td>0.045519</td>\n",
       "      <td>0.060964</td>\n",
       "      <td>0.06742</td>\n",
       "      <td>...</td>\n",
       "      <td>0.087062</td>\n",
       "      <td>0.05951</td>\n",
       "      <td>0.035733</td>\n",
       "      <td>0.032163</td>\n",
       "      <td>0.044464</td>\n",
       "      <td>0.04758</td>\n",
       "      <td>0.057072</td>\n",
       "      <td>0.044065</td>\n",
       "      <td>0.079976</td>\n",
       "      <td>0.024797</td>\n",
       "    </tr>\n",
       "    <tr>\n",
       "      <th>ev_I</th>\n",
       "      <td>1/day</td>\n",
       "      <td>36.801622</td>\n",
       "      <td>12.0</td>\n",
       "      <td>22.0</td>\n",
       "      <td>12.0</td>\n",
       "      <td>56.0</td>\n",
       "      <td>12.0</td>\n",
       "      <td>23.0</td>\n",
       "      <td>52.0</td>\n",
       "      <td>52.0</td>\n",
       "      <td>...</td>\n",
       "      <td>62.0</td>\n",
       "      <td>38.0</td>\n",
       "      <td>60.0</td>\n",
       "      <td>60.0</td>\n",
       "      <td>23.0</td>\n",
       "      <td>10.0</td>\n",
       "      <td>15.0</td>\n",
       "      <td>49.0</td>\n",
       "      <td>62.0</td>\n",
       "      <td>51.0</td>\n",
       "    </tr>\n",
       "    <tr>\n",
       "      <th>load_bld</th>\n",
       "      <td>kWh/day</td>\n",
       "      <td>1360.513273</td>\n",
       "      <td>1307.66125</td>\n",
       "      <td>1093.06325</td>\n",
       "      <td>1244.42225</td>\n",
       "      <td>1584.17925</td>\n",
       "      <td>1379.78725</td>\n",
       "      <td>1322.98975</td>\n",
       "      <td>1408.751</td>\n",
       "      <td>1245.2465</td>\n",
       "      <td>...</td>\n",
       "      <td>1433.473</td>\n",
       "      <td>1327.639</td>\n",
       "      <td>1469.57825</td>\n",
       "      <td>1551.90575</td>\n",
       "      <td>1282.24575</td>\n",
       "      <td>1364.37025</td>\n",
       "      <td>1274.13575</td>\n",
       "      <td>1564.1685</td>\n",
       "      <td>1511.775</td>\n",
       "      <td>1448.07325</td>\n",
       "    </tr>\n",
       "    <tr>\n",
       "      <th>load_ev</th>\n",
       "      <td>kWh/day</td>\n",
       "      <td>285.368257</td>\n",
       "      <td>79.827734</td>\n",
       "      <td>181.209184</td>\n",
       "      <td>92.60034</td>\n",
       "      <td>422.183753</td>\n",
       "      <td>107.149272</td>\n",
       "      <td>151.020114</td>\n",
       "      <td>422.360024</td>\n",
       "      <td>450.158503</td>\n",
       "      <td>...</td>\n",
       "      <td>390.751553</td>\n",
       "      <td>333.053061</td>\n",
       "      <td>427.386735</td>\n",
       "      <td>440.891837</td>\n",
       "      <td>147.206803</td>\n",
       "      <td>74.456939</td>\n",
       "      <td>117.493197</td>\n",
       "      <td>408.748458</td>\n",
       "      <td>521.55034</td>\n",
       "      <td>455.394587</td>\n",
       "    </tr>\n",
       "    <tr>\n",
       "      <th>load_tot</th>\n",
       "      <td>kWh/day</td>\n",
       "      <td>1645.88153</td>\n",
       "      <td>1387.488984</td>\n",
       "      <td>1274.272434</td>\n",
       "      <td>1337.02259</td>\n",
       "      <td>2006.363003</td>\n",
       "      <td>1486.936522</td>\n",
       "      <td>1474.009864</td>\n",
       "      <td>1831.111024</td>\n",
       "      <td>1695.405003</td>\n",
       "      <td>...</td>\n",
       "      <td>1824.224553</td>\n",
       "      <td>1660.692061</td>\n",
       "      <td>1896.964985</td>\n",
       "      <td>1992.797587</td>\n",
       "      <td>1429.452553</td>\n",
       "      <td>1438.827189</td>\n",
       "      <td>1391.628947</td>\n",
       "      <td>1972.916958</td>\n",
       "      <td>2033.32534</td>\n",
       "      <td>1903.467837</td>\n",
       "    </tr>\n",
       "    <tr>\n",
       "      <th>load_pv</th>\n",
       "      <td>kWh/day</td>\n",
       "      <td>673.933099</td>\n",
       "      <td>969.860208</td>\n",
       "      <td>550.262121</td>\n",
       "      <td>1009.723664</td>\n",
       "      <td>190.500043</td>\n",
       "      <td>687.479788</td>\n",
       "      <td>1003.935014</td>\n",
       "      <td>496.490696</td>\n",
       "      <td>710.452738</td>\n",
       "      <td>...</td>\n",
       "      <td>599.442918</td>\n",
       "      <td>503.904448</td>\n",
       "      <td>260.149125</td>\n",
       "      <td>392.798277</td>\n",
       "      <td>982.540633</td>\n",
       "      <td>827.905501</td>\n",
       "      <td>639.428484</td>\n",
       "      <td>404.131475</td>\n",
       "      <td>888.39313</td>\n",
       "      <td>71.21392</td>\n",
       "    </tr>\n",
       "    <tr>\n",
       "      <th>grid_import</th>\n",
       "      <td>kWh/day</td>\n",
       "      <td>990.941305</td>\n",
       "      <td>485.229997</td>\n",
       "      <td>735.035944</td>\n",
       "      <td>349.701206</td>\n",
       "      <td>1829.52461</td>\n",
       "      <td>811.41069</td>\n",
       "      <td>484.338931</td>\n",
       "      <td>1346.139742</td>\n",
       "      <td>997.634012</td>\n",
       "      <td>...</td>\n",
       "      <td>1236.821341</td>\n",
       "      <td>1167.196174</td>\n",
       "      <td>1647.831818</td>\n",
       "      <td>1616.008802</td>\n",
       "      <td>461.817417</td>\n",
       "      <td>625.18577</td>\n",
       "      <td>766.487366</td>\n",
       "      <td>1582.674181</td>\n",
       "      <td>1158.487692</td>\n",
       "      <td>1847.089032</td>\n",
       "    </tr>\n",
       "    <tr>\n",
       "      <th>grid_export</th>\n",
       "      <td>kWh/day</td>\n",
       "      <td>5.978601</td>\n",
       "      <td>53.276404</td>\n",
       "      <td>0.0</td>\n",
       "      <td>8.138198</td>\n",
       "      <td>0.0</td>\n",
       "      <td>0.0</td>\n",
       "      <td>0.0</td>\n",
       "      <td>0.0</td>\n",
       "      <td>0.0</td>\n",
       "      <td>...</td>\n",
       "      <td>0.0</td>\n",
       "      <td>0.0</td>\n",
       "      <td>0.0</td>\n",
       "      <td>0.0</td>\n",
       "      <td>0.641416</td>\n",
       "      <td>0.0</td>\n",
       "      <td>0.0</td>\n",
       "      <td>0.0</td>\n",
       "      <td>0.0</td>\n",
       "      <td>0.0</td>\n",
       "    </tr>\n",
       "    <tr>\n",
       "      <th>grid_max</th>\n",
       "      <td>kW</td>\n",
       "      <td>112.577157</td>\n",
       "      <td>39.113794</td>\n",
       "      <td>39.900104</td>\n",
       "      <td>28.673762</td>\n",
       "      <td>102.302008</td>\n",
       "      <td>49.809979</td>\n",
       "      <td>38.185223</td>\n",
       "      <td>68.872611</td>\n",
       "      <td>56.55333</td>\n",
       "      <td>...</td>\n",
       "      <td>61.957339</td>\n",
       "      <td>62.930007</td>\n",
       "      <td>88.970373</td>\n",
       "      <td>93.351923</td>\n",
       "      <td>33.876868</td>\n",
       "      <td>48.396281</td>\n",
       "      <td>41.658546</td>\n",
       "      <td>85.157314</td>\n",
       "      <td>58.58912</td>\n",
       "      <td>112.577157</td>\n",
       "    </tr>\n",
       "    <tr>\n",
       "      <th>import_cost</th>\n",
       "      <td>$/day</td>\n",
       "      <td>153.400437</td>\n",
       "      <td>86.36782</td>\n",
       "      <td>120.677546</td>\n",
       "      <td>60.099517</td>\n",
       "      <td>269.52277</td>\n",
       "      <td>138.633259</td>\n",
       "      <td>85.597677</td>\n",
       "      <td>205.187375</td>\n",
       "      <td>145.471484</td>\n",
       "      <td>...</td>\n",
       "      <td>189.129119</td>\n",
       "      <td>171.651232</td>\n",
       "      <td>244.022744</td>\n",
       "      <td>235.817042</td>\n",
       "      <td>81.077598</td>\n",
       "      <td>113.152946</td>\n",
       "      <td>123.693337</td>\n",
       "      <td>233.505102</td>\n",
       "      <td>181.378974</td>\n",
       "      <td>265.978663</td>\n",
       "    </tr>\n",
       "    <tr>\n",
       "      <th>export_revenue</th>\n",
       "      <td>$/day</td>\n",
       "      <td>0.600658</td>\n",
       "      <td>5.035772</td>\n",
       "      <td>0.0</td>\n",
       "      <td>0.917941</td>\n",
       "      <td>0.0</td>\n",
       "      <td>0.0</td>\n",
       "      <td>0.0</td>\n",
       "      <td>0.0</td>\n",
       "      <td>0.0</td>\n",
       "      <td>...</td>\n",
       "      <td>0.0</td>\n",
       "      <td>0.0</td>\n",
       "      <td>0.0</td>\n",
       "      <td>0.0</td>\n",
       "      <td>0.093903</td>\n",
       "      <td>0.0</td>\n",
       "      <td>0.0</td>\n",
       "      <td>0.0</td>\n",
       "      <td>0.0</td>\n",
       "      <td>0.0</td>\n",
       "    </tr>\n",
       "  </tbody>\n",
       "</table>\n",
       "<p>26 rows × 22 columns</p>\n",
       "</div>"
      ],
      "text/plain": [
       "                    unit          All            0            1            2  \\\n",
       "TCO                $/day   203.854167          NaN          NaN          NaN   \n",
       "TCO_est            $/day   203.460416          NaN          NaN          NaN   \n",
       "OPEX               $/day   186.854687   104.800324   144.617609    76.385833   \n",
       "CAPEX              $/day     16.99948          NaN          NaN          NaN   \n",
       "CAPEX_est          $/day    16.605729          NaN          NaN          NaN   \n",
       "bat_capacity         kWh          353          NaN          NaN          NaN   \n",
       "eq_bat_capacity       hr     6.227062          NaN          NaN          NaN   \n",
       "eq_cycles          1/day     0.963143     1.115763     0.814894     1.110227   \n",
       "eq_cycles_est      1/day     0.940834     1.089597     0.705734     1.107883   \n",
       "eq_rate            $/kWh     0.123857          NaN          NaN          NaN   \n",
       "eq_rate_est        $/kWh     0.123618          NaN          NaN          NaN   \n",
       "eq_rate_opex       $/kWh     0.110265     0.075532      0.11349     0.057131   \n",
       "eq_rate_null       $/kWh          NaN          NaN          NaN          NaN   \n",
       "demand_charge      $/day    34.054908    23.468276    23.940063    17.204257   \n",
       "tou_cost           $/day   152.799779    81.332048   120.677546    59.181576   \n",
       "prob                   1          NaN     0.040744     0.058014     0.043774   \n",
       "ev_I               1/day    36.801622         12.0         22.0         12.0   \n",
       "load_bld         kWh/day  1360.513273   1307.66125   1093.06325   1244.42225   \n",
       "load_ev          kWh/day   285.368257    79.827734   181.209184     92.60034   \n",
       "load_tot         kWh/day   1645.88153  1387.488984  1274.272434   1337.02259   \n",
       "load_pv          kWh/day   673.933099   969.860208   550.262121  1009.723664   \n",
       "grid_import      kWh/day   990.941305   485.229997   735.035944   349.701206   \n",
       "grid_export      kWh/day     5.978601    53.276404          0.0     8.138198   \n",
       "grid_max              kW   112.577157    39.113794    39.900104    28.673762   \n",
       "import_cost        $/day   153.400437     86.36782   120.677546    60.099517   \n",
       "export_revenue     $/day     0.600658     5.035772          0.0     0.917941   \n",
       "\n",
       "                           3            4            5            6  \\\n",
       "TCO                      NaN          NaN          NaN          NaN   \n",
       "TCO_est                  NaN          NaN          NaN          NaN   \n",
       "OPEX              330.903975   168.519246   108.508811   246.510942   \n",
       "CAPEX                    NaN          NaN          NaN          NaN   \n",
       "CAPEX_est                NaN          NaN          NaN          NaN   \n",
       "bat_capacity             NaN          NaN          NaN          NaN   \n",
       "eq_bat_capacity          NaN          NaN          NaN          NaN   \n",
       "eq_cycles            0.90935     0.898743     1.110227     0.788181   \n",
       "eq_cycles_est       0.938425     0.836684     1.092142     0.734538   \n",
       "eq_rate                  NaN          NaN          NaN          NaN   \n",
       "eq_rate_est              NaN          NaN          NaN          NaN   \n",
       "eq_rate_opex        0.164927     0.113333     0.073615     0.134624   \n",
       "eq_rate_null             NaN          NaN          NaN          NaN   \n",
       "demand_charge      61.381205    29.885988    22.911134    41.323567   \n",
       "tou_cost           269.52277   138.633259    85.597677   205.187375   \n",
       "prob                0.027575     0.058368     0.045519     0.060964   \n",
       "ev_I                    56.0         12.0         23.0         52.0   \n",
       "load_bld          1584.17925   1379.78725   1322.98975     1408.751   \n",
       "load_ev           422.183753   107.149272   151.020114   422.360024   \n",
       "load_tot         2006.363003  1486.936522  1474.009864  1831.111024   \n",
       "load_pv           190.500043   687.479788  1003.935014   496.490696   \n",
       "grid_import       1829.52461    811.41069   484.338931  1346.139742   \n",
       "grid_export              0.0          0.0          0.0          0.0   \n",
       "grid_max          102.302008    49.809979    38.185223    68.872611   \n",
       "import_cost        269.52277   138.633259    85.597677   205.187375   \n",
       "export_revenue           0.0          0.0          0.0          0.0   \n",
       "\n",
       "                           7  ...           10           11           12  \\\n",
       "TCO                      NaN  ...          NaN          NaN          NaN   \n",
       "TCO_est                  NaN  ...          NaN          NaN          NaN   \n",
       "OPEX              179.403482  ...   226.303522   209.409236   297.404968   \n",
       "CAPEX                    NaN  ...          NaN          NaN          NaN   \n",
       "CAPEX_est                NaN  ...          NaN          NaN          NaN   \n",
       "bat_capacity             NaN  ...          NaN          NaN          NaN   \n",
       "eq_bat_capacity          NaN  ...          NaN          NaN          NaN   \n",
       "eq_cycles           0.950036  ...     0.881218     0.754397     0.718958   \n",
       "eq_cycles_est       0.948258  ...     0.822429     0.696358     0.808408   \n",
       "eq_rate                  NaN  ...          NaN          NaN          NaN   \n",
       "eq_rate_est              NaN  ...          NaN          NaN          NaN   \n",
       "eq_rate_opex        0.105817  ...     0.124055     0.126098     0.156779   \n",
       "eq_rate_null             NaN  ...          NaN          NaN          NaN   \n",
       "demand_charge      33.931998  ...    37.174404    37.758004    53.382224   \n",
       "tou_cost          145.471484  ...   189.129119   171.651232   244.022744   \n",
       "prob                 0.06742  ...     0.087062      0.05951     0.035733   \n",
       "ev_I                    52.0  ...         62.0         38.0         60.0   \n",
       "load_bld           1245.2465  ...     1433.473     1327.639   1469.57825   \n",
       "load_ev           450.158503  ...   390.751553   333.053061   427.386735   \n",
       "load_tot         1695.405003  ...  1824.224553  1660.692061  1896.964985   \n",
       "load_pv           710.452738  ...   599.442918   503.904448   260.149125   \n",
       "grid_import       997.634012  ...  1236.821341  1167.196174  1647.831818   \n",
       "grid_export              0.0  ...          0.0          0.0          0.0   \n",
       "grid_max            56.55333  ...    61.957339    62.930007    88.970373   \n",
       "import_cost       145.471484  ...   189.129119   171.651232   244.022744   \n",
       "export_revenue           0.0  ...          0.0          0.0          0.0   \n",
       "\n",
       "                          13           14           15           16  \\\n",
       "TCO                      NaN          NaN          NaN          NaN   \n",
       "TCO_est                  NaN          NaN          NaN          NaN   \n",
       "OPEX              291.828196   101.309816   142.190714   148.688464   \n",
       "CAPEX                    NaN          NaN          NaN          NaN   \n",
       "CAPEX_est                NaN          NaN          NaN          NaN   \n",
       "bat_capacity             NaN          NaN          NaN          NaN   \n",
       "eq_bat_capacity          NaN          NaN          NaN          NaN   \n",
       "eq_cycles           1.096693     1.110227     1.110227     1.088416   \n",
       "eq_cycles_est       1.052446     1.101824     1.061086     1.061801   \n",
       "eq_rate                  NaN          NaN          NaN          NaN   \n",
       "eq_rate_est              NaN          NaN          NaN          NaN   \n",
       "eq_rate_opex        0.146441     0.070873     0.098824     0.106845   \n",
       "eq_rate_null             NaN          NaN          NaN          NaN   \n",
       "demand_charge      56.011154    20.326121    29.037768    24.995127   \n",
       "tou_cost          235.817042    80.983695   113.152946   123.693337   \n",
       "prob                0.032163     0.044464      0.04758     0.057072   \n",
       "ev_I                    60.0         23.0         10.0         15.0   \n",
       "load_bld          1551.90575   1282.24575   1364.37025   1274.13575   \n",
       "load_ev           440.891837   147.206803    74.456939   117.493197   \n",
       "load_tot         1992.797587  1429.452553  1438.827189  1391.628947   \n",
       "load_pv           392.798277   982.540633   827.905501   639.428484   \n",
       "grid_import      1616.008802   461.817417    625.18577   766.487366   \n",
       "grid_export              0.0     0.641416          0.0          0.0   \n",
       "grid_max           93.351923    33.876868    48.396281    41.658546   \n",
       "import_cost       235.817042    81.077598   113.152946   123.693337   \n",
       "export_revenue           0.0     0.093903          0.0          0.0   \n",
       "\n",
       "                          17           18           19  \n",
       "TCO                      NaN          NaN          NaN  \n",
       "TCO_est                  NaN          NaN          NaN  \n",
       "OPEX               284.59949   216.532446   333.524957  \n",
       "CAPEX                    NaN          NaN          NaN  \n",
       "CAPEX_est                NaN          NaN          NaN  \n",
       "bat_capacity             NaN          NaN          NaN  \n",
       "eq_bat_capacity          NaN          NaN          NaN  \n",
       "eq_cycles           0.951104     1.029403     1.005463  \n",
       "eq_cycles_est       0.987383     1.005269     1.047402  \n",
       "eq_rate                  NaN          NaN          NaN  \n",
       "eq_rate_est              NaN          NaN          NaN  \n",
       "eq_rate_opex        0.144253     0.106492      0.17522  \n",
       "eq_rate_null             NaN          NaN          NaN  \n",
       "demand_charge      51.094389    35.153472    67.546294  \n",
       "tou_cost          233.505102   181.378974   265.978663  \n",
       "prob                0.044065     0.079976     0.024797  \n",
       "ev_I                    49.0         62.0         51.0  \n",
       "load_bld           1564.1685     1511.775   1448.07325  \n",
       "load_ev           408.748458    521.55034   455.394587  \n",
       "load_tot         1972.916958   2033.32534  1903.467837  \n",
       "load_pv           404.131475    888.39313     71.21392  \n",
       "grid_import      1582.674181  1158.487692  1847.089032  \n",
       "grid_export              0.0          0.0          0.0  \n",
       "grid_max           85.157314     58.58912   112.577157  \n",
       "import_cost       233.505102   181.378974   265.978663  \n",
       "export_revenue           0.0          0.0          0.0  \n",
       "\n",
       "[26 rows x 22 columns]"
      ]
     },
     "execution_count": 11,
     "metadata": {},
     "output_type": "execute_result"
    }
   ],
   "source": [
    "df = sol.sol_summary()\n",
    "df.T"
   ]
  },
  {
   "cell_type": "code",
   "execution_count": 15,
   "metadata": {},
   "outputs": [
    {
     "data": {
      "text/plain": [
       "(0.6, 1, 1.5, 1.8)"
      ]
     },
     "execution_count": 15,
     "metadata": {},
     "output_type": "execute_result"
    }
   ],
   "source": [
    "opt.cache[\"params\"][\"deg_lambda_opt\"]"
   ]
  },
  {
   "cell_type": "code",
   "execution_count": 26,
   "metadata": {},
   "outputs": [
    {
     "data": {
      "text/plain": [
       "array([0.36555828345226044, 0.13751100116213952, 0.30690107034849806,\n",
       "       0.1074353553935508, 0.17230086756444843, 0.28457495853191617,\n",
       "       0.06662867937819679, 0.11890107254456535, 0.16647246605094537,\n",
       "       0.4131486187770881, 0.10215166140797677, 0.060109684566353426,\n",
       "       0.08527982781489045, 0.08957371312465519, 0.27685376332855344,\n",
       "       0.25566361997272713, 0.19803204388344034, 0.0901961943989108,\n",
       "       0.12603213529270052, 0.07309290721256295], dtype=object)"
      ]
     },
     "execution_count": 26,
     "metadata": {},
     "output_type": "execute_result"
    }
   ],
   "source": [
    "df[\"eq_cycles_est\"].values[2:]"
   ]
  },
  {
   "cell_type": "code",
   "execution_count": 38,
   "metadata": {},
   "outputs": [],
   "source": [
    "hist = sol.cycle_history[2]"
   ]
  },
  {
   "cell_type": "code",
   "execution_count": 39,
   "metadata": {},
   "outputs": [
    {
     "data": {
      "text/plain": [
       "[<matplotlib.lines.Line2D at 0x2d403195040>]"
      ]
     },
     "execution_count": 39,
     "metadata": {},
     "output_type": "execute_result"
    },
    {
     "data": {
      "image/png": "[encoded data removed]",
      "text/plain": [
       "<Figure size 640x480 with 1 Axes>"
      ]
     },
     "metadata": {},
     "output_type": "display_data"
    }
   ],
   "source": [
    "plt.plot(sol.sol[\"bat_e\"][0]/sol.sol[\"bat_capacity\"])"
   ]
  },
  {
   "cell_type": "code",
   "execution_count": 37,
   "metadata": {},
   "outputs": [
    {
     "data": {
      "text/plain": [
       "'a2'"
      ]
     },
     "execution_count": 37,
     "metadata": {},
     "output_type": "execute_result"
    }
   ],
   "source": [
    "b = 2\n",
    "\"a{}\".format(b)"
   ]
  },
  {
   "cell_type": "code",
   "execution_count": 40,
   "metadata": {},
   "outputs": [
    {
     "name": "stdout",
     "output_type": "stream",
     "text": [
      "throughput 1.000204081632653\n",
      "Crate 0.855309717359965\n",
      "rainflow 1.113618160479359\n",
      "DOD 1.110226530612245\n"
     ]
    },
    {
     "data": {
      "text/plain": [
       "<matplotlib.legend.Legend at 0x2d40338d3a0>"
      ]
     },
     "execution_count": 40,
     "metadata": {},
     "output_type": "execute_result"
    },
    {
     "data": {
      "image/png": "[encoded data removed]",
      "text/plain": [
       "<Figure size 640x480 with 1 Axes>"
      ]
     },
     "metadata": {},
     "output_type": "display_data"
    }
   ],
   "source": [
    "for m in hist.keys():\n",
    "    y = np.array(hist[m])\n",
    "    plt.plot(range(96), y.cumsum(), label=m)\n",
    "    print(m, y.sum())\n",
    "plt.legend()"
   ]
  },
  {
   "cell_type": "code",
   "execution_count": 16,
   "metadata": {},
   "outputs": [
    {
     "data": {
      "text/plain": [
       "array([1.])"
      ]
     },
     "execution_count": 16,
     "metadata": {},
     "output_type": "execute_result"
    }
   ],
   "source": [
    "np.array(sol.params[\"S_prob\"])"
   ]
  },
  {
   "cell_type": "code",
   "execution_count": 7,
   "metadata": {},
   "outputs": [
    {
     "data": {
      "text/plain": [
       "165.4305782514324"
      ]
     },
     "execution_count": 7,
     "metadata": {},
     "output_type": "execute_result"
    }
   ],
   "source": [
    "sol.battery.params[\"bat_capacity\"]"
   ]
  },
  {
   "cell_type": "code",
   "execution_count": 8,
   "metadata": {},
   "outputs": [],
   "source": [
    "sol.battery_est.params[\"bat_capacity\"]"
   ]
  },
  {
   "cell_type": "code",
   "execution_count": 5,
   "metadata": {},
   "outputs": [
    {
     "name": "stdout",
     "output_type": "stream",
     "text": [
      "throughput 0.6839943408272132\n",
      "Crate 0.6312607244695773\n",
      "rainflow 0.5471954726617707\n",
      "DOD 1.059070871439458\n"
     ]
    },
    {
     "data": {
      "image/png": "[encoded data removed]",
      "text/plain": [
       "<Figure size 640x480 with 1 Axes>"
      ]
     },
     "metadata": {},
     "output_type": "display_data"
    }
   ],
   "source": [
    "cycle_history = opt.cache[\"cycle_history\"][0]\n",
    "for m in cycle_history.keys():\n",
    "    plt.plot(range(96), np.array(cycle_history[m]), label=m)\n",
    "    print(m, sum(cycle_history[m]))\n",
    "    plt.legend()"
   ]
  },
  {
   "cell_type": "code",
   "execution_count": 6,
   "metadata": {},
   "outputs": [
    {
     "data": {
      "text/plain": [
       "array([1.36986301])"
      ]
     },
     "execution_count": 6,
     "metadata": {},
     "output_type": "execute_result"
    }
   ],
   "source": [
    "sol[\"eq_cycles\"]"
   ]
  },
  {
   "cell_type": "code",
   "execution_count": 18,
   "metadata": {},
   "outputs": [
    {
     "data": {
      "text/plain": [
       "[<matplotlib.lines.Line2D at 0x1c356e9f940>]"
      ]
     },
     "execution_count": 18,
     "metadata": {},
     "output_type": "execute_result"
    },
    {
     "data": {
      "image/png": "[encoded data removed]",
      "text/plain": [
       "<Figure size 640x480 with 1 Axes>"
      ]
     },
     "metadata": {},
     "output_type": "display_data"
    }
   ],
   "source": [
    "plt.plot(cycle_history[\"DOD\"])\n",
    "plt.plot(sol[\"bat_p\"][0]/500)\n",
    "plt.plot(sol[\"bat_e\"][0]/1000)"
   ]
  },
  {
   "cell_type": "code",
   "execution_count": 8,
   "metadata": {},
   "outputs": [],
   "source": [
    "delta = 0.25\n",
    "e_prev = sol[\"bat_e\"][0][0]\n",
    "ps = sol[\"bat_p\"][0]\n",
    "bat_capacity = sol[\"bat_capacity\"]\n",
    "eta = 0.98\n",
    "ps_eta = np.maximum(ps, 0)/eta + np.minimum(ps, 0)*eta\n",
    "es = np.zeros(len(ps)+1)\n",
    "es[0] = e_prev\n",
    "es[1:] = e_prev - ps_eta.cumsum()*delta\n",
    "\n",
    "thres = np.array((0.25,0.25,0.25,0.25)) * bat_capacity    # shape = (J,)\n",
    "lams = np.array((2,1.5,1, 0.8))\n",
    "thres_cum = thres.cumsum() - thres\n",
    "\n",
    "e_js = np.clip(es - thres_cum[:,None], 0, thres[:,None]) # shape = (J, N+1)\n",
    "p_js_eta = (e_js[:,1:] - e_js[:,:-1])/delta     # shape = (J, N)\n",
    "p_js = np.maximum(p_js_eta, 0)/eta + np.minimum(p_js_eta, 0)*eta\n",
    "eq_cycles = (np.abs(p_js) * lams[:,None]).sum(axis=0) * (0.5 * 0.25 / bat_capacity)"
   ]
  },
  {
   "cell_type": "code",
   "execution_count": 11,
   "metadata": {},
   "outputs": [
    {
     "data": {
      "text/plain": [
       "[<matplotlib.lines.Line2D at 0x2d90840b280>]"
      ]
     },
     "execution_count": 11,
     "metadata": {},
     "output_type": "execute_result"
    },
    {
     "data": {
      "image/png": "[encoded data removed]",
      "text/plain": [
       "<Figure size 640x480 with 1 Axes>"
      ]
     },
     "metadata": {},
     "output_type": "display_data"
    }
   ],
   "source": [
    "for i in range(4):\n",
    "    low = 0 if i == 0 else p_js[:i].sum(axis=0)\n",
    "    plt.bar(range(96), p_js[i], bottom=low)\n",
    "plt.plot(- sol[\"bat_p\"][0])"
   ]
  },
  {
   "cell_type": "code",
   "execution_count": 3,
   "metadata": {},
   "outputs": [],
   "source": [
    "from predictor import Predictor_tou_CAISO, Predictor_tou_SDGE_DA"
   ]
  },
  {
   "cell_type": "code",
   "execution_count": 4,
   "metadata": {},
   "outputs": [],
   "source": [
    "from datetime import datetime"
   ]
  },
  {
   "cell_type": "code",
   "execution_count": 6,
   "metadata": {},
   "outputs": [],
   "source": [
    "tou1 = Predictor_tou_CAISO(None)\n",
    "pred1 = tou1.get_prediction(datetime(2019,1,1,0,0), 24, 1)\n",
    "tou2 = Predictor_tou_SDGE_DA(None)\n",
    "pred2 = tou2.get_prediction(datetime(2019,1,1,0,0), 24, 1)"
   ]
  },
  {
   "cell_type": "code",
   "execution_count": 7,
   "metadata": {},
   "outputs": [
    {
     "data": {
      "text/plain": [
       "[<matplotlib.lines.Line2D at 0x20c472df700>]"
      ]
     },
     "execution_count": 7,
     "metadata": {},
     "output_type": "execute_result"
    },
    {
     "data": {
      "image/png": "[encoded data removed]",
      "text/plain": [
       "<Figure size 640x480 with 1 Axes>"
      ]
     },
     "metadata": {},
     "output_type": "display_data"
    }
   ],
   "source": [
    "plt.plot(pred1)\n",
    "plt.plot(pred2)"
   ]
  }
 ],
 "metadata": {
  "kernelspec": {
   "display_name": "Python 3.8.13 ('base38')",
   "language": "python",
   "name": "python3"
  },
  "language_info": {
   "codemirror_mode": {
    "name": "ipython",
    "version": 3
   },
   "file_extension": ".py",
   "mimetype": "text/x-python",
   "name": "python",
   "nbconvert_exporter": "python",
   "pygments_lexer": "ipython3",
   "version": "3.8.13"
  },
  "orig_nbformat": 4,
  "vscode": {
   "interpreter": {
    "hash": "36b8ef5e90b4565f39e4ee30985d245a4b431dcf823e4c8bf20a830c7f93b6dd"
   }
  }
 },
 "nbformat": 4,
 "nbformat_minor": 2
}
