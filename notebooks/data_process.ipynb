{
 "cells": [
  {
   "cell_type": "code",
   "execution_count": 1,
   "metadata": {},
   "outputs": [],
   "source": [
    "import os\n",
    "import sys\n",
    "import numpy as np\n",
    "import pandas as pd\n",
    "import itertools"
   ]
  },
  {
   "cell_type": "code",
   "execution_count": 44,
   "metadata": {},
   "outputs": [],
   "source": [
    "import os\n",
    "import pandas as pd\n",
    "\n",
    "def merge_xlsx(src_path, save_fn, index_col=0, reindex=True):\n",
    "    file_names = os.listdir(src_path)\n",
    "    postfix_names_types = set()\n",
    "    postfix_names = []\n",
    "    \n",
    "    if len(file_names) == 0:\n",
    "        raise Exception(\"No files found in the source directory!\")\n",
    "    \n",
    "    for name in file_names:\n",
    "        postfix = os.path.splitext(name)[1]\n",
    "        postfix_names_types.add(postfix)\n",
    "        postfix_names.append(postfix)\n",
    "\n",
    "    if len(postfix_names_types) == 1 and (list(postfix_names_types)[0] in ['.xlsx', '.csv']):\n",
    "        pass\n",
    "    else:\n",
    "        raise Exception(\"Invalid input file type: {}\".format(postfix_names[0]))\n",
    "    \n",
    "    fns = []\n",
    "    for i in range(len(file_names)):\n",
    "        file_path = os.path.join(src_path, file_names[i])\n",
    "        if file_names[i]==save_fn:\n",
    "            raise Exception(\"file {} already exists in the folder\".format(save_fn))\n",
    "        print(file_path)\n",
    "        if list(postfix_names)[i] == '.xlsx':\n",
    "            #tmp=pd.read_excel(file_path,index_col=index_col)\n",
    "            #print(tmp.info())\n",
    "            fns.append(pd.read_excel(file_path,index_col=index_col))\n",
    "        elif list(postfix_names)[i] == '.csv':\n",
    "            fns.append(pd.read_csv(file_path,index_col=index_col))\n",
    "    \n",
    "    if len(fns) == 0:\n",
    "        raise Exception(\"No objects to concatenate!\")\n",
    "    \n",
    "    merged_df = pd.concat(fns)\n",
    "    \n",
    "    if reindex:\n",
    "        merged_df.reset_index(drop=True, inplace=True)\n",
    "    save_path=os.path.join(src_path,save_fn)\n",
    "    merged_df.index.name=\"id\"\n",
    "    merged_df.to_excel(save_path, index=True)\n"
   ]
  },
  {
   "cell_type": "code",
   "execution_count": 45,
   "metadata": {},
   "outputs": [
    {
     "name": "stdout",
     "output_type": "stream",
     "text": [
      "C:\\Users\\Lunlo\\Desktop\\experiments\\simple_pv_bld_search\\Simple_pv_bld_search_1.xlsx\n",
      "C:\\Users\\Lunlo\\Desktop\\experiments\\simple_pv_bld_search\\Simple_pv_bld_search_2.xlsx\n",
      "C:\\Users\\Lunlo\\Desktop\\experiments\\simple_pv_bld_search\\Simple_pv_bld_search_3.xlsx\n",
      "C:\\Users\\Lunlo\\Desktop\\experiments\\simple_pv_bld_search\\Simple_pv_bld_search_4.xlsx\n",
      "C:\\Users\\Lunlo\\Desktop\\experiments\\simple_pv_bld_search\\Simple_pv_bld_search_5.xlsx\n",
      "C:\\Users\\Lunlo\\Desktop\\experiments\\simple_pv_bld_search\\Simple_pv_bld_search_6.xlsx\n"
     ]
    }
   ],
   "source": [
    "merge_xlsx(src_path=r'C:\\Users\\Lunlo\\Desktop\\experiments\\simple_pv_bld_search',\n",
    "           save_fn='merged.xlsx')"
   ]
  }
 ],
 "metadata": {
  "kernelspec": {
   "display_name": "gurobi",
   "language": "python",
   "name": "python3"
  },
  "language_info": {
   "codemirror_mode": {
    "name": "ipython",
    "version": 3
   },
   "file_extension": ".py",
   "mimetype": "text/x-python",
   "name": "python",
   "nbconvert_exporter": "python",
   "pygments_lexer": "ipython3",
   "version": "3.8.16"
  },
  "orig_nbformat": 4
 },
 "nbformat": 4,
 "nbformat_minor": 2
}
