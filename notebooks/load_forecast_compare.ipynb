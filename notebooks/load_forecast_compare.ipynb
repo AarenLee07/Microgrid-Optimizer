{
 "cells": [
  {
   "cell_type": "code",
   "execution_count": 1,
   "metadata": {},
   "outputs": [],
   "source": [
    "import os\n",
    "import sys\n",
    "import re\n",
    "import pandas as pd\n",
    "import numpy as np\n",
    "import pandas as pd\n",
    "import numpy as np\n",
    "from datetime import datetime, timedelta\n",
    "import statistics\n",
    "src_path = r\"D:/Codes/GIthub_repo/Energy_grid/data/UCSD_raw_data/PV_ALL.csv\""
   ]
  },
  {
   "cell_type": "code",
   "execution_count": null,
   "metadata": {},
   "outputs": [],
   "source": [
    "data=pd.read_csv(src_path)\n",
    "data=data.drop_duplicates()\n",
    "data=data.sort_values(by=\"DateTime\")\n",
    "data[\"DateTime\"]=pd.to_datetime(data[\"DateTime\"])\n",
    "data=data.set_index(\"DateTime\")\n",
    "pred=data.sort_values(by=\"DateTime\")"
   ]
  },
  {
   "cell_type": "code",
   "execution_count": null,
   "metadata": {},
   "outputs": [],
   "source": [
    "data"
   ]
  },
  {
   "cell_type": "code",
   "execution_count": null,
   "metadata": {},
   "outputs": [],
   "source": [
    "#2004-12-1是时间序列开始的时间，并以月为间隔\n",
    "rng = pd.date_range(start=data.index.min(),end=data.index.max(), freq = '15min')\n",
    "pd_rng=pd.DataFrame(rng)\n",
    "s = pd.Series(rng)"
   ]
  },
  {
   "cell_type": "code",
   "execution_count": null,
   "metadata": {},
   "outputs": [],
   "source": [
    "type(pd_rng)"
   ]
  },
  {
   "cell_type": "code",
   "execution_count": null,
   "metadata": {},
   "outputs": [],
   "source": [
    "pd_rng=pd_rng.rename(columns={0:'DateTime'}).copy()"
   ]
  },
  {
   "cell_type": "code",
   "execution_count": null,
   "metadata": {},
   "outputs": [],
   "source": [
    "pd_rng"
   ]
  },
  {
   "cell_type": "code",
   "execution_count": null,
   "metadata": {},
   "outputs": [],
   "source": [
    "data=pd.merge(data,pd_rng,on='DateTime',how='right')"
   ]
  },
  {
   "cell_type": "code",
   "execution_count": null,
   "metadata": {},
   "outputs": [],
   "source": [
    "data"
   ]
  },
  {
   "cell_type": "code",
   "execution_count": null,
   "metadata": {},
   "outputs": [],
   "source": [
    "data['pred'] = data.apply(lambda x: [], axis=1)"
   ]
  },
  {
   "cell_type": "code",
   "execution_count": null,
   "metadata": {},
   "outputs": [],
   "source": [
    "data_n=data.loc[:959]"
   ]
  },
  {
   "cell_type": "code",
   "execution_count": null,
   "metadata": {},
   "outputs": [],
   "source": [
    "len(data_n)"
   ]
  },
  {
   "cell_type": "code",
   "execution_count": null,
   "metadata": {},
   "outputs": [],
   "source": [
    "data_n['DateTime']=pd.to_datetime(data_n['DateTime'])\n",
    "data_n=data_n.set_index('DateTime')"
   ]
  },
  {
   "cell_type": "code",
   "execution_count": null,
   "metadata": {},
   "outputs": [],
   "source": [
    "data_n"
   ]
  },
  {
   "cell_type": "code",
   "execution_count": null,
   "metadata": {},
   "outputs": [],
   "source": [
    "K=10\n",
    "days_ahead=3\n",
    "data_n['historical_ave']=None\n",
    "for i in data_n.index:\n",
    "    history=[]\n",
    "    for k in range(days_ahead):\n",
    "        index_ahead=i-timedelta(days=int(k+1))\n",
    "        if index_ahead in data_n.index:\n",
    "            history.append(data_n.at[index_ahead,'RealPower'])\n",
    "        #else:\n",
    "            #history.append(data_n.at[i,'RealPower'])\n",
    "        \n",
    "    data_n.at[i,'historical_ave']=np.mean(history)\n",
    "\n",
    "\n",
    "    \n",
    "    "
   ]
  },
  {
   "cell_type": "code",
   "execution_count": null,
   "metadata": {},
   "outputs": [],
   "source": [
    "data_n=data_n.reset_index()"
   ]
  },
  {
   "cell_type": "code",
   "execution_count": null,
   "metadata": {},
   "outputs": [],
   "source": [
    "data_n.info()"
   ]
  },
  {
   "cell_type": "code",
   "execution_count": null,
   "metadata": {},
   "outputs": [],
   "source": [
    "type(data_n.index[0])"
   ]
  },
  {
   "cell_type": "code",
   "execution_count": null,
   "metadata": {},
   "outputs": [],
   "source": [
    "alpha=0.1\n",
    "last_weights = np.exp(- alpha*(np.arange(K)+1)) if alpha is not None else 0"
   ]
  },
  {
   "cell_type": "code",
   "execution_count": null,
   "metadata": {},
   "outputs": [],
   "source": [
    "last_weights"
   ]
  },
  {
   "cell_type": "code",
   "execution_count": null,
   "metadata": {},
   "outputs": [],
   "source": [
    "data_n"
   ]
  },
  {
   "cell_type": "code",
   "execution_count": null,
   "metadata": {},
   "outputs": [],
   "source": [
    "alpha=0.1\n",
    "for n in range(len(data_n)-K-1):\n",
    "    # \"realpower\" 1st column\n",
    "    last=data_n.iat[n,1]\n",
    "    last_weights = np.exp(- alpha*(np.arange(K)+1)) if alpha is not None else 0\n",
    "    for i in range(K):\n",
    "        #\"historical_ave\" 3rd column, 'Pred' 2nd column\n",
    "        pred_value=last_weights[i]*last+(1-last_weights[i])*data_n.iat[n+i,3]\n",
    "        data_n.iat[n+i,2].append(pred_value)"
   ]
  },
  {
   "cell_type": "code",
   "execution_count": null,
   "metadata": {},
   "outputs": [],
   "source": [
    "data_n.head(-50)"
   ]
  },
  {
   "cell_type": "code",
   "execution_count": null,
   "metadata": {},
   "outputs": [],
   "source": [
    "data_n['pred']=data_n['pred'].map(lambda x: np.nanmean(x))"
   ]
  },
  {
   "cell_type": "code",
   "execution_count": null,
   "metadata": {},
   "outputs": [],
   "source": [
    "data_n['pred_error']=data_n[[\"RealPower\",\"pred\"]].apply(lambda x: abs(x[\"RealPower\"]-x[\"pred\"]),axis=1)"
   ]
  },
  {
   "cell_type": "code",
   "execution_count": null,
   "metadata": {},
   "outputs": [],
   "source": [
    "data_n.head(-50)"
   ]
  },
  {
   "cell_type": "code",
   "execution_count": 215,
   "metadata": {},
   "outputs": [],
   "source": [
    "def get_prediction_Simple(src_path,start_t,end_t,days_ahead,save_path,K,alpha):\n",
    "    \n",
    "    data=pd.read_csv(src_path)\n",
    "    data=data.drop_duplicates()\n",
    "    data=data.sort_values(by=\"DateTime\")\n",
    "    data[\"DateTime\"]=pd.to_datetime(data[\"DateTime\"])\n",
    "    data=data.set_index(\"DateTime\")\n",
    "    pred=data[start_t:end_t]\n",
    "    pred=pred.sort_values(by=\"DateTime\")\n",
    "\n",
    "    #helper dataframe\n",
    "    rng = pd.date_range(start=pred.index.min(),end=pred.index.max(), freq = '15min')\n",
    "    pd_rng=pd.DataFrame(rng)\n",
    "    pd_rng=pd_rng.rename(columns={0:'DateTime'}).copy()\n",
    "\n",
    "    data_n=pd.merge(pred,pd_rng,on='DateTime',how='right')\n",
    "    data_n['RealPower_pred'] = data_n.apply(lambda x: [], axis=1)\n",
    "    data_n['DateTime']=pd.to_datetime(data_n['DateTime'])\n",
    "    data_n=data_n.set_index('DateTime')\n",
    "    data_n['RealPower']=data_n['RealPower'].astype(float)\n",
    "    for i in data_n.index:\n",
    "        if not isinstance(data_n.at[i,'RealPower'],float):\n",
    "            data_n.at[i,'RealPower']=None\n",
    "    \n",
    "    data_n['historical_ave']=None\n",
    "    for i in data_n.index:\n",
    "        history=[]\n",
    "        for k in range(days_ahead):\n",
    "            index_ahead=i-timedelta(days=int(k+1))\n",
    "            if index_ahead in data_n.index:\n",
    "                history.append(data_n.at[index_ahead,'RealPower'])\n",
    "            #else:\n",
    "                #history.append(Null)                 \n",
    "        ave=0\n",
    "        count=0\n",
    "        for m in history:\n",
    "            if isinstance(m,(str,float,int)):\n",
    "                ave=ave+float(m)\n",
    "                count=count+1\n",
    "        if count>0:\n",
    "            ave=ave/count\n",
    "            data_n.at[i,'historical_ave']=ave\n",
    "    data_n=data_n.reset_index()\n",
    "    \n",
    "    last_weights = np.exp(- alpha*(np.arange(K)+1)) if alpha is not None else 0\n",
    "\n",
    "    if 'ReactivePower' in data_n.columns:\n",
    "        data_n=data_n.drop(columns=['ReactivePower'])\n",
    "    print(data_n.head(50))\n",
    "    \n",
    "    for n in range(len(data_n)-K-1):\n",
    "        # \"realpower\" 1st column\n",
    "        last=data_n.iat[n,1]\n",
    "        if not isinstance(last,float):\n",
    "            last=None\n",
    "        #last_weights = np.exp(- alpha*(np.arange(K)+1)) if alpha is not None else 0\n",
    "        for i in range(K):\n",
    "            #\"historical_ave\" 3rd column, 'Pred' 2nd column\n",
    "            share=last_weights[i].copy()\n",
    "            if not isinstance(share,float):\n",
    "                print(last_weights)\n",
    "                print(type(last_weights))\n",
    "                raise Exception('invalid type of last_weights')\n",
    "            if not isinstance(last,(float,None)):\n",
    "                print(last)\n",
    "                print(type(last))\n",
    "                raise Exception('invalid type of last')  \n",
    "            if  data_n.iat[n+i,3] != None:       \n",
    "                if last != None:\n",
    "                    pred_value=share*last+(1-share)*data_n.iat[n+i,3]\n",
    "                else:\n",
    "                    pred_value=data_n.iat[n+i,3]\n",
    "                data_n.iat[n+i,2].append(pred_value)\n",
    "    \n",
    "    data_n['RealPower_pred']=data_n['RealPower_pred'].map(lambda x: np.nanmean(x))\n",
    "    data_n['pred_error']=data_n[[\"RealPower\",\"RealPower_pred\"]].\\\n",
    "        apply(lambda x: abs(x[\"RealPower\"]-x[\"RealPower_pred\"]),axis=1)\n",
    "    \n",
    "    ''' OLDer version of code:\n",
    "    \n",
    "    #pred=pred.set_index(\"DateTime\")\n",
    "    #pred.index = pd.to_datetime(pred.index)\n",
    "    pred[\"RealPower_pred\"]=None\n",
    "    for i in pred.index:\n",
    "        history=[]\n",
    "        for k in range(days_ahead):\n",
    "            index_ahead=i-timedelta(days=k+1)\n",
    "            if index_ahead in pred.index:\n",
    "                history.append(pred.loc[index_ahead,'RealPower'])\n",
    "            else:\n",
    "                history.append(pred.loc[i,'RealPower'])\n",
    "        \n",
    "        pred.loc[i,'RealPower_pred']=np.mean(history)\n",
    "    '''\n",
    "    data_n.to_csv(save_path,index=True)\n",
    "    return data_n"
   ]
  },
  {
   "cell_type": "code",
   "execution_count": 216,
   "metadata": {},
   "outputs": [
    {
     "name": "stdout",
     "output_type": "stream",
     "text": [
      "              DateTime  RealPower RealPower_pred historical_ave\n",
      "0  2019-01-01 00:00:00    121.242             []           None\n",
      "1  2019-01-01 00:15:00    115.773             []           None\n",
      "2  2019-01-01 00:30:00    113.093             []           None\n",
      "3  2019-01-01 00:45:00    111.401             []           None\n",
      "4  2019-01-01 01:00:00    116.448             []           None\n",
      "5  2019-01-01 01:15:00    120.667             []           None\n",
      "6  2019-01-01 01:30:00    121.255             []           None\n",
      "7  2019-01-01 01:45:00    121.994             []           None\n",
      "8  2019-01-01 02:00:00    112.354             []           None\n",
      "9  2019-01-01 02:15:00    112.414             []           None\n",
      "10 2019-01-01 02:30:00    111.501             []           None\n",
      "11 2019-01-01 02:45:00    111.881             []           None\n",
      "12 2019-01-01 03:00:00    112.551             []           None\n",
      "13 2019-01-01 03:15:00    117.543             []           None\n",
      "14 2019-01-01 03:30:00    121.630             []           None\n",
      "15 2019-01-01 03:45:00    116.379             []           None\n",
      "16 2019-01-01 04:00:00    112.703             []           None\n",
      "17 2019-01-01 04:15:00    112.792             []           None\n",
      "18 2019-01-01 04:30:00    112.698             []           None\n",
      "19 2019-01-01 04:45:00    113.923             []           None\n",
      "20 2019-01-01 05:00:00    120.984             []           None\n",
      "21 2019-01-01 05:15:00    116.441             []           None\n",
      "22 2019-01-01 05:30:00    111.812             []           None\n",
      "23 2019-01-01 05:45:00    112.687             []           None\n",
      "24 2019-01-01 06:00:00    113.430             []           None\n",
      "25 2019-01-01 06:15:00    116.007             []           None\n",
      "26 2019-01-01 06:30:00    115.667             []           None\n",
      "27 2019-01-01 06:45:00    103.355             []           None\n",
      "28 2019-01-01 07:00:00    100.089             []           None\n",
      "29 2019-01-01 07:15:00     94.973             []           None\n",
      "30 2019-01-01 07:30:00     93.934             []           None\n",
      "31 2019-01-01 07:45:00     92.753             []           None\n",
      "32 2019-01-01 08:00:00     92.384             []           None\n",
      "33 2019-01-01 08:15:00     94.973             []           None\n",
      "34 2019-01-01 08:30:00     94.486             []           None\n",
      "35 2019-01-01 08:45:00     97.163             []           None\n",
      "36 2019-01-01 09:00:00     97.853             []           None\n",
      "37 2019-01-01 09:15:00     97.075             []           None\n",
      "38 2019-01-01 09:30:00     95.674             []           None\n",
      "39 2019-01-01 09:45:00     95.782             []           None\n",
      "40 2019-01-01 10:00:00     95.863             []           None\n",
      "41 2019-01-01 10:15:00     96.209             []           None\n",
      "42 2019-01-01 10:30:00     98.131             []           None\n",
      "43 2019-01-01 10:45:00     98.638             []           None\n",
      "44 2019-01-01 11:00:00     98.976             []           None\n",
      "45 2019-01-01 11:15:00     97.806             []           None\n",
      "46 2019-01-01 11:30:00     97.796             []           None\n",
      "47 2019-01-01 11:45:00     97.205             []           None\n",
      "48 2019-01-01 12:00:00     97.093             []           None\n",
      "49 2019-01-01 12:15:00     97.902             []           None\n"
     ]
    },
    {
     "name": "stderr",
     "output_type": "stream",
     "text": [
      "C:\\Users\\Lunlo\\AppData\\Local\\Temp\\ipykernel_6060\\392398549.py:75: RuntimeWarning: Mean of empty slice\n",
      "  data_n['RealPower_pred']=data_n['RealPower_pred'].map(lambda x: np.nanmean(x))\n"
     ]
    },
    {
     "name": "stdout",
     "output_type": "stream",
     "text": [
      "              DateTime  RealPower RealPower_pred historical_ave\n",
      "0  2019-01-01 00:00:00     44.292             []           None\n",
      "1  2019-01-01 00:15:00     44.472             []           None\n",
      "2  2019-01-01 00:30:00     44.209             []           None\n",
      "3  2019-01-01 00:45:00     44.409             []           None\n",
      "4  2019-01-01 01:00:00     45.181             []           None\n",
      "5  2019-01-01 01:15:00     44.511             []           None\n",
      "6  2019-01-01 01:30:00     44.312             []           None\n",
      "7  2019-01-01 01:45:00     44.533             []           None\n",
      "8  2019-01-01 02:00:00     44.801             []           None\n",
      "9  2019-01-01 02:15:00     44.480             []           None\n",
      "10 2019-01-01 02:30:00     44.412             []           None\n",
      "11 2019-01-01 02:45:00     44.475             []           None\n",
      "12 2019-01-01 03:00:00     44.848             []           None\n",
      "13 2019-01-01 03:15:00     44.612             []           None\n",
      "14 2019-01-01 03:30:00     44.477             []           None\n",
      "15 2019-01-01 03:45:00     44.372             []           None\n",
      "16 2019-01-01 04:00:00     44.426             []           None\n",
      "17 2019-01-01 04:15:00     44.186             []           None\n",
      "18 2019-01-01 04:30:00     44.314             []           None\n",
      "19 2019-01-01 04:45:00     44.334             []           None\n",
      "20 2019-01-01 05:00:00     44.391             []           None\n",
      "21 2019-01-01 05:15:00     44.324             []           None\n",
      "22 2019-01-01 05:30:00     44.229             []           None\n",
      "23 2019-01-01 05:45:00     44.214             []           None\n",
      "24 2019-01-01 06:00:00     44.309             []           None\n",
      "25 2019-01-01 06:15:00     44.164             []           None\n",
      "26 2019-01-01 06:30:00     44.183             []           None\n",
      "27 2019-01-01 06:45:00     43.957             []           None\n",
      "28 2019-01-01 07:00:00     44.254             []           None\n",
      "29 2019-01-01 07:15:00     44.166             []           None\n",
      "30 2019-01-01 07:30:00     44.046             []           None\n",
      "31 2019-01-01 07:45:00     42.238             []           None\n",
      "32 2019-01-01 08:00:00     40.453             []           None\n",
      "33 2019-01-01 08:15:00     40.548             []           None\n",
      "34 2019-01-01 08:30:00     40.516             []           None\n",
      "35 2019-01-01 08:45:00     40.627             []           None\n",
      "36 2019-01-01 09:00:00     40.710             []           None\n",
      "37 2019-01-01 09:15:00     40.429             []           None\n",
      "38 2019-01-01 09:30:00     40.498             []           None\n",
      "39 2019-01-01 09:45:00     40.558             []           None\n",
      "40 2019-01-01 10:00:00     40.616             []           None\n",
      "41 2019-01-01 10:15:00     40.572             []           None\n",
      "42 2019-01-01 10:30:00     40.753             []           None\n",
      "43 2019-01-01 10:45:00     40.756             []           None\n",
      "44 2019-01-01 11:00:00     40.650             []           None\n",
      "45 2019-01-01 11:15:00     40.690             []           None\n",
      "46 2019-01-01 11:30:00     40.681             []           None\n",
      "47 2019-01-01 11:45:00     40.487             []           None\n",
      "48 2019-01-01 12:00:00     40.573             []           None\n",
      "49 2019-01-01 12:15:00     40.589             []           None\n"
     ]
    },
    {
     "name": "stderr",
     "output_type": "stream",
     "text": [
      "C:\\Users\\Lunlo\\AppData\\Local\\Temp\\ipykernel_6060\\392398549.py:75: RuntimeWarning: Mean of empty slice\n",
      "  data_n['RealPower_pred']=data_n['RealPower_pred'].map(lambda x: np.nanmean(x))\n"
     ]
    },
    {
     "name": "stdout",
     "output_type": "stream",
     "text": [
      "              DateTime  RealPower RealPower_pred historical_ave\n",
      "0  2019-01-01 00:00:00     22.362             []           None\n",
      "1  2019-01-01 00:15:00     22.390             []           None\n",
      "2  2019-01-01 00:30:00     22.148             []           None\n",
      "3  2019-01-01 00:45:00     22.022             []           None\n",
      "4  2019-01-01 01:00:00     22.109             []           None\n",
      "5  2019-01-01 01:15:00     22.431             []           None\n",
      "6  2019-01-01 01:30:00     22.125             []           None\n",
      "7  2019-01-01 01:45:00     22.211             []           None\n",
      "8  2019-01-01 02:00:00     22.033             []           None\n",
      "9  2019-01-01 02:15:00     21.982             []           None\n",
      "10 2019-01-01 02:30:00     22.851             []           None\n",
      "11 2019-01-01 02:45:00     22.502             []           None\n",
      "12 2019-01-01 03:00:00     21.976             []           None\n",
      "13 2019-01-01 03:15:00     22.281             []           None\n",
      "14 2019-01-01 03:30:00     22.102             []           None\n",
      "15 2019-01-01 03:45:00     22.525             []           None\n",
      "16 2019-01-01 04:00:00     22.188             []           None\n",
      "17 2019-01-01 04:15:00     22.217             []           None\n",
      "18 2019-01-01 04:30:00     22.146             []           None\n",
      "19 2019-01-01 04:45:00     21.905             []           None\n",
      "20 2019-01-01 05:00:00     22.633             []           None\n",
      "21 2019-01-01 05:15:00     22.144             []           None\n",
      "22 2019-01-01 05:30:00     22.111             []           None\n",
      "23 2019-01-01 05:45:00     21.922             []           None\n",
      "24 2019-01-01 06:00:00     21.915             []           None\n",
      "25 2019-01-01 06:15:00     21.712             []           None\n",
      "26 2019-01-01 06:30:00     22.030             []           None\n",
      "27 2019-01-01 06:45:00     21.903             []           None\n",
      "28 2019-01-01 07:00:00     21.303             []           None\n",
      "29 2019-01-01 07:15:00     21.825             []           None\n",
      "30 2019-01-01 07:30:00     21.464             []           None\n",
      "31 2019-01-01 07:45:00     21.452             []           None\n",
      "32 2019-01-01 08:00:00     21.295             []           None\n",
      "33 2019-01-01 08:15:00     21.217             []           None\n",
      "34 2019-01-01 08:30:00     21.399             []           None\n",
      "35 2019-01-01 08:45:00     21.377             []           None\n",
      "36 2019-01-01 09:00:00     21.183             []           None\n",
      "37 2019-01-01 09:15:00     21.327             []           None\n",
      "38 2019-01-01 09:30:00     21.387             []           None\n",
      "39 2019-01-01 09:45:00     21.736             []           None\n",
      "40 2019-01-01 10:00:00     21.135             []           None\n",
      "41 2019-01-01 10:15:00     21.000             []           None\n",
      "42 2019-01-01 10:30:00     20.994             []           None\n",
      "43 2019-01-01 10:45:00     21.241             []           None\n",
      "44 2019-01-01 11:00:00     21.620             []           None\n",
      "45 2019-01-01 11:15:00     21.007             []           None\n",
      "46 2019-01-01 11:30:00     21.212             []           None\n",
      "47 2019-01-01 11:45:00     21.649             []           None\n",
      "48 2019-01-01 12:00:00     21.823             []           None\n",
      "49 2019-01-01 12:15:00     22.201             []           None\n"
     ]
    },
    {
     "name": "stderr",
     "output_type": "stream",
     "text": [
      "C:\\Users\\Lunlo\\AppData\\Local\\Temp\\ipykernel_6060\\392398549.py:75: RuntimeWarning: Mean of empty slice\n",
      "  data_n['RealPower_pred']=data_n['RealPower_pred'].map(lambda x: np.nanmean(x))\n"
     ]
    },
    {
     "name": "stdout",
     "output_type": "stream",
     "text": [
      "              DateTime  RealPower RealPower_pred historical_ave\n",
      "0  2019-01-01 00:00:00     50.615             []           None\n",
      "1  2019-01-01 00:15:00     51.231             []           None\n",
      "2  2019-01-01 00:30:00     50.449             []           None\n",
      "3  2019-01-01 00:45:00     50.782             []           None\n",
      "4  2019-01-01 01:00:00     50.712             []           None\n",
      "5  2019-01-01 01:15:00     51.297             []           None\n",
      "6  2019-01-01 01:30:00     51.303             []           None\n",
      "7  2019-01-01 01:45:00     51.857             []           None\n",
      "8  2019-01-01 02:00:00     50.561             []           None\n",
      "9  2019-01-01 02:15:00     51.365             []           None\n",
      "10 2019-01-01 02:30:00     51.600             []           None\n",
      "11 2019-01-01 02:45:00     51.601             []           None\n",
      "12 2019-01-01 03:00:00     51.988             []           None\n",
      "13 2019-01-01 03:15:00     50.566             []           None\n",
      "14 2019-01-01 03:30:00     53.124             []           None\n",
      "15 2019-01-01 03:45:00     50.994             []           None\n",
      "16 2019-01-01 04:00:00     51.360             []           None\n",
      "17 2019-01-01 04:15:00     51.704             []           None\n",
      "18 2019-01-01 04:30:00     50.154             []           None\n",
      "19 2019-01-01 04:45:00     50.962             []           None\n",
      "20 2019-01-01 05:00:00     45.126             []           None\n",
      "21 2019-01-01 05:15:00     44.068             []           None\n",
      "22 2019-01-01 05:30:00     44.818             []           None\n",
      "23 2019-01-01 05:45:00     43.939             []           None\n",
      "24 2019-01-01 06:00:00     44.515             []           None\n",
      "25 2019-01-01 06:15:00     47.552             []           None\n",
      "26 2019-01-01 06:30:00     57.923             []           None\n",
      "27 2019-01-01 06:45:00     57.819             []           None\n",
      "28 2019-01-01 07:00:00     56.150             []           None\n",
      "29 2019-01-01 07:15:00     64.412             []           None\n",
      "30 2019-01-01 07:30:00     60.515             []           None\n",
      "31 2019-01-01 07:45:00     56.880             []           None\n",
      "32 2019-01-01 08:00:00     56.214             []           None\n",
      "33 2019-01-01 08:15:00     56.180             []           None\n",
      "34 2019-01-01 08:30:00     54.264             []           None\n",
      "35 2019-01-01 08:45:00     54.227             []           None\n",
      "36 2019-01-01 09:00:00     54.226             []           None\n",
      "37 2019-01-01 09:15:00     53.759             []           None\n",
      "38 2019-01-01 09:30:00     54.542             []           None\n",
      "39 2019-01-01 09:45:00     54.185             []           None\n",
      "40 2019-01-01 10:00:00     54.789             []           None\n",
      "41 2019-01-01 10:15:00     54.508             []           None\n",
      "42 2019-01-01 10:30:00     54.035             []           None\n",
      "43 2019-01-01 10:45:00     54.977             []           None\n",
      "44 2019-01-01 11:00:00     53.760             []           None\n",
      "45 2019-01-01 11:15:00     53.966             []           None\n",
      "46 2019-01-01 11:30:00     53.983             []           None\n",
      "47 2019-01-01 11:45:00     57.665             []           None\n",
      "48 2019-01-01 12:00:00     57.882             []           None\n",
      "49 2019-01-01 12:15:00     58.611             []           None\n"
     ]
    },
    {
     "name": "stderr",
     "output_type": "stream",
     "text": [
      "C:\\Users\\Lunlo\\AppData\\Local\\Temp\\ipykernel_6060\\392398549.py:75: RuntimeWarning: Mean of empty slice\n",
      "  data_n['RealPower_pred']=data_n['RealPower_pred'].map(lambda x: np.nanmean(x))\n"
     ]
    },
    {
     "name": "stdout",
     "output_type": "stream",
     "text": [
      "              DateTime  RealPower RealPower_pred historical_ave\n",
      "0  2019-01-01 00:00:00     40.393             []           None\n",
      "1  2019-01-01 00:15:00     41.681             []           None\n",
      "2  2019-01-01 00:30:00     41.554             []           None\n",
      "3  2019-01-01 00:45:00     41.016             []           None\n",
      "4  2019-01-01 01:00:00     40.906             []           None\n",
      "5  2019-01-01 01:15:00     40.822             []           None\n",
      "6  2019-01-01 01:30:00     41.041             []           None\n",
      "7  2019-01-01 01:45:00     40.848             []           None\n",
      "8  2019-01-01 02:00:00     40.574             []           None\n",
      "9  2019-01-01 02:15:00     40.388             []           None\n",
      "10 2019-01-01 02:30:00     40.218             []           None\n",
      "11 2019-01-01 02:45:00     40.395             []           None\n",
      "12 2019-01-01 03:00:00     40.696             []           None\n",
      "13 2019-01-01 03:15:00     40.815             []           None\n",
      "14 2019-01-01 03:30:00     40.763             []           None\n",
      "15 2019-01-01 03:45:00     40.579             []           None\n",
      "16 2019-01-01 04:00:00     40.805             []           None\n",
      "17 2019-01-01 04:15:00     40.641             []           None\n",
      "18 2019-01-01 04:30:00     40.601             []           None\n",
      "19 2019-01-01 04:45:00     40.530             []           None\n",
      "20 2019-01-01 05:00:00     40.650             []           None\n",
      "21 2019-01-01 05:15:00     40.565             []           None\n",
      "22 2019-01-01 05:30:00     40.771             []           None\n",
      "23 2019-01-01 05:45:00     40.849             []           None\n",
      "24 2019-01-01 06:00:00     45.575             []           None\n",
      "25 2019-01-01 06:15:00     47.793             []           None\n",
      "26 2019-01-01 06:30:00     47.521             []           None\n",
      "27 2019-01-01 06:45:00     47.125             []           None\n",
      "28 2019-01-01 07:00:00     46.847             []           None\n",
      "29 2019-01-01 07:15:00     38.952             []           None\n",
      "30 2019-01-01 07:30:00     38.287             []           None\n",
      "31 2019-01-01 07:45:00     37.797             []           None\n",
      "32 2019-01-01 08:00:00     37.425             []           None\n",
      "33 2019-01-01 08:15:00     36.445             []           None\n",
      "34 2019-01-01 08:30:00     34.922             []           None\n",
      "35 2019-01-01 08:45:00     34.383             []           None\n",
      "36 2019-01-01 09:00:00     32.975             []           None\n",
      "37 2019-01-01 09:15:00     31.355             []           None\n",
      "38 2019-01-01 09:30:00     29.456             []           None\n",
      "39 2019-01-01 09:45:00     28.443             []           None\n",
      "40 2019-01-01 10:00:00     28.146             []           None\n",
      "41 2019-01-01 10:15:00     30.585             []           None\n",
      "42 2019-01-01 10:30:00     31.233             []           None\n",
      "43 2019-01-01 10:45:00     28.173             []           None\n",
      "44 2019-01-01 11:00:00     27.339             []           None\n",
      "45 2019-01-01 11:15:00     26.703             []           None\n",
      "46 2019-01-01 11:30:00     26.673             []           None\n",
      "47 2019-01-01 11:45:00     27.163             []           None\n",
      "48 2019-01-01 12:00:00     26.978             []           None\n",
      "49 2019-01-01 12:15:00     26.834             []           None\n"
     ]
    },
    {
     "name": "stderr",
     "output_type": "stream",
     "text": [
      "C:\\Users\\Lunlo\\AppData\\Local\\Temp\\ipykernel_6060\\392398549.py:75: RuntimeWarning: Mean of empty slice\n",
      "  data_n['RealPower_pred']=data_n['RealPower_pred'].map(lambda x: np.nanmean(x))\n"
     ]
    },
    {
     "name": "stdout",
     "output_type": "stream",
     "text": [
      "              DateTime  RealPower RealPower_pred historical_ave\n",
      "0  2019-01-01 00:00:00     87.954             []           None\n",
      "1  2019-01-01 00:15:00     68.636             []           None\n",
      "2  2019-01-01 00:30:00     68.941             []           None\n",
      "3  2019-01-01 00:45:00     84.265             []           None\n",
      "4  2019-01-01 01:00:00     74.297             []           None\n",
      "5  2019-01-01 01:15:00     68.758             []           None\n",
      "6  2019-01-01 01:30:00     68.657             []           None\n",
      "7  2019-01-01 01:45:00     88.111             []           None\n",
      "8  2019-01-01 02:00:00     68.665             []           None\n",
      "9  2019-01-01 02:15:00     69.445             []           None\n",
      "10 2019-01-01 02:30:00     75.354             []           None\n",
      "11 2019-01-01 02:45:00     81.665             []           None\n",
      "12 2019-01-01 03:00:00     68.878             []           None\n",
      "13 2019-01-01 03:15:00     69.034             []           None\n",
      "14 2019-01-01 03:30:00     85.148             []           None\n",
      "15 2019-01-01 03:45:00     70.936             []           None\n",
      "16 2019-01-01 04:00:00     69.250             []           None\n",
      "17 2019-01-01 04:15:00     68.774             []           None\n",
      "18 2019-01-01 04:30:00     87.548             []           None\n",
      "19 2019-01-01 04:45:00     68.796             []           None\n",
      "20 2019-01-01 05:00:00     68.704             []           None\n",
      "21 2019-01-01 05:15:00     72.440             []           None\n",
      "22 2019-01-01 05:30:00     83.402             []           None\n",
      "23 2019-01-01 05:45:00     68.936             []           None\n",
      "24 2019-01-01 06:00:00     69.049             []           None\n",
      "25 2019-01-01 06:15:00     80.276             []           None\n",
      "26 2019-01-01 06:30:00     77.184             []           None\n",
      "27 2019-01-01 06:45:00     69.211             []           None\n",
      "28 2019-01-01 07:00:00     69.377             []           None\n",
      "29 2019-01-01 07:15:00     83.921             []           None\n",
      "30 2019-01-01 07:30:00     72.999             []           None\n",
      "31 2019-01-01 07:45:00     68.798             []           None\n",
      "32 2019-01-01 08:00:00     66.088             []           None\n",
      "33 2019-01-01 08:15:00     84.249             []           None\n",
      "34 2019-01-01 08:30:00     66.104             []           None\n",
      "35 2019-01-01 08:45:00     66.359             []           None\n",
      "36 2019-01-01 09:00:00     66.450             []           None\n",
      "37 2019-01-01 09:15:00     84.224             []           None\n",
      "38 2019-01-01 09:30:00     66.538             []           None\n",
      "39 2019-01-01 09:45:00     66.066             []           None\n",
      "40 2019-01-01 10:00:00     77.232             []           None\n",
      "41 2019-01-01 10:15:00     76.075             []           None\n",
      "42 2019-01-01 10:30:00     65.893             []           None\n",
      "43 2019-01-01 10:45:00     66.540             []           None\n",
      "44 2019-01-01 11:00:00     86.499             []           None\n",
      "45 2019-01-01 11:15:00     66.060             []           None\n",
      "46 2019-01-01 11:30:00     65.772             []           None\n",
      "47 2019-01-01 11:45:00     87.064             []           None\n",
      "48 2019-01-01 12:00:00     66.967             []           None\n",
      "49 2019-01-01 12:15:00     66.275             []           None\n"
     ]
    },
    {
     "name": "stderr",
     "output_type": "stream",
     "text": [
      "C:\\Users\\Lunlo\\AppData\\Local\\Temp\\ipykernel_6060\\392398549.py:75: RuntimeWarning: Mean of empty slice\n",
      "  data_n['RealPower_pred']=data_n['RealPower_pred'].map(lambda x: np.nanmean(x))\n"
     ]
    },
    {
     "name": "stdout",
     "output_type": "stream",
     "text": [
      "              DateTime  RealPower RealPower_pred historical_ave\n",
      "0  2019-01-01 00:00:00    130.539             []           None\n",
      "1  2019-01-01 00:15:00    125.991             []           None\n",
      "2  2019-01-01 00:30:00    126.896             []           None\n",
      "3  2019-01-01 00:45:00    127.176             []           None\n",
      "4  2019-01-01 01:00:00    127.266             []           None\n",
      "5  2019-01-01 01:15:00    127.268             []           None\n",
      "6  2019-01-01 01:30:00    130.487             []           None\n",
      "7  2019-01-01 01:45:00    128.621             []           None\n",
      "8  2019-01-01 02:00:00    125.501             []           None\n",
      "9  2019-01-01 02:15:00    126.377             []           None\n",
      "10 2019-01-01 02:30:00    127.296             []           None\n",
      "11 2019-01-01 02:45:00    126.581             []           None\n",
      "12 2019-01-01 03:00:00    126.879             []           None\n",
      "13 2019-01-01 03:15:00    131.734             []           None\n",
      "14 2019-01-01 03:30:00    124.695             []           None\n",
      "15 2019-01-01 03:45:00    125.693             []           None\n",
      "16 2019-01-01 04:00:00    126.262             []           None\n",
      "17 2019-01-01 04:15:00    126.762             []           None\n",
      "18 2019-01-01 04:30:00    128.978             []           None\n",
      "19 2019-01-01 04:45:00    128.857             []           None\n",
      "20 2019-01-01 05:00:00    131.391             []           None\n",
      "21 2019-01-01 05:15:00    127.495             []           None\n",
      "22 2019-01-01 05:30:00    126.172             []           None\n",
      "23 2019-01-01 05:45:00    125.635             []           None\n",
      "24 2019-01-01 06:00:00    126.558             []           None\n",
      "25 2019-01-01 06:15:00    128.288             []           None\n",
      "26 2019-01-01 06:30:00    134.575             []           None\n",
      "27 2019-01-01 06:45:00    128.112             []           None\n",
      "28 2019-01-01 07:00:00    127.893             []           None\n",
      "29 2019-01-01 07:15:00    125.643             []           None\n",
      "30 2019-01-01 07:30:00    125.329             []           None\n",
      "31 2019-01-01 07:45:00    124.877             []           None\n",
      "32 2019-01-01 08:00:00    126.235             []           None\n",
      "33 2019-01-01 08:15:00    129.740             []           None\n",
      "34 2019-01-01 08:30:00    125.062             []           None\n",
      "35 2019-01-01 08:45:00    126.511             []           None\n",
      "36 2019-01-01 09:00:00    127.639             []           None\n",
      "37 2019-01-01 09:15:00    125.249             []           None\n",
      "38 2019-01-01 09:30:00    126.874             []           None\n",
      "39 2019-01-01 09:45:00    130.076             []           None\n",
      "40 2019-01-01 10:00:00    128.896             []           None\n",
      "41 2019-01-01 10:15:00    126.520             []           None\n",
      "42 2019-01-01 10:30:00    127.549             []           None\n",
      "43 2019-01-01 10:45:00    125.566             []           None\n",
      "44 2019-01-01 11:00:00    127.800             []           None\n",
      "45 2019-01-01 11:15:00    128.951             []           None\n",
      "46 2019-01-01 11:30:00    135.694             []           None\n",
      "47 2019-01-01 11:45:00    129.424             []           None\n",
      "48 2019-01-01 12:00:00    132.996             []           None\n",
      "49 2019-01-01 12:15:00    130.218             []           None\n"
     ]
    },
    {
     "name": "stderr",
     "output_type": "stream",
     "text": [
      "C:\\Users\\Lunlo\\AppData\\Local\\Temp\\ipykernel_6060\\392398549.py:75: RuntimeWarning: Mean of empty slice\n",
      "  data_n['RealPower_pred']=data_n['RealPower_pred'].map(lambda x: np.nanmean(x))\n"
     ]
    }
   ],
   "source": [
    "\n",
    "blds=[\n",
    " #'CenterHall',# deleted\n",
    " #'EastCampus',# deleted\n",
    " 'GalbraithHall',\n",
    " #'GeiselLibrary',# deleted\n",
    " #'Gilman',# missing of test sets\n",
    " 'Hopkins',\n",
    " 'Mandeville',\n",
    " 'MusicBuilding',\n",
    " #'OttersonHall',# missing of test sets\n",
    " #'PepperCanyon',# missing of test sets\n",
    " #'PoliceDepartment', deleted\n",
    " 'RadyHall',\n",
    " 'RobinsonHall',\n",
    " 'SocialScience',\n",
    " #'StudentServices' deleted\n",
    "]\n",
    "for i in blds:\n",
    "    get_prediction_Simple(\n",
    "        src_path=r'D:\\Codes\\GIthub_repo\\Energy_grid\\data\\UCSD_raw_data\\BLD_'+i+'.csv',\n",
    "        days_ahead=7,\n",
    "        K=96,\n",
    "        alpha=0.1,\n",
    "        start_t='01-Jan-2019',\n",
    "        end_t='31-Dec-2019',\n",
    "        save_path = r'D:\\Codes\\GIthub_repo\\Energy_grid\\scripts\\XGboost_Optuna\\Simple_stand_alone\\BLD_'+i+'Simple_pred.csv',\n",
    "    )"
   ]
  },
  {
   "cell_type": "code",
   "execution_count": null,
   "metadata": {},
   "outputs": [],
   "source": [
    "get_prediction_Simple(\n",
    "    src_path='../data/UCSD_raw_data/max_intersection_BLD_ALL_temp.csv',\n",
    "    days_ahead=7,\n",
    "    start_t='01-Jan-2019',\n",
    "    end_t='31-Dec-2019',\n",
    "    save_path = '../data/XGBoost_toy_case/merged_bld_prediction_simple_7days_average.csv',\n",
    ")"
   ]
  },
  {
   "cell_type": "markdown",
   "metadata": {},
   "source": [
    "Comparison between Simple prediction and XGBoost prediction"
   ]
  },
  {
   "cell_type": "code",
   "execution_count": null,
   "metadata": {},
   "outputs": [],
   "source": [
    "import numpy as np # linear algebra\n",
    "import pandas as pd # data processing, CSV file I/O (e.g. pd.read_csv)\n",
    "import seaborn as sns\n",
    "import matplotlib.pyplot as plt\n",
    "import xgboost as xgb\n",
    "from xgboost import plot_importance, plot_tree\n",
    "from sklearn.metrics import mean_squared_error, mean_absolute_error\n",
    "plt.style.use('fivethirtyeight')"
   ]
  },
  {
   "cell_type": "code",
   "execution_count": null,
   "metadata": {},
   "outputs": [],
   "source": [
    "bld_simple_path='../data/XGBoost_toy_case/merged_bld_prediction_simple_7days_average.csv'\n",
    "pv_simple_path=\"../data/XGBoost_toy_case/merged_pv_prediction_simple_7days_average.csv\"\n",
    "\n",
    "bld_xgb_path=\"../data/XGBoost_toy_case/bld_prediction_XGBoost_07-15.csv\"\n",
    "pv_xgb_path=\"../data/XGBoost_toy_case/pv_prediction_XGBoost_07-15.csv\"\n",
    "\n",
    "bld_simple=pd.read_csv(bld_simple_path,index_col=0).rename(columns={'RealPower_pred':'Pred_Simple'})\n",
    "pv_simple=pd.read_csv(pv_simple_path,index_col=0).rename(columns={'RealPower_pred':'Pred_Simple'})\n",
    "bld_xgb=pd.read_csv(bld_xgb_path,index_col=0).rename(columns={'RealPower_pred':'Pred_XGB'})\n",
    "pv_xgb=pd.read_csv(pv_xgb_path,index_col=0).rename(columns={'RealPower_pred':'Pred_XGB'})"
   ]
  },
  {
   "cell_type": "code",
   "execution_count": null,
   "metadata": {},
   "outputs": [],
   "source": [
    "bld=pd.merge(bld_simple,bld_xgb,on='DateTime',how='outer')\\\n",
    "    .rename(columns={'RealPower_x':'RealPower'})\\\n",
    "    .drop(columns={\"RealPower_y\"})\n",
    "pv=pd.merge(pv_simple,pv_xgb,on='DateTime',how='outer')\\\n",
    "    .rename(columns={'RealPower_x':'RealPower'})\\\n",
    "    .drop(columns={\"RealPower_y\"})\n",
    "bld.index = pd.to_datetime(bld.index)\n",
    "pv.index = pd.to_datetime(pv.index)"
   ]
  },
  {
   "cell_type": "code",
   "execution_count": null,
   "metadata": {},
   "outputs": [],
   "source": [
    "bld"
   ]
  },
  {
   "cell_type": "code",
   "execution_count": null,
   "metadata": {},
   "outputs": [],
   "source": [
    "pv"
   ]
  },
  {
   "cell_type": "code",
   "execution_count": null,
   "metadata": {},
   "outputs": [],
   "source": [
    "def metrics_all(df):\n",
    "    mse_simple=mean_squared_error(y_true=df['RealPower'],\n",
    "                                  y_pred=df['Pred_Simple'])\n",
    "    mse_xgb=mean_squared_error(y_true=df['RealPower'],\n",
    "                                  y_pred=df['Pred_XGB'])\n",
    "    mae_simple=mean_absolute_error(y_true=df['RealPower'],\n",
    "                                  y_pred=df['Pred_Simple'])\n",
    "    mae_xgb=mean_absolute_error(y_true=df['RealPower'],\n",
    "                                  y_pred=df['Pred_XGB'])\n",
    "    def mean_absolute_percentage_error(y_true, y_pred): \n",
    "        \"\"\"Calculates MAPE given y_true and y_pred\"\"\"\n",
    "        y_true, y_pred = np.array(y_true), np.array(y_pred)\n",
    "        return np.mean(np.abs((y_true - y_pred) / y_true)) * 100\n",
    "    mape_simple=mean_absolute_percentage_error(y_true=df['RealPower'],\n",
    "                                               y_pred=df['Pred_Simple'])\n",
    "    mape_xgb=mean_absolute_percentage_error(y_true=df['RealPower'],\n",
    "                                               y_pred=df['Pred_XGB'])\n",
    "    metric={\n",
    "        'simple':{\n",
    "            'mse':mse_simple,\n",
    "            'mae':mae_simple,\n",
    "            'mape':mape_simple\n",
    "        },\n",
    "        'xgb':{\n",
    "            'mse':mse_xgb,\n",
    "            'mae':mae_xgb,\n",
    "            'mape':mape_xgb\n",
    "        }\n",
    "    }\n",
    "    \n",
    "    return metric"
   ]
  },
  {
   "cell_type": "code",
   "execution_count": null,
   "metadata": {},
   "outputs": [],
   "source": [
    "metrics_all(bld)"
   ]
  },
  {
   "cell_type": "code",
   "execution_count": null,
   "metadata": {},
   "outputs": [],
   "source": [
    "metrics_all(pv)"
   ]
  },
  {
   "cell_type": "code",
   "execution_count": null,
   "metadata": {},
   "outputs": [],
   "source": [
    "bld.loc['05-01-2019':'05-07-2019']"
   ]
  },
  {
   "cell_type": "code",
   "execution_count": null,
   "metadata": {},
   "outputs": [],
   "source": [
    "def plot_pred(height,width,df,title,lower,upper,linewidth):\n",
    "    f, ax = plt.subplots(1)\n",
    "    f.set_figheight(height)\n",
    "    f.set_figwidth(width)\n",
    "    #prev_ylim = ax.get_ylim()\n",
    "    _ = df[['RealPower','Pred_Simple','Pred_XGB']].plot(ax=ax,\n",
    "                                                style=['-','-','-'],\n",
    "                                                linewidth=linewidth)\n",
    "    ax.set_xticklabels(ax.get_xticklabels(), fontsize=10)\n",
    "    ax.set_yticklabels(ax.get_yticklabels(), fontsize=10)\n",
    "    ax.set_ylim(lower,upper)\n",
    "    plot = plt.suptitle(title)\n",
    "   # ax.set_ylim(prev_ylim) # restore previous ylim\n",
    "    return plot\n",
    "\n",
    "def plot_pred_(height,width,df,title,lower,upper,linewidth):\n",
    "    f, ax = plt.subplots(1)\n",
    "    f.set_figheight(height)\n",
    "    f.set_figwidth(width)\n",
    "    #prev_ylim = ax.get_ylim()\n",
    "    _ = df[['RealPower','Pred_Simple','Pred_XGB']].plot(ax=ax,\n",
    "                                                style=['-','-','-'],\n",
    "                                                linewidth=linewidth)\n",
    "    ax.set_xticklabels(ax.get_xticklabels(), fontsize=10)\n",
    "    ax.set_yticklabels(ax.get_yticklabels(), fontsize=10)\n",
    "    ax.set_ylim(lower,upper)\n",
    "    plot = plt.suptitle(title)\n",
    "   # ax.set_ylim(prev_ylim) # restore previous ylim\n",
    "    return plot"
   ]
  },
  {
   "cell_type": "code",
   "execution_count": null,
   "metadata": {},
   "outputs": [],
   "source": [
    "\n",
    "plot_pred(5,20,bld['10-01-2019':'10-07-2019'],'BLD Load-First Week of Oct',0,500,1.5)"
   ]
  },
  {
   "cell_type": "code",
   "execution_count": null,
   "metadata": {},
   "outputs": [],
   "source": [
    "plot_pred_(5,20,pv['10-01-2019':'10-07-2019'],'PV Load-First Week of Oct',-100,300,1.5)"
   ]
  },
  {
   "cell_type": "code",
   "execution_count": null,
   "metadata": {},
   "outputs": [],
   "source": [
    "df"
   ]
  }
 ],
 "metadata": {
  "kernelspec": {
   "display_name": "XGBoost",
   "language": "python",
   "name": "xgboost"
  },
  "language_info": {
   "codemirror_mode": {
    "name": "ipython",
    "version": 3
   },
   "file_extension": ".py",
   "mimetype": "text/x-python",
   "name": "python",
   "nbconvert_exporter": "python",
   "pygments_lexer": "ipython3",
   "version": "3.8.17"
  },
  "orig_nbformat": 4
 },
 "nbformat": 4,
 "nbformat_minor": 2
}
