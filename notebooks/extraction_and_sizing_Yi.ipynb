{
 "cells": [
  {
   "cell_type": "code",
   "execution_count": 1,
   "metadata": {},
   "outputs": [
    {
     "name": "stderr",
     "output_type": "stream",
     "text": [
      "g:\\Anaconda\\Anaconda3\\envs\\base38\\lib\\site-packages\\scipy\\__init__.py:146: UserWarning: A NumPy version >=1.16.5 and <1.23.0 is required for this version of SciPy (detected version 1.24.2\n",
      "  warnings.warn(f\"A NumPy version >={np_minversion} and <{np_maxversion}\"\n"
     ]
    }
   ],
   "source": [
    "import os\n",
    "import sys\n",
    "src_path = sys.path[0].replace(\"notebooks\", \"src\")\n",
    "# data_path = sys.path[0].replace(\"notebooks\", \"data\")\n",
    "if src_path not in sys.path:\n",
    "    sys.path.append(src_path)\n",
    "\n",
    "out_path = sys.path[0].replace(\"notebooks\", \"output\")\n",
    "\n",
    "import warnings\n",
    "import pandas as pd\n",
    "import numpy as np\n",
    "from sklearn.cluster import KMeans\n",
    "from matplotlib import pyplot as plt\n",
    "from datetime import datetime, timedelta\n",
    "import time\n",
    "\n",
    "from profile_extraction import ProfileExtraction\n",
    "from data_loader import UCSD_dataloader\n",
    "from data_pool import DataPool\n",
    "\n",
    "from battery_model import *\n",
    "from optimizer import *\n",
    "\n",
    "from exp_manager import ExperimentManager\n",
    "import copy"
   ]
  },
  {
   "attachments": {},
   "cell_type": "markdown",
   "metadata": {},
   "source": [
    "# run extraction experiments"
   ]
  },
  {
   "cell_type": "code",
   "execution_count": 2,
   "metadata": {},
   "outputs": [],
   "source": [
    "loader = UCSD_dataloader\n",
    "loaded = loader(tstart=datetime(2015,1,1,0,0), tend=datetime(2019,12,31,0,0), delta=0.25, \n",
    "                bld=\"Hopkins\", pv=\"Hopkins\", ev=\"OSLER\", pv_to_bld=0.5, ev_to_bld=0.2, Pmax=10)\n",
    "data = loaded.get_data()"
   ]
  },
  {
   "cell_type": "code",
   "execution_count": 3,
   "metadata": {},
   "outputs": [],
   "source": [
    "class Extraction_ExperimentManager(ExperimentManager):\n",
    "    def run_one_trial(self, params, save_fn):\n",
    "\n",
    "        par = copy.deepcopy(self.default_params)\n",
    "        par.update(params)\n",
    "\n",
    "        tstart = par.get(\"tstart\")\n",
    "        tend = par.get(\"tend\")\n",
    "        pe = ProfileExtraction(data=data, tstart=tstart, tend=tend)\n",
    "\n",
    "        pe_par = {k: par.get(k) for k in \n",
    "                  [\"alg\", \"K\", \"dist_metric\", \"importance_func\",\n",
    "                   \"incl_ev\", \"ev_how_to\", \"rand_seed\"]}\n",
    "        \n",
    "        rp = pe.rep_profile_extraction(**pe_par)\n",
    "        \n",
    "        if self.save:\n",
    "            rp.save(save_fn=save_fn, save_path=self.save_path)    \n",
    "\n",
    "        stats = rp.stats\n",
    "        return stats\n",
    "    \n",
    "    def init_default_params(self):\n",
    "        self.default_params = {\n",
    "            \"tstart\": datetime(2018, 1, 1, 0, 0),\n",
    "            \"tend\": datetime(2019, 1, 1, 0, 0),\n",
    "            \"alg\": \"cluster\",\n",
    "            \"K\": 20,\n",
    "            \"dist_metric\": None,\n",
    "            \"importance_func\": None,\n",
    "            \"incl_ev\": False,\n",
    "            \"ev_how_to\": None,\n",
    "            \"incl_tou\": None\n",
    "        }"
   ]
  },
  {
   "cell_type": "code",
   "execution_count": 5,
   "metadata": {},
   "outputs": [
    {
     "name": "stderr",
     "output_type": "stream",
     "text": [
      "g:\\Anaconda\\Anaconda3\\envs\\base38\\lib\\site-packages\\sklearn\\cluster\\_kmeans.py:1382: UserWarning: KMeans is known to have a memory leak on Windows with MKL, when there are less chunks than available threads. You can avoid it by setting the environment variable OMP_NUM_THREADS=2.\n",
      "  warnings.warn(\n"
     ]
    },
    {
     "name": "stdout",
     "output_type": "stream",
     "text": [
      "Done, trial 10\n",
      "Done, trial 11\n",
      "Done, trial 12\n"
     ]
    },
    {
     "name": "stderr",
     "output_type": "stream",
     "text": [
      "g:\\Anaconda\\Anaconda3\\envs\\base38\\lib\\site-packages\\sklearn\\cluster\\_kmeans.py:1382: UserWarning: KMeans is known to have a memory leak on Windows with MKL, when there are less chunks than available threads. You can avoid it by setting the environment variable OMP_NUM_THREADS=2.\n",
      "  warnings.warn(\n"
     ]
    },
    {
     "name": "stdout",
     "output_type": "stream",
     "text": [
      "Done, trial 13\n",
      "Done, trial 14\n",
      "Done, trial 15\n",
      "Done, trial 16\n",
      "Done, trial 17\n",
      "Done, trial 18\n",
      "====================\n",
      "DONE\n"
     ]
    }
   ],
   "source": [
    "log_fn = os.path.join(out_path, \"debug_test\", \"extraction_log_test.xlsx\")\n",
    "save_path = os.path.join(out_path, \"debug_test\")\n",
    "em = Extraction_ExperimentManager(log_fn=log_fn, save_path=save_path, exp_prefix=\"Yi_TEST0309\")\n",
    "em.run(keys=[\"alg\", \"K\", \"dist_metric\", \"incl_ev\", \"ev_how_to\"], num_trials=10)"
   ]
  },
  {
   "attachments": {},
   "cell_type": "markdown",
   "metadata": {},
   "source": [
    "# Use extracted profiles for battery sizing"
   ]
  },
  {
   "cell_type": "code",
   "execution_count": 3,
   "metadata": {},
   "outputs": [],
   "source": [
    "from predictor import Predictor_tou_CAISO"
   ]
  },
  {
   "cell_type": "code",
   "execution_count": 4,
   "metadata": {},
   "outputs": [],
   "source": [
    "params_sample = {\n",
    "    \"K\": 96,\n",
    "    \"delta\": 0.25,\n",
    "    \"S\": 1, # number of scenarios (energy profiles). can omit, default 1\n",
    "    \"S_prob\": None, \n",
    "    # if S != 1, params in \"loads\", \"ev\" should be list of length S\n",
    "    ### loads\n",
    "    \"load_bld\": 5 * np.sin(np.linspace(0, 2*np.pi, 96)) + 10,\n",
    "    \"load_pv\": np.maximum(0, -np.linspace(-6,6,96)**2+20),\n",
    "    \"energy_price_buy\": Predictor_tou_CAISO(None).get_prediction(datetime(2019, 1,1, 0, 0), 96, 0.25), # $/kWh \n",
    "    \"energy_price_sell\": None, # if None, sell is not allowed. can omit\n",
    "    ### demand charge\n",
    "    \"dc_price\": 0.3, # $/day. ref: 18 $/mon\n",
    "    \"dc_prev_max\": None, # track p_grid_max in the same billing cycle. can omit\n",
    "    ### battery (here I only consider one battery)\n",
    "    \"bat_capacity\": None, # if none, capacity is optimized\n",
    "    \"bat_p_max\": 3, # i.e., capacity (kWh) / p_bat_max (kW) = 3 (h)\n",
    "    \"bat_p_min\": 3, # can omit, then p_bat_min = p_bat_max\n",
    "    \"bat_price\": 100, # $/kWh, ref: Tesla Powerwall\n",
    "    \"bat_efficacy\": 0.98, \n",
    "    \"bat_life_0\": 3650, # days.\n",
    "    \"bat_cycle_0\": 5000, # cycles in lifetime\n",
    "    # \"reg_lambda\": 0, # can omit, then reg_lambda = 0\n",
    "    # \"reg_term\": \"p_norm\", # options: \"p\", \"p_norm\", \"e\", \"e_norm\", ...\n",
    "    \"deg_model\": \"throughput\",  # valid values: \"throughput\", \"Crate\", \"rainflow\", \"DOD\"\n",
    "    \"deg_thres\": None,\n",
    "    \"deg_lambda\": None,\n",
    "    \"bat_soc_0\": 0.5, # B0, BT have to be fractions (SoC indeed). 0.5 if omit\n",
    "    \"bat_soc_K\": None, # if None, default is the same as bat_soc_0\n",
    "    ### EVs\n",
    "    \"ev_I\": 20,\n",
    "    \"ev_ta\": np.linspace(0, 48, 20), # ta, td can be floats\n",
    "    \"ev_td\": np.linspace(36, 96, 20),\n",
    "    \"ev_e_init\": np.array([0]*20),\n",
    "    \"ev_e_targ\": np.array([10]*20),\n",
    "    \"ev_capacity\": None, # can omit, default as e_targ (useful only when aloow discharge)\n",
    "    \"ev_p_max\": 6.6,\n",
    "    \"ev_p_min\": 0, # can omit, default as 0\n",
    "    \"ev_efficacy\": 0.98,\n",
    "}"
   ]
  },
  {
   "cell_type": "code",
   "execution_count": 5,
   "metadata": {},
   "outputs": [],
   "source": [
    "tstart, tend = datetime(2018, 1, 1, 0, 0), datetime(2019, 1, 1, 0, 0)\n",
    "pe = ProfileExtraction(data=data, tstart=tstart, tend=tend)"
   ]
  },
  {
   "cell_type": "code",
   "execution_count": 6,
   "metadata": {},
   "outputs": [
    {
     "name": "stderr",
     "output_type": "stream",
     "text": [
      "g:\\Anaconda\\Anaconda3\\envs\\base38\\lib\\site-packages\\sklearn\\cluster\\_kmeans.py:1382: UserWarning: KMeans is known to have a memory leak on Windows with MKL, when there are less chunks than available threads. You can avoid it by setting the environment variable OMP_NUM_THREADS=2.\n",
      "  warnings.warn(\n"
     ]
    }
   ],
   "source": [
    "# rp is a [RepProfiles] object, see src/profile/extraction.py\n",
    "rp = pe.rep_profile_extraction(alg=\"cluster\", K=20, incl_ev=True, ev_how_to=\"unif\")\n",
    "# convert profiles to params -> for battery optimizer\n",
    "params = rp.profiles_to_params()"
   ]
  },
  {
   "cell_type": "code",
   "execution_count": 7,
   "metadata": {},
   "outputs": [],
   "source": [
    "params_sample[\"deg_model\"] = \"Crate\"\n",
    "opt_params = dict(params_sample)\n",
    "opt_params.update(params)"
   ]
  },
  {
   "cell_type": "code",
   "execution_count": 15,
   "metadata": {},
   "outputs": [],
   "source": [
    "bat_params = {\n",
    "    \"bat_p_max\": 3, # i.e., capacity (kWh) / p_bat_max (kW) = 3 (h)\n",
    "    \"bat_p_min\": 3, # can omit, then p_bat_min = p_bat_max\n",
    "    \"bat_price\": 100, # $/kWh, ref: Tesla Powerwall\n",
    "    \"bat_efficacy\": 0.98, \n",
    "    \"bat_life_0\": 3650, # days.\n",
    "    \"bat_cycle_0\": 500, # cycles in lifetime\n",
    "    # \"reg_lambda\": 0, # can omit, then reg_lambda = 0\n",
    "    # \"reg_term\": \"p_norm\", # options: \"p\", \"p_norm\", \"e\", \"e_norm\", ...\n",
    "    \"deg_model\": \"rainflow\",  # valid values: \"throughput\", \"Crate\", \"rainflow\", \"DOD\"\n",
    "}"
   ]
  },
  {
   "cell_type": "code",
   "execution_count": 17,
   "metadata": {},
   "outputs": [],
   "source": [
    "b_sample = Battery_base(**bat_params)\n",
    "opt = Battery_optimizer(battery=b_sample)\n",
    "# sol = opt.optimize_battery_size(params, strategy=\"optimal\", reg_lambda=None, search_lim=(0,10))\n",
    "sol = opt.optimize_battery_size(opt_params, strategy=\"optimal\", mute=True, reg_lambda=0)"
   ]
  },
  {
   "cell_type": "code",
   "execution_count": 18,
   "metadata": {},
   "outputs": [
    {
     "data": {
      "text/plain": [
       "(329.08054883244637, 1497.04052330263)"
      ]
     },
     "execution_count": 18,
     "metadata": {},
     "output_type": "execute_result"
    }
   ],
   "source": [
    "tco = sol[\"TCO\"]\n",
    "bat_capacity = sol[\"bat_capacity\"]\n",
    "tco, bat_capacity"
   ]
  },
  {
   "cell_type": "code",
   "execution_count": 19,
   "metadata": {},
   "outputs": [
    {
     "data": {
      "text/plain": [
       "array([0.22461988, 0.15064948, 0.10017321, 0.14227421, 0.09799269,\n",
       "       0.15446331, 0.1584085 , 0.09142298, 0.11905565, 0.17920531,\n",
       "       0.10161344, 0.08046103, 0.13914102, 0.11380478, 0.17416872,\n",
       "       0.09576623, 0.09141569, 0.15044978, 0.1929626 , 0.17289964])"
      ]
     },
     "execution_count": 19,
     "metadata": {},
     "output_type": "execute_result"
    }
   ],
   "source": [
    "sol[\"eq_cycles\"]"
   ]
  },
  {
   "attachments": {},
   "cell_type": "markdown",
   "metadata": {},
   "source": [
    "# Run extraction & sizing (EnS)"
   ]
  },
  {
   "cell_type": "code",
   "execution_count": 5,
   "metadata": {},
   "outputs": [],
   "source": [
    "loader = UCSD_dataloader\n",
    "loaded = loader(tstart=datetime(2015,1,1,0,0), tend=datetime(2019,12,31,0,0), delta=0.25, \n",
    "                bld=\"Hopkins\", pv=\"Hopkins\", ev=\"OSLER\", pv_to_bld=0.5, ev_to_bld=0.2, Pmax=10)\n",
    "data = loaded.get_data()"
   ]
  },
  {
   "cell_type": "code",
   "execution_count": 6,
   "metadata": {},
   "outputs": [],
   "source": [
    "from predictor import Predictor_tou_CAISO\n",
    "\n",
    "class EnS_ExperimentManager(ExperimentManager):\n",
    "    def run_one_trial(self, params, save_fn):\n",
    "\n",
    "        par = copy.deepcopy(self.default_params)\n",
    "        par.update(params)\n",
    "\n",
    "        tstart = par.get(\"tstart\")\n",
    "        tend = par.get(\"tend\")\n",
    "        pe = ProfileExtraction(data=data, tstart=tstart, tend=tend)\n",
    "\n",
    "        pe_par = {k: par.get(k) for k in \n",
    "                  [\"alg\", \"K\", \"dist_metric\", \"importance_func\",\n",
    "                   \"incl_ev\", \"ev_how_to\", \"rand_seed\"]}\n",
    "        \n",
    "        rp = pe.rep_profile_extraction(**pe_par)\n",
    "        \n",
    "        opt_params = dict(self.opt_params_sample)\n",
    "        opt_params.update(rp.profiles_to_params())\n",
    "\n",
    "        b_sample = Battery_base()\n",
    "        opt = Battery_optimizer(battery=b_sample)\n",
    "        # sol = opt.optimize_battery_size(params, strategy=\"optimal\", reg_lambda=None, search_lim=(0,10))\n",
    "        # FIXME: here are some hyperparameters, they need to be specified in self.default_params\n",
    "        sol = opt.optimize_battery_size(opt_params, strategy=\"optimal\", mute=True, reg_lambda=0)\n",
    "        \n",
    "        # TODO:\n",
    "        # save the sol results ?\n",
    "\n",
    "        stats = {\n",
    "            \"bat_capacity\": sol[\"bat_capacity\"],\n",
    "            \"TCO\": sol[\"TCO\"], # TODO: you can make more stats\n",
    "        }\n",
    "\n",
    "        return stats\n",
    "    \n",
    "    def init_default_params(self):\n",
    "        self.default_params = {\n",
    "            \"tstart\": datetime(2018, 1, 1, 0, 0),\n",
    "            \"tend\": datetime(2019, 1, 1, 0, 0),\n",
    "            \"alg\": \"cluster\",\n",
    "            \"K\": 20,\n",
    "            \"dist_metric\": None,\n",
    "            \"importance_func\": None,\n",
    "            \"incl_ev\": False,\n",
    "            \"ev_how_to\": None,\n",
    "            \"incl_tou\": None\n",
    "        }\n",
    "\n",
    "        self.opt_params_sample = {\n",
    "            \"K\": 96,\n",
    "            \"delta\": 0.25,\n",
    "            \"S\": 1, # number of scenarios (energy profiles). can omit, default 1\n",
    "            \"S_prob\": None, \n",
    "            # if S != 1, params in \"loads\", \"ev\" should be list of length S\n",
    "            ### loads\n",
    "            \"load_bld\": 5 * np.sin(np.linspace(0, 2*np.pi, 96)) + 10,\n",
    "            \"load_pv\": np.maximum(0, -np.linspace(-6,6,96)**2+20),\n",
    "            \"energy_price_buy\": Predictor_tou_CAISO(None).get_prediction(datetime(2019, 1,1, 0, 0), 96, 0.25), # $/kWh \n",
    "            \"energy_price_sell\": None, # if None, sell is not allowed. can omit\n",
    "            ### demand charge\n",
    "            \"dc_price\": 0.3, # $/day. ref: 18 $/mon\n",
    "            \"dc_prev_max\": None, # track p_grid_max in the same billing cycle. can omit\n",
    "            ### battery (here I only consider one battery)\n",
    "            \"bat_capacity\": None, # if none, capacity is optimized\n",
    "            \"bat_p_max\": 3, # i.e., capacity (kWh) / p_bat_max (kW) = 3 (h)\n",
    "            \"bat_p_min\": 3, # can omit, then p_bat_min = p_bat_max\n",
    "            \"bat_price\": 1000, # $/kWh, ref: Tesla Powerwall\n",
    "            \"bat_efficacy\": 0.98, \n",
    "            \"bat_life_0\": 3650, # days.\n",
    "            \"bat_cycle_0\": 10000, # cycles in lifetime\n",
    "            \"reg_lambda\": 0, # can omit, then reg_lambda = 0\n",
    "            \"reg_term\": \"p_norm\", # options: \"p\", \"p_norm\", \"e\", \"e_norm\", ...\n",
    "            \"bat_soc_0\": 0.5, # B0, BT have to be fractions (SoC indeed). 0.5 if omit\n",
    "            \"bat_soc_K\": None, # if None, default is the same as bat_soc_0\n",
    "            ### EVs\n",
    "            \"ev_I\": 20,\n",
    "            \"ev_ta\": np.linspace(0, 48, 20), # ta, td can be floats\n",
    "            \"ev_td\": np.linspace(36, 96, 20),\n",
    "            \"ev_e_init\": np.array([0]*20),\n",
    "            \"ev_e_targ\": np.array([10]*20),\n",
    "            \"ev_capacity\": None, # can omit, default as e_targ (useful only when aloow discharge)\n",
    "            \"ev_p_max\": 6.6,\n",
    "            \"ev_p_min\": 0, # can omit, default as 0\n",
    "            \"ev_efficacy\": 0.98,\n",
    "        }"
   ]
  },
  {
   "cell_type": "code",
   "execution_count": 7,
   "metadata": {},
   "outputs": [
    {
     "name": "stderr",
     "output_type": "stream",
     "text": [
      "g:\\Anaconda\\Anaconda3\\envs\\base38\\lib\\site-packages\\sklearn\\cluster\\_kmeans.py:1382: UserWarning: KMeans is known to have a memory leak on Windows with MKL, when there are less chunks than available threads. You can avoid it by setting the environment variable OMP_NUM_THREADS=2.\n",
      "  warnings.warn(\n"
     ]
    },
    {
     "name": "stdout",
     "output_type": "stream",
     "text": [
      "Done, trial 1\n",
      "Done, trial 2\n",
      "Done, trial 3\n"
     ]
    },
    {
     "name": "stderr",
     "output_type": "stream",
     "text": [
      "g:\\Anaconda\\Anaconda3\\envs\\base38\\lib\\site-packages\\sklearn\\cluster\\_kmeans.py:1382: UserWarning: KMeans is known to have a memory leak on Windows with MKL, when there are less chunks than available threads. You can avoid it by setting the environment variable OMP_NUM_THREADS=2.\n",
      "  warnings.warn(\n"
     ]
    },
    {
     "name": "stdout",
     "output_type": "stream",
     "text": [
      "Done, trial 4\n",
      "Done, trial 5\n",
      "Done, trial 6\n",
      "Done, trial 7\n",
      "Done, trial 8\n",
      "Done, trial 9\n",
      "====================\n",
      "DONE\n"
     ]
    }
   ],
   "source": [
    "log_fn = os.path.join(out_path, \"debug_test\", \"EnS_log_test.xlsx\")\n",
    "save_path = os.path.join(out_path, \"debug_test\")\n",
    "em = EnS_ExperimentManager(log_fn=log_fn, save_path=save_path, save=False, exp_prefix=\"Yi_EnS_TEST0309\")\n",
    "em.run(keys=[\"alg\", \"K\", \"dist_metric\", \"incl_ev\", \"ev_how_to\"], num_trials=10)"
   ]
  }
 ],
 "metadata": {
  "kernelspec": {
   "display_name": "base38",
   "language": "python",
   "name": "python3"
  },
  "language_info": {
   "codemirror_mode": {
    "name": "ipython",
    "version": 3
   },
   "file_extension": ".py",
   "mimetype": "text/x-python",
   "name": "python",
   "nbconvert_exporter": "python",
   "pygments_lexer": "ipython3",
   "version": "3.8.13"
  },
  "orig_nbformat": 4
 },
 "nbformat": 4,
 "nbformat_minor": 2
}
