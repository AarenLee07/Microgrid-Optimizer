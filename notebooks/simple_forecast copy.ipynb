{
 "cells": [
  {
   "cell_type": "code",
   "execution_count": 1,
   "metadata": {},
   "outputs": [
    {
     "name": "stderr",
     "output_type": "stream",
     "text": [
      "l:\\Softwares\\Anaconda\\envs\\gurobi\\lib\\site-packages\\tqdm\\auto.py:21: TqdmWarning: IProgress not found. Please update jupyter and ipywidgets. See https://ipywidgets.readthedocs.io/en/stable/user_install.html\n",
      "  from .autonotebook import tqdm as notebook_tqdm\n"
     ]
    }
   ],
   "source": [
    "import os\n",
    "import sys\n",
    "import re\n",
    "import pandas as pd\n",
    "import numpy as np\n",
    "import pandas as pd\n",
    "import numpy as np\n",
    "from datetime import datetime, timedelta\n",
    "import statistics\n",
    "src_path = r\"D:/Codes/GIthub_repo/Energy_grid/data/UCSD_raw_data/PV_ALL.csv\"\n",
    "\n",
    "from XGBoost_helper import Data_encoder,Optuna_core,XGBoost_Optuna,Simple_forecast,intersection_sum"
   ]
  },
  {
   "cell_type": "code",
   "execution_count": 2,
   "metadata": {},
   "outputs": [],
   "source": [
    "def get_prediction_Simple(src_path,start_t,end_t,days_ahead,save_path,K,alpha):\n",
    "    \n",
    "    data=pd.read_csv(src_path)\n",
    "    data=data.drop_duplicates()\n",
    "    data=data.sort_values(by=\"DateTime\")\n",
    "    data[\"DateTime\"]=pd.to_datetime(data[\"DateTime\"])\n",
    "    data=data.set_index(\"DateTime\")\n",
    "    pred=data[start_t:end_t]\n",
    "    pred=pred.sort_values(by=\"DateTime\")\n",
    "\n",
    "    #helper dataframe\n",
    "    rng = pd.date_range(start=pred.index.min(),end=pred.index.max(), freq = '15min')\n",
    "    pd_rng=pd.DataFrame(rng)\n",
    "    pd_rng=pd_rng.rename(columns={0:'DateTime'}).copy()\n",
    "\n",
    "    data_n=pd.merge(pred,pd_rng,on='DateTime',how='right')\n",
    "    data_n['RealPower_pred'] = data_n.apply(lambda x: [], axis=1)\n",
    "    data_n['DateTime']=pd.to_datetime(data_n['DateTime'])\n",
    "    data_n=data_n.set_index('DateTime')\n",
    "    data_n['RealPower']=data_n['RealPower'].astype(float)\n",
    "    for i in data_n.index:\n",
    "        if not isinstance(data_n.at[i,'RealPower'],float):\n",
    "            data_n.at[i,'RealPower']=None\n",
    "    \n",
    "    data_n['historical_ave']=None\n",
    "    for i in data_n.index:\n",
    "        history=[]\n",
    "        for k in range(days_ahead):\n",
    "            index_ahead=i-timedelta(days=int(k+1))\n",
    "            if index_ahead in data_n.index:\n",
    "                history.append(data_n.at[index_ahead,'RealPower'])\n",
    "            #else:\n",
    "                #history.append(Null)                 \n",
    "        ave=0\n",
    "        count=0\n",
    "        for m in history:\n",
    "            if isinstance(m,(str,float,int)):\n",
    "                ave=ave+float(m)\n",
    "                count=count+1\n",
    "        if count>0:\n",
    "            ave=ave/count\n",
    "            data_n.at[i,'historical_ave']=ave\n",
    "    data_n=data_n.reset_index()\n",
    "    \n",
    "    last_weights = np.exp(- alpha*(np.arange(K)+1)) if alpha is not None else 0\n",
    "\n",
    "    if 'ReactivePower' in data_n.columns:\n",
    "        data_n=data_n.drop(columns=['ReactivePower'])\n",
    "    print(data_n.head(50))\n",
    "    \n",
    "    for n in range(len(data_n)-K-1):\n",
    "        # \"realpower\" 1st column\n",
    "        last=data_n.iat[n,1]\n",
    "        if not isinstance(last,float):\n",
    "            last=None\n",
    "        #last_weights = np.exp(- alpha*(np.arange(K)+1)) if alpha is not None else 0\n",
    "        for i in range(K):\n",
    "            #\"historical_ave\" 3rd column, 'Pred' 2nd column\n",
    "            share=last_weights[i].copy()\n",
    "            if not isinstance(share,float):\n",
    "                print(last_weights)\n",
    "                print(type(last_weights))\n",
    "                raise Exception('invalid type of last_weights')\n",
    "            if not isinstance(last,(float,None)):\n",
    "                print(last)\n",
    "                print(type(last))\n",
    "                raise Exception('invalid type of last')  \n",
    "            if  data_n.iat[n+i,3] != None:       \n",
    "                if last != None:\n",
    "                    pred_value=share*last+(1-share)*data_n.iat[n+i,3]\n",
    "                else:\n",
    "                    pred_value=data_n.iat[n+i,3]\n",
    "                data_n.iat[n+i,2].append(pred_value)\n",
    "    \n",
    "    data_n['RealPower_pred']=data_n['RealPower_pred'].map(lambda x: np.nanmean(x))\n",
    "    data_n['pred_error']=data_n[[\"RealPower\",\"RealPower_pred\"]].\\\n",
    "        apply(lambda x: abs(x[\"RealPower\"]-x[\"RealPower_pred\"]),axis=1)\n",
    "    \n",
    "    ''' OLDer version of code:\n",
    "    \n",
    "    #pred=pred.set_index(\"DateTime\")\n",
    "    #pred.index = pd.to_datetime(pred.index)\n",
    "    pred[\"RealPower_pred\"]=None\n",
    "    for i in pred.index:\n",
    "        history=[]\n",
    "        for k in range(days_ahead):\n",
    "            index_ahead=i-timedelta(days=k+1)\n",
    "            if index_ahead in pred.index:\n",
    "                history.append(pred.loc[index_ahead,'RealPower'])\n",
    "            else:\n",
    "                history.append(pred.loc[i,'RealPower'])\n",
    "        \n",
    "        pred.loc[i,'RealPower_pred']=np.mean(history)\n",
    "    '''\n",
    "    data_n.to_csv(save_path,index=True)\n",
    "    return data_n"
   ]
  },
  {
   "cell_type": "code",
   "execution_count": 3,
   "metadata": {},
   "outputs": [
    {
     "name": "stderr",
     "output_type": "stream",
     "text": [
      "l:\\Coding_project\\Energy_grid_new\\notebooks\\XGBoost_helper.py:661: UserWarning: Parsing dates in %d-%m-%Y format when dayfirst=False (the default) was specified. Pass `dayfirst=True` or specify a format to silence this warning.\n",
      "  pred_ref=df[pd.to_datetime(ref_start_t):pd.to_datetime(end_t)+timedelta(minutes=15*(K+5))].copy()\n"
     ]
    },
    {
     "name": "stdout",
     "output_type": "stream",
     "text": [
      "# calculate historical average of all index in prediction duartion\n",
      "# calculate pred for each step\n",
      "1  done\n",
      "4  done\n",
      "24  done\n",
      "48  done\n",
      "72  done\n",
      "96  done\n",
      "# calculate historical average of all index in prediction duartion\n",
      "# calculate pred for each step\n",
      "1  done\n",
      "4  done\n",
      "24  done\n",
      "48  done\n",
      "72  done\n",
      "96  done\n",
      "File saved to:L:\\Coding_project\\Energy_grid_new_exp_local\\PV_simple_grid_search\\PV_sum_Simple_prediction_3days_0.1.csv\n"
     ]
    },
    {
     "name": "stderr",
     "output_type": "stream",
     "text": [
      "l:\\Coding_project\\Energy_grid_new\\notebooks\\XGBoost_helper.py:661: UserWarning: Parsing dates in %d-%m-%Y format when dayfirst=False (the default) was specified. Pass `dayfirst=True` or specify a format to silence this warning.\n",
      "  pred_ref=df[pd.to_datetime(ref_start_t):pd.to_datetime(end_t)+timedelta(minutes=15*(K+5))].copy()\n"
     ]
    },
    {
     "name": "stdout",
     "output_type": "stream",
     "text": [
      "# calculate historical average of all index in prediction duartion\n",
      "# calculate pred for each step\n",
      "1  done\n",
      "4  done\n",
      "24  done\n",
      "48  done\n",
      "72  done\n",
      "96  done\n",
      "# calculate historical average of all index in prediction duartion\n",
      "# calculate pred for each step\n",
      "1  done\n",
      "4  done\n",
      "24  done\n",
      "48  done\n",
      "72  done\n",
      "96  done\n",
      "File saved to:L:\\Coding_project\\Energy_grid_new_exp_local\\PV_simple_grid_search\\PV_sum_Simple_prediction_3days_0.2.csv\n"
     ]
    },
    {
     "name": "stderr",
     "output_type": "stream",
     "text": [
      "l:\\Coding_project\\Energy_grid_new\\notebooks\\XGBoost_helper.py:661: UserWarning: Parsing dates in %d-%m-%Y format when dayfirst=False (the default) was specified. Pass `dayfirst=True` or specify a format to silence this warning.\n",
      "  pred_ref=df[pd.to_datetime(ref_start_t):pd.to_datetime(end_t)+timedelta(minutes=15*(K+5))].copy()\n"
     ]
    },
    {
     "name": "stdout",
     "output_type": "stream",
     "text": [
      "# calculate historical average of all index in prediction duartion\n",
      "# calculate pred for each step\n",
      "1  done\n",
      "4  done\n",
      "24  done\n",
      "48  done\n",
      "72  done\n",
      "96  done\n",
      "# calculate historical average of all index in prediction duartion\n",
      "# calculate pred for each step\n",
      "1  done\n",
      "4  done\n",
      "24  done\n",
      "48  done\n",
      "72  done\n",
      "96  done\n",
      "File saved to:L:\\Coding_project\\Energy_grid_new_exp_local\\PV_simple_grid_search\\PV_sum_Simple_prediction_3days_0.3.csv\n"
     ]
    },
    {
     "name": "stderr",
     "output_type": "stream",
     "text": [
      "l:\\Coding_project\\Energy_grid_new\\notebooks\\XGBoost_helper.py:661: UserWarning: Parsing dates in %d-%m-%Y format when dayfirst=False (the default) was specified. Pass `dayfirst=True` or specify a format to silence this warning.\n",
      "  pred_ref=df[pd.to_datetime(ref_start_t):pd.to_datetime(end_t)+timedelta(minutes=15*(K+5))].copy()\n"
     ]
    },
    {
     "name": "stdout",
     "output_type": "stream",
     "text": [
      "# calculate historical average of all index in prediction duartion\n",
      "# calculate pred for each step\n",
      "1  done\n",
      "4  done\n",
      "24  done\n",
      "48  done\n",
      "72  done\n",
      "96  done\n",
      "# calculate historical average of all index in prediction duartion\n",
      "# calculate pred for each step\n",
      "1  done\n",
      "4  done\n",
      "24  done\n",
      "48  done\n",
      "72  done\n",
      "96  done\n",
      "File saved to:L:\\Coding_project\\Energy_grid_new_exp_local\\PV_simple_grid_search\\PV_sum_Simple_prediction_3days_0.4.csv\n"
     ]
    },
    {
     "name": "stderr",
     "output_type": "stream",
     "text": [
      "l:\\Coding_project\\Energy_grid_new\\notebooks\\XGBoost_helper.py:661: UserWarning: Parsing dates in %d-%m-%Y format when dayfirst=False (the default) was specified. Pass `dayfirst=True` or specify a format to silence this warning.\n",
      "  pred_ref=df[pd.to_datetime(ref_start_t):pd.to_datetime(end_t)+timedelta(minutes=15*(K+5))].copy()\n"
     ]
    },
    {
     "name": "stdout",
     "output_type": "stream",
     "text": [
      "# calculate historical average of all index in prediction duartion\n",
      "# calculate pred for each step\n",
      "1  done\n",
      "4  done\n",
      "24  done\n",
      "48  done\n",
      "72  done\n",
      "96  done\n",
      "# calculate historical average of all index in prediction duartion\n",
      "# calculate pred for each step\n",
      "1  done\n",
      "4  done\n",
      "24  done\n",
      "48  done\n",
      "72  done\n",
      "96  done\n",
      "File saved to:L:\\Coding_project\\Energy_grid_new_exp_local\\PV_simple_grid_search\\PV_sum_Simple_prediction_3days_0.5.csv\n"
     ]
    },
    {
     "name": "stderr",
     "output_type": "stream",
     "text": [
      "l:\\Coding_project\\Energy_grid_new\\notebooks\\XGBoost_helper.py:661: UserWarning: Parsing dates in %d-%m-%Y format when dayfirst=False (the default) was specified. Pass `dayfirst=True` or specify a format to silence this warning.\n",
      "  pred_ref=df[pd.to_datetime(ref_start_t):pd.to_datetime(end_t)+timedelta(minutes=15*(K+5))].copy()\n"
     ]
    },
    {
     "name": "stdout",
     "output_type": "stream",
     "text": [
      "# calculate historical average of all index in prediction duartion\n",
      "# calculate pred for each step\n",
      "1  done\n",
      "4  done\n",
      "24  done\n",
      "48  done\n",
      "72  done\n",
      "96  done\n",
      "# calculate historical average of all index in prediction duartion\n",
      "# calculate pred for each step\n",
      "1  done\n",
      "4  done\n",
      "24  done\n",
      "48  done\n",
      "72  done\n",
      "96  done\n",
      "File saved to:L:\\Coding_project\\Energy_grid_new_exp_local\\PV_simple_grid_search\\PV_sum_Simple_prediction_4days_0.1.csv\n"
     ]
    },
    {
     "name": "stderr",
     "output_type": "stream",
     "text": [
      "l:\\Coding_project\\Energy_grid_new\\notebooks\\XGBoost_helper.py:661: UserWarning: Parsing dates in %d-%m-%Y format when dayfirst=False (the default) was specified. Pass `dayfirst=True` or specify a format to silence this warning.\n",
      "  pred_ref=df[pd.to_datetime(ref_start_t):pd.to_datetime(end_t)+timedelta(minutes=15*(K+5))].copy()\n"
     ]
    },
    {
     "name": "stdout",
     "output_type": "stream",
     "text": [
      "# calculate historical average of all index in prediction duartion\n",
      "# calculate pred for each step\n",
      "1  done\n",
      "4  done\n",
      "24  done\n",
      "48  done\n",
      "72  done\n",
      "96  done\n",
      "# calculate historical average of all index in prediction duartion\n",
      "# calculate pred for each step\n",
      "1  done\n",
      "4  done\n",
      "24  done\n",
      "48  done\n",
      "72  done\n",
      "96  done\n",
      "File saved to:L:\\Coding_project\\Energy_grid_new_exp_local\\PV_simple_grid_search\\PV_sum_Simple_prediction_4days_0.2.csv\n"
     ]
    },
    {
     "name": "stderr",
     "output_type": "stream",
     "text": [
      "l:\\Coding_project\\Energy_grid_new\\notebooks\\XGBoost_helper.py:661: UserWarning: Parsing dates in %d-%m-%Y format when dayfirst=False (the default) was specified. Pass `dayfirst=True` or specify a format to silence this warning.\n",
      "  pred_ref=df[pd.to_datetime(ref_start_t):pd.to_datetime(end_t)+timedelta(minutes=15*(K+5))].copy()\n"
     ]
    },
    {
     "name": "stdout",
     "output_type": "stream",
     "text": [
      "# calculate historical average of all index in prediction duartion\n",
      "# calculate pred for each step\n",
      "1  done\n",
      "4  done\n",
      "24  done\n",
      "48  done\n",
      "72  done\n",
      "96  done\n",
      "# calculate historical average of all index in prediction duartion\n",
      "# calculate pred for each step\n",
      "1  done\n",
      "4  done\n",
      "24  done\n",
      "48  done\n",
      "72  done\n",
      "96  done\n",
      "File saved to:L:\\Coding_project\\Energy_grid_new_exp_local\\PV_simple_grid_search\\PV_sum_Simple_prediction_4days_0.3.csv\n"
     ]
    },
    {
     "name": "stderr",
     "output_type": "stream",
     "text": [
      "l:\\Coding_project\\Energy_grid_new\\notebooks\\XGBoost_helper.py:661: UserWarning: Parsing dates in %d-%m-%Y format when dayfirst=False (the default) was specified. Pass `dayfirst=True` or specify a format to silence this warning.\n",
      "  pred_ref=df[pd.to_datetime(ref_start_t):pd.to_datetime(end_t)+timedelta(minutes=15*(K+5))].copy()\n"
     ]
    },
    {
     "name": "stdout",
     "output_type": "stream",
     "text": [
      "# calculate historical average of all index in prediction duartion\n",
      "# calculate pred for each step\n",
      "1  done\n",
      "4  done\n",
      "24  done\n",
      "48  done\n",
      "72  done\n",
      "96  done\n",
      "# calculate historical average of all index in prediction duartion\n",
      "# calculate pred for each step\n",
      "1  done\n",
      "4  done\n",
      "24  done\n",
      "48  done\n",
      "72  done\n",
      "96  done\n",
      "File saved to:L:\\Coding_project\\Energy_grid_new_exp_local\\PV_simple_grid_search\\PV_sum_Simple_prediction_4days_0.4.csv\n"
     ]
    },
    {
     "name": "stderr",
     "output_type": "stream",
     "text": [
      "l:\\Coding_project\\Energy_grid_new\\notebooks\\XGBoost_helper.py:661: UserWarning: Parsing dates in %d-%m-%Y format when dayfirst=False (the default) was specified. Pass `dayfirst=True` or specify a format to silence this warning.\n",
      "  pred_ref=df[pd.to_datetime(ref_start_t):pd.to_datetime(end_t)+timedelta(minutes=15*(K+5))].copy()\n"
     ]
    },
    {
     "name": "stdout",
     "output_type": "stream",
     "text": [
      "# calculate historical average of all index in prediction duartion\n",
      "# calculate pred for each step\n",
      "1  done\n",
      "4  done\n",
      "24  done\n",
      "48  done\n",
      "72  done\n",
      "96  done\n",
      "# calculate historical average of all index in prediction duartion\n",
      "# calculate pred for each step\n",
      "1  done\n",
      "4  done\n",
      "24  done\n",
      "48  done\n",
      "72  done\n",
      "96  done\n",
      "File saved to:L:\\Coding_project\\Energy_grid_new_exp_local\\PV_simple_grid_search\\PV_sum_Simple_prediction_4days_0.5.csv\n"
     ]
    },
    {
     "name": "stderr",
     "output_type": "stream",
     "text": [
      "l:\\Coding_project\\Energy_grid_new\\notebooks\\XGBoost_helper.py:661: UserWarning: Parsing dates in %d-%m-%Y format when dayfirst=False (the default) was specified. Pass `dayfirst=True` or specify a format to silence this warning.\n",
      "  pred_ref=df[pd.to_datetime(ref_start_t):pd.to_datetime(end_t)+timedelta(minutes=15*(K+5))].copy()\n"
     ]
    },
    {
     "name": "stdout",
     "output_type": "stream",
     "text": [
      "# calculate historical average of all index in prediction duartion\n",
      "# calculate pred for each step\n",
      "1  done\n",
      "4  done\n",
      "24  done\n",
      "48  done\n",
      "72  done\n",
      "96  done\n",
      "# calculate historical average of all index in prediction duartion\n",
      "# calculate pred for each step\n",
      "1  done\n",
      "4  done\n",
      "24  done\n",
      "48  done\n",
      "72  done\n",
      "96  done\n",
      "File saved to:L:\\Coding_project\\Energy_grid_new_exp_local\\PV_simple_grid_search\\PV_sum_Simple_prediction_5days_0.1.csv\n"
     ]
    },
    {
     "name": "stderr",
     "output_type": "stream",
     "text": [
      "l:\\Coding_project\\Energy_grid_new\\notebooks\\XGBoost_helper.py:661: UserWarning: Parsing dates in %d-%m-%Y format when dayfirst=False (the default) was specified. Pass `dayfirst=True` or specify a format to silence this warning.\n",
      "  pred_ref=df[pd.to_datetime(ref_start_t):pd.to_datetime(end_t)+timedelta(minutes=15*(K+5))].copy()\n"
     ]
    },
    {
     "name": "stdout",
     "output_type": "stream",
     "text": [
      "# calculate historical average of all index in prediction duartion\n",
      "# calculate pred for each step\n",
      "1  done\n",
      "4  done\n",
      "24  done\n",
      "48  done\n",
      "72  done\n",
      "96  done\n",
      "# calculate historical average of all index in prediction duartion\n",
      "# calculate pred for each step\n",
      "1  done\n",
      "4  done\n",
      "24  done\n",
      "48  done\n",
      "72  done\n",
      "96  done\n",
      "File saved to:L:\\Coding_project\\Energy_grid_new_exp_local\\PV_simple_grid_search\\PV_sum_Simple_prediction_5days_0.2.csv\n"
     ]
    },
    {
     "name": "stderr",
     "output_type": "stream",
     "text": [
      "l:\\Coding_project\\Energy_grid_new\\notebooks\\XGBoost_helper.py:661: UserWarning: Parsing dates in %d-%m-%Y format when dayfirst=False (the default) was specified. Pass `dayfirst=True` or specify a format to silence this warning.\n",
      "  pred_ref=df[pd.to_datetime(ref_start_t):pd.to_datetime(end_t)+timedelta(minutes=15*(K+5))].copy()\n"
     ]
    },
    {
     "name": "stdout",
     "output_type": "stream",
     "text": [
      "# calculate historical average of all index in prediction duartion\n",
      "# calculate pred for each step\n",
      "1  done\n",
      "4  done\n",
      "24  done\n",
      "48  done\n",
      "72  done\n",
      "96  done\n",
      "# calculate historical average of all index in prediction duartion\n",
      "# calculate pred for each step\n",
      "1  done\n",
      "4  done\n",
      "24  done\n",
      "48  done\n",
      "72  done\n",
      "96  done\n",
      "File saved to:L:\\Coding_project\\Energy_grid_new_exp_local\\PV_simple_grid_search\\PV_sum_Simple_prediction_5days_0.3.csv\n"
     ]
    },
    {
     "name": "stderr",
     "output_type": "stream",
     "text": [
      "l:\\Coding_project\\Energy_grid_new\\notebooks\\XGBoost_helper.py:661: UserWarning: Parsing dates in %d-%m-%Y format when dayfirst=False (the default) was specified. Pass `dayfirst=True` or specify a format to silence this warning.\n",
      "  pred_ref=df[pd.to_datetime(ref_start_t):pd.to_datetime(end_t)+timedelta(minutes=15*(K+5))].copy()\n"
     ]
    },
    {
     "name": "stdout",
     "output_type": "stream",
     "text": [
      "# calculate historical average of all index in prediction duartion\n",
      "# calculate pred for each step\n",
      "1  done\n",
      "4  done\n",
      "24  done\n",
      "48  done\n",
      "72  done\n",
      "96  done\n",
      "# calculate historical average of all index in prediction duartion\n",
      "# calculate pred for each step\n",
      "1  done\n",
      "4  done\n",
      "24  done\n",
      "48  done\n",
      "72  done\n",
      "96  done\n",
      "File saved to:L:\\Coding_project\\Energy_grid_new_exp_local\\PV_simple_grid_search\\PV_sum_Simple_prediction_5days_0.4.csv\n"
     ]
    },
    {
     "name": "stderr",
     "output_type": "stream",
     "text": [
      "l:\\Coding_project\\Energy_grid_new\\notebooks\\XGBoost_helper.py:661: UserWarning: Parsing dates in %d-%m-%Y format when dayfirst=False (the default) was specified. Pass `dayfirst=True` or specify a format to silence this warning.\n",
      "  pred_ref=df[pd.to_datetime(ref_start_t):pd.to_datetime(end_t)+timedelta(minutes=15*(K+5))].copy()\n"
     ]
    },
    {
     "name": "stdout",
     "output_type": "stream",
     "text": [
      "# calculate historical average of all index in prediction duartion\n",
      "# calculate pred for each step\n",
      "1  done\n",
      "4  done\n",
      "24  done\n",
      "48  done\n",
      "72  done\n",
      "96  done\n",
      "# calculate historical average of all index in prediction duartion\n",
      "# calculate pred for each step\n",
      "1  done\n",
      "4  done\n",
      "24  done\n",
      "48  done\n",
      "72  done\n",
      "96  done\n",
      "File saved to:L:\\Coding_project\\Energy_grid_new_exp_local\\PV_simple_grid_search\\PV_sum_Simple_prediction_5days_0.5.csv\n"
     ]
    },
    {
     "name": "stderr",
     "output_type": "stream",
     "text": [
      "l:\\Coding_project\\Energy_grid_new\\notebooks\\XGBoost_helper.py:661: UserWarning: Parsing dates in %d-%m-%Y format when dayfirst=False (the default) was specified. Pass `dayfirst=True` or specify a format to silence this warning.\n",
      "  pred_ref=df[pd.to_datetime(ref_start_t):pd.to_datetime(end_t)+timedelta(minutes=15*(K+5))].copy()\n"
     ]
    },
    {
     "name": "stdout",
     "output_type": "stream",
     "text": [
      "# calculate historical average of all index in prediction duartion\n",
      "# calculate pred for each step\n",
      "1  done\n",
      "4  done\n",
      "24  done\n",
      "48  done\n",
      "72  done\n",
      "96  done\n",
      "# calculate historical average of all index in prediction duartion\n",
      "# calculate pred for each step\n",
      "1  done\n",
      "4  done\n",
      "24  done\n",
      "48  done\n",
      "72  done\n",
      "96  done\n",
      "File saved to:L:\\Coding_project\\Energy_grid_new_exp_local\\PV_simple_grid_search\\PV_sum_Simple_prediction_6days_0.1.csv\n"
     ]
    },
    {
     "name": "stderr",
     "output_type": "stream",
     "text": [
      "l:\\Coding_project\\Energy_grid_new\\notebooks\\XGBoost_helper.py:661: UserWarning: Parsing dates in %d-%m-%Y format when dayfirst=False (the default) was specified. Pass `dayfirst=True` or specify a format to silence this warning.\n",
      "  pred_ref=df[pd.to_datetime(ref_start_t):pd.to_datetime(end_t)+timedelta(minutes=15*(K+5))].copy()\n"
     ]
    },
    {
     "name": "stdout",
     "output_type": "stream",
     "text": [
      "# calculate historical average of all index in prediction duartion\n",
      "# calculate pred for each step\n",
      "1  done\n",
      "4  done\n",
      "24  done\n",
      "48  done\n",
      "72  done\n",
      "96  done\n",
      "# calculate historical average of all index in prediction duartion\n",
      "# calculate pred for each step\n",
      "1  done\n",
      "4  done\n",
      "24  done\n",
      "48  done\n",
      "72  done\n",
      "96  done\n",
      "File saved to:L:\\Coding_project\\Energy_grid_new_exp_local\\PV_simple_grid_search\\PV_sum_Simple_prediction_6days_0.2.csv\n"
     ]
    },
    {
     "name": "stderr",
     "output_type": "stream",
     "text": [
      "l:\\Coding_project\\Energy_grid_new\\notebooks\\XGBoost_helper.py:661: UserWarning: Parsing dates in %d-%m-%Y format when dayfirst=False (the default) was specified. Pass `dayfirst=True` or specify a format to silence this warning.\n",
      "  pred_ref=df[pd.to_datetime(ref_start_t):pd.to_datetime(end_t)+timedelta(minutes=15*(K+5))].copy()\n"
     ]
    },
    {
     "name": "stdout",
     "output_type": "stream",
     "text": [
      "# calculate historical average of all index in prediction duartion\n",
      "# calculate pred for each step\n",
      "1  done\n",
      "4  done\n",
      "24  done\n",
      "48  done\n",
      "72  done\n",
      "96  done\n",
      "# calculate historical average of all index in prediction duartion\n",
      "# calculate pred for each step\n",
      "1  done\n",
      "4  done\n",
      "24  done\n",
      "48  done\n",
      "72  done\n",
      "96  done\n",
      "File saved to:L:\\Coding_project\\Energy_grid_new_exp_local\\PV_simple_grid_search\\PV_sum_Simple_prediction_6days_0.3.csv\n"
     ]
    },
    {
     "name": "stderr",
     "output_type": "stream",
     "text": [
      "l:\\Coding_project\\Energy_grid_new\\notebooks\\XGBoost_helper.py:661: UserWarning: Parsing dates in %d-%m-%Y format when dayfirst=False (the default) was specified. Pass `dayfirst=True` or specify a format to silence this warning.\n",
      "  pred_ref=df[pd.to_datetime(ref_start_t):pd.to_datetime(end_t)+timedelta(minutes=15*(K+5))].copy()\n"
     ]
    },
    {
     "name": "stdout",
     "output_type": "stream",
     "text": [
      "# calculate historical average of all index in prediction duartion\n",
      "# calculate pred for each step\n",
      "1  done\n",
      "4  done\n",
      "24  done\n",
      "48  done\n",
      "72  done\n",
      "96  done\n",
      "# calculate historical average of all index in prediction duartion\n",
      "# calculate pred for each step\n",
      "1  done\n",
      "4  done\n",
      "24  done\n",
      "48  done\n",
      "72  done\n",
      "96  done\n",
      "File saved to:L:\\Coding_project\\Energy_grid_new_exp_local\\PV_simple_grid_search\\PV_sum_Simple_prediction_6days_0.4.csv\n"
     ]
    },
    {
     "name": "stderr",
     "output_type": "stream",
     "text": [
      "l:\\Coding_project\\Energy_grid_new\\notebooks\\XGBoost_helper.py:661: UserWarning: Parsing dates in %d-%m-%Y format when dayfirst=False (the default) was specified. Pass `dayfirst=True` or specify a format to silence this warning.\n",
      "  pred_ref=df[pd.to_datetime(ref_start_t):pd.to_datetime(end_t)+timedelta(minutes=15*(K+5))].copy()\n"
     ]
    },
    {
     "name": "stdout",
     "output_type": "stream",
     "text": [
      "# calculate historical average of all index in prediction duartion\n",
      "# calculate pred for each step\n",
      "1  done\n",
      "4  done\n",
      "24  done\n",
      "48  done\n",
      "72  done\n",
      "96  done\n",
      "# calculate historical average of all index in prediction duartion\n",
      "# calculate pred for each step\n",
      "1  done\n",
      "4  done\n",
      "24  done\n",
      "48  done\n",
      "72  done\n",
      "96  done\n",
      "File saved to:L:\\Coding_project\\Energy_grid_new_exp_local\\PV_simple_grid_search\\PV_sum_Simple_prediction_6days_0.5.csv\n"
     ]
    },
    {
     "name": "stderr",
     "output_type": "stream",
     "text": [
      "l:\\Coding_project\\Energy_grid_new\\notebooks\\XGBoost_helper.py:661: UserWarning: Parsing dates in %d-%m-%Y format when dayfirst=False (the default) was specified. Pass `dayfirst=True` or specify a format to silence this warning.\n",
      "  pred_ref=df[pd.to_datetime(ref_start_t):pd.to_datetime(end_t)+timedelta(minutes=15*(K+5))].copy()\n"
     ]
    },
    {
     "name": "stdout",
     "output_type": "stream",
     "text": [
      "# calculate historical average of all index in prediction duartion\n",
      "# calculate pred for each step\n",
      "1  done\n",
      "4  done\n",
      "24  done\n",
      "48  done\n",
      "72  done\n",
      "96  done\n",
      "# calculate historical average of all index in prediction duartion\n",
      "# calculate pred for each step\n",
      "1  done\n",
      "4  done\n",
      "24  done\n",
      "48  done\n",
      "72  done\n",
      "96  done\n",
      "File saved to:L:\\Coding_project\\Energy_grid_new_exp_local\\PV_simple_grid_search\\PV_sum_Simple_prediction_7days_0.1.csv\n"
     ]
    },
    {
     "name": "stderr",
     "output_type": "stream",
     "text": [
      "l:\\Coding_project\\Energy_grid_new\\notebooks\\XGBoost_helper.py:661: UserWarning: Parsing dates in %d-%m-%Y format when dayfirst=False (the default) was specified. Pass `dayfirst=True` or specify a format to silence this warning.\n",
      "  pred_ref=df[pd.to_datetime(ref_start_t):pd.to_datetime(end_t)+timedelta(minutes=15*(K+5))].copy()\n"
     ]
    },
    {
     "name": "stdout",
     "output_type": "stream",
     "text": [
      "# calculate historical average of all index in prediction duartion\n",
      "# calculate pred for each step\n",
      "1  done\n",
      "4  done\n",
      "24  done\n",
      "48  done\n",
      "72  done\n",
      "96  done\n",
      "# calculate historical average of all index in prediction duartion\n",
      "# calculate pred for each step\n",
      "1  done\n",
      "4  done\n",
      "24  done\n",
      "48  done\n",
      "72  done\n",
      "96  done\n",
      "File saved to:L:\\Coding_project\\Energy_grid_new_exp_local\\PV_simple_grid_search\\PV_sum_Simple_prediction_7days_0.2.csv\n"
     ]
    },
    {
     "name": "stderr",
     "output_type": "stream",
     "text": [
      "l:\\Coding_project\\Energy_grid_new\\notebooks\\XGBoost_helper.py:661: UserWarning: Parsing dates in %d-%m-%Y format when dayfirst=False (the default) was specified. Pass `dayfirst=True` or specify a format to silence this warning.\n",
      "  pred_ref=df[pd.to_datetime(ref_start_t):pd.to_datetime(end_t)+timedelta(minutes=15*(K+5))].copy()\n"
     ]
    },
    {
     "name": "stdout",
     "output_type": "stream",
     "text": [
      "# calculate historical average of all index in prediction duartion\n",
      "# calculate pred for each step\n",
      "1  done\n",
      "4  done\n",
      "24  done\n",
      "48  done\n",
      "72  done\n",
      "96  done\n",
      "# calculate historical average of all index in prediction duartion\n",
      "# calculate pred for each step\n",
      "1  done\n",
      "4  done\n",
      "24  done\n",
      "48  done\n",
      "72  done\n",
      "96  done\n",
      "File saved to:L:\\Coding_project\\Energy_grid_new_exp_local\\PV_simple_grid_search\\PV_sum_Simple_prediction_7days_0.3.csv\n"
     ]
    },
    {
     "name": "stderr",
     "output_type": "stream",
     "text": [
      "l:\\Coding_project\\Energy_grid_new\\notebooks\\XGBoost_helper.py:661: UserWarning: Parsing dates in %d-%m-%Y format when dayfirst=False (the default) was specified. Pass `dayfirst=True` or specify a format to silence this warning.\n",
      "  pred_ref=df[pd.to_datetime(ref_start_t):pd.to_datetime(end_t)+timedelta(minutes=15*(K+5))].copy()\n"
     ]
    },
    {
     "name": "stdout",
     "output_type": "stream",
     "text": [
      "# calculate historical average of all index in prediction duartion\n",
      "# calculate pred for each step\n",
      "1  done\n",
      "4  done\n",
      "24  done\n",
      "48  done\n",
      "72  done\n",
      "96  done\n",
      "# calculate historical average of all index in prediction duartion\n",
      "# calculate pred for each step\n",
      "1  done\n",
      "4  done\n",
      "24  done\n",
      "48  done\n",
      "72  done\n",
      "96  done\n",
      "File saved to:L:\\Coding_project\\Energy_grid_new_exp_local\\PV_simple_grid_search\\PV_sum_Simple_prediction_7days_0.4.csv\n"
     ]
    },
    {
     "name": "stderr",
     "output_type": "stream",
     "text": [
      "l:\\Coding_project\\Energy_grid_new\\notebooks\\XGBoost_helper.py:661: UserWarning: Parsing dates in %d-%m-%Y format when dayfirst=False (the default) was specified. Pass `dayfirst=True` or specify a format to silence this warning.\n",
      "  pred_ref=df[pd.to_datetime(ref_start_t):pd.to_datetime(end_t)+timedelta(minutes=15*(K+5))].copy()\n"
     ]
    },
    {
     "name": "stdout",
     "output_type": "stream",
     "text": [
      "# calculate historical average of all index in prediction duartion\n",
      "# calculate pred for each step\n",
      "1  done\n",
      "4  done\n",
      "24  done\n",
      "48  done\n",
      "72  done\n",
      "96  done\n",
      "# calculate historical average of all index in prediction duartion\n",
      "# calculate pred for each step\n",
      "1  done\n",
      "4  done\n",
      "24  done\n",
      "48  done\n",
      "72  done\n",
      "96  done\n",
      "File saved to:L:\\Coding_project\\Energy_grid_new_exp_local\\PV_simple_grid_search\\PV_sum_Simple_prediction_7days_0.5.csv\n"
     ]
    },
    {
     "name": "stderr",
     "output_type": "stream",
     "text": [
      "l:\\Coding_project\\Energy_grid_new\\notebooks\\XGBoost_helper.py:661: UserWarning: Parsing dates in %d-%m-%Y format when dayfirst=False (the default) was specified. Pass `dayfirst=True` or specify a format to silence this warning.\n",
      "  pred_ref=df[pd.to_datetime(ref_start_t):pd.to_datetime(end_t)+timedelta(minutes=15*(K+5))].copy()\n"
     ]
    },
    {
     "name": "stdout",
     "output_type": "stream",
     "text": [
      "# calculate historical average of all index in prediction duartion\n",
      "# calculate pred for each step\n",
      "1  done\n",
      "4  done\n",
      "24  done\n",
      "48  done\n",
      "72  done\n",
      "96  done\n",
      "# calculate historical average of all index in prediction duartion\n",
      "# calculate pred for each step\n",
      "1  done\n",
      "4  done\n",
      "24  done\n",
      "48  done\n",
      "72  done\n",
      "96  done\n",
      "File saved to:L:\\Coding_project\\Energy_grid_new_exp_local\\PV_simple_grid_search\\PV_sum_Simple_prediction_8days_0.1.csv\n"
     ]
    },
    {
     "name": "stderr",
     "output_type": "stream",
     "text": [
      "l:\\Coding_project\\Energy_grid_new\\notebooks\\XGBoost_helper.py:661: UserWarning: Parsing dates in %d-%m-%Y format when dayfirst=False (the default) was specified. Pass `dayfirst=True` or specify a format to silence this warning.\n",
      "  pred_ref=df[pd.to_datetime(ref_start_t):pd.to_datetime(end_t)+timedelta(minutes=15*(K+5))].copy()\n"
     ]
    },
    {
     "name": "stdout",
     "output_type": "stream",
     "text": [
      "# calculate historical average of all index in prediction duartion\n",
      "# calculate pred for each step\n",
      "1  done\n",
      "4  done\n",
      "24  done\n",
      "48  done\n",
      "72  done\n",
      "96  done\n",
      "# calculate historical average of all index in prediction duartion\n",
      "# calculate pred for each step\n",
      "1  done\n",
      "4  done\n",
      "24  done\n",
      "48  done\n",
      "72  done\n",
      "96  done\n",
      "File saved to:L:\\Coding_project\\Energy_grid_new_exp_local\\PV_simple_grid_search\\PV_sum_Simple_prediction_8days_0.2.csv\n"
     ]
    },
    {
     "name": "stderr",
     "output_type": "stream",
     "text": [
      "l:\\Coding_project\\Energy_grid_new\\notebooks\\XGBoost_helper.py:661: UserWarning: Parsing dates in %d-%m-%Y format when dayfirst=False (the default) was specified. Pass `dayfirst=True` or specify a format to silence this warning.\n",
      "  pred_ref=df[pd.to_datetime(ref_start_t):pd.to_datetime(end_t)+timedelta(minutes=15*(K+5))].copy()\n"
     ]
    },
    {
     "name": "stdout",
     "output_type": "stream",
     "text": [
      "# calculate historical average of all index in prediction duartion\n",
      "# calculate pred for each step\n",
      "1  done\n",
      "4  done\n",
      "24  done\n",
      "48  done\n",
      "72  done\n",
      "96  done\n",
      "# calculate historical average of all index in prediction duartion\n",
      "# calculate pred for each step\n",
      "1  done\n",
      "4  done\n",
      "24  done\n",
      "48  done\n",
      "72  done\n",
      "96  done\n",
      "File saved to:L:\\Coding_project\\Energy_grid_new_exp_local\\PV_simple_grid_search\\PV_sum_Simple_prediction_8days_0.3.csv\n"
     ]
    },
    {
     "name": "stderr",
     "output_type": "stream",
     "text": [
      "l:\\Coding_project\\Energy_grid_new\\notebooks\\XGBoost_helper.py:661: UserWarning: Parsing dates in %d-%m-%Y format when dayfirst=False (the default) was specified. Pass `dayfirst=True` or specify a format to silence this warning.\n",
      "  pred_ref=df[pd.to_datetime(ref_start_t):pd.to_datetime(end_t)+timedelta(minutes=15*(K+5))].copy()\n"
     ]
    },
    {
     "name": "stdout",
     "output_type": "stream",
     "text": [
      "# calculate historical average of all index in prediction duartion\n",
      "# calculate pred for each step\n",
      "1  done\n",
      "4  done\n",
      "24  done\n",
      "48  done\n",
      "72  done\n",
      "96  done\n",
      "# calculate historical average of all index in prediction duartion\n",
      "# calculate pred for each step\n",
      "1  done\n",
      "4  done\n",
      "24  done\n",
      "48  done\n",
      "72  done\n",
      "96  done\n",
      "File saved to:L:\\Coding_project\\Energy_grid_new_exp_local\\PV_simple_grid_search\\PV_sum_Simple_prediction_8days_0.4.csv\n"
     ]
    },
    {
     "name": "stderr",
     "output_type": "stream",
     "text": [
      "l:\\Coding_project\\Energy_grid_new\\notebooks\\XGBoost_helper.py:661: UserWarning: Parsing dates in %d-%m-%Y format when dayfirst=False (the default) was specified. Pass `dayfirst=True` or specify a format to silence this warning.\n",
      "  pred_ref=df[pd.to_datetime(ref_start_t):pd.to_datetime(end_t)+timedelta(minutes=15*(K+5))].copy()\n"
     ]
    },
    {
     "name": "stdout",
     "output_type": "stream",
     "text": [
      "# calculate historical average of all index in prediction duartion\n",
      "# calculate pred for each step\n",
      "1  done\n",
      "4  done\n",
      "24  done\n",
      "48  done\n",
      "72  done\n",
      "96  done\n",
      "# calculate historical average of all index in prediction duartion\n",
      "# calculate pred for each step\n",
      "1  done\n",
      "4  done\n",
      "24  done\n",
      "48  done\n",
      "72  done\n",
      "96  done\n",
      "File saved to:L:\\Coding_project\\Energy_grid_new_exp_local\\PV_simple_grid_search\\PV_sum_Simple_prediction_8days_0.5.csv\n"
     ]
    },
    {
     "name": "stderr",
     "output_type": "stream",
     "text": [
      "l:\\Coding_project\\Energy_grid_new\\notebooks\\XGBoost_helper.py:661: UserWarning: Parsing dates in %d-%m-%Y format when dayfirst=False (the default) was specified. Pass `dayfirst=True` or specify a format to silence this warning.\n",
      "  pred_ref=df[pd.to_datetime(ref_start_t):pd.to_datetime(end_t)+timedelta(minutes=15*(K+5))].copy()\n"
     ]
    },
    {
     "name": "stdout",
     "output_type": "stream",
     "text": [
      "# calculate historical average of all index in prediction duartion\n",
      "# calculate pred for each step\n",
      "1  done\n",
      "4  done\n",
      "24  done\n",
      "48  done\n",
      "72  done\n",
      "96  done\n",
      "# calculate historical average of all index in prediction duartion\n",
      "# calculate pred for each step\n",
      "1  done\n",
      "4  done\n",
      "24  done\n",
      "48  done\n",
      "72  done\n",
      "96  done\n",
      "File saved to:L:\\Coding_project\\Energy_grid_new_exp_local\\PV_simple_grid_search\\PV_sum_Simple_prediction_9days_0.1.csv\n"
     ]
    },
    {
     "name": "stderr",
     "output_type": "stream",
     "text": [
      "l:\\Coding_project\\Energy_grid_new\\notebooks\\XGBoost_helper.py:661: UserWarning: Parsing dates in %d-%m-%Y format when dayfirst=False (the default) was specified. Pass `dayfirst=True` or specify a format to silence this warning.\n",
      "  pred_ref=df[pd.to_datetime(ref_start_t):pd.to_datetime(end_t)+timedelta(minutes=15*(K+5))].copy()\n"
     ]
    },
    {
     "name": "stdout",
     "output_type": "stream",
     "text": [
      "# calculate historical average of all index in prediction duartion\n",
      "# calculate pred for each step\n",
      "1  done\n",
      "4  done\n",
      "24  done\n",
      "48  done\n",
      "72  done\n",
      "96  done\n",
      "# calculate historical average of all index in prediction duartion\n",
      "# calculate pred for each step\n",
      "1  done\n",
      "4  done\n",
      "24  done\n",
      "48  done\n",
      "72  done\n",
      "96  done\n",
      "File saved to:L:\\Coding_project\\Energy_grid_new_exp_local\\PV_simple_grid_search\\PV_sum_Simple_prediction_9days_0.2.csv\n"
     ]
    },
    {
     "name": "stderr",
     "output_type": "stream",
     "text": [
      "l:\\Coding_project\\Energy_grid_new\\notebooks\\XGBoost_helper.py:661: UserWarning: Parsing dates in %d-%m-%Y format when dayfirst=False (the default) was specified. Pass `dayfirst=True` or specify a format to silence this warning.\n",
      "  pred_ref=df[pd.to_datetime(ref_start_t):pd.to_datetime(end_t)+timedelta(minutes=15*(K+5))].copy()\n"
     ]
    },
    {
     "name": "stdout",
     "output_type": "stream",
     "text": [
      "# calculate historical average of all index in prediction duartion\n",
      "# calculate pred for each step\n",
      "1  done\n",
      "4  done\n",
      "24  done\n",
      "48  done\n",
      "72  done\n",
      "96  done\n",
      "# calculate historical average of all index in prediction duartion\n",
      "# calculate pred for each step\n",
      "1  done\n",
      "4  done\n",
      "24  done\n",
      "48  done\n",
      "72  done\n",
      "96  done\n",
      "File saved to:L:\\Coding_project\\Energy_grid_new_exp_local\\PV_simple_grid_search\\PV_sum_Simple_prediction_9days_0.3.csv\n"
     ]
    },
    {
     "name": "stderr",
     "output_type": "stream",
     "text": [
      "l:\\Coding_project\\Energy_grid_new\\notebooks\\XGBoost_helper.py:661: UserWarning: Parsing dates in %d-%m-%Y format when dayfirst=False (the default) was specified. Pass `dayfirst=True` or specify a format to silence this warning.\n",
      "  pred_ref=df[pd.to_datetime(ref_start_t):pd.to_datetime(end_t)+timedelta(minutes=15*(K+5))].copy()\n"
     ]
    },
    {
     "name": "stdout",
     "output_type": "stream",
     "text": [
      "# calculate historical average of all index in prediction duartion\n",
      "# calculate pred for each step\n",
      "1  done\n",
      "4  done\n",
      "24  done\n",
      "48  done\n",
      "72  done\n",
      "96  done\n",
      "# calculate historical average of all index in prediction duartion\n",
      "# calculate pred for each step\n",
      "1  done\n",
      "4  done\n",
      "24  done\n",
      "48  done\n",
      "72  done\n",
      "96  done\n",
      "File saved to:L:\\Coding_project\\Energy_grid_new_exp_local\\PV_simple_grid_search\\PV_sum_Simple_prediction_9days_0.4.csv\n"
     ]
    },
    {
     "name": "stderr",
     "output_type": "stream",
     "text": [
      "l:\\Coding_project\\Energy_grid_new\\notebooks\\XGBoost_helper.py:661: UserWarning: Parsing dates in %d-%m-%Y format when dayfirst=False (the default) was specified. Pass `dayfirst=True` or specify a format to silence this warning.\n",
      "  pred_ref=df[pd.to_datetime(ref_start_t):pd.to_datetime(end_t)+timedelta(minutes=15*(K+5))].copy()\n"
     ]
    },
    {
     "name": "stdout",
     "output_type": "stream",
     "text": [
      "# calculate historical average of all index in prediction duartion\n",
      "# calculate pred for each step\n",
      "1  done\n",
      "4  done\n",
      "24  done\n",
      "48  done\n",
      "72  done\n",
      "96  done\n",
      "# calculate historical average of all index in prediction duartion\n",
      "# calculate pred for each step\n",
      "1  done\n",
      "4  done\n",
      "24  done\n",
      "48  done\n",
      "72  done\n",
      "96  done\n",
      "File saved to:L:\\Coding_project\\Energy_grid_new_exp_local\\PV_simple_grid_search\\PV_sum_Simple_prediction_9days_0.5.csv\n"
     ]
    },
    {
     "name": "stderr",
     "output_type": "stream",
     "text": [
      "l:\\Coding_project\\Energy_grid_new\\notebooks\\XGBoost_helper.py:661: UserWarning: Parsing dates in %d-%m-%Y format when dayfirst=False (the default) was specified. Pass `dayfirst=True` or specify a format to silence this warning.\n",
      "  pred_ref=df[pd.to_datetime(ref_start_t):pd.to_datetime(end_t)+timedelta(minutes=15*(K+5))].copy()\n"
     ]
    },
    {
     "name": "stdout",
     "output_type": "stream",
     "text": [
      "# calculate historical average of all index in prediction duartion\n",
      "# calculate pred for each step\n",
      "1  done\n",
      "4  done\n",
      "24  done\n",
      "48  done\n",
      "72  done\n",
      "96  done\n",
      "# calculate historical average of all index in prediction duartion\n",
      "# calculate pred for each step\n",
      "1  done\n",
      "4  done\n",
      "24  done\n",
      "48  done\n",
      "72  done\n",
      "96  done\n",
      "File saved to:L:\\Coding_project\\Energy_grid_new_exp_local\\PV_simple_grid_search\\PV_sum_Simple_prediction_10days_0.1.csv\n"
     ]
    },
    {
     "name": "stderr",
     "output_type": "stream",
     "text": [
      "l:\\Coding_project\\Energy_grid_new\\notebooks\\XGBoost_helper.py:661: UserWarning: Parsing dates in %d-%m-%Y format when dayfirst=False (the default) was specified. Pass `dayfirst=True` or specify a format to silence this warning.\n",
      "  pred_ref=df[pd.to_datetime(ref_start_t):pd.to_datetime(end_t)+timedelta(minutes=15*(K+5))].copy()\n"
     ]
    },
    {
     "name": "stdout",
     "output_type": "stream",
     "text": [
      "# calculate historical average of all index in prediction duartion\n",
      "# calculate pred for each step\n",
      "1  done\n",
      "4  done\n",
      "24  done\n",
      "48  done\n",
      "72  done\n",
      "96  done\n",
      "# calculate historical average of all index in prediction duartion\n",
      "# calculate pred for each step\n",
      "1  done\n",
      "4  done\n",
      "24  done\n",
      "48  done\n",
      "72  done\n",
      "96  done\n",
      "File saved to:L:\\Coding_project\\Energy_grid_new_exp_local\\PV_simple_grid_search\\PV_sum_Simple_prediction_10days_0.2.csv\n"
     ]
    },
    {
     "name": "stderr",
     "output_type": "stream",
     "text": [
      "l:\\Coding_project\\Energy_grid_new\\notebooks\\XGBoost_helper.py:661: UserWarning: Parsing dates in %d-%m-%Y format when dayfirst=False (the default) was specified. Pass `dayfirst=True` or specify a format to silence this warning.\n",
      "  pred_ref=df[pd.to_datetime(ref_start_t):pd.to_datetime(end_t)+timedelta(minutes=15*(K+5))].copy()\n"
     ]
    },
    {
     "name": "stdout",
     "output_type": "stream",
     "text": [
      "# calculate historical average of all index in prediction duartion\n",
      "# calculate pred for each step\n",
      "1  done\n",
      "4  done\n",
      "24  done\n",
      "48  done\n",
      "72  done\n",
      "96  done\n",
      "# calculate historical average of all index in prediction duartion\n",
      "# calculate pred for each step\n",
      "1  done\n",
      "4  done\n",
      "24  done\n",
      "48  done\n",
      "72  done\n",
      "96  done\n",
      "File saved to:L:\\Coding_project\\Energy_grid_new_exp_local\\PV_simple_grid_search\\PV_sum_Simple_prediction_10days_0.3.csv\n"
     ]
    },
    {
     "name": "stderr",
     "output_type": "stream",
     "text": [
      "l:\\Coding_project\\Energy_grid_new\\notebooks\\XGBoost_helper.py:661: UserWarning: Parsing dates in %d-%m-%Y format when dayfirst=False (the default) was specified. Pass `dayfirst=True` or specify a format to silence this warning.\n",
      "  pred_ref=df[pd.to_datetime(ref_start_t):pd.to_datetime(end_t)+timedelta(minutes=15*(K+5))].copy()\n"
     ]
    },
    {
     "name": "stdout",
     "output_type": "stream",
     "text": [
      "# calculate historical average of all index in prediction duartion\n",
      "# calculate pred for each step\n",
      "1  done\n",
      "4  done\n",
      "24  done\n",
      "48  done\n",
      "72  done\n",
      "96  done\n",
      "# calculate historical average of all index in prediction duartion\n",
      "# calculate pred for each step\n",
      "1  done\n",
      "4  done\n",
      "24  done\n",
      "48  done\n",
      "72  done\n",
      "96  done\n",
      "File saved to:L:\\Coding_project\\Energy_grid_new_exp_local\\PV_simple_grid_search\\PV_sum_Simple_prediction_10days_0.4.csv\n"
     ]
    },
    {
     "name": "stderr",
     "output_type": "stream",
     "text": [
      "l:\\Coding_project\\Energy_grid_new\\notebooks\\XGBoost_helper.py:661: UserWarning: Parsing dates in %d-%m-%Y format when dayfirst=False (the default) was specified. Pass `dayfirst=True` or specify a format to silence this warning.\n",
      "  pred_ref=df[pd.to_datetime(ref_start_t):pd.to_datetime(end_t)+timedelta(minutes=15*(K+5))].copy()\n"
     ]
    },
    {
     "name": "stdout",
     "output_type": "stream",
     "text": [
      "# calculate historical average of all index in prediction duartion\n",
      "# calculate pred for each step\n",
      "1  done\n",
      "4  done\n",
      "24  done\n",
      "48  done\n",
      "72  done\n",
      "96  done\n",
      "# calculate historical average of all index in prediction duartion\n",
      "# calculate pred for each step\n",
      "1  done\n",
      "4  done\n",
      "24  done\n",
      "48  done\n",
      "72  done\n",
      "96  done\n",
      "File saved to:L:\\Coding_project\\Energy_grid_new_exp_local\\PV_simple_grid_search\\PV_sum_Simple_prediction_10days_0.5.csv\n"
     ]
    },
    {
     "name": "stderr",
     "output_type": "stream",
     "text": [
      "l:\\Coding_project\\Energy_grid_new\\notebooks\\XGBoost_helper.py:661: UserWarning: Parsing dates in %d-%m-%Y format when dayfirst=False (the default) was specified. Pass `dayfirst=True` or specify a format to silence this warning.\n",
      "  pred_ref=df[pd.to_datetime(ref_start_t):pd.to_datetime(end_t)+timedelta(minutes=15*(K+5))].copy()\n"
     ]
    },
    {
     "name": "stdout",
     "output_type": "stream",
     "text": [
      "# calculate historical average of all index in prediction duartion\n",
      "# calculate pred for each step\n",
      "1  done\n",
      "4  done\n",
      "24  done\n",
      "48  done\n",
      "72  done\n",
      "96  done\n",
      "# calculate historical average of all index in prediction duartion\n",
      "# calculate pred for each step\n",
      "1  done\n",
      "4  done\n",
      "24  done\n",
      "48  done\n",
      "72  done\n",
      "96  done\n",
      "File saved to:L:\\Coding_project\\Energy_grid_new_exp_local\\PV_simple_grid_search\\PV_sum_Simple_prediction_11days_0.1.csv\n"
     ]
    },
    {
     "name": "stderr",
     "output_type": "stream",
     "text": [
      "l:\\Coding_project\\Energy_grid_new\\notebooks\\XGBoost_helper.py:661: UserWarning: Parsing dates in %d-%m-%Y format when dayfirst=False (the default) was specified. Pass `dayfirst=True` or specify a format to silence this warning.\n",
      "  pred_ref=df[pd.to_datetime(ref_start_t):pd.to_datetime(end_t)+timedelta(minutes=15*(K+5))].copy()\n"
     ]
    },
    {
     "name": "stdout",
     "output_type": "stream",
     "text": [
      "# calculate historical average of all index in prediction duartion\n",
      "# calculate pred for each step\n",
      "1  done\n",
      "4  done\n",
      "24  done\n",
      "48  done\n",
      "72  done\n",
      "96  done\n",
      "# calculate historical average of all index in prediction duartion\n",
      "# calculate pred for each step\n",
      "1  done\n",
      "4  done\n",
      "24  done\n",
      "48  done\n",
      "72  done\n",
      "96  done\n",
      "File saved to:L:\\Coding_project\\Energy_grid_new_exp_local\\PV_simple_grid_search\\PV_sum_Simple_prediction_11days_0.2.csv\n"
     ]
    },
    {
     "name": "stderr",
     "output_type": "stream",
     "text": [
      "l:\\Coding_project\\Energy_grid_new\\notebooks\\XGBoost_helper.py:661: UserWarning: Parsing dates in %d-%m-%Y format when dayfirst=False (the default) was specified. Pass `dayfirst=True` or specify a format to silence this warning.\n",
      "  pred_ref=df[pd.to_datetime(ref_start_t):pd.to_datetime(end_t)+timedelta(minutes=15*(K+5))].copy()\n"
     ]
    },
    {
     "name": "stdout",
     "output_type": "stream",
     "text": [
      "# calculate historical average of all index in prediction duartion\n",
      "# calculate pred for each step\n",
      "1  done\n",
      "4  done\n",
      "24  done\n",
      "48  done\n",
      "72  done\n",
      "96  done\n",
      "# calculate historical average of all index in prediction duartion\n",
      "# calculate pred for each step\n",
      "1  done\n",
      "4  done\n",
      "24  done\n",
      "48  done\n",
      "72  done\n",
      "96  done\n",
      "File saved to:L:\\Coding_project\\Energy_grid_new_exp_local\\PV_simple_grid_search\\PV_sum_Simple_prediction_11days_0.3.csv\n"
     ]
    },
    {
     "name": "stderr",
     "output_type": "stream",
     "text": [
      "l:\\Coding_project\\Energy_grid_new\\notebooks\\XGBoost_helper.py:661: UserWarning: Parsing dates in %d-%m-%Y format when dayfirst=False (the default) was specified. Pass `dayfirst=True` or specify a format to silence this warning.\n",
      "  pred_ref=df[pd.to_datetime(ref_start_t):pd.to_datetime(end_t)+timedelta(minutes=15*(K+5))].copy()\n"
     ]
    },
    {
     "name": "stdout",
     "output_type": "stream",
     "text": [
      "# calculate historical average of all index in prediction duartion\n",
      "# calculate pred for each step\n",
      "1  done\n",
      "4  done\n",
      "24  done\n",
      "48  done\n",
      "72  done\n",
      "96  done\n",
      "# calculate historical average of all index in prediction duartion\n",
      "# calculate pred for each step\n",
      "1  done\n",
      "4  done\n",
      "24  done\n",
      "48  done\n",
      "72  done\n",
      "96  done\n",
      "File saved to:L:\\Coding_project\\Energy_grid_new_exp_local\\PV_simple_grid_search\\PV_sum_Simple_prediction_11days_0.4.csv\n"
     ]
    },
    {
     "name": "stderr",
     "output_type": "stream",
     "text": [
      "l:\\Coding_project\\Energy_grid_new\\notebooks\\XGBoost_helper.py:661: UserWarning: Parsing dates in %d-%m-%Y format when dayfirst=False (the default) was specified. Pass `dayfirst=True` or specify a format to silence this warning.\n",
      "  pred_ref=df[pd.to_datetime(ref_start_t):pd.to_datetime(end_t)+timedelta(minutes=15*(K+5))].copy()\n"
     ]
    },
    {
     "name": "stdout",
     "output_type": "stream",
     "text": [
      "# calculate historical average of all index in prediction duartion\n",
      "# calculate pred for each step\n",
      "1  done\n",
      "4  done\n",
      "24  done\n",
      "48  done\n",
      "72  done\n",
      "96  done\n",
      "# calculate historical average of all index in prediction duartion\n",
      "# calculate pred for each step\n",
      "1  done\n",
      "4  done\n",
      "24  done\n",
      "48  done\n",
      "72  done\n",
      "96  done\n",
      "File saved to:L:\\Coding_project\\Energy_grid_new_exp_local\\PV_simple_grid_search\\PV_sum_Simple_prediction_11days_0.5.csv\n"
     ]
    },
    {
     "name": "stderr",
     "output_type": "stream",
     "text": [
      "l:\\Coding_project\\Energy_grid_new\\notebooks\\XGBoost_helper.py:661: UserWarning: Parsing dates in %d-%m-%Y format when dayfirst=False (the default) was specified. Pass `dayfirst=True` or specify a format to silence this warning.\n",
      "  pred_ref=df[pd.to_datetime(ref_start_t):pd.to_datetime(end_t)+timedelta(minutes=15*(K+5))].copy()\n"
     ]
    },
    {
     "name": "stdout",
     "output_type": "stream",
     "text": [
      "# calculate historical average of all index in prediction duartion\n",
      "# calculate pred for each step\n",
      "1  done\n",
      "4  done\n",
      "24  done\n",
      "48  done\n",
      "72  done\n",
      "96  done\n",
      "# calculate historical average of all index in prediction duartion\n",
      "# calculate pred for each step\n",
      "1  done\n",
      "4  done\n",
      "24  done\n",
      "48  done\n",
      "72  done\n",
      "96  done\n",
      "File saved to:L:\\Coding_project\\Energy_grid_new_exp_local\\PV_simple_grid_search\\PV_sum_Simple_prediction_12days_0.1.csv\n"
     ]
    },
    {
     "name": "stderr",
     "output_type": "stream",
     "text": [
      "l:\\Coding_project\\Energy_grid_new\\notebooks\\XGBoost_helper.py:661: UserWarning: Parsing dates in %d-%m-%Y format when dayfirst=False (the default) was specified. Pass `dayfirst=True` or specify a format to silence this warning.\n",
      "  pred_ref=df[pd.to_datetime(ref_start_t):pd.to_datetime(end_t)+timedelta(minutes=15*(K+5))].copy()\n"
     ]
    },
    {
     "name": "stdout",
     "output_type": "stream",
     "text": [
      "# calculate historical average of all index in prediction duartion\n",
      "# calculate pred for each step\n",
      "1  done\n",
      "4  done\n",
      "24  done\n",
      "48  done\n",
      "72  done\n",
      "96  done\n",
      "# calculate historical average of all index in prediction duartion\n",
      "# calculate pred for each step\n",
      "1  done\n",
      "4  done\n",
      "24  done\n",
      "48  done\n",
      "72  done\n",
      "96  done\n",
      "File saved to:L:\\Coding_project\\Energy_grid_new_exp_local\\PV_simple_grid_search\\PV_sum_Simple_prediction_12days_0.2.csv\n"
     ]
    },
    {
     "name": "stderr",
     "output_type": "stream",
     "text": [
      "l:\\Coding_project\\Energy_grid_new\\notebooks\\XGBoost_helper.py:661: UserWarning: Parsing dates in %d-%m-%Y format when dayfirst=False (the default) was specified. Pass `dayfirst=True` or specify a format to silence this warning.\n",
      "  pred_ref=df[pd.to_datetime(ref_start_t):pd.to_datetime(end_t)+timedelta(minutes=15*(K+5))].copy()\n"
     ]
    },
    {
     "name": "stdout",
     "output_type": "stream",
     "text": [
      "# calculate historical average of all index in prediction duartion\n",
      "# calculate pred for each step\n",
      "1  done\n",
      "4  done\n",
      "24  done\n",
      "48  done\n",
      "72  done\n",
      "96  done\n",
      "# calculate historical average of all index in prediction duartion\n",
      "# calculate pred for each step\n",
      "1  done\n",
      "4  done\n",
      "24  done\n",
      "48  done\n",
      "72  done\n",
      "96  done\n",
      "File saved to:L:\\Coding_project\\Energy_grid_new_exp_local\\PV_simple_grid_search\\PV_sum_Simple_prediction_12days_0.3.csv\n"
     ]
    },
    {
     "name": "stderr",
     "output_type": "stream",
     "text": [
      "l:\\Coding_project\\Energy_grid_new\\notebooks\\XGBoost_helper.py:661: UserWarning: Parsing dates in %d-%m-%Y format when dayfirst=False (the default) was specified. Pass `dayfirst=True` or specify a format to silence this warning.\n",
      "  pred_ref=df[pd.to_datetime(ref_start_t):pd.to_datetime(end_t)+timedelta(minutes=15*(K+5))].copy()\n"
     ]
    },
    {
     "name": "stdout",
     "output_type": "stream",
     "text": [
      "# calculate historical average of all index in prediction duartion\n",
      "# calculate pred for each step\n",
      "1  done\n",
      "4  done\n",
      "24  done\n",
      "48  done\n",
      "72  done\n",
      "96  done\n",
      "# calculate historical average of all index in prediction duartion\n",
      "# calculate pred for each step\n",
      "1  done\n",
      "4  done\n",
      "24  done\n",
      "48  done\n",
      "72  done\n",
      "96  done\n",
      "File saved to:L:\\Coding_project\\Energy_grid_new_exp_local\\PV_simple_grid_search\\PV_sum_Simple_prediction_12days_0.4.csv\n"
     ]
    },
    {
     "name": "stderr",
     "output_type": "stream",
     "text": [
      "l:\\Coding_project\\Energy_grid_new\\notebooks\\XGBoost_helper.py:661: UserWarning: Parsing dates in %d-%m-%Y format when dayfirst=False (the default) was specified. Pass `dayfirst=True` or specify a format to silence this warning.\n",
      "  pred_ref=df[pd.to_datetime(ref_start_t):pd.to_datetime(end_t)+timedelta(minutes=15*(K+5))].copy()\n"
     ]
    },
    {
     "name": "stdout",
     "output_type": "stream",
     "text": [
      "# calculate historical average of all index in prediction duartion\n",
      "# calculate pred for each step\n",
      "1  done\n",
      "4  done\n",
      "24  done\n",
      "48  done\n",
      "72  done\n",
      "96  done\n",
      "# calculate historical average of all index in prediction duartion\n",
      "# calculate pred for each step\n",
      "1  done\n",
      "4  done\n",
      "24  done\n",
      "48  done\n",
      "72  done\n",
      "96  done\n",
      "File saved to:L:\\Coding_project\\Energy_grid_new_exp_local\\PV_simple_grid_search\\PV_sum_Simple_prediction_12days_0.5.csv\n"
     ]
    },
    {
     "name": "stderr",
     "output_type": "stream",
     "text": [
      "l:\\Coding_project\\Energy_grid_new\\notebooks\\XGBoost_helper.py:661: UserWarning: Parsing dates in %d-%m-%Y format when dayfirst=False (the default) was specified. Pass `dayfirst=True` or specify a format to silence this warning.\n",
      "  pred_ref=df[pd.to_datetime(ref_start_t):pd.to_datetime(end_t)+timedelta(minutes=15*(K+5))].copy()\n"
     ]
    },
    {
     "name": "stdout",
     "output_type": "stream",
     "text": [
      "# calculate historical average of all index in prediction duartion\n",
      "# calculate pred for each step\n",
      "1  done\n",
      "4  done\n",
      "24  done\n",
      "48  done\n",
      "72  done\n",
      "96  done\n",
      "# calculate historical average of all index in prediction duartion\n",
      "# calculate pred for each step\n",
      "1  done\n",
      "4  done\n",
      "24  done\n",
      "48  done\n",
      "72  done\n",
      "96  done\n",
      "File saved to:L:\\Coding_project\\Energy_grid_new_exp_local\\PV_simple_grid_search\\PV_sum_Simple_prediction_13days_0.1.csv\n"
     ]
    },
    {
     "name": "stderr",
     "output_type": "stream",
     "text": [
      "l:\\Coding_project\\Energy_grid_new\\notebooks\\XGBoost_helper.py:661: UserWarning: Parsing dates in %d-%m-%Y format when dayfirst=False (the default) was specified. Pass `dayfirst=True` or specify a format to silence this warning.\n",
      "  pred_ref=df[pd.to_datetime(ref_start_t):pd.to_datetime(end_t)+timedelta(minutes=15*(K+5))].copy()\n"
     ]
    },
    {
     "name": "stdout",
     "output_type": "stream",
     "text": [
      "# calculate historical average of all index in prediction duartion\n",
      "# calculate pred for each step\n",
      "1  done\n",
      "4  done\n",
      "24  done\n",
      "48  done\n",
      "72  done\n",
      "96  done\n",
      "# calculate historical average of all index in prediction duartion\n",
      "# calculate pred for each step\n",
      "1  done\n",
      "4  done\n",
      "24  done\n",
      "48  done\n",
      "72  done\n",
      "96  done\n",
      "File saved to:L:\\Coding_project\\Energy_grid_new_exp_local\\PV_simple_grid_search\\PV_sum_Simple_prediction_13days_0.2.csv\n"
     ]
    },
    {
     "name": "stderr",
     "output_type": "stream",
     "text": [
      "l:\\Coding_project\\Energy_grid_new\\notebooks\\XGBoost_helper.py:661: UserWarning: Parsing dates in %d-%m-%Y format when dayfirst=False (the default) was specified. Pass `dayfirst=True` or specify a format to silence this warning.\n",
      "  pred_ref=df[pd.to_datetime(ref_start_t):pd.to_datetime(end_t)+timedelta(minutes=15*(K+5))].copy()\n"
     ]
    },
    {
     "name": "stdout",
     "output_type": "stream",
     "text": [
      "# calculate historical average of all index in prediction duartion\n",
      "# calculate pred for each step\n",
      "1  done\n",
      "4  done\n",
      "24  done\n",
      "48  done\n",
      "72  done\n",
      "96  done\n",
      "# calculate historical average of all index in prediction duartion\n",
      "# calculate pred for each step\n",
      "1  done\n",
      "4  done\n",
      "24  done\n",
      "48  done\n",
      "72  done\n",
      "96  done\n",
      "File saved to:L:\\Coding_project\\Energy_grid_new_exp_local\\PV_simple_grid_search\\PV_sum_Simple_prediction_13days_0.3.csv\n"
     ]
    },
    {
     "name": "stderr",
     "output_type": "stream",
     "text": [
      "l:\\Coding_project\\Energy_grid_new\\notebooks\\XGBoost_helper.py:661: UserWarning: Parsing dates in %d-%m-%Y format when dayfirst=False (the default) was specified. Pass `dayfirst=True` or specify a format to silence this warning.\n",
      "  pred_ref=df[pd.to_datetime(ref_start_t):pd.to_datetime(end_t)+timedelta(minutes=15*(K+5))].copy()\n"
     ]
    },
    {
     "name": "stdout",
     "output_type": "stream",
     "text": [
      "# calculate historical average of all index in prediction duartion\n",
      "# calculate pred for each step\n",
      "1  done\n",
      "4  done\n",
      "24  done\n",
      "48  done\n",
      "72  done\n",
      "96  done\n",
      "# calculate historical average of all index in prediction duartion\n",
      "# calculate pred for each step\n",
      "1  done\n",
      "4  done\n",
      "24  done\n",
      "48  done\n",
      "72  done\n",
      "96  done\n",
      "File saved to:L:\\Coding_project\\Energy_grid_new_exp_local\\PV_simple_grid_search\\PV_sum_Simple_prediction_13days_0.4.csv\n"
     ]
    },
    {
     "name": "stderr",
     "output_type": "stream",
     "text": [
      "l:\\Coding_project\\Energy_grid_new\\notebooks\\XGBoost_helper.py:661: UserWarning: Parsing dates in %d-%m-%Y format when dayfirst=False (the default) was specified. Pass `dayfirst=True` or specify a format to silence this warning.\n",
      "  pred_ref=df[pd.to_datetime(ref_start_t):pd.to_datetime(end_t)+timedelta(minutes=15*(K+5))].copy()\n"
     ]
    },
    {
     "name": "stdout",
     "output_type": "stream",
     "text": [
      "# calculate historical average of all index in prediction duartion\n",
      "# calculate pred for each step\n",
      "1  done\n",
      "4  done\n",
      "24  done\n",
      "48  done\n",
      "72  done\n",
      "96  done\n",
      "# calculate historical average of all index in prediction duartion\n",
      "# calculate pred for each step\n",
      "1  done\n",
      "4  done\n",
      "24  done\n",
      "48  done\n",
      "72  done\n",
      "96  done\n",
      "File saved to:L:\\Coding_project\\Energy_grid_new_exp_local\\PV_simple_grid_search\\PV_sum_Simple_prediction_13days_0.5.csv\n"
     ]
    },
    {
     "name": "stderr",
     "output_type": "stream",
     "text": [
      "l:\\Coding_project\\Energy_grid_new\\notebooks\\XGBoost_helper.py:661: UserWarning: Parsing dates in %d-%m-%Y format when dayfirst=False (the default) was specified. Pass `dayfirst=True` or specify a format to silence this warning.\n",
      "  pred_ref=df[pd.to_datetime(ref_start_t):pd.to_datetime(end_t)+timedelta(minutes=15*(K+5))].copy()\n"
     ]
    },
    {
     "name": "stdout",
     "output_type": "stream",
     "text": [
      "# calculate historical average of all index in prediction duartion\n",
      "# calculate pred for each step\n",
      "1  done\n",
      "4  done\n",
      "24  done\n",
      "48  done\n",
      "72  done\n",
      "96  done\n",
      "# calculate historical average of all index in prediction duartion\n",
      "# calculate pred for each step\n",
      "1  done\n",
      "4  done\n",
      "24  done\n",
      "48  done\n",
      "72  done\n",
      "96  done\n",
      "File saved to:L:\\Coding_project\\Energy_grid_new_exp_local\\PV_simple_grid_search\\PV_sum_Simple_prediction_14days_0.1.csv\n"
     ]
    },
    {
     "name": "stderr",
     "output_type": "stream",
     "text": [
      "l:\\Coding_project\\Energy_grid_new\\notebooks\\XGBoost_helper.py:661: UserWarning: Parsing dates in %d-%m-%Y format when dayfirst=False (the default) was specified. Pass `dayfirst=True` or specify a format to silence this warning.\n",
      "  pred_ref=df[pd.to_datetime(ref_start_t):pd.to_datetime(end_t)+timedelta(minutes=15*(K+5))].copy()\n"
     ]
    },
    {
     "name": "stdout",
     "output_type": "stream",
     "text": [
      "# calculate historical average of all index in prediction duartion\n",
      "# calculate pred for each step\n",
      "1  done\n",
      "4  done\n",
      "24  done\n",
      "48  done\n",
      "72  done\n",
      "96  done\n",
      "# calculate historical average of all index in prediction duartion\n",
      "# calculate pred for each step\n",
      "1  done\n",
      "4  done\n",
      "24  done\n",
      "48  done\n",
      "72  done\n",
      "96  done\n",
      "File saved to:L:\\Coding_project\\Energy_grid_new_exp_local\\PV_simple_grid_search\\PV_sum_Simple_prediction_14days_0.2.csv\n"
     ]
    },
    {
     "name": "stderr",
     "output_type": "stream",
     "text": [
      "l:\\Coding_project\\Energy_grid_new\\notebooks\\XGBoost_helper.py:661: UserWarning: Parsing dates in %d-%m-%Y format when dayfirst=False (the default) was specified. Pass `dayfirst=True` or specify a format to silence this warning.\n",
      "  pred_ref=df[pd.to_datetime(ref_start_t):pd.to_datetime(end_t)+timedelta(minutes=15*(K+5))].copy()\n"
     ]
    },
    {
     "name": "stdout",
     "output_type": "stream",
     "text": [
      "# calculate historical average of all index in prediction duartion\n",
      "# calculate pred for each step\n",
      "1  done\n",
      "4  done\n",
      "24  done\n",
      "48  done\n",
      "72  done\n",
      "96  done\n",
      "# calculate historical average of all index in prediction duartion\n",
      "# calculate pred for each step\n",
      "1  done\n",
      "4  done\n",
      "24  done\n",
      "48  done\n",
      "72  done\n",
      "96  done\n",
      "File saved to:L:\\Coding_project\\Energy_grid_new_exp_local\\PV_simple_grid_search\\PV_sum_Simple_prediction_14days_0.3.csv\n"
     ]
    },
    {
     "name": "stderr",
     "output_type": "stream",
     "text": [
      "l:\\Coding_project\\Energy_grid_new\\notebooks\\XGBoost_helper.py:661: UserWarning: Parsing dates in %d-%m-%Y format when dayfirst=False (the default) was specified. Pass `dayfirst=True` or specify a format to silence this warning.\n",
      "  pred_ref=df[pd.to_datetime(ref_start_t):pd.to_datetime(end_t)+timedelta(minutes=15*(K+5))].copy()\n"
     ]
    },
    {
     "name": "stdout",
     "output_type": "stream",
     "text": [
      "# calculate historical average of all index in prediction duartion\n",
      "# calculate pred for each step\n",
      "1  done\n",
      "4  done\n",
      "24  done\n",
      "48  done\n",
      "72  done\n",
      "96  done\n",
      "# calculate historical average of all index in prediction duartion\n",
      "# calculate pred for each step\n",
      "1  done\n",
      "4  done\n",
      "24  done\n",
      "48  done\n",
      "72  done\n",
      "96  done\n",
      "File saved to:L:\\Coding_project\\Energy_grid_new_exp_local\\PV_simple_grid_search\\PV_sum_Simple_prediction_14days_0.4.csv\n"
     ]
    },
    {
     "name": "stderr",
     "output_type": "stream",
     "text": [
      "l:\\Coding_project\\Energy_grid_new\\notebooks\\XGBoost_helper.py:661: UserWarning: Parsing dates in %d-%m-%Y format when dayfirst=False (the default) was specified. Pass `dayfirst=True` or specify a format to silence this warning.\n",
      "  pred_ref=df[pd.to_datetime(ref_start_t):pd.to_datetime(end_t)+timedelta(minutes=15*(K+5))].copy()\n"
     ]
    },
    {
     "name": "stdout",
     "output_type": "stream",
     "text": [
      "# calculate historical average of all index in prediction duartion\n",
      "# calculate pred for each step\n",
      "1  done\n",
      "4  done\n",
      "24  done\n",
      "48  done\n",
      "72  done\n",
      "96  done\n",
      "# calculate historical average of all index in prediction duartion\n",
      "# calculate pred for each step\n",
      "1  done\n",
      "4  done\n",
      "24  done\n",
      "48  done\n",
      "72  done\n",
      "96  done\n",
      "File saved to:L:\\Coding_project\\Energy_grid_new_exp_local\\PV_simple_grid_search\\PV_sum_Simple_prediction_14days_0.5.csv\n"
     ]
    },
    {
     "name": "stderr",
     "output_type": "stream",
     "text": [
      "l:\\Coding_project\\Energy_grid_new\\notebooks\\XGBoost_helper.py:661: UserWarning: Parsing dates in %d-%m-%Y format when dayfirst=False (the default) was specified. Pass `dayfirst=True` or specify a format to silence this warning.\n",
      "  pred_ref=df[pd.to_datetime(ref_start_t):pd.to_datetime(end_t)+timedelta(minutes=15*(K+5))].copy()\n"
     ]
    },
    {
     "name": "stdout",
     "output_type": "stream",
     "text": [
      "# calculate historical average of all index in prediction duartion\n",
      "# calculate pred for each step\n",
      "1  done\n",
      "4  done\n",
      "24  done\n",
      "48  done\n",
      "72  done\n",
      "96  done\n",
      "# calculate historical average of all index in prediction duartion\n",
      "# calculate pred for each step\n",
      "1  done\n",
      "4  done\n",
      "24  done\n",
      "48  done\n",
      "72  done\n",
      "96  done\n",
      "File saved to:L:\\Coding_project\\Energy_grid_new_exp_local\\PV_simple_grid_search\\PV_sum_Simple_prediction_15days_0.1.csv\n"
     ]
    },
    {
     "name": "stderr",
     "output_type": "stream",
     "text": [
      "l:\\Coding_project\\Energy_grid_new\\notebooks\\XGBoost_helper.py:661: UserWarning: Parsing dates in %d-%m-%Y format when dayfirst=False (the default) was specified. Pass `dayfirst=True` or specify a format to silence this warning.\n",
      "  pred_ref=df[pd.to_datetime(ref_start_t):pd.to_datetime(end_t)+timedelta(minutes=15*(K+5))].copy()\n"
     ]
    },
    {
     "name": "stdout",
     "output_type": "stream",
     "text": [
      "# calculate historical average of all index in prediction duartion\n",
      "# calculate pred for each step\n",
      "1  done\n",
      "4  done\n",
      "24  done\n",
      "48  done\n",
      "72  done\n",
      "96  done\n",
      "# calculate historical average of all index in prediction duartion\n",
      "# calculate pred for each step\n",
      "1  done\n",
      "4  done\n",
      "24  done\n",
      "48  done\n",
      "72  done\n",
      "96  done\n",
      "File saved to:L:\\Coding_project\\Energy_grid_new_exp_local\\PV_simple_grid_search\\PV_sum_Simple_prediction_15days_0.2.csv\n"
     ]
    },
    {
     "name": "stderr",
     "output_type": "stream",
     "text": [
      "l:\\Coding_project\\Energy_grid_new\\notebooks\\XGBoost_helper.py:661: UserWarning: Parsing dates in %d-%m-%Y format when dayfirst=False (the default) was specified. Pass `dayfirst=True` or specify a format to silence this warning.\n",
      "  pred_ref=df[pd.to_datetime(ref_start_t):pd.to_datetime(end_t)+timedelta(minutes=15*(K+5))].copy()\n"
     ]
    },
    {
     "name": "stdout",
     "output_type": "stream",
     "text": [
      "# calculate historical average of all index in prediction duartion\n",
      "# calculate pred for each step\n",
      "1  done\n",
      "4  done\n",
      "24  done\n",
      "48  done\n",
      "72  done\n",
      "96  done\n",
      "# calculate historical average of all index in prediction duartion\n",
      "# calculate pred for each step\n",
      "1  done\n",
      "4  done\n",
      "24  done\n",
      "48  done\n",
      "72  done\n",
      "96  done\n",
      "File saved to:L:\\Coding_project\\Energy_grid_new_exp_local\\PV_simple_grid_search\\PV_sum_Simple_prediction_15days_0.3.csv\n"
     ]
    },
    {
     "name": "stderr",
     "output_type": "stream",
     "text": [
      "l:\\Coding_project\\Energy_grid_new\\notebooks\\XGBoost_helper.py:661: UserWarning: Parsing dates in %d-%m-%Y format when dayfirst=False (the default) was specified. Pass `dayfirst=True` or specify a format to silence this warning.\n",
      "  pred_ref=df[pd.to_datetime(ref_start_t):pd.to_datetime(end_t)+timedelta(minutes=15*(K+5))].copy()\n"
     ]
    },
    {
     "name": "stdout",
     "output_type": "stream",
     "text": [
      "# calculate historical average of all index in prediction duartion\n",
      "# calculate pred for each step\n",
      "1  done\n",
      "4  done\n",
      "24  done\n",
      "48  done\n",
      "72  done\n",
      "96  done\n",
      "# calculate historical average of all index in prediction duartion\n",
      "# calculate pred for each step\n",
      "1  done\n",
      "4  done\n",
      "24  done\n",
      "48  done\n",
      "72  done\n",
      "96  done\n",
      "File saved to:L:\\Coding_project\\Energy_grid_new_exp_local\\PV_simple_grid_search\\PV_sum_Simple_prediction_15days_0.4.csv\n"
     ]
    },
    {
     "name": "stderr",
     "output_type": "stream",
     "text": [
      "l:\\Coding_project\\Energy_grid_new\\notebooks\\XGBoost_helper.py:661: UserWarning: Parsing dates in %d-%m-%Y format when dayfirst=False (the default) was specified. Pass `dayfirst=True` or specify a format to silence this warning.\n",
      "  pred_ref=df[pd.to_datetime(ref_start_t):pd.to_datetime(end_t)+timedelta(minutes=15*(K+5))].copy()\n"
     ]
    },
    {
     "name": "stdout",
     "output_type": "stream",
     "text": [
      "# calculate historical average of all index in prediction duartion\n",
      "# calculate pred for each step\n",
      "1  done\n",
      "4  done\n",
      "24  done\n",
      "48  done\n",
      "72  done\n",
      "96  done\n",
      "# calculate historical average of all index in prediction duartion\n",
      "# calculate pred for each step\n",
      "1  done\n",
      "4  done\n",
      "24  done\n",
      "48  done\n",
      "72  done\n",
      "96  done\n",
      "File saved to:L:\\Coding_project\\Energy_grid_new_exp_local\\PV_simple_grid_search\\PV_sum_Simple_prediction_15days_0.5.csv\n"
     ]
    },
    {
     "name": "stderr",
     "output_type": "stream",
     "text": [
      "l:\\Coding_project\\Energy_grid_new\\notebooks\\XGBoost_helper.py:661: UserWarning: Parsing dates in %d-%m-%Y format when dayfirst=False (the default) was specified. Pass `dayfirst=True` or specify a format to silence this warning.\n",
      "  pred_ref=df[pd.to_datetime(ref_start_t):pd.to_datetime(end_t)+timedelta(minutes=15*(K+5))].copy()\n"
     ]
    },
    {
     "name": "stdout",
     "output_type": "stream",
     "text": [
      "# calculate historical average of all index in prediction duartion\n",
      "# calculate pred for each step\n",
      "1  done\n",
      "4  done\n",
      "24  done\n",
      "48  done\n",
      "72  done\n",
      "96  done\n",
      "# calculate historical average of all index in prediction duartion\n",
      "# calculate pred for each step\n",
      "1  done\n",
      "4  done\n",
      "24  done\n",
      "48  done\n",
      "72  done\n",
      "96  done\n",
      "File saved to:L:\\Coding_project\\Energy_grid_new_exp_local\\PV_simple_grid_search\\PV_sum_Simple_prediction_16days_0.1.csv\n"
     ]
    },
    {
     "name": "stderr",
     "output_type": "stream",
     "text": [
      "l:\\Coding_project\\Energy_grid_new\\notebooks\\XGBoost_helper.py:661: UserWarning: Parsing dates in %d-%m-%Y format when dayfirst=False (the default) was specified. Pass `dayfirst=True` or specify a format to silence this warning.\n",
      "  pred_ref=df[pd.to_datetime(ref_start_t):pd.to_datetime(end_t)+timedelta(minutes=15*(K+5))].copy()\n"
     ]
    },
    {
     "name": "stdout",
     "output_type": "stream",
     "text": [
      "# calculate historical average of all index in prediction duartion\n",
      "# calculate pred for each step\n",
      "1  done\n",
      "4  done\n",
      "24  done\n",
      "48  done\n",
      "72  done\n",
      "96  done\n",
      "# calculate historical average of all index in prediction duartion\n",
      "# calculate pred for each step\n",
      "1  done\n",
      "4  done\n",
      "24  done\n",
      "48  done\n",
      "72  done\n",
      "96  done\n",
      "File saved to:L:\\Coding_project\\Energy_grid_new_exp_local\\PV_simple_grid_search\\PV_sum_Simple_prediction_16days_0.2.csv\n"
     ]
    },
    {
     "name": "stderr",
     "output_type": "stream",
     "text": [
      "l:\\Coding_project\\Energy_grid_new\\notebooks\\XGBoost_helper.py:661: UserWarning: Parsing dates in %d-%m-%Y format when dayfirst=False (the default) was specified. Pass `dayfirst=True` or specify a format to silence this warning.\n",
      "  pred_ref=df[pd.to_datetime(ref_start_t):pd.to_datetime(end_t)+timedelta(minutes=15*(K+5))].copy()\n"
     ]
    },
    {
     "name": "stdout",
     "output_type": "stream",
     "text": [
      "# calculate historical average of all index in prediction duartion\n",
      "# calculate pred for each step\n",
      "1  done\n",
      "4  done\n",
      "24  done\n",
      "48  done\n",
      "72  done\n",
      "96  done\n",
      "# calculate historical average of all index in prediction duartion\n",
      "# calculate pred for each step\n",
      "1  done\n",
      "4  done\n",
      "24  done\n",
      "48  done\n",
      "72  done\n",
      "96  done\n",
      "File saved to:L:\\Coding_project\\Energy_grid_new_exp_local\\PV_simple_grid_search\\PV_sum_Simple_prediction_16days_0.3.csv\n"
     ]
    },
    {
     "name": "stderr",
     "output_type": "stream",
     "text": [
      "l:\\Coding_project\\Energy_grid_new\\notebooks\\XGBoost_helper.py:661: UserWarning: Parsing dates in %d-%m-%Y format when dayfirst=False (the default) was specified. Pass `dayfirst=True` or specify a format to silence this warning.\n",
      "  pred_ref=df[pd.to_datetime(ref_start_t):pd.to_datetime(end_t)+timedelta(minutes=15*(K+5))].copy()\n"
     ]
    },
    {
     "name": "stdout",
     "output_type": "stream",
     "text": [
      "# calculate historical average of all index in prediction duartion\n",
      "# calculate pred for each step\n",
      "1  done\n",
      "4  done\n",
      "24  done\n",
      "48  done\n",
      "72  done\n",
      "96  done\n",
      "# calculate historical average of all index in prediction duartion\n",
      "# calculate pred for each step\n",
      "1  done\n",
      "4  done\n",
      "24  done\n",
      "48  done\n",
      "72  done\n",
      "96  done\n",
      "File saved to:L:\\Coding_project\\Energy_grid_new_exp_local\\PV_simple_grid_search\\PV_sum_Simple_prediction_16days_0.4.csv\n"
     ]
    },
    {
     "name": "stderr",
     "output_type": "stream",
     "text": [
      "l:\\Coding_project\\Energy_grid_new\\notebooks\\XGBoost_helper.py:661: UserWarning: Parsing dates in %d-%m-%Y format when dayfirst=False (the default) was specified. Pass `dayfirst=True` or specify a format to silence this warning.\n",
      "  pred_ref=df[pd.to_datetime(ref_start_t):pd.to_datetime(end_t)+timedelta(minutes=15*(K+5))].copy()\n"
     ]
    },
    {
     "name": "stdout",
     "output_type": "stream",
     "text": [
      "# calculate historical average of all index in prediction duartion\n",
      "# calculate pred for each step\n",
      "1  done\n",
      "4  done\n",
      "24  done\n",
      "48  done\n",
      "72  done\n",
      "96  done\n",
      "# calculate historical average of all index in prediction duartion\n",
      "# calculate pred for each step\n",
      "1  done\n",
      "4  done\n",
      "24  done\n",
      "48  done\n",
      "72  done\n",
      "96  done\n",
      "File saved to:L:\\Coding_project\\Energy_grid_new_exp_local\\PV_simple_grid_search\\PV_sum_Simple_prediction_16days_0.5.csv\n"
     ]
    },
    {
     "name": "stderr",
     "output_type": "stream",
     "text": [
      "l:\\Coding_project\\Energy_grid_new\\notebooks\\XGBoost_helper.py:661: UserWarning: Parsing dates in %d-%m-%Y format when dayfirst=False (the default) was specified. Pass `dayfirst=True` or specify a format to silence this warning.\n",
      "  pred_ref=df[pd.to_datetime(ref_start_t):pd.to_datetime(end_t)+timedelta(minutes=15*(K+5))].copy()\n"
     ]
    },
    {
     "name": "stdout",
     "output_type": "stream",
     "text": [
      "# calculate historical average of all index in prediction duartion\n",
      "# calculate pred for each step\n",
      "1  done\n",
      "4  done\n",
      "24  done\n",
      "48  done\n",
      "72  done\n",
      "96  done\n",
      "# calculate historical average of all index in prediction duartion\n",
      "# calculate pred for each step\n",
      "1  done\n",
      "4  done\n",
      "24  done\n",
      "48  done\n",
      "72  done\n",
      "96  done\n",
      "File saved to:L:\\Coding_project\\Energy_grid_new_exp_local\\PV_simple_grid_search\\PV_sum_Simple_prediction_17days_0.1.csv\n"
     ]
    },
    {
     "name": "stderr",
     "output_type": "stream",
     "text": [
      "l:\\Coding_project\\Energy_grid_new\\notebooks\\XGBoost_helper.py:661: UserWarning: Parsing dates in %d-%m-%Y format when dayfirst=False (the default) was specified. Pass `dayfirst=True` or specify a format to silence this warning.\n",
      "  pred_ref=df[pd.to_datetime(ref_start_t):pd.to_datetime(end_t)+timedelta(minutes=15*(K+5))].copy()\n"
     ]
    },
    {
     "name": "stdout",
     "output_type": "stream",
     "text": [
      "# calculate historical average of all index in prediction duartion\n",
      "# calculate pred for each step\n",
      "1  done\n",
      "4  done\n",
      "24  done\n",
      "48  done\n",
      "72  done\n",
      "96  done\n",
      "# calculate historical average of all index in prediction duartion\n",
      "# calculate pred for each step\n",
      "1  done\n",
      "4  done\n",
      "24  done\n",
      "48  done\n",
      "72  done\n",
      "96  done\n",
      "File saved to:L:\\Coding_project\\Energy_grid_new_exp_local\\PV_simple_grid_search\\PV_sum_Simple_prediction_17days_0.2.csv\n"
     ]
    },
    {
     "name": "stderr",
     "output_type": "stream",
     "text": [
      "l:\\Coding_project\\Energy_grid_new\\notebooks\\XGBoost_helper.py:661: UserWarning: Parsing dates in %d-%m-%Y format when dayfirst=False (the default) was specified. Pass `dayfirst=True` or specify a format to silence this warning.\n",
      "  pred_ref=df[pd.to_datetime(ref_start_t):pd.to_datetime(end_t)+timedelta(minutes=15*(K+5))].copy()\n"
     ]
    },
    {
     "name": "stdout",
     "output_type": "stream",
     "text": [
      "# calculate historical average of all index in prediction duartion\n",
      "# calculate pred for each step\n",
      "1  done\n",
      "4  done\n",
      "24  done\n",
      "48  done\n",
      "72  done\n",
      "96  done\n",
      "# calculate historical average of all index in prediction duartion\n",
      "# calculate pred for each step\n",
      "1  done\n",
      "4  done\n",
      "24  done\n",
      "48  done\n",
      "72  done\n",
      "96  done\n",
      "File saved to:L:\\Coding_project\\Energy_grid_new_exp_local\\PV_simple_grid_search\\PV_sum_Simple_prediction_17days_0.3.csv\n"
     ]
    },
    {
     "name": "stderr",
     "output_type": "stream",
     "text": [
      "l:\\Coding_project\\Energy_grid_new\\notebooks\\XGBoost_helper.py:661: UserWarning: Parsing dates in %d-%m-%Y format when dayfirst=False (the default) was specified. Pass `dayfirst=True` or specify a format to silence this warning.\n",
      "  pred_ref=df[pd.to_datetime(ref_start_t):pd.to_datetime(end_t)+timedelta(minutes=15*(K+5))].copy()\n"
     ]
    },
    {
     "name": "stdout",
     "output_type": "stream",
     "text": [
      "# calculate historical average of all index in prediction duartion\n",
      "# calculate pred for each step\n",
      "1  done\n",
      "4  done\n",
      "24  done\n",
      "48  done\n",
      "72  done\n",
      "96  done\n",
      "# calculate historical average of all index in prediction duartion\n",
      "# calculate pred for each step\n",
      "1  done\n",
      "4  done\n",
      "24  done\n",
      "48  done\n",
      "72  done\n",
      "96  done\n",
      "File saved to:L:\\Coding_project\\Energy_grid_new_exp_local\\PV_simple_grid_search\\PV_sum_Simple_prediction_17days_0.4.csv\n"
     ]
    },
    {
     "name": "stderr",
     "output_type": "stream",
     "text": [
      "l:\\Coding_project\\Energy_grid_new\\notebooks\\XGBoost_helper.py:661: UserWarning: Parsing dates in %d-%m-%Y format when dayfirst=False (the default) was specified. Pass `dayfirst=True` or specify a format to silence this warning.\n",
      "  pred_ref=df[pd.to_datetime(ref_start_t):pd.to_datetime(end_t)+timedelta(minutes=15*(K+5))].copy()\n"
     ]
    },
    {
     "name": "stdout",
     "output_type": "stream",
     "text": [
      "# calculate historical average of all index in prediction duartion\n",
      "# calculate pred for each step\n",
      "1  done\n",
      "4  done\n",
      "24  done\n",
      "48  done\n",
      "72  done\n",
      "96  done\n",
      "# calculate historical average of all index in prediction duartion\n",
      "# calculate pred for each step\n",
      "1  done\n",
      "4  done\n",
      "24  done\n",
      "48  done\n",
      "72  done\n",
      "96  done\n",
      "File saved to:L:\\Coding_project\\Energy_grid_new_exp_local\\PV_simple_grid_search\\PV_sum_Simple_prediction_17days_0.5.csv\n"
     ]
    },
    {
     "name": "stderr",
     "output_type": "stream",
     "text": [
      "l:\\Coding_project\\Energy_grid_new\\notebooks\\XGBoost_helper.py:661: UserWarning: Parsing dates in %d-%m-%Y format when dayfirst=False (the default) was specified. Pass `dayfirst=True` or specify a format to silence this warning.\n",
      "  pred_ref=df[pd.to_datetime(ref_start_t):pd.to_datetime(end_t)+timedelta(minutes=15*(K+5))].copy()\n"
     ]
    },
    {
     "name": "stdout",
     "output_type": "stream",
     "text": [
      "# calculate historical average of all index in prediction duartion\n",
      "# calculate pred for each step\n",
      "1  done\n",
      "4  done\n",
      "24  done\n",
      "48  done\n",
      "72  done\n",
      "96  done\n",
      "# calculate historical average of all index in prediction duartion\n",
      "# calculate pred for each step\n",
      "1  done\n",
      "4  done\n",
      "24  done\n",
      "48  done\n",
      "72  done\n",
      "96  done\n",
      "File saved to:L:\\Coding_project\\Energy_grid_new_exp_local\\PV_simple_grid_search\\PV_sum_Simple_prediction_18days_0.1.csv\n"
     ]
    },
    {
     "name": "stderr",
     "output_type": "stream",
     "text": [
      "l:\\Coding_project\\Energy_grid_new\\notebooks\\XGBoost_helper.py:661: UserWarning: Parsing dates in %d-%m-%Y format when dayfirst=False (the default) was specified. Pass `dayfirst=True` or specify a format to silence this warning.\n",
      "  pred_ref=df[pd.to_datetime(ref_start_t):pd.to_datetime(end_t)+timedelta(minutes=15*(K+5))].copy()\n"
     ]
    },
    {
     "name": "stdout",
     "output_type": "stream",
     "text": [
      "# calculate historical average of all index in prediction duartion\n",
      "# calculate pred for each step\n",
      "1  done\n",
      "4  done\n",
      "24  done\n",
      "48  done\n",
      "72  done\n",
      "96  done\n",
      "# calculate historical average of all index in prediction duartion\n",
      "# calculate pred for each step\n",
      "1  done\n",
      "4  done\n",
      "24  done\n",
      "48  done\n",
      "72  done\n",
      "96  done\n",
      "File saved to:L:\\Coding_project\\Energy_grid_new_exp_local\\PV_simple_grid_search\\PV_sum_Simple_prediction_18days_0.2.csv\n"
     ]
    },
    {
     "name": "stderr",
     "output_type": "stream",
     "text": [
      "l:\\Coding_project\\Energy_grid_new\\notebooks\\XGBoost_helper.py:661: UserWarning: Parsing dates in %d-%m-%Y format when dayfirst=False (the default) was specified. Pass `dayfirst=True` or specify a format to silence this warning.\n",
      "  pred_ref=df[pd.to_datetime(ref_start_t):pd.to_datetime(end_t)+timedelta(minutes=15*(K+5))].copy()\n"
     ]
    },
    {
     "name": "stdout",
     "output_type": "stream",
     "text": [
      "# calculate historical average of all index in prediction duartion\n",
      "# calculate pred for each step\n",
      "1  done\n",
      "4  done\n",
      "24  done\n",
      "48  done\n",
      "72  done\n",
      "96  done\n",
      "# calculate historical average of all index in prediction duartion\n",
      "# calculate pred for each step\n",
      "1  done\n",
      "4  done\n",
      "24  done\n",
      "48  done\n",
      "72  done\n",
      "96  done\n",
      "File saved to:L:\\Coding_project\\Energy_grid_new_exp_local\\PV_simple_grid_search\\PV_sum_Simple_prediction_18days_0.3.csv\n"
     ]
    },
    {
     "name": "stderr",
     "output_type": "stream",
     "text": [
      "l:\\Coding_project\\Energy_grid_new\\notebooks\\XGBoost_helper.py:661: UserWarning: Parsing dates in %d-%m-%Y format when dayfirst=False (the default) was specified. Pass `dayfirst=True` or specify a format to silence this warning.\n",
      "  pred_ref=df[pd.to_datetime(ref_start_t):pd.to_datetime(end_t)+timedelta(minutes=15*(K+5))].copy()\n"
     ]
    },
    {
     "name": "stdout",
     "output_type": "stream",
     "text": [
      "# calculate historical average of all index in prediction duartion\n",
      "# calculate pred for each step\n",
      "1  done\n",
      "4  done\n",
      "24  done\n",
      "48  done\n",
      "72  done\n",
      "96  done\n",
      "# calculate historical average of all index in prediction duartion\n",
      "# calculate pred for each step\n",
      "1  done\n",
      "4  done\n",
      "24  done\n",
      "48  done\n",
      "72  done\n",
      "96  done\n",
      "File saved to:L:\\Coding_project\\Energy_grid_new_exp_local\\PV_simple_grid_search\\PV_sum_Simple_prediction_18days_0.4.csv\n"
     ]
    },
    {
     "name": "stderr",
     "output_type": "stream",
     "text": [
      "l:\\Coding_project\\Energy_grid_new\\notebooks\\XGBoost_helper.py:661: UserWarning: Parsing dates in %d-%m-%Y format when dayfirst=False (the default) was specified. Pass `dayfirst=True` or specify a format to silence this warning.\n",
      "  pred_ref=df[pd.to_datetime(ref_start_t):pd.to_datetime(end_t)+timedelta(minutes=15*(K+5))].copy()\n"
     ]
    },
    {
     "name": "stdout",
     "output_type": "stream",
     "text": [
      "# calculate historical average of all index in prediction duartion\n",
      "# calculate pred for each step\n",
      "1  done\n",
      "4  done\n",
      "24  done\n",
      "48  done\n",
      "72  done\n",
      "96  done\n",
      "# calculate historical average of all index in prediction duartion\n",
      "# calculate pred for each step\n",
      "1  done\n",
      "4  done\n",
      "24  done\n",
      "48  done\n",
      "72  done\n",
      "96  done\n",
      "File saved to:L:\\Coding_project\\Energy_grid_new_exp_local\\PV_simple_grid_search\\PV_sum_Simple_prediction_18days_0.5.csv\n"
     ]
    },
    {
     "name": "stderr",
     "output_type": "stream",
     "text": [
      "l:\\Coding_project\\Energy_grid_new\\notebooks\\XGBoost_helper.py:661: UserWarning: Parsing dates in %d-%m-%Y format when dayfirst=False (the default) was specified. Pass `dayfirst=True` or specify a format to silence this warning.\n",
      "  pred_ref=df[pd.to_datetime(ref_start_t):pd.to_datetime(end_t)+timedelta(minutes=15*(K+5))].copy()\n"
     ]
    },
    {
     "name": "stdout",
     "output_type": "stream",
     "text": [
      "# calculate historical average of all index in prediction duartion\n",
      "# calculate pred for each step\n",
      "1  done\n",
      "4  done\n",
      "24  done\n",
      "48  done\n",
      "72  done\n",
      "96  done\n",
      "# calculate historical average of all index in prediction duartion\n",
      "# calculate pred for each step\n",
      "1  done\n",
      "4  done\n",
      "24  done\n",
      "48  done\n",
      "72  done\n",
      "96  done\n",
      "File saved to:L:\\Coding_project\\Energy_grid_new_exp_local\\PV_simple_grid_search\\PV_sum_Simple_prediction_19days_0.1.csv\n"
     ]
    },
    {
     "name": "stderr",
     "output_type": "stream",
     "text": [
      "l:\\Coding_project\\Energy_grid_new\\notebooks\\XGBoost_helper.py:661: UserWarning: Parsing dates in %d-%m-%Y format when dayfirst=False (the default) was specified. Pass `dayfirst=True` or specify a format to silence this warning.\n",
      "  pred_ref=df[pd.to_datetime(ref_start_t):pd.to_datetime(end_t)+timedelta(minutes=15*(K+5))].copy()\n"
     ]
    },
    {
     "name": "stdout",
     "output_type": "stream",
     "text": [
      "# calculate historical average of all index in prediction duartion\n",
      "# calculate pred for each step\n",
      "1  done\n",
      "4  done\n",
      "24  done\n",
      "48  done\n",
      "72  done\n",
      "96  done\n",
      "# calculate historical average of all index in prediction duartion\n",
      "# calculate pred for each step\n",
      "1  done\n",
      "4  done\n",
      "24  done\n",
      "48  done\n",
      "72  done\n",
      "96  done\n",
      "File saved to:L:\\Coding_project\\Energy_grid_new_exp_local\\PV_simple_grid_search\\PV_sum_Simple_prediction_19days_0.2.csv\n"
     ]
    },
    {
     "name": "stderr",
     "output_type": "stream",
     "text": [
      "l:\\Coding_project\\Energy_grid_new\\notebooks\\XGBoost_helper.py:661: UserWarning: Parsing dates in %d-%m-%Y format when dayfirst=False (the default) was specified. Pass `dayfirst=True` or specify a format to silence this warning.\n",
      "  pred_ref=df[pd.to_datetime(ref_start_t):pd.to_datetime(end_t)+timedelta(minutes=15*(K+5))].copy()\n"
     ]
    },
    {
     "name": "stdout",
     "output_type": "stream",
     "text": [
      "# calculate historical average of all index in prediction duartion\n",
      "# calculate pred for each step\n",
      "1  done\n",
      "4  done\n",
      "24  done\n",
      "48  done\n",
      "72  done\n",
      "96  done\n",
      "# calculate historical average of all index in prediction duartion\n",
      "# calculate pred for each step\n",
      "1  done\n",
      "4  done\n",
      "24  done\n",
      "48  done\n",
      "72  done\n",
      "96  done\n",
      "File saved to:L:\\Coding_project\\Energy_grid_new_exp_local\\PV_simple_grid_search\\PV_sum_Simple_prediction_19days_0.3.csv\n"
     ]
    },
    {
     "name": "stderr",
     "output_type": "stream",
     "text": [
      "l:\\Coding_project\\Energy_grid_new\\notebooks\\XGBoost_helper.py:661: UserWarning: Parsing dates in %d-%m-%Y format when dayfirst=False (the default) was specified. Pass `dayfirst=True` or specify a format to silence this warning.\n",
      "  pred_ref=df[pd.to_datetime(ref_start_t):pd.to_datetime(end_t)+timedelta(minutes=15*(K+5))].copy()\n"
     ]
    },
    {
     "name": "stdout",
     "output_type": "stream",
     "text": [
      "# calculate historical average of all index in prediction duartion\n",
      "# calculate pred for each step\n",
      "1  done\n",
      "4  done\n",
      "24  done\n",
      "48  done\n",
      "72  done\n",
      "96  done\n",
      "# calculate historical average of all index in prediction duartion\n",
      "# calculate pred for each step\n",
      "1  done\n",
      "4  done\n",
      "24  done\n",
      "48  done\n",
      "72  done\n",
      "96  done\n",
      "File saved to:L:\\Coding_project\\Energy_grid_new_exp_local\\PV_simple_grid_search\\PV_sum_Simple_prediction_19days_0.4.csv\n"
     ]
    },
    {
     "name": "stderr",
     "output_type": "stream",
     "text": [
      "l:\\Coding_project\\Energy_grid_new\\notebooks\\XGBoost_helper.py:661: UserWarning: Parsing dates in %d-%m-%Y format when dayfirst=False (the default) was specified. Pass `dayfirst=True` or specify a format to silence this warning.\n",
      "  pred_ref=df[pd.to_datetime(ref_start_t):pd.to_datetime(end_t)+timedelta(minutes=15*(K+5))].copy()\n"
     ]
    },
    {
     "name": "stdout",
     "output_type": "stream",
     "text": [
      "# calculate historical average of all index in prediction duartion\n",
      "# calculate pred for each step\n",
      "1  done\n",
      "4  done\n",
      "24  done\n",
      "48  done\n",
      "72  done\n",
      "96  done\n",
      "# calculate historical average of all index in prediction duartion\n",
      "# calculate pred for each step\n",
      "1  done\n",
      "4  done\n",
      "24  done\n",
      "48  done\n",
      "72  done\n",
      "96  done\n",
      "File saved to:L:\\Coding_project\\Energy_grid_new_exp_local\\PV_simple_grid_search\\PV_sum_Simple_prediction_19days_0.5.csv\n"
     ]
    },
    {
     "name": "stderr",
     "output_type": "stream",
     "text": [
      "l:\\Coding_project\\Energy_grid_new\\notebooks\\XGBoost_helper.py:661: UserWarning: Parsing dates in %d-%m-%Y format when dayfirst=False (the default) was specified. Pass `dayfirst=True` or specify a format to silence this warning.\n",
      "  pred_ref=df[pd.to_datetime(ref_start_t):pd.to_datetime(end_t)+timedelta(minutes=15*(K+5))].copy()\n"
     ]
    },
    {
     "name": "stdout",
     "output_type": "stream",
     "text": [
      "# calculate historical average of all index in prediction duartion\n",
      "# calculate pred for each step\n",
      "1  done\n",
      "4  done\n",
      "24  done\n",
      "48  done\n",
      "72  done\n",
      "96  done\n",
      "# calculate historical average of all index in prediction duartion\n",
      "# calculate pred for each step\n",
      "1  done\n",
      "4  done\n",
      "24  done\n",
      "48  done\n",
      "72  done\n",
      "96  done\n",
      "File saved to:L:\\Coding_project\\Energy_grid_new_exp_local\\PV_simple_grid_search\\PV_sum_Simple_prediction_20days_0.1.csv\n"
     ]
    },
    {
     "name": "stderr",
     "output_type": "stream",
     "text": [
      "l:\\Coding_project\\Energy_grid_new\\notebooks\\XGBoost_helper.py:661: UserWarning: Parsing dates in %d-%m-%Y format when dayfirst=False (the default) was specified. Pass `dayfirst=True` or specify a format to silence this warning.\n",
      "  pred_ref=df[pd.to_datetime(ref_start_t):pd.to_datetime(end_t)+timedelta(minutes=15*(K+5))].copy()\n"
     ]
    },
    {
     "name": "stdout",
     "output_type": "stream",
     "text": [
      "# calculate historical average of all index in prediction duartion\n",
      "# calculate pred for each step\n",
      "1  done\n",
      "4  done\n",
      "24  done\n",
      "48  done\n",
      "72  done\n",
      "96  done\n",
      "# calculate historical average of all index in prediction duartion\n",
      "# calculate pred for each step\n",
      "1  done\n",
      "4  done\n",
      "24  done\n",
      "48  done\n",
      "72  done\n",
      "96  done\n",
      "File saved to:L:\\Coding_project\\Energy_grid_new_exp_local\\PV_simple_grid_search\\PV_sum_Simple_prediction_20days_0.2.csv\n"
     ]
    },
    {
     "name": "stderr",
     "output_type": "stream",
     "text": [
      "l:\\Coding_project\\Energy_grid_new\\notebooks\\XGBoost_helper.py:661: UserWarning: Parsing dates in %d-%m-%Y format when dayfirst=False (the default) was specified. Pass `dayfirst=True` or specify a format to silence this warning.\n",
      "  pred_ref=df[pd.to_datetime(ref_start_t):pd.to_datetime(end_t)+timedelta(minutes=15*(K+5))].copy()\n"
     ]
    },
    {
     "name": "stdout",
     "output_type": "stream",
     "text": [
      "# calculate historical average of all index in prediction duartion\n",
      "# calculate pred for each step\n",
      "1  done\n",
      "4  done\n",
      "24  done\n",
      "48  done\n",
      "72  done\n",
      "96  done\n",
      "# calculate historical average of all index in prediction duartion\n",
      "# calculate pred for each step\n",
      "1  done\n",
      "4  done\n",
      "24  done\n",
      "48  done\n",
      "72  done\n",
      "96  done\n",
      "File saved to:L:\\Coding_project\\Energy_grid_new_exp_local\\PV_simple_grid_search\\PV_sum_Simple_prediction_20days_0.3.csv\n"
     ]
    },
    {
     "name": "stderr",
     "output_type": "stream",
     "text": [
      "l:\\Coding_project\\Energy_grid_new\\notebooks\\XGBoost_helper.py:661: UserWarning: Parsing dates in %d-%m-%Y format when dayfirst=False (the default) was specified. Pass `dayfirst=True` or specify a format to silence this warning.\n",
      "  pred_ref=df[pd.to_datetime(ref_start_t):pd.to_datetime(end_t)+timedelta(minutes=15*(K+5))].copy()\n"
     ]
    },
    {
     "name": "stdout",
     "output_type": "stream",
     "text": [
      "# calculate historical average of all index in prediction duartion\n",
      "# calculate pred for each step\n",
      "1  done\n",
      "4  done\n",
      "24  done\n",
      "48  done\n",
      "72  done\n",
      "96  done\n",
      "# calculate historical average of all index in prediction duartion\n",
      "# calculate pred for each step\n",
      "1  done\n",
      "4  done\n",
      "24  done\n",
      "48  done\n",
      "72  done\n",
      "96  done\n",
      "File saved to:L:\\Coding_project\\Energy_grid_new_exp_local\\PV_simple_grid_search\\PV_sum_Simple_prediction_20days_0.4.csv\n"
     ]
    },
    {
     "name": "stderr",
     "output_type": "stream",
     "text": [
      "l:\\Coding_project\\Energy_grid_new\\notebooks\\XGBoost_helper.py:661: UserWarning: Parsing dates in %d-%m-%Y format when dayfirst=False (the default) was specified. Pass `dayfirst=True` or specify a format to silence this warning.\n",
      "  pred_ref=df[pd.to_datetime(ref_start_t):pd.to_datetime(end_t)+timedelta(minutes=15*(K+5))].copy()\n"
     ]
    },
    {
     "name": "stdout",
     "output_type": "stream",
     "text": [
      "# calculate historical average of all index in prediction duartion\n",
      "# calculate pred for each step\n",
      "1  done\n",
      "4  done\n",
      "24  done\n",
      "48  done\n",
      "72  done\n",
      "96  done\n",
      "# calculate historical average of all index in prediction duartion\n",
      "# calculate pred for each step\n",
      "1  done\n",
      "4  done\n",
      "24  done\n",
      "48  done\n",
      "72  done\n",
      "96  done\n",
      "File saved to:L:\\Coding_project\\Energy_grid_new_exp_local\\PV_simple_grid_search\\PV_sum_Simple_prediction_20days_0.5.csv\n"
     ]
    },
    {
     "name": "stderr",
     "output_type": "stream",
     "text": [
      "l:\\Coding_project\\Energy_grid_new\\notebooks\\XGBoost_helper.py:661: UserWarning: Parsing dates in %d-%m-%Y format when dayfirst=False (the default) was specified. Pass `dayfirst=True` or specify a format to silence this warning.\n",
      "  pred_ref=df[pd.to_datetime(ref_start_t):pd.to_datetime(end_t)+timedelta(minutes=15*(K+5))].copy()\n"
     ]
    },
    {
     "name": "stdout",
     "output_type": "stream",
     "text": [
      "# calculate historical average of all index in prediction duartion\n",
      "# calculate pred for each step\n",
      "1  done\n",
      "4  done\n",
      "24  done\n",
      "48  done\n",
      "72  done\n",
      "96  done\n",
      "# calculate historical average of all index in prediction duartion\n",
      "# calculate pred for each step\n",
      "1  done\n",
      "4  done\n",
      "24  done\n",
      "48  done\n",
      "72  done\n",
      "96  done\n",
      "File saved to:L:\\Coding_project\\Energy_grid_new_exp_local\\PV_simple_grid_search\\PV_sum_Simple_prediction_21days_0.1.csv\n"
     ]
    },
    {
     "name": "stderr",
     "output_type": "stream",
     "text": [
      "l:\\Coding_project\\Energy_grid_new\\notebooks\\XGBoost_helper.py:661: UserWarning: Parsing dates in %d-%m-%Y format when dayfirst=False (the default) was specified. Pass `dayfirst=True` or specify a format to silence this warning.\n",
      "  pred_ref=df[pd.to_datetime(ref_start_t):pd.to_datetime(end_t)+timedelta(minutes=15*(K+5))].copy()\n"
     ]
    },
    {
     "name": "stdout",
     "output_type": "stream",
     "text": [
      "# calculate historical average of all index in prediction duartion\n",
      "# calculate pred for each step\n",
      "1  done\n",
      "4  done\n",
      "24  done\n",
      "48  done\n",
      "72  done\n",
      "96  done\n",
      "# calculate historical average of all index in prediction duartion\n",
      "# calculate pred for each step\n",
      "1  done\n",
      "4  done\n",
      "24  done\n",
      "48  done\n",
      "72  done\n",
      "96  done\n",
      "File saved to:L:\\Coding_project\\Energy_grid_new_exp_local\\PV_simple_grid_search\\PV_sum_Simple_prediction_21days_0.2.csv\n"
     ]
    },
    {
     "name": "stderr",
     "output_type": "stream",
     "text": [
      "l:\\Coding_project\\Energy_grid_new\\notebooks\\XGBoost_helper.py:661: UserWarning: Parsing dates in %d-%m-%Y format when dayfirst=False (the default) was specified. Pass `dayfirst=True` or specify a format to silence this warning.\n",
      "  pred_ref=df[pd.to_datetime(ref_start_t):pd.to_datetime(end_t)+timedelta(minutes=15*(K+5))].copy()\n"
     ]
    },
    {
     "name": "stdout",
     "output_type": "stream",
     "text": [
      "# calculate historical average of all index in prediction duartion\n",
      "# calculate pred for each step\n",
      "1  done\n",
      "4  done\n",
      "24  done\n",
      "48  done\n",
      "72  done\n",
      "96  done\n",
      "# calculate historical average of all index in prediction duartion\n",
      "# calculate pred for each step\n",
      "1  done\n",
      "4  done\n",
      "24  done\n",
      "48  done\n",
      "72  done\n",
      "96  done\n",
      "File saved to:L:\\Coding_project\\Energy_grid_new_exp_local\\PV_simple_grid_search\\PV_sum_Simple_prediction_21days_0.3.csv\n"
     ]
    },
    {
     "name": "stderr",
     "output_type": "stream",
     "text": [
      "l:\\Coding_project\\Energy_grid_new\\notebooks\\XGBoost_helper.py:661: UserWarning: Parsing dates in %d-%m-%Y format when dayfirst=False (the default) was specified. Pass `dayfirst=True` or specify a format to silence this warning.\n",
      "  pred_ref=df[pd.to_datetime(ref_start_t):pd.to_datetime(end_t)+timedelta(minutes=15*(K+5))].copy()\n"
     ]
    },
    {
     "name": "stdout",
     "output_type": "stream",
     "text": [
      "# calculate historical average of all index in prediction duartion\n",
      "# calculate pred for each step\n",
      "1  done\n",
      "4  done\n",
      "24  done\n",
      "48  done\n",
      "72  done\n",
      "96  done\n",
      "# calculate historical average of all index in prediction duartion\n",
      "# calculate pred for each step\n",
      "1  done\n",
      "4  done\n",
      "24  done\n",
      "48  done\n",
      "72  done\n",
      "96  done\n",
      "File saved to:L:\\Coding_project\\Energy_grid_new_exp_local\\PV_simple_grid_search\\PV_sum_Simple_prediction_21days_0.4.csv\n"
     ]
    },
    {
     "name": "stderr",
     "output_type": "stream",
     "text": [
      "l:\\Coding_project\\Energy_grid_new\\notebooks\\XGBoost_helper.py:661: UserWarning: Parsing dates in %d-%m-%Y format when dayfirst=False (the default) was specified. Pass `dayfirst=True` or specify a format to silence this warning.\n",
      "  pred_ref=df[pd.to_datetime(ref_start_t):pd.to_datetime(end_t)+timedelta(minutes=15*(K+5))].copy()\n"
     ]
    },
    {
     "name": "stdout",
     "output_type": "stream",
     "text": [
      "# calculate historical average of all index in prediction duartion\n",
      "# calculate pred for each step\n",
      "1  done\n",
      "4  done\n",
      "24  done\n",
      "48  done\n",
      "72  done\n",
      "96  done\n",
      "# calculate historical average of all index in prediction duartion\n",
      "# calculate pred for each step\n",
      "1  done\n",
      "4  done\n",
      "24  done\n",
      "48  done\n",
      "72  done\n",
      "96  done\n",
      "File saved to:L:\\Coding_project\\Energy_grid_new_exp_local\\PV_simple_grid_search\\PV_sum_Simple_prediction_21days_0.5.csv\n"
     ]
    }
   ],
   "source": [
    "metrics=pd.DataFrame(columns=['days_ahead','exp_alpha','MAE_1','MAE_4','MAE_24','MAE_48','MAE_72','MAE_96'])\n",
    "for days in [3,4,5,6,7,8,9,10,11,12,13,14,15,16,17,18,19,20,21]:\n",
    "    for alpha in [0.1,0.2,0.3,0.4,0.5]:\n",
    "        save_path=r'L:\\Coding_project\\Energy_grid_new_exp_local\\PV_simple_grid_search\\PV_sum_Simple_prediction_'+str(days)+'days_'+str(alpha)+'.csv'\n",
    "        Simple_pv=Simple_forecast(\n",
    "            src_path=r'L:\\Coding_project\\Energy_grid_new\\data\\UCSD_raw_data\\PV_Sum.csv',\n",
    "            ref_start_t='30-10-2018',\n",
    "            pred_start_t='1-1-2019',\n",
    "            end_t='12-31-2019',\n",
    "            method='ave_by_prediction_time',\n",
    "            save_path=save_path,\n",
    "            frequent='day',\n",
    "            n=days,\n",
    "            alpha=alpha,\n",
    "            K=96,\n",
    "            metrics_steps=[1,4,24,48,72,96]\n",
    "        )\n",
    "        Simple_pv.pred=Simple_pv.pred.drop(columns=['future_real','RealPower_pred'])\n",
    "        Simple_pv.save_prediction()\n",
    "        metrics.loc[len(metrics.index)] = [days,alpha,Simple_pv.pred[\"MAE_1\"].mean(),Simple_pv.pred[\"MAE_4\"].mean(),\n",
    "                                            Simple_pv.pred[\"MAE_24\"].mean(),Simple_pv.pred[\"MAE_48\"].mean(),\n",
    "                                            Simple_pv.pred[\"MAE_72\"].mean(),Simple_pv.pred[\"MAE_96\"].mean()]\n",
    "        del Simple_pv"
   ]
  },
  {
   "cell_type": "code",
   "execution_count": 4,
   "metadata": {},
   "outputs": [],
   "source": [
    "metrics.to_csv('metrics_simple_1.csv')"
   ]
  }
 ],
 "metadata": {
  "kernelspec": {
   "display_name": "gurobi",
   "language": "python",
   "name": "python3"
  },
  "language_info": {
   "codemirror_mode": {
    "name": "ipython",
    "version": 3
   },
   "file_extension": ".py",
   "mimetype": "text/x-python",
   "name": "python",
   "nbconvert_exporter": "python",
   "pygments_lexer": "ipython3",
   "version": "3.8.16"
  },
  "orig_nbformat": 4
 },
 "nbformat": 4,
 "nbformat_minor": 2
}
