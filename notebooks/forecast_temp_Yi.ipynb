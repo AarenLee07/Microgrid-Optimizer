{
 "cells": [
  {
   "attachments": {},
   "cell_type": "markdown",
   "metadata": {},
   "source": [
    "# Forecast test code\n",
    "\n",
    "<!-- **source codes are under /src** -->\n",
    "\n",
    "owner: Yi Ju. last updated: 2023/02/16\n",
    "\n",
    "**contact the owner before you edit this notebook (incl. run)**\n",
    "\n",
    "**AND very clearly mark where you edit (and why)**\n",
    "\n",
    "<!-- ### Debug tips\n",
    "you can check `mpc.cache` to find the last state before bug occurs -->"
   ]
  },
  {
   "cell_type": "code",
   "execution_count": 1,
   "metadata": {},
   "outputs": [],
   "source": [
    "import os\n",
    "import sys\n",
    "src_path = sys.path[0].replace(\"notebooks\", \"src\")\n",
    "# data_path = sys.path[0].replace(\"notebooks\", \"data\")\n",
    "if src_path not in sys.path:\n",
    "    sys.path.append(src_path)\n",
    "\n",
    "out_path = sys.path[0].replace(\"notebooks\", \"output\")\n",
    "\n",
    "import pandas as pd\n",
    "import numpy as np\n",
    "from matplotlib import pyplot as plt\n",
    "# import torch\n",
    "from datetime import datetime, timedelta\n",
    "import time\n",
    "\n",
    "from data_loader import UCSD_dataloader\n",
    "from data_pool import DataPool"
   ]
  },
  {
   "cell_type": "code",
   "execution_count": 3,
   "metadata": {},
   "outputs": [],
   "source": [
    "loader = UCSD_dataloader\n",
    "loaded = loader(tstart=datetime(2019,1,1,0,0), tend=datetime(2020,1,1,0,0), delta=0.25,\n",
    "    bld=\"Hopkins\", pv=\"Hopkins\", ev=\"OSLER\", pv_to_bld=0.5, ev_to_bld=0.2, Pmax=10)\n",
    "data = loaded.get_data()"
   ]
  },
  {
   "cell_type": "code",
   "execution_count": 4,
   "metadata": {},
   "outputs": [],
   "source": [
    "ev_sessions = data[\"ev_sessions\"]\n",
    "t = datetime(2019, 12, 20, 0, 0)"
   ]
  },
  {
   "cell_type": "code",
   "execution_count": 1,
   "metadata": {},
   "outputs": [
    {
     "data": {
      "text/plain": [
       "'\\n1. forecast model for building load\\ninput: \\n    (1) prev 72 hours data\\n    (2) hour, mimnute, day in week, month\\noutput: \\n    next 24 hour data\\nmodel\\n    (1) LSTM\\n    (2) XGBoost\\n\\n2. forecast model for PV\\n\\n3. froecast model for EV\\n'"
      ]
     },
     "execution_count": 1,
     "metadata": {},
     "output_type": "execute_result"
    }
   ],
   "source": [
    "\"\"\"\n",
    "1. forecast model for building load\n",
    "input: \n",
    "    (1) prev 72 hours data\n",
    "    (2) hour, mimnute, day in week, month\n",
    "output: \n",
    "    next 24 hour data\n",
    "model\n",
    "    (1) LSTM\n",
    "    (2) XGBoost\n",
    "\n",
    "2. forecast model for PV\n",
    "\n",
    "3. froecast model for EV\n",
    "\"\"\""
   ]
  },
  {
   "cell_type": "code",
   "execution_count": 85,
   "metadata": {},
   "outputs": [],
   "source": [
    "data = loaded.get_data()\n",
    "dp = DataPool(data)"
   ]
  },
  {
   "cell_type": "code",
   "execution_count": 86,
   "metadata": {},
   "outputs": [
    {
     "data": {
      "text/plain": [
       "[<matplotlib.lines.Line2D at 0x2dc2ba4d160>]"
      ]
     },
     "execution_count": 86,
     "metadata": {},
     "output_type": "execute_result"
    },
    {
     "data": {
      "image/png": "[encoded data removed]",
      "text/plain": [
       "<Figure size 640x480 with 1 Axes>"
      ]
     },
     "metadata": {},
     "output_type": "display_data"
    }
   ],
   "source": [
    "plt.plot(data[\"load_bld\"])\n",
    "plt.plot(data[\"load_pv\"])"
   ]
  },
  {
   "cell_type": "code",
   "execution_count": 87,
   "metadata": {},
   "outputs": [],
   "source": [
    "load_data = pd.DataFrame(data[\"load_bld\"])"
   ]
  },
  {
   "cell_type": "code",
   "execution_count": 171,
   "metadata": {},
   "outputs": [],
   "source": [
    "delta = 0.25\n",
    "prev_hr = 36\n",
    "fore_hr = 12\n",
    "\n",
    "input_seq_len = int(prev_hr/delta)\n",
    "output_seq_len = int(fore_hr/delta)\n",
    "\n",
    "data_lstm = pd.DataFrame(\n",
    "    index = load_data.index,\n",
    "    columns=range(input_seq_len, output_seq_len))\n",
    "data_lstm[0] = load_data[0]"
   ]
  },
  {
   "cell_type": "code",
   "execution_count": 183,
   "metadata": {},
   "outputs": [],
   "source": [
    "for i in range(input_seq_len):\n",
    "    data_lstm[-i-1] = data_lstm[0].shift(i)\n",
    "for i in range(output_seq_len):\n",
    "    data_lstm[i] = data_lstm[0].shift(-i-1)\n",
    "\n",
    "np_lstm = data_lstm.dropna().values\n",
    "\n",
    "input = np_lstm[:, :input_seq_len]  # (T, input_seq_len)\n",
    "label = np_lstm[:,input_seq_len:]  # (T, output_seq_len)"
   ]
  },
  {
   "cell_type": "code",
   "execution_count": 184,
   "metadata": {},
   "outputs": [],
   "source": [
    "input_dim = int(input_seq_len / output_seq_len)\n",
    "input = np.stack(\n",
    "    [input[:,i*output_seq_len:(i+1)*output_seq_len] for i in range(input_dim)],\n",
    "    axis=-1) # (T, output_seq_len, input_dim)\n",
    "\n",
    "label = label[:,:,None] # (T, output_seq_len, 1)"
   ]
  },
  {
   "cell_type": "code",
   "execution_count": 191,
   "metadata": {},
   "outputs": [],
   "source": [
    "import torch\n",
    "import torch.nn as nn\n",
    "from torch.utils.data import TensorDataset, DataLoader"
   ]
  },
  {
   "cell_type": "code",
   "execution_count": 186,
   "metadata": {},
   "outputs": [],
   "source": [
    "hidden_dim = 16\n",
    "output_dim = 1\n",
    "num_layers = 1\n",
    "\n",
    "lstm_layer = nn.LSTM(\n",
    "    input_size = input_dim,\n",
    "    hidden_size = hidden_dim,\n",
    "    num_layers = num_layers,\n",
    "    proj_size = output_dim,\n",
    "    batch_first = True\n",
    ")"
   ]
  },
  {
   "cell_type": "code",
   "execution_count": 187,
   "metadata": {},
   "outputs": [],
   "source": [
    "input_torch = torch.from_numpy(input).float() # (T, output_seq_len, input_dim)\n",
    "label_torch = torch.from_numpy(label).float() # (T, output_seq_len, 1)"
   ]
  },
  {
   "cell_type": "code",
   "execution_count": 188,
   "metadata": {},
   "outputs": [],
   "source": [
    "batch_size = 512\n",
    "\n",
    "# hidden_state = torch.randn(1, batch_size, output_dim)\n",
    "# cell_state = torch.randn(1, batch_size, hidden_dim)\n",
    "# hidden = (hidden_state, cell_state)"
   ]
  },
  {
   "cell_type": "code",
   "execution_count": 193,
   "metadata": {},
   "outputs": [],
   "source": [
    "train_data = TensorDataset(input_torch, label_torch)\n",
    "train_loader = DataLoader(train_data, shuffle=True, batch_size=batch_size)"
   ]
  },
  {
   "cell_type": "code",
   "execution_count": 194,
   "metadata": {},
   "outputs": [],
   "source": [
    "# torch.cuda.is_available() checks and returns a Boolean True if a GPU is available, else it'll return False\n",
    "is_cuda = torch.cuda.is_available()\n",
    "\n",
    "# If we have a GPU available, we'll set our device to GPU. We'll use this device variable later in our code.\n",
    "if is_cuda:\n",
    "    device = torch.device(\"cuda\")\n",
    "else:\n",
    "    device = torch.device(\"cpu\")"
   ]
  },
  {
   "cell_type": "code",
   "execution_count": 197,
   "metadata": {},
   "outputs": [],
   "source": [
    "# write the model tomorrow"
   ]
  },
  {
   "cell_type": "code",
   "execution_count": null,
   "metadata": {},
   "outputs": [],
   "source": [
    "class SentimentNet(nn.Module):\n",
    "    def __init__(self, vocab_size, output_size, embedding_dim, hidden_dim, n_layers, drop_prob=0.5):\n",
    "        super(SentimentNet, self).__init__()\n",
    "        self.output_size = output_size\n",
    "        self.n_layers = n_layers\n",
    "        self.hidden_dim = hidden_dim\n",
    "        \n",
    "        self.embedding = nn.Embedding(vocab_size, embedding_dim)\n",
    "        self.lstm = nn.LSTM(embedding_dim, hidden_dim, n_layers, dropout=drop_prob, batch_first=True)\n",
    "        self.dropout = nn.Dropout(drop_prob)\n",
    "        self.fc = nn.Linear(hidden_dim, output_size)\n",
    "        self.sigmoid = nn.Sigmoid()\n",
    "        \n",
    "    def forward(self, x, hidden):\n",
    "        batch_size = x.size(0)\n",
    "        x = x.long()\n",
    "        embeds = self.embedding(x)\n",
    "        lstm_out, hidden = self.lstm(embeds, hidden)\n",
    "        lstm_out = lstm_out.contiguous().view(-1, self.hidden_dim)\n",
    "        \n",
    "        out = self.dropout(lstm_out)\n",
    "        out = self.fc(out)\n",
    "        out = self.sigmoid(out)\n",
    "        \n",
    "        out = out.view(batch_size, -1)\n",
    "        out = out[:,-1]\n",
    "        return out, hidden\n",
    "    \n",
    "    def init_hidden(self, batch_size):\n",
    "        weight = next(self.parameters()).data\n",
    "        hidden = (weight.new(self.n_layers, batch_size, self.hidden_dim).zero_().to(device),\n",
    "                      weight.new(self.n_layers, batch_size, self.hidden_dim).zero_().to(device))\n",
    "        return hidden"
   ]
  },
  {
   "cell_type": "code",
   "execution_count": 190,
   "metadata": {},
   "outputs": [
    {
     "data": {
      "text/plain": [
       "torch.Size([512, 48, 1])"
      ]
     },
     "execution_count": 190,
     "metadata": {},
     "output_type": "execute_result"
    }
   ],
   "source": [
    "out.shape"
   ]
  }
 ],
 "metadata": {
  "kernelspec": {
   "display_name": "cs285",
   "language": "python",
   "name": "python3"
  },
  "language_info": {
   "codemirror_mode": {
    "name": "ipython",
    "version": 3
   },
   "file_extension": ".py",
   "mimetype": "text/x-python",
   "name": "python",
   "nbconvert_exporter": "python",
   "pygments_lexer": "ipython3",
   "version": "3.8.13"
  },
  "orig_nbformat": 4,
  "vscode": {
   "interpreter": {
    "hash": "4001045e9077cf2741825fe321951cf433a0bdf8e40b9a9ebe3702f6291c2168"
   }
  }
 },
 "nbformat": 4,
 "nbformat_minor": 2
}
