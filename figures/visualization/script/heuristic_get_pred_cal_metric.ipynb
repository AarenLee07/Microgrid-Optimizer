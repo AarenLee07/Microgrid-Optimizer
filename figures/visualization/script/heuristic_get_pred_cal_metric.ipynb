{
 "cells": [
  {
   "cell_type": "code",
   "execution_count": 1,
   "metadata": {},
   "outputs": [
    {
     "name": "stderr",
     "output_type": "stream",
     "text": [
      "c:\\Users\\Lunlo\\.conda\\envs\\XGBoost\\lib\\site-packages\\tqdm\\auto.py:21: TqdmWarning: IProgress not found. Please update jupyter and ipywidgets. See https://ipywidgets.readthedocs.io/en/stable/user_install.html\n",
      "  from .autonotebook import tqdm as notebook_tqdm\n"
     ]
    }
   ],
   "source": [
    "# libraries\n",
    "import numpy as np\n",
    "import matplotlib.pyplot as plt\n",
    "from matplotlib import rc\n",
    "import matplotlib as mpl\n",
    "import pandas as pd\n",
    "import sys\n",
    "\n",
    "'''\n",
    "src_path = sys.path[0].replace(\"figures\\visualization\\script\", \"src\")\n",
    "#replace notebook as scripts\n",
    "data_path = sys.path[0].replace(\"figures\\visualization\\script\", \"data\")\n",
    "if src_path not in sys.path:\n",
    "    sys.path.append(src_path)\n",
    "\n",
    "out_path = sys.path[0].replace(\"figures\\visualization\\script\", \"output\")\n",
    "'''\n",
    "\n",
    "# set default params of plot\n",
    "rc_={\n",
    "    \"figure.dpi\":300,\n",
    "    \"font.size\":10,\n",
    "    \"axes.facecolor\":\"white\",\n",
    "    \"savefig.facecolor\":\"white\",\n",
    "    \"text.usetex\":True,\n",
    "}\n",
    "mpl.rcParams.update(rc_)\n",
    "\n",
    "from plot_helper import *\n",
    "from XGBoost_helper import Simple_forecast"
   ]
  },
  {
   "cell_type": "code",
   "execution_count": null,
   "metadata": {},
   "outputs": [],
   "source": [
    "simple=Simple_forecast(\n",
    "    src_path=r'D:\\Codes\\GIthub_repo\\Energy_grid\\data\\load_forecast\\Simple\\PV_sum_real.csv',\n",
    "    ref_start_t=pd.datetime(2018,10,1,0,0),\n",
    "    pred_start_t=pd.datetime(2019,1,1,0,0),\n",
    "    end_t=pd.datetime(2020,1,1,0,0),\n",
    "    method='ave_by_prediction_time',\n",
    "    save_path='pv_heuristic_pred_eva',\n",
    "    alpha=0.1,\n",
    "    K=96,\n",
    "    frequent='day',\n",
    "    n=3,\n",
    "    metric_steps=[1,2,3,4,5,6,7,8,9,10,11,12,24,36,48,60,72,84,96]\n",
    ")"
   ]
  }
 ],
 "metadata": {
  "kernelspec": {
   "display_name": "Python 3",
   "language": "python",
   "name": "python3"
  },
  "language_info": {
   "codemirror_mode": {
    "name": "ipython",
    "version": 3
   },
   "file_extension": ".py",
   "mimetype": "text/x-python",
   "name": "python",
   "nbconvert_exporter": "python",
   "pygments_lexer": "ipython3",
   "version": "3.8.17"
  },
  "orig_nbformat": 4
 },
 "nbformat": 4,
 "nbformat_minor": 2
}
