{
 "cells": [
  {
   "cell_type": "code",
   "execution_count": 37,
   "metadata": {},
   "outputs": [],
   "source": [
    "# libraries\n",
    "import numpy as np\n",
    "import matplotlib.pyplot as plt\n",
    "from matplotlib import rc\n",
    "import matplotlib as mpl\n",
    "import pandas as pd\n",
    "import sys\n",
    "import calendar\n",
    "from matplotlib.lines import Line2D\n",
    "\n",
    "'''\n",
    "src_path = sys.path[0].replace(\"figures\\visualization\\script\", \"src\")\n",
    "#replace notebook as scripts\n",
    "data_path = sys.path[0].replace(\"figures\\visualization\\script\", \"data\")\n",
    "if src_path not in sys.path:\n",
    "    sys.path.append(src_path)\n",
    "\n",
    "out_path = sys.path[0].replace(\"figures\\visualization\\script\", \"output\")\n",
    "'''\n",
    "\n",
    "# set default params of plot\n",
    "rc_={\n",
    "    \"figure.dpi\":300,\n",
    "    \"font.size\":10,\n",
    "    \"axes.facecolor\":\"white\",\n",
    "    \"savefig.facecolor\":\"white\",\n",
    "    \"text.usetex\":True,\n",
    "}\n",
    "\n",
    "color_dic_glb={\n",
    "        'MPC-GT':'seagreen',# aquamarine\n",
    "        'MPC-Prediction':'navy',\n",
    "        'MPC-Heuristic':'steelblue',\n",
    "        'MPC-Naive':'slategray',\n",
    "        'MSC-GT':'orangered', #green\n",
    "        'MPC-Disturbance':'purple',\n",
    "        'MSC-Naive':'grey'\n",
    "    }\n",
    "color_dic_glb_w={\n",
    "        'MPC-GT':'w',# aquamarine\n",
    "        'MPC-Prediction':'w',\n",
    "        'MPC-Heuristic':'w',\n",
    "        'MPC-Naive':'w',\n",
    "        'MSC-GT':'w', #green\n",
    "        'MPC-Disturbance':'w',\n",
    "        'MSC-Naive':'w'\n",
    "    }\n",
    "marker_dic_glb_w={\n",
    "        'MPC-GT':'_',\n",
    "        'MPC-Prediction':'^',\n",
    "        'MPC-Heuristic':'x',\n",
    "        'MPC-Naive':'v',\n",
    "        'MPC-Disturbance':'+',\n",
    "        'MSC-GT':'_',\n",
    "        'MSC-Naive':'_'\n",
    "    }\n",
    "\n",
    "marker_dic_glb={\n",
    "        'MPC-GT':'_',\n",
    "        'MPC-Prediction':'_',\n",
    "        'MPC-Heuristic':'_',\n",
    "        'MPC-Naive':'_',\n",
    "        'MPC-Disturbance':'_',\n",
    "        'MSC-GT':'_',\n",
    "        'MSC-Naive':'_'\n",
    "    }"
   ]
  },
  {
   "cell_type": "code",
   "execution_count": 38,
   "metadata": {},
   "outputs": [],
   "source": [
    "# process the original data\n",
    "def pre_process(df,key,duration_key):\n",
    "    df.set_index('id')\n",
    "    \n",
    "    df=df[['strategy','pred_model',duration_key,key]]\n",
    "    df=df.replace('optimal',\"MPC\")\n",
    "    df=df.replace(\"Simple\",\"Heuristic\")\n",
    "    df['label']=df['strategy']+'-'+df['pred_model']\n",
    "    data=dict()\n",
    "    \n",
    "    for i in df[duration_key].unique():\n",
    "        try:\n",
    "            for label in df['label'].unique():\n",
    "                data[label]=df[((df[duration_key]==i)) & (df['label']==label)][key].values[0]\n",
    "            \n",
    "            upper=df[((df[duration_key]==i)) & (df['label']=='MSC-GT')][key].values[0]\n",
    "            lower=df[((df[duration_key]==i)) & (df['label']=='MPC-GT')][key].values[0]\n",
    "            '''\n",
    "            #assert upper>lower\n",
    "            prediction=df[((df['week_of_year']==i)) & (df['label']=='MPC-Prediction')][key].values[0]\n",
    "            heuristic=df[((df['week_of_year']==i)) & (df['label']=='MPC-Heuristic')][key].values[0]\n",
    "            naive=df[((df['week_of_year']==i)) & (df['label']=='MPC-Naive')][key].values[0]\n",
    "            '''\n",
    "        except:\n",
    "            pass\n",
    "        \n",
    "        upper_id=df[((df[duration_key]==i)) & (df['label']=='MSC-GT')][key].index\n",
    "        lower_id=df[((df[duration_key]==i)) & (df['label']=='MPC-GT')][key].index\n",
    "        \n",
    "        for label in df[\"label\"].unique():\n",
    "            data[label+'_id']=df[((df[duration_key]==i)) & (df['label']==label)][key].index\n",
    "        '''\n",
    "        prediction_id=df[((df['week_of_year']==i)) & (df['label']=='MPC-Prediction')][key].index\n",
    "        heuristic_id=df[((df['week_of_year']==i)) & (df['label']=='MPC-Heuristic')][key].index\n",
    "        naive_id=df[((df['week_of_year']==i)) & (df['label']=='MPC-Naive')][key].index \n",
    "        '''\n",
    "        \n",
    "        new_key='relative_'+key\n",
    "        df.loc[lower_id,new_key]=0\n",
    "        df.loc[upper_id,new_key]=100\n",
    "        \n",
    "        for label in df[\"label\"].unique():\n",
    "            df.loc[data[label+'_id'],new_key]=(data[label]-lower)/(upper-lower)*100\n",
    "        '''    \n",
    "        df.loc[prediction_id,new_key]=(prediction-lower)/(upper-lower)*100\n",
    "        df.loc[heuristic_id,new_key]=(heuristic-lower)/(upper-lower)*100\n",
    "        df.loc[naive_id,new_key]=(naive-lower)/(upper-lower)*100\n",
    "        '''\n",
    "    #df_new=df.drop(df[df['label']=='MPC-Naive'].index)\n",
    "    print(df)\n",
    "    df=df.reindex()\n",
    "    invalid_duration_list=df[(df[new_key]>100)|(df[new_key]<0)|(df[key].isna())].index\n",
    "    invalid_duration_list=df.iloc[invalid_duration_list][duration_key].unique()\n",
    "    df['is_valid']=df[duration_key].apply(lambda x: True if x not in invalid_duration_list else False)\n",
    "    return df"
   ]
  },
  {
   "cell_type": "code",
   "execution_count": 39,
   "metadata": {},
   "outputs": [],
   "source": [
    "fn=r'L:\\Coding_project\\Energy_grid_new\\output\\experiments\\thesis_value_of_information\\6h-bat-Oct-disturbance-type.xlsx'"
   ]
  },
  {
   "cell_type": "code",
   "execution_count": 47,
   "metadata": {},
   "outputs": [],
   "source": [
    "df=pd.read_excel(fn,sheet_name=\"Sheet1\")\n",
    "df[\"relative_OPEX\"]=None\n",
    "mpc_gt=df[(df.strategy=='optimal')&(df.pred_model=='GT')]['OPEX'].values[0]\n",
    "msc_gt=df[(df.strategy=='MSC')&(df.pred_model=='GT')]['OPEX'].values[0]\n",
    "diff=msc_gt-mpc_gt\n",
    "df[\"relative_OPEX\"]=(df['OPEX']-mpc_gt)/diff*100\n",
    "df[\"disturbance_scale\"]=df[\"disturbance_scale\"]*100"
   ]
  },
  {
   "cell_type": "code",
   "execution_count": 41,
   "metadata": {},
   "outputs": [],
   "source": [
    "df_grouped=df.groupby(by=[\"p_grid_max_method\"])"
   ]
  },
  {
   "cell_type": "code",
   "execution_count": 42,
   "metadata": {},
   "outputs": [
    {
     "data": {
      "text/plain": [
       "dict_keys(['by_execution', 'minimize_cap', 'zero'])"
      ]
     },
     "execution_count": 42,
     "metadata": {},
     "output_type": "execute_result"
    }
   ],
   "source": [
    "df_grouped.groups.keys()"
   ]
  },
  {
   "cell_type": "code",
   "execution_count": 54,
   "metadata": {},
   "outputs": [],
   "source": [
    "df_dic={}\n",
    "df_sub_dic={\n",
    "    \"n\":None,\n",
    "    \"n+\":None,\n",
    "    \"n-\":None\n",
    "}"
   ]
  },
  {
   "cell_type": "code",
   "execution_count": 50,
   "metadata": {},
   "outputs": [],
   "source": [
    "key=\"minimize_cap\"\n",
    "df_dic[key]=df_grouped.get_group(key)"
   ]
  },
  {
   "cell_type": "code",
   "execution_count": 52,
   "metadata": {},
   "outputs": [],
   "source": [
    "df_sub_grouped=df_dic[key].groupby(by=[\"disturbance_rule\"])"
   ]
  },
  {
   "cell_type": "code",
   "execution_count": 55,
   "metadata": {},
   "outputs": [],
   "source": [
    "df_sub_dic[\"n\"]=df_sub_grouped.get_group(\"uniform\")\n",
    "df_sub_dic[\"n+\"]=df_sub_grouped.get_group(\"uniform_pos\")\n",
    "df_sub_dic[\"n-\"]=df_sub_grouped.get_group(\"uniform_neg\")"
   ]
  },
  {
   "cell_type": "code",
   "execution_count": null,
   "metadata": {},
   "outputs": [],
   "source": [
    "loc_dic={\n",
    "    \"n\":-0.001,\n",
    "    \"n+\":0,\n",
    "    \"n-\":0.001\n",
    "}\n",
    "color_dic={\n",
    "    \"n\":'darkred',\n",
    "    \"n+\":'orangered',\n",
    "    \"n-\":'green'\n",
    "}\n",
    "marker_dic={\n",
    "    \"n\":'_',\n",
    "    \"n+\":'_',\n",
    "    \"n-\":'_'\n",
    "}\n",
    "figsize=(10,5)\n",
    "fig,ax=plt.subplots(figsize=figsize)\n",
    "for key in loc_dic.keys:\n",
    "    scatter_x=np.array(df_sub_dic[key][\"disturbance_scale\"])\n",
    "    scatter_y=np.array(df_sub_dic[key][\"relative_OPEX\"])\n",
    "    ax.scatter(scatter_x, scatter_y, label=key,c=color_dic[key],\\\n",
    "            marker=marker_dic[key],s=10)\n"
   ]
  }
 ],
 "metadata": {
  "kernelspec": {
   "display_name": "gurobi",
   "language": "python",
   "name": "python3"
  },
  "language_info": {
   "codemirror_mode": {
    "name": "ipython",
    "version": 3
   },
   "file_extension": ".py",
   "mimetype": "text/x-python",
   "name": "python",
   "nbconvert_exporter": "python",
   "pygments_lexer": "ipython3",
   "version": "3.8.16"
  },
  "orig_nbformat": 4
 },
 "nbformat": 4,
 "nbformat_minor": 2
}
